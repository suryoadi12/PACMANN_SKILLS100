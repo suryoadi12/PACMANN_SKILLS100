{
  "nbformat": 4,
  "nbformat_minor": 0,
  "metadata": {
    "colab": {
      "provenance": [],
      "authorship_tag": "ABX9TyP1INXTdhNQc54F1WEWeKwF",
      "include_colab_link": true
    },
    "kernelspec": {
      "name": "python3",
      "display_name": "Python 3"
    },
    "language_info": {
      "name": "python"
    }
  },
  "cells": [
    {
      "cell_type": "markdown",
      "metadata": {
        "id": "view-in-github",
        "colab_type": "text"
      },
      "source": [
        "<a href=\"https://colab.research.google.com/github/suryoadi12/PACMANN_SKILLS100/blob/main/Basic%20Python%20Programming/4.2%20Boolean%3A%20Boolean%20Logic%20II.ipynb\" target=\"_parent\"><img src=\"https://colab.research.google.com/assets/colab-badge.svg\" alt=\"Open In Colab\"/></a>"
      ]
    },
    {
      "cell_type": "markdown",
      "source": [
        "# **Boolean Logic II**"
      ],
      "metadata": {
        "id": "6IAQcSpkdH5b"
      }
    },
    {
      "cell_type": "markdown",
      "source": [
        "**NOT**"
      ],
      "metadata": {
        "id": "kmDgtGIQdOGs"
      }
    },
    {
      "cell_type": "markdown",
      "source": [
        "Secara sederhana, `not` memiliki karakteristik sebagai berikut:\n",
        "\n",
        "\n",
        "\n",
        "*   Merupakan negasi dari nilai sebelumnya.\n",
        "\n",
        "*   Negasi adalah penyangkalan atau peniadaan dari suatu pernyataan.\n",
        "*   Jika nilai sebelumnya adalah `TRUE`, maka akan menghasilkan `False` dan sebaliknya.\n",
        "\n"
      ],
      "metadata": {
        "id": "aFUy9y5IdPMo"
      }
    },
    {
      "cell_type": "markdown",
      "source": [
        "Truth Table:\n",
        "\n",
        "![saldfjalsd.JPG](data:image/jpeg;base64,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)"
      ],
      "metadata": {
        "id": "uG5QvsCzdkMN"
      }
    },
    {
      "cell_type": "markdown",
      "source": [
        "Contoh:\n",
        "\n",
        "\n",
        "\n",
        "*   Ibu tidak membeli Lemon.\n",
        "*   Maka, jika Ibu membeli Lemon, kalimat tersebut akan salah.\n",
        "\n"
      ],
      "metadata": {
        "id": "SwqiHFfXdrST"
      }
    },
    {
      "cell_type": "code",
      "execution_count": 1,
      "metadata": {
        "colab": {
          "base_uri": "https://localhost:8080/"
        },
        "id": "TPwuLodFdAhg",
        "outputId": "71e01cae-f890-4b94-d0e8-adab5e9844ff"
      },
      "outputs": [
        {
          "output_type": "execute_result",
          "data": {
            "text/plain": [
              "False"
            ]
          },
          "metadata": {},
          "execution_count": 1
        }
      ],
      "source": [
        "kondisi_ibu_tidak_membeli_lemon = True\n",
        "\n",
        "not kondisi_ibu_tidak_membeli_lemon"
      ]
    },
    {
      "cell_type": "markdown",
      "source": [
        "**BERIKUT PENGGUNAAN `not` PADA PYTHON:**"
      ],
      "metadata": {
        "id": "SPh6ZBstd-3L"
      }
    },
    {
      "cell_type": "code",
      "source": [
        "True and not True"
      ],
      "metadata": {
        "colab": {
          "base_uri": "https://localhost:8080/"
        },
        "id": "dJkd-irpeHlZ",
        "outputId": "f1ba597b-c6d3-48c8-e333-b8333039f5dd"
      },
      "execution_count": 2,
      "outputs": [
        {
          "output_type": "execute_result",
          "data": {
            "text/plain": [
              "False"
            ]
          },
          "metadata": {},
          "execution_count": 2
        }
      ]
    },
    {
      "cell_type": "code",
      "source": [
        "False and not True"
      ],
      "metadata": {
        "colab": {
          "base_uri": "https://localhost:8080/"
        },
        "id": "oMoHTk5seTzl",
        "outputId": "ada44e45-84bf-4d1d-8864-80ddb15bdcdf"
      },
      "execution_count": 3,
      "outputs": [
        {
          "output_type": "execute_result",
          "data": {
            "text/plain": [
              "False"
            ]
          },
          "metadata": {},
          "execution_count": 3
        }
      ]
    },
    {
      "cell_type": "code",
      "source": [
        "not False and True"
      ],
      "metadata": {
        "colab": {
          "base_uri": "https://localhost:8080/"
        },
        "id": "154uAr-1eZqE",
        "outputId": "2d052fe5-6b5e-4f01-947f-1476d204e9a9"
      },
      "execution_count": 5,
      "outputs": [
        {
          "output_type": "execute_result",
          "data": {
            "text/plain": [
              "True"
            ]
          },
          "metadata": {},
          "execution_count": 5
        }
      ]
    },
    {
      "cell_type": "code",
      "source": [
        "not False and False"
      ],
      "metadata": {
        "colab": {
          "base_uri": "https://localhost:8080/"
        },
        "id": "tkt-pXV4eWmu",
        "outputId": "31f50c93-dd24-4164-8954-1507a5153cfe"
      },
      "execution_count": 4,
      "outputs": [
        {
          "output_type": "execute_result",
          "data": {
            "text/plain": [
              "False"
            ]
          },
          "metadata": {},
          "execution_count": 4
        }
      ]
    },
    {
      "cell_type": "code",
      "source": [
        "10 > 8 and not False"
      ],
      "metadata": {
        "colab": {
          "base_uri": "https://localhost:8080/"
        },
        "id": "86MxdV6Gegqo",
        "outputId": "aa0e321c-4851-4126-a64c-ceeae11b9301"
      },
      "execution_count": 6,
      "outputs": [
        {
          "output_type": "execute_result",
          "data": {
            "text/plain": [
              "True"
            ]
          },
          "metadata": {},
          "execution_count": 6
        }
      ]
    },
    {
      "cell_type": "code",
      "source": [
        "not 9 < 6 or not 10 > 11"
      ],
      "metadata": {
        "colab": {
          "base_uri": "https://localhost:8080/"
        },
        "id": "OnYuMpXaenPH",
        "outputId": "e17a182b-d299-4456-b7cf-aa47152abac1"
      },
      "execution_count": 7,
      "outputs": [
        {
          "output_type": "execute_result",
          "data": {
            "text/plain": [
              "True"
            ]
          },
          "metadata": {},
          "execution_count": 7
        }
      ]
    },
    {
      "cell_type": "markdown",
      "source": [
        "\n",
        "\n",
        "*   Untuk kondisi lebih dari satu, dapat digunakan bantuan tanda kurung `() `untuk memperjelas kondisi.\n",
        "\n"
      ],
      "metadata": {
        "id": "qhvtCQs3ez7N"
      }
    },
    {
      "cell_type": "code",
      "source": [
        "True and not (True or not False)"
      ],
      "metadata": {
        "colab": {
          "base_uri": "https://localhost:8080/"
        },
        "id": "2DOSd2Uie1y9",
        "outputId": "1a4e8629-af40-4e0e-d3dd-1bf022dc4de3"
      },
      "execution_count": 8,
      "outputs": [
        {
          "output_type": "execute_result",
          "data": {
            "text/plain": [
              "False"
            ]
          },
          "metadata": {},
          "execution_count": 8
        }
      ]
    },
    {
      "cell_type": "code",
      "source": [
        "2 < 4 and not (not 5 < 8 or not 9 > 3)"
      ],
      "metadata": {
        "colab": {
          "base_uri": "https://localhost:8080/"
        },
        "id": "zZd5s-zLfAJl",
        "outputId": "722e0aef-070b-4551-a99b-8883e2ae88a7"
      },
      "execution_count": 10,
      "outputs": [
        {
          "output_type": "execute_result",
          "data": {
            "text/plain": [
              "True"
            ]
          },
          "metadata": {},
          "execution_count": 10
        }
      ]
    },
    {
      "cell_type": "markdown",
      "source": [
        "**NOT DAN GABUNGAN**"
      ],
      "metadata": {
        "id": "Z_0kM4ucfh7M"
      }
    },
    {
      "cell_type": "markdown",
      "source": [
        "\n",
        "\n",
        "*   Biasanya, jarang digunakan `not` secara sendiri.\n",
        "*   Biasanya `not` digunaan bersamaan dengan `and` atau `or`.\n",
        "\n"
      ],
      "metadata": {
        "id": "SV1ahPtbfkO1"
      }
    },
    {
      "cell_type": "markdown",
      "source": [
        "contoh: bukan angka_1 lebih dari 6 atau angka_1 tidak sama dengan 9."
      ],
      "metadata": {
        "id": "IRUn1rJtf1NM"
      }
    },
    {
      "cell_type": "code",
      "source": [
        "angka_1 = 4\n",
        "\n",
        "not angka_1 > 6 or angka_1 != 9"
      ],
      "metadata": {
        "colab": {
          "base_uri": "https://localhost:8080/"
        },
        "id": "uZxVdjrQf0uu",
        "outputId": "54d3d8c4-d772-4394-ab5e-7e2ab9ebf30b"
      },
      "execution_count": 11,
      "outputs": [
        {
          "output_type": "execute_result",
          "data": {
            "text/plain": [
              "True"
            ]
          },
          "metadata": {},
          "execution_count": 11
        }
      ]
    },
    {
      "cell_type": "markdown",
      "source": [
        "**CONCEPT EXERCISE**"
      ],
      "metadata": {
        "id": "2dtKyKnNgCXs"
      }
    },
    {
      "cell_type": "markdown",
      "source": [
        "**not True == True** maka outputnya adalah?"
      ],
      "metadata": {
        "id": "l-TC_A5LgEEf"
      }
    },
    {
      "cell_type": "code",
      "source": [
        "False"
      ],
      "metadata": {
        "id": "FsYxmFhPgHks"
      },
      "execution_count": null,
      "outputs": []
    },
    {
      "cell_type": "markdown",
      "source": [
        "**not False != True** maka outputnya adalah?"
      ],
      "metadata": {
        "id": "xMJr9X4ogIVh"
      }
    },
    {
      "cell_type": "code",
      "source": [
        "False"
      ],
      "metadata": {
        "id": "HsLPIFNvgLm2"
      },
      "execution_count": null,
      "outputs": []
    },
    {
      "cell_type": "markdown",
      "source": [
        "**(not 4 > 7) == (4 > 7)** maka outputnya adalah?"
      ],
      "metadata": {
        "id": "JSQYak9qgNm5"
      }
    },
    {
      "cell_type": "code",
      "source": [
        "False"
      ],
      "metadata": {
        "id": "rOZzk7FigNUw"
      },
      "execution_count": null,
      "outputs": []
    },
    {
      "cell_type": "markdown",
      "source": [
        "**CODE EXERCISE**"
      ],
      "metadata": {
        "id": "u7QAej2-gsNX"
      }
    },
    {
      "cell_type": "markdown",
      "source": [
        "Buatlah operasi boolean untuk kondisi berikut: angka_3 kurang dari 15 dan angka_3 lebih dari 5 atau angka_3 bukan lebih dari 7."
      ],
      "metadata": {
        "id": "ykeGvUeAgv6h"
      }
    },
    {
      "cell_type": "code",
      "source": [
        "angka_3 = 2\n",
        "\n",
        "angka_3 < 15 and angka_3 > 5 or not angka_3 > 7"
      ],
      "metadata": {
        "colab": {
          "base_uri": "https://localhost:8080/"
        },
        "id": "V-L4huFpgvEp",
        "outputId": "c0044d90-521d-44a6-e6af-a4e2e1c618a7"
      },
      "execution_count": 12,
      "outputs": [
        {
          "output_type": "execute_result",
          "data": {
            "text/plain": [
              "True"
            ]
          },
          "metadata": {},
          "execution_count": 12
        }
      ]
    },
    {
      "cell_type": "markdown",
      "source": [
        "Ubahlah nilai input agar boolean berikut bernilai `True`."
      ],
      "metadata": {
        "id": "i7lcLQgPhl6Q"
      }
    },
    {
      "cell_type": "code",
      "source": [
        "angka_1 = 8\n",
        "angka_2 = 16\n",
        "angka_3 = 0\n",
        "\n",
        "angka_1 > 7 and not (not angka_2 > 15 or angka_3 > 2 )"
      ],
      "metadata": {
        "colab": {
          "base_uri": "https://localhost:8080/"
        },
        "id": "N_P3xfkNhoGO",
        "outputId": "43d9d19c-4de1-4fe0-e619-5fe04d3fba8b"
      },
      "execution_count": 14,
      "outputs": [
        {
          "output_type": "execute_result",
          "data": {
            "text/plain": [
              "True"
            ]
          },
          "metadata": {},
          "execution_count": 14
        }
      ]
    },
    {
      "cell_type": "markdown",
      "source": [
        "**Update Urutan Operasi**"
      ],
      "metadata": {
        "id": "n4wl09eDiAHT"
      }
    },
    {
      "cell_type": "markdown",
      "source": [
        "Setelah kita mengetahui Boolean Logic berikut kedudukan operasi perbandingan dan logika pada prioritas operasi. Tabel berikut menunjukkan prioritas operator yang telah dipelajari."
      ],
      "metadata": {
        "id": "kFQA23uSiBAA"
      }
    },
    {
      "cell_type": "markdown",
      "source": [
        "![slkfjsdf.JPG](data:image/jpeg;base64,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)"
      ],
      "metadata": {
        "id": "wLqXsWCNiC2Q"
      }
    },
    {
      "cell_type": "markdown",
      "source": [
        "**MINI EXERCISE**"
      ],
      "metadata": {
        "id": "9gteIgh2iI3o"
      }
    },
    {
      "cell_type": "markdown",
      "source": [
        "Tuliskan 5 ditambah 7 **lebih besar atau sama dengan** 10 dikurangi 5 dalam bentuk Python."
      ],
      "metadata": {
        "id": "5GioaiJmiM2N"
      }
    },
    {
      "cell_type": "code",
      "source": [
        "5+7 >= 10-5"
      ],
      "metadata": {
        "colab": {
          "base_uri": "https://localhost:8080/"
        },
        "id": "B5PTt3LQiMhY",
        "outputId": "54b04ecb-0a3f-47f8-ffa8-40a4667a1e78"
      },
      "execution_count": 15,
      "outputs": [
        {
          "output_type": "execute_result",
          "data": {
            "text/plain": [
              "True"
            ]
          },
          "metadata": {},
          "execution_count": 15
        }
      ]
    },
    {
      "cell_type": "markdown",
      "source": [
        "Tuliskan 4 pangkat 3 **tidak sama dengan** 3 pangkat 4 dalam bentuk Python."
      ],
      "metadata": {
        "id": "O9Q_6wJ6ih6F"
      }
    },
    {
      "cell_type": "code",
      "source": [
        "4**3 != 3**4"
      ],
      "metadata": {
        "colab": {
          "base_uri": "https://localhost:8080/"
        },
        "id": "AJICbDeLikOJ",
        "outputId": "d210df4a-07b4-4992-e72e-f3339ffa3eec"
      },
      "execution_count": 16,
      "outputs": [
        {
          "output_type": "execute_result",
          "data": {
            "text/plain": [
              "True"
            ]
          },
          "metadata": {},
          "execution_count": 16
        }
      ]
    },
    {
      "cell_type": "markdown",
      "source": [
        "**EXERCISE**"
      ],
      "metadata": {
        "id": "DTUlfmxzipmp"
      }
    },
    {
      "cell_type": "markdown",
      "source": [
        "\n",
        "\n",
        "*   Pak Joko membandingkan harga stock produk barang kecantikan pada kedua supplier yang berbeda.\n",
        "\n",
        "*   Supplier pertama menawarkan 10 kardus isi produk kecantikan Nivae dengan harga 1.500.000 rupiah.\n",
        "\n",
        "*   Sedangkan supplier kedua menawarkan 12 kardus isi produk kecantikan Garneir dengan harga 1.700.000 rupiah.\n",
        "*   Dengan kedua harga tersebut Pak Joko memprioritaskan untuk menekan budgetnya dengan membeli stock produk yang paling murah yaitu dengan cara mempertimbangkan harga per kardusnya.\n",
        "\n",
        "\n",
        "*   Buatlah operasi matematika perbandingan stock produk barang kecantikan apakah harga produk Nivae lebih besar dari harga produk Garneir dalam Python!\n",
        "\n"
      ],
      "metadata": {
        "id": "ZkZW2-UUirdg"
      }
    },
    {
      "cell_type": "code",
      "source": [
        "# Declare variabel yaitu harga satuan Nivae dan Garneir\n",
        "harga_satuan_nivae = 1_500_000/10\n",
        "harga_satuan_garneir = 1_700_000/12\n",
        "\n",
        "# Hasil perbandingan apakah harga satuan Nivae lebih mahal daripada Garneir\n",
        "print(harga_satuan_nivae)\n",
        "print(harga_satuan_garneir)\n",
        "harga_satuan_nivae > harga_satuan_garneir"
      ],
      "metadata": {
        "colab": {
          "base_uri": "https://localhost:8080/"
        },
        "id": "5aj_KbrMi2x9",
        "outputId": "a75a7c14-cc58-437a-a1d7-dd22ba793656"
      },
      "execution_count": 24,
      "outputs": [
        {
          "output_type": "stream",
          "name": "stdout",
          "text": [
            "150000.0\n",
            "141666.66666666666\n"
          ]
        },
        {
          "output_type": "execute_result",
          "data": {
            "text/plain": [
              "True"
            ]
          },
          "metadata": {},
          "execution_count": 24
        }
      ]
    }
  ]
}