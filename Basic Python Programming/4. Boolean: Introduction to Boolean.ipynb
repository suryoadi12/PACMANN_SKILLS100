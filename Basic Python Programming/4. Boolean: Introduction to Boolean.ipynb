{
  "nbformat": 4,
  "nbformat_minor": 0,
  "metadata": {
    "colab": {
      "provenance": [],
      "authorship_tag": "ABX9TyOFx6kTb+vzV+D3pRvIzAjj",
      "include_colab_link": true
    },
    "kernelspec": {
      "name": "python3",
      "display_name": "Python 3"
    },
    "language_info": {
      "name": "python"
    }
  },
  "cells": [
    {
      "cell_type": "markdown",
      "metadata": {
        "id": "view-in-github",
        "colab_type": "text"
      },
      "source": [
        "<a href=\"https://colab.research.google.com/github/suryoadi12/PACMANN_SKILLS100/blob/main/Basic%20Python%20Programming/4.%20Boolean%3A%20Introduction%20to%20Boolean.ipynb\" target=\"_parent\"><img src=\"https://colab.research.google.com/assets/colab-badge.svg\" alt=\"Open In Colab\"/></a>"
      ]
    },
    {
      "cell_type": "markdown",
      "source": [
        "# **Apa itu Boolean?** 🤔"
      ],
      "metadata": {
        "id": "tSJeCasHu0aG"
      }
    },
    {
      "cell_type": "markdown",
      "source": [
        "👉 Boolean adalah salah satu tipe data yang ada di dalam bahasa pemrograman Python.\n",
        "\n",
        "👉 Tipe data Boolean merepresentasikan salah satu dari dua nilai logika yaitu **True** atau **False**.\n",
        "\n",
        "👉 Fungsi dari Boolean itu sendiri secara umum adalah untuk mengetahui kebenaran dalam suatu ekspresi apakah bernilai **True** atau **False**."
      ],
      "metadata": {
        "id": "A-gLbKMgu5KK"
      }
    },
    {
      "cell_type": "markdown",
      "source": [
        "Berikut cara membuat sebuah tipe data Boolean:\n",
        "\n",
        "Semisal, Roni membeli sebuah produk maka tipe data boolean yang merepresentasikan bahwa Roni membeli sebuah produk sebagai berikut:"
      ],
      "metadata": {
        "id": "VYY93pGrvD9r"
      }
    },
    {
      "cell_type": "code",
      "execution_count": null,
      "metadata": {
        "id": "yZkX9hTcunhN"
      },
      "outputs": [],
      "source": [
        "is_buying = True"
      ]
    },
    {
      "cell_type": "markdown",
      "source": [
        "Hans menemukan bahwa salah satu atribut dalam dataset yang di dapatkan memiliki outlier (nilai yang jaraknya sangat jauh dari rata-rata nilai keseluruhan) maka diperlukan untuk membuat satu tipe data boolean yang bernilai True."
      ],
      "metadata": {
        "id": "06We1rzpvISf"
      }
    },
    {
      "cell_type": "code",
      "source": [
        "have_outlier = True"
      ],
      "metadata": {
        "id": "rPMSgsNkvOSr"
      },
      "execution_count": null,
      "outputs": []
    },
    {
      "cell_type": "markdown",
      "source": [
        "Fika belum menyelesaikan tugas praktikum kuliahnya tipe data boolean yang merepresentasikan bahwa Fika belum menyelesaikan tugas praktikumnya sebagai berikut."
      ],
      "metadata": {
        "id": "RVerIBIlvQm2"
      }
    },
    {
      "cell_type": "code",
      "source": [
        "is_completed = False"
      ],
      "metadata": {
        "id": "uuMgTTGTvRiO"
      },
      "execution_count": null,
      "outputs": []
    },
    {
      "cell_type": "markdown",
      "source": [
        "**BOOLEAN OPERATIONS**"
      ],
      "metadata": {
        "id": "zBicfVWqvTiz"
      }
    },
    {
      "cell_type": "markdown",
      "source": [
        "Dalam sub topik ini kita akan membahas macam-macam operator Boolean. Bahasa pemrograman Python telah menyediakan operator Boolean yaitu **comparison** dan **equality**."
      ],
      "metadata": {
        "id": "yWfzelhxvZnH"
      }
    },
    {
      "cell_type": "markdown",
      "source": [
        "**OPERATOR EQUALITY**"
      ],
      "metadata": {
        "id": "PE9K4w6Gvgf-"
      }
    },
    {
      "cell_type": "markdown",
      "source": [
        "Operator Equality adalah operator yang berfungsi untuk memeriksa **kesamaan** atau **ketidaksamaan** nilai satu dengan yang lain."
      ],
      "metadata": {
        "id": "a5NZrYiZvkGz"
      }
    },
    {
      "cell_type": "markdown",
      "source": [
        "![asdfdsafew.JPG](data:image/jpeg;base64,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)"
      ],
      "metadata": {
        "id": "3zMB8l0XvxBX"
      }
    },
    {
      "cell_type": "markdown",
      "source": [
        "Berikut contoh penggunaan operator equality pada Python."
      ],
      "metadata": {
        "id": "r_CPz19tv0TQ"
      }
    },
    {
      "cell_type": "markdown",
      "source": [
        "\n",
        "\n",
        "*   Lakukan pengecekan apakah nama penerima yang tertera pada paket sama dengan nama penerima sebenarnya.\n",
        "\n"
      ],
      "metadata": {
        "id": "FwX9EFZcv1VX"
      }
    },
    {
      "cell_type": "code",
      "source": [
        "nama_tercantum = \"Johan\"\n",
        "nama_penerima = \"Johan\"\n",
        "\n",
        "# Kita bisa mengeluarkan output dengan dua cara (di Jupyter Notebook)\n",
        "# Cara 1\n",
        "print(nama_tercantum == nama_penerima)\n",
        "\n",
        "# Cara 2\n",
        "nama_tercantum == nama_penerima"
      ],
      "metadata": {
        "colab": {
          "base_uri": "https://localhost:8080/"
        },
        "id": "rlIrxJw8vY6s",
        "outputId": "ea9c8583-2d62-4254-9c3a-8712988ddb4c"
      },
      "execution_count": 1,
      "outputs": [
        {
          "output_type": "stream",
          "name": "stdout",
          "text": [
            "True\n"
          ]
        },
        {
          "output_type": "execute_result",
          "data": {
            "text/plain": [
              "True"
            ]
          },
          "metadata": {},
          "execution_count": 1
        }
      ]
    },
    {
      "cell_type": "markdown",
      "source": [
        "\n",
        "\n",
        "*   Kita juga dapat melakukan pengecekan **tipe data integer dan tipe data float**.\n",
        "\n",
        "\n",
        "*   Lakukan pengecekan nilai **angka_1** tidak sama dengan **angka_2**.\n",
        "\n"
      ],
      "metadata": {
        "id": "D8gQ_DCVwQ6k"
      }
    },
    {
      "cell_type": "code",
      "source": [
        "angka_1 = 0.567\n",
        "angka_2 = 0.67\n",
        "\n",
        "angka_1 != angka_2"
      ],
      "metadata": {
        "colab": {
          "base_uri": "https://localhost:8080/"
        },
        "id": "RkCgGg5LweUs",
        "outputId": "59b15bfc-dff4-4f71-e8a9-efe7fd3123dd"
      },
      "execution_count": 2,
      "outputs": [
        {
          "output_type": "execute_result",
          "data": {
            "text/plain": [
              "True"
            ]
          },
          "metadata": {},
          "execution_count": 2
        }
      ]
    },
    {
      "cell_type": "markdown",
      "source": [
        "**MINI EXERCISE**"
      ],
      "metadata": {
        "id": "_h9-XtV3wviD"
      }
    },
    {
      "cell_type": "markdown",
      "source": [
        "Seorang petugas tiket pesawat 👨‍💼 sedang mencocokkan nomor penerbangan pada boarding pass pesawat 🎫 dengan nomer penerbangan terdaftar pada database."
      ],
      "metadata": {
        "id": "eDyAgNH7wyL3"
      }
    },
    {
      "cell_type": "code",
      "source": [
        "nomor_id_tiket = \"GA8760\"\n",
        "nomor_id_terdaftar = \"GA8730\"\n",
        "\n",
        "nomor_id_tiket != nomor_id_terdaftar"
      ],
      "metadata": {
        "colab": {
          "base_uri": "https://localhost:8080/"
        },
        "id": "nI80G4qCwxYv",
        "outputId": "05405e45-4ed6-4d14-8eaf-35533c2f2fb9"
      },
      "execution_count": 3,
      "outputs": [
        {
          "output_type": "execute_result",
          "data": {
            "text/plain": [
              "True"
            ]
          },
          "metadata": {},
          "execution_count": 3
        }
      ]
    },
    {
      "cell_type": "markdown",
      "source": [
        "**OPERATOR COMPARISON**"
      ],
      "metadata": {
        "id": "Io6HWt8UxKdX"
      }
    },
    {
      "cell_type": "markdown",
      "source": [
        "Operator Comparison adalah operator yang berfungsi untuk komparasi nilai satu dengan yang lain.\n",
        "\n",
        "![asdlfjaesf.JPG](data:image/jpeg;base64,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)"
      ],
      "metadata": {
        "id": "I3YqZ269xMML"
      }
    },
    {
      "cell_type": "markdown",
      "source": [
        "Berikut contoh penggunaaan Operator Comparsion pada Python:"
      ],
      "metadata": {
        "id": "bZ5l3c-nxVd3"
      }
    },
    {
      "cell_type": "markdown",
      "source": [
        "\n",
        "\n",
        "*   Lakukan pengecekan apakah jumlah motor Alex lebih banyak dengan jumlah motor Raihan.\n",
        "\n"
      ],
      "metadata": {
        "id": "DHu7I56dxXR4"
      }
    },
    {
      "cell_type": "code",
      "source": [
        "motor_rashford = 5\n",
        "motor_onana = 4\n",
        "\n",
        "print(motor_rashford > motor_onana)"
      ],
      "metadata": {
        "colab": {
          "base_uri": "https://localhost:8080/"
        },
        "id": "lAFduDmwxall",
        "outputId": "bcdabdb2-f856-4b16-d894-d2522dfa7f59"
      },
      "execution_count": 4,
      "outputs": [
        {
          "output_type": "stream",
          "name": "stdout",
          "text": [
            "True\n"
          ]
        }
      ]
    },
    {
      "cell_type": "markdown",
      "source": [
        "\n",
        "\n",
        "*   Bagaimana jika kita akan melakukan komparasi tipe data string?\n",
        "\n",
        "\n"
      ],
      "metadata": {
        "id": "eGxfsL1dxolb"
      }
    },
    {
      "cell_type": "code",
      "source": [
        "judul_film_pertama = \"Bersama Awan\"\n",
        "judul_film_kedua = \"Bersama Angin\"\n",
        "\n",
        "judul_film_pertama > judul_film_kedua"
      ],
      "metadata": {
        "colab": {
          "base_uri": "https://localhost:8080/"
        },
        "id": "-jy3jPTzxtC8",
        "outputId": "fae38b83-8775-4e40-e2d1-8b72885aa80f"
      },
      "execution_count": 10,
      "outputs": [
        {
          "output_type": "execute_result",
          "data": {
            "text/plain": [
              "True"
            ]
          },
          "metadata": {},
          "execution_count": 10
        }
      ]
    },
    {
      "cell_type": "markdown",
      "source": [
        "Jika kita membandingkan antara kedua string maka yang dibandingkan adalah jumlah panjang dari antara kedua string tersebut."
      ],
      "metadata": {
        "id": "W4QgabMxyARb"
      }
    },
    {
      "cell_type": "markdown",
      "source": [
        "**MINI EXERCISE**"
      ],
      "metadata": {
        "id": "5G8p8XQKyPpi"
      }
    },
    {
      "cell_type": "markdown",
      "source": [
        "Narya ingin mengambil beasiswa 📑 S2 di luar negeri dengan persyarataan nilai IELTS minimal lebih sama dengan 5.5. Nilai yang didapatkan oleh Narya adalah 6. Lakukan pengecekan apakah Narya berhak mendapatkan beasiswa berdasarkan nilai tersebut?"
      ],
      "metadata": {
        "id": "GnFSyOhhyTzb"
      }
    },
    {
      "cell_type": "code",
      "source": [
        "min_ielts = 5.5\n",
        "nilai_narya = 6\n",
        "\n",
        "nilai_narya >= min_ielts"
      ],
      "metadata": {
        "colab": {
          "base_uri": "https://localhost:8080/"
        },
        "id": "eE1F_Sn6ySDt",
        "outputId": "d430b568-c54f-4eb8-e73d-ec1b1b9c3463"
      },
      "execution_count": 12,
      "outputs": [
        {
          "output_type": "execute_result",
          "data": {
            "text/plain": [
              "True"
            ]
          },
          "metadata": {},
          "execution_count": 12
        }
      ]
    },
    {
      "cell_type": "markdown",
      "source": [
        "Operator Comparison maupun Equality ini sangat berguna ketika kita ingin memeriksa apakah suatu pernyataan tersebut benar atau salah."
      ],
      "metadata": {
        "id": "DhWzihSSyuO7"
      }
    },
    {
      "cell_type": "markdown",
      "source": [
        "**EXERCISE**"
      ],
      "metadata": {
        "id": "CurdvqkPyvg1"
      }
    },
    {
      "cell_type": "markdown",
      "source": [
        "Mr. Andy🧔 ingin mengecek apakah kedua tiket KA memiliki harga yang tidak sama, harga tiket KA Gajayana 🚄 sebesar 455000 sedangkan tiket KA Brawijaya 🚅 sebesar 475000. Buatlah dalam bentuk Python!"
      ],
      "metadata": {
        "id": "lD9ye2hryymD"
      }
    },
    {
      "cell_type": "code",
      "source": [
        "tiket_gajayana = 455000\n",
        "tiket_brawijaya = 475000\n",
        "\n",
        "tiket_brawijaya != tiket_gajayana"
      ],
      "metadata": {
        "colab": {
          "base_uri": "https://localhost:8080/"
        },
        "id": "p3tFmq1Cy2Z_",
        "outputId": "13b48c0e-e76b-4a7a-ea21-1b72000a3878"
      },
      "execution_count": 13,
      "outputs": [
        {
          "output_type": "execute_result",
          "data": {
            "text/plain": [
              "True"
            ]
          },
          "metadata": {},
          "execution_count": 13
        }
      ]
    },
    {
      "cell_type": "markdown",
      "source": [
        "Seorang Data Scientist👩‍🏫 sedang mengevaluasi nilai hasil akurasi prediksi curah hujan 🌨 menggunakan algoritma pertama mendapatkan hasil akurasi sebesar 90 dan algoritma kedua mendapatkan hasil akurasi sebesar 85. Lakukan pengecekan algoritma pertama apakah nilainya lebih besar dari algoritma kedua dalam bentuk Python!"
      ],
      "metadata": {
        "id": "HtmwfoYazHgZ"
      }
    },
    {
      "cell_type": "code",
      "source": [
        "hasil_1 = 90\n",
        "hasil_2 = 85\n",
        "\n",
        "hasil_1 > hasil_2"
      ],
      "metadata": {
        "colab": {
          "base_uri": "https://localhost:8080/"
        },
        "id": "eo0ztHvWzJwq",
        "outputId": "a85a87f1-f601-4691-d8fe-970bca1787d6"
      },
      "execution_count": 14,
      "outputs": [
        {
          "output_type": "execute_result",
          "data": {
            "text/plain": [
              "True"
            ]
          },
          "metadata": {},
          "execution_count": 14
        }
      ]
    },
    {
      "cell_type": "markdown",
      "source": [
        "Seorang Data Analyst diperusahaan Xiaome ingin melakukan evaluasi total penjualan Q1 apakah lebih besar dengan Q2 penjualan Q1 sebesar 25 juta dollar sedangkan penjualan Q2 sebesar 20 juta dollar lakukan perbandingan dalam bentuk pemrograman Python!"
      ],
      "metadata": {
        "id": "eeuzlTSKzUwH"
      }
    },
    {
      "cell_type": "code",
      "source": [
        "penjualan_q1 = 25_000_000\n",
        "penjualan_q2 = 20_000_000\n",
        "\n",
        "penjualan_q1 > penjualan_q2"
      ],
      "metadata": {
        "colab": {
          "base_uri": "https://localhost:8080/"
        },
        "id": "uyl5xqAvzXw0",
        "outputId": "f33b375f-e031-4977-f638-c8b9658ca57e"
      },
      "execution_count": 15,
      "outputs": [
        {
          "output_type": "execute_result",
          "data": {
            "text/plain": [
              "True"
            ]
          },
          "metadata": {},
          "execution_count": 15
        }
      ]
    }
  ]
}