{
  "nbformat": 4,
  "nbformat_minor": 0,
  "metadata": {
    "colab": {
      "provenance": [],
      "authorship_tag": "ABX9TyPtZivr+X5en8FtnAjja799",
      "include_colab_link": true
    },
    "kernelspec": {
      "name": "python3",
      "display_name": "Python 3"
    },
    "language_info": {
      "name": "python"
    }
  },
  "cells": [
    {
      "cell_type": "markdown",
      "metadata": {
        "id": "view-in-github",
        "colab_type": "text"
      },
      "source": [
        "<a href=\"https://colab.research.google.com/github/suryoadi12/PACMANN_SKILLS100/blob/main/Basic%20Python%20Programming/2.1%20A%20Good%20First%20Program%3A%20Variables.ipynb\" target=\"_parent\"><img src=\"https://colab.research.google.com/assets/colab-badge.svg\" alt=\"Open In Colab\"/></a>"
      ]
    },
    {
      "cell_type": "markdown",
      "source": [
        "# **Pertemuan #1-2 - Variables**"
      ],
      "metadata": {
        "id": "QLYHT-sLuuDk"
      }
    },
    {
      "cell_type": "markdown",
      "source": [
        "**VARIABLES**"
      ],
      "metadata": {
        "id": "4c91lGRVuz89"
      }
    },
    {
      "cell_type": "markdown",
      "source": [
        "\n",
        "\n",
        "*   Variabel merupakan tempat menyimpan sebuah nilai ataupun data.\n",
        "*   Kita dapat membuat variabel dengan menggunakan syntax sebagai berikut:\n",
        "\n"
      ],
      "metadata": {
        "id": "8KqdLnE6u2ob"
      }
    },
    {
      "cell_type": "code",
      "execution_count": null,
      "metadata": {
        "id": "ZsepPmuoup2I"
      },
      "outputs": [],
      "source": [
        "nama_variabel = <nilai>"
      ]
    },
    {
      "cell_type": "markdown",
      "source": [
        "\n",
        "\n",
        "*   Nilai dapat berupa teks maupun angka/bilangan.\n",
        "\n"
      ],
      "metadata": {
        "id": "E6ipkExOu9dj"
      }
    },
    {
      "cell_type": "markdown",
      "source": [
        "**WHY USE VARIABLES?**"
      ],
      "metadata": {
        "id": "d-5sMPB7vFYn"
      }
    },
    {
      "cell_type": "markdown",
      "source": [
        "Lalu kenapa kita harus menggunakan variabel?\n",
        "\n",
        "Perhatikan contoh di bawah ini!"
      ],
      "metadata": {
        "id": "wihOGSmKvRG6"
      }
    },
    {
      "cell_type": "code",
      "source": [
        "angka_1 = 121839128931289381293812938129381293812938912389128391289381238129312\n",
        "angka_2 = 1213812309123890128391238128390128390812908908\n",
        "\n",
        "jumlah = angka_1 + angka_2"
      ],
      "metadata": {
        "id": "7vdQmXLfvPVT"
      },
      "execution_count": null,
      "outputs": []
    },
    {
      "cell_type": "markdown",
      "source": [
        "\n",
        "\n",
        "*   Code di atas menunjukkan bahwa terdapat 2 variabel yaitu angka_1 dan angka_2.\n",
        "\n",
        "*   Kedua variabel tersebut menyimpan nilai angka yang sangat besar.\n",
        "*   Bayangkan apabila kita tidak menggunakan variabel dan ingin menjumlahkan kedua angka tersebut dan menulis ulang kembali angkanya, maka akan ada kemungkinan terjadinya kesalahan.\n",
        "\n",
        "\n",
        "*   Untuk itulah kita perlu menyimpannya di dalam sebuah variabel, yang mana variabel ini nantinya dapat dipanggil.\n",
        "\n"
      ],
      "metadata": {
        "id": "ECWzLCDLvV_3"
      }
    },
    {
      "cell_type": "markdown",
      "source": [
        "**CONTOH**"
      ],
      "metadata": {
        "id": "mosIYWMHvxbe"
      }
    },
    {
      "cell_type": "markdown",
      "source": [
        "Misalkan kita ingin menyimpan nama kita dalam sebuah variabel.\n",
        "Pertama kita tentukan nama variabel apa yang akan kita gunakan,\n",
        "disini kita akan menggunakan variabel \"nama\"."
      ],
      "metadata": {
        "id": "Y48HqMsowRZC"
      }
    },
    {
      "cell_type": "code",
      "source": [
        "# Contoh\n",
        "\n",
        "nama = \"Budi\"\n",
        "print(nama)"
      ],
      "metadata": {
        "colab": {
          "base_uri": "https://localhost:8080/"
        },
        "id": "Ej5MoL_2veYD",
        "outputId": "554b3a85-bbca-4e50-e1e6-277847fd0eae"
      },
      "execution_count": null,
      "outputs": [
        {
          "output_type": "stream",
          "name": "stdout",
          "text": [
            "Budi\n"
          ]
        }
      ]
    },
    {
      "cell_type": "markdown",
      "source": [
        "Sekarang ayo latihan, coba buat sebuah variabel yang menyimpan text \"Saya sedang belajar membuat variabel\".\n",
        "\n",
        "\n",
        "\n",
        "*   Nama Variabel = text\n",
        "*   Isi dari Variabel = \"Saya sedang belajar membuat variabel\"\n",
        "\n"
      ],
      "metadata": {
        "id": "1yZlO-UHwmd7"
      }
    },
    {
      "cell_type": "code",
      "source": [
        "text = \"Saya sedang belajar membuat variabel\"\n",
        "print(text)"
      ],
      "metadata": {
        "colab": {
          "base_uri": "https://localhost:8080/"
        },
        "id": "1kPJFEBAwrtj",
        "outputId": "69ff9958-adf6-4850-d299-1c3557d0ab7c"
      },
      "execution_count": null,
      "outputs": [
        {
          "output_type": "stream",
          "name": "stdout",
          "text": [
            "Saya sedang belajar membuat variabel\n"
          ]
        }
      ]
    },
    {
      "cell_type": "markdown",
      "source": [
        "**CONTOH**"
      ],
      "metadata": {
        "id": "z0vSw00BxMEW"
      }
    },
    {
      "cell_type": "code",
      "source": [
        "# f(x) = 10x + 4"
      ],
      "metadata": {
        "id": "aF6Lxpn7xTyO"
      },
      "execution_count": null,
      "outputs": []
    },
    {
      "cell_type": "markdown",
      "source": [
        "Untuk semakin memahami mengenai variabel, perhatikan contoh di atas!\n",
        "\n",
        "Untuk mendapatkan nilai dari fungsi tersebut, kita dapat tinggal memasukkan suatu nilai ke dalam variabel x.\n",
        "\n",
        "Semisal, kita ingin memasukkan angka 2 kedalam variabel x. Maka, fungsi matematika tersebut akan menjadi:"
      ],
      "metadata": {
        "id": "I9lyBw07xNS_"
      }
    },
    {
      "cell_type": "code",
      "source": [
        "# f(2) = 10*2 + 4"
      ],
      "metadata": {
        "id": "0TQt0thQxZ8q"
      },
      "execution_count": null,
      "outputs": []
    },
    {
      "cell_type": "markdown",
      "source": [
        "**HOW TO WRITE PROPER VARIABLES**"
      ],
      "metadata": {
        "id": "jyM6x5oxxkLL"
      }
    },
    {
      "cell_type": "markdown",
      "source": [
        "Di dalam variabel kita akan mengenal **Bad and Good Variables**"
      ],
      "metadata": {
        "id": "r4Ds999Uxp8S"
      }
    },
    {
      "cell_type": "markdown",
      "source": [
        "![sdafsd.JPG](data:image/jpeg;base64,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)"
      ],
      "metadata": {
        "id": "OPgxloFix30Q"
      }
    },
    {
      "cell_type": "markdown",
      "source": [
        "**CONTOH**"
      ],
      "metadata": {
        "id": "fK7tsTi5yCVi"
      }
    },
    {
      "cell_type": "code",
      "source": [
        "diameter_lingkaran = 10\n",
        "diameter_lingkaran_yang_aku_punya = 10"
      ],
      "metadata": {
        "id": "e7kv9X7QxwRO"
      },
      "execution_count": null,
      "outputs": []
    },
    {
      "cell_type": "markdown",
      "source": [
        "Semisal, kita membuat variabel untuk menampung nilai diameter lingkaran.\n",
        "\n",
        "\n",
        "\n",
        "*   **Good Example**\n",
        "\n",
        "*   diameter_lingkaran\n",
        "\n",
        "\n",
        "Variabel di atas merupakan contoh variabel yang baik, karena ringkas dan menjelaskan maksud dari variabel.\n",
        "\n",
        "\n",
        "*   **Bad Example**\n",
        "\n",
        "\n",
        "*   diameter_lingkaran_yang_aku_punya\n",
        "\n",
        "\n",
        "Variabel di atas merupakan contoh variabel yang kurang baik, karena tidak ringkas dan terlalu panjang."
      ],
      "metadata": {
        "id": "505IFQUDyMQS"
      }
    },
    {
      "cell_type": "markdown",
      "source": [
        "**EXERCISE**\n",
        "\n"
      ],
      "metadata": {
        "id": "p1H3A6sHymUw"
      }
    },
    {
      "cell_type": "markdown",
      "source": [
        "Buatlah sebuah variabel yang akan menyimpan sisi sebuah persegi:\n",
        "\n",
        "\n",
        "\n",
        "*   Nama Variabel = sisi persegi\n",
        "*   Isi dari Variabel = 6"
      ],
      "metadata": {
        "id": "e6mYCWPs3jc9"
      }
    },
    {
      "cell_type": "code",
      "source": [
        "sisi_persegi = 6"
      ],
      "metadata": {
        "id": "eAgOac6x3dVY"
      },
      "execution_count": null,
      "outputs": []
    },
    {
      "cell_type": "markdown",
      "source": [
        "**BAD VARIABLES**"
      ],
      "metadata": {
        "id": "sn098fWBzZCW"
      }
    },
    {
      "cell_type": "markdown",
      "source": [
        "Kapankah suatu variabel itu dikatakan buruk?\n",
        "\n",
        "Yaitu apabila:\n",
        "\n",
        "\n",
        "\n",
        "*   Nama variabel terlalu pendek\n",
        "\n",
        "*   Nama variabel tidak dapat menggambarkan isi dari variabel\n",
        "\n",
        "*   Nama Variabel Diawali dengan angka\n",
        "*   Nama Variabel terdapat dengan simbol\n",
        "\n",
        "\n",
        "*   Nama variabel sama antara variabel 1 dan variabel 2"
      ],
      "metadata": {
        "id": "Xl0BY03azhc9"
      }
    },
    {
      "cell_type": "code",
      "source": [
        "# Nama variabel terlalu pendek\n",
        "\n",
        "x = \"Guido\"\n",
        "a = \"Bebek\""
      ],
      "metadata": {
        "id": "ViWK6ZC3zunX"
      },
      "execution_count": null,
      "outputs": []
    },
    {
      "cell_type": "code",
      "source": [
        "# Nama variabel tidak dapat menggambarkan isi dari variabel\n",
        "\n",
        "put = \"2022\"\n",
        "bk = \"Belajar bahasa pemrograman Python\""
      ],
      "metadata": {
        "id": "yysE-Bfnz4Po"
      },
      "execution_count": null,
      "outputs": []
    },
    {
      "cell_type": "code",
      "source": [
        "# Nama Variabel Diawali dengan angka\n",
        "\n",
        "1angka = 2\n",
        "2angka = 1"
      ],
      "metadata": {
        "id": "rmPBlXLlz7NR"
      },
      "execution_count": null,
      "outputs": []
    },
    {
      "cell_type": "code",
      "source": [
        "# Nama Variabel Diawali dengan simbol\n",
        "\n",
        "%persen = \"100 %\"\n",
        "$ = 20000"
      ],
      "metadata": {
        "id": "EqOlHEI_z6Ll"
      },
      "execution_count": null,
      "outputs": []
    },
    {
      "cell_type": "code",
      "source": [
        "# Nama variabel sama antara variabel 1 dan variabel 2\n",
        "\n",
        "angka = 2\n",
        "angka = 1\n",
        "\n",
        "# Sebuah variabel tidak boleh memiliki nama yang sama,\n",
        "# karena variabel yang kedua akan menimpa isi dari variabel yang pertama.\n",
        "# Sehingga nilai variabel yang pertama akan berubah, mengikuti variabel yang kedua."
      ],
      "metadata": {
        "id": "M0l4RwVI0ASZ"
      },
      "execution_count": null,
      "outputs": []
    },
    {
      "cell_type": "markdown",
      "source": [
        "**GOOD VARIABLES**"
      ],
      "metadata": {
        "id": "exeuz3281GB1"
      }
    },
    {
      "cell_type": "markdown",
      "source": [
        "Lalu bagaimana caranya agar dapat membuat variabel yang baik?\n",
        "\n",
        "Variabel yang baik seharusnya:\n",
        "\n",
        "\n",
        "\n",
        "*   Jelas dan ringkas.\n",
        "\n",
        "*   Menggambarkan isi dari variabel.\n",
        "\n",
        "*   Bukan merupakan keyword yang ada python, seperti for, True, False, and, if, or else.\n",
        "*   Tidak mengandung karakter ataupun simbol khusus, termasuk spasi.\n",
        "\n",
        "\n",
        "*   Variabel hanya boleh diawali underscore (_) atau huruf.\n",
        "\n",
        "\n",
        "Berikut merupakan beberapa rekomendasi cara membuat variabel yang baik, yaitu menggunakan:\n",
        "\n",
        "\n",
        "*   **pothole_case_naming**\n",
        "*   **camelCase naming**\n",
        "\n",
        "\n"
      ],
      "metadata": {
        "id": "bg7s9No01LTJ"
      }
    },
    {
      "cell_type": "markdown",
      "source": [
        "1. **pothole_case_naming**\n",
        "\n",
        "  pothole_case_naming menggunakan huruf kecil yang\n",
        "  dipisahkan dengan garis bawah atau underscore (_).\n",
        "  Sebagai contoh kita ingin membuat sebuah variabel yang menyimpan nama lengkap:"
      ],
      "metadata": {
        "id": "ex-lRnD11p08"
      }
    },
    {
      "cell_type": "code",
      "source": [
        "nama_lengkap = \"Antony Santos\""
      ],
      "metadata": {
        "id": "WsfZC9mn1j6S"
      },
      "execution_count": null,
      "outputs": []
    },
    {
      "cell_type": "markdown",
      "source": [
        "2. **camelCase naming**\n",
        "\n",
        "  camelCase naming menggunakan kapitalisasi (menulis dengan huruf besar)\n",
        "  setiap kata pembentuknya dan ditulis tanpa tanda spasi.\n",
        "  Sebagai contoh kita ingin membuat sebuah variabel yang menyimpan nama lengkap:"
      ],
      "metadata": {
        "id": "PTTdmxU22JUU"
      }
    },
    {
      "cell_type": "code",
      "source": [
        "namaLengkap = \"Antony Santos\""
      ],
      "metadata": {
        "id": "9lmD6dgv2TIx"
      },
      "execution_count": null,
      "outputs": []
    },
    {
      "cell_type": "markdown",
      "source": [
        "Sekarang ayo latihan, coba buat 2 variabel yang menyimpan nama depan dari contoh di atas menggunakan pothole_case_naming dan camelCase naming.\n",
        "\n",
        "\n",
        "\n",
        "*   Nama Variabel = nama depan\n",
        "*   Isi dari Variabel = (isi menggunakan nama depan Anda)\n",
        "\n"
      ],
      "metadata": {
        "id": "ZP0nOeM42YzY"
      }
    },
    {
      "cell_type": "code",
      "source": [
        "nama_klub = \"Real Betis\"\n",
        "namaKlub = \"Real Betis\""
      ],
      "metadata": {
        "id": "JJ9hN1-g2f5o"
      },
      "execution_count": null,
      "outputs": []
    },
    {
      "cell_type": "markdown",
      "source": [
        "**CONTOH**"
      ],
      "metadata": {
        "id": "buPZsHrh2iVY"
      }
    },
    {
      "cell_type": "markdown",
      "source": [
        "Misalkan kita ingin membuat sebuah variabel yang menyimpan tinggi badan!"
      ],
      "metadata": {
        "id": "hXvQEcui2uTw"
      }
    },
    {
      "cell_type": "code",
      "source": [
        "# Bandingkan kedua variabel di bawah ini\n",
        "\n",
        "tinggi_badan = 165\n",
        "tinggi_badan_saya_saat_ini = 165\n",
        "\n",
        "# Kedua variabel tersebut adalah benar secara format.\n",
        "# Namun variabel kedua bukan merupakan variabel yang baik karena variabel tersebut tidak ringkas."
      ],
      "metadata": {
        "id": "BDmsMqdu24S9"
      },
      "execution_count": null,
      "outputs": []
    },
    {
      "cell_type": "markdown",
      "source": [
        "**EXERCISE**"
      ],
      "metadata": {
        "id": "ovg3dLyo3An9"
      }
    },
    {
      "cell_type": "markdown",
      "source": [
        "Cobalah buat sebuah variabel yang menyimpan tanggal, bulan, dan tahun hari ini!"
      ],
      "metadata": {
        "id": "z9ObDqTf3DxG"
      }
    },
    {
      "cell_type": "code",
      "source": [
        "today_date = 14\n",
        "today_month = \"Februari\"\n",
        "today_year = \"2025\""
      ],
      "metadata": {
        "id": "mDnmG1gB3CTP"
      },
      "execution_count": null,
      "outputs": []
    }
  ]
}