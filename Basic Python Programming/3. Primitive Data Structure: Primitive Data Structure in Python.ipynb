{
  "nbformat": 4,
  "nbformat_minor": 0,
  "metadata": {
    "colab": {
      "provenance": [],
      "authorship_tag": "ABX9TyN31bLDaNGENdnEVVA2L8Q0",
      "include_colab_link": true
    },
    "kernelspec": {
      "name": "python3",
      "display_name": "Python 3"
    },
    "language_info": {
      "name": "python"
    }
  },
  "cells": [
    {
      "cell_type": "markdown",
      "metadata": {
        "id": "view-in-github",
        "colab_type": "text"
      },
      "source": [
        "<a href=\"https://colab.research.google.com/github/suryoadi12/PACMANN_SKILLS100/blob/main/Basic%20Python%20Programming/3.%20Primitive%20Data%20Structure%3A%20Primitive%20Data%20Structure%20in%20Python.ipynb\" target=\"_parent\"><img src=\"https://colab.research.google.com/assets/colab-badge.svg\" alt=\"Open In Colab\"/></a>"
      ]
    },
    {
      "cell_type": "markdown",
      "source": [
        "# **Pertemuan 2-1 - Primitive Data Structure on Python**"
      ],
      "metadata": {
        "id": "AqEHu-jyzV7C"
      }
    },
    {
      "cell_type": "markdown",
      "source": [
        "**1. PRIMITIVE DATA STRUCTURE**"
      ],
      "metadata": {
        "id": "LCz2rJDkzccs"
      }
    },
    {
      "cell_type": "markdown",
      "source": [
        "Struktur data adalah cara mengatur dan menyimpan data sehingga dapat diakses dan diolah dengan efisien. Ada dua jenis struktur data pada Python yaitu **primitive data structure** dan **non-primitive data structure** (**composite data structure**). Pada kesempatan kali ini kita akan membahas **primitive data structure**."
      ],
      "metadata": {
        "id": "VPp00ZJhzpPm"
      }
    },
    {
      "cell_type": "markdown",
      "source": [
        "Secara umum, Python memiliki empat struktur data primitif:\n",
        "\n",
        "\n",
        "\n",
        "*   **Integer**\n",
        "\n",
        "*   **Float**\n",
        "*   **String**\n",
        "\n",
        "\n",
        "*   Boolean (akan dibahas pada pertemuan selanjutnya)\n",
        "\n",
        "\n",
        "Kenapa dinamakan primitif, karena berisi nilai data yang murni dan sederhana."
      ],
      "metadata": {
        "id": "u7G1uQ7Fz3rC"
      }
    },
    {
      "cell_type": "markdown",
      "source": [
        "**INTEGER**"
      ],
      "metadata": {
        "id": "BaVRTMfr0KH2"
      }
    },
    {
      "cell_type": "markdown",
      "source": [
        "Integer mewakilkan **bilangan bulat** dari negatif hingga positif, contohnya -3, -2, 3, 4, dst.\n",
        "\n",
        "Semisal, kita akan mencoba melakukan print angka `1`."
      ],
      "metadata": {
        "id": "5M2hWiG80N6Z"
      }
    },
    {
      "cell_type": "code",
      "execution_count": null,
      "metadata": {
        "colab": {
          "base_uri": "https://localhost:8080/"
        },
        "id": "p2I2hMtmzSPa",
        "outputId": "a3f40e1d-c326-4f09-e3e1-8785781aff3c"
      },
      "outputs": [
        {
          "output_type": "stream",
          "name": "stdout",
          "text": [
            "1\n"
          ]
        }
      ],
      "source": [
        "# Coba kita print angka 1\n",
        "\n",
        "print(1)"
      ]
    },
    {
      "cell_type": "markdown",
      "source": [
        "Untuk mengetahui **tipe data sebuah karakter** di cek dengan cara:\n",
        "\n",
        "`type(VALUE)`"
      ],
      "metadata": {
        "id": "odmW2iVV0fHO"
      }
    },
    {
      "cell_type": "code",
      "source": [
        "# Coba jalankan code dibawah ini\n",
        "# Coba cek tipe data angka 6\n",
        "\n",
        "print(type(6))"
      ],
      "metadata": {
        "colab": {
          "base_uri": "https://localhost:8080/"
        },
        "id": "9xrE4ECo0qGF",
        "outputId": "6e629ed1-ca84-4459-fcc7-b826c2bfe145"
      },
      "execution_count": null,
      "outputs": [
        {
          "output_type": "stream",
          "name": "stdout",
          "text": [
            "<class 'int'>\n"
          ]
        }
      ]
    },
    {
      "cell_type": "markdown",
      "source": [
        "Kita juga bisa mengetahui **tipe data dari sebuah variabel** dengan cara:\n",
        "\n",
        "`type(NAMA_VAR)`"
      ],
      "metadata": {
        "id": "pUN9iRD_01gK"
      }
    },
    {
      "cell_type": "code",
      "source": [
        "# Jalankan code dibawah ini\n",
        "\n",
        "int_1 = 1\n",
        "print(type(int_1))"
      ],
      "metadata": {
        "colab": {
          "base_uri": "https://localhost:8080/"
        },
        "id": "nVn1hzIh08n2",
        "outputId": "3c890e2e-205b-44c6-d292-c9730935aba7"
      },
      "execution_count": null,
      "outputs": [
        {
          "output_type": "stream",
          "name": "stdout",
          "text": [
            "<class 'int'>\n"
          ]
        }
      ]
    },
    {
      "cell_type": "code",
      "source": [
        "# Coba cek tipe data variabel int_2 dibawah\n",
        "\n",
        "int_2 = 44\n",
        "print(type(int_2))"
      ],
      "metadata": {
        "colab": {
          "base_uri": "https://localhost:8080/"
        },
        "id": "vWd9UFVF1Oqk",
        "outputId": "e8e83b03-82a2-4aed-aab5-17cba885aee3"
      },
      "execution_count": null,
      "outputs": [
        {
          "output_type": "stream",
          "name": "stdout",
          "text": [
            "<class 'int'>\n"
          ]
        }
      ]
    },
    {
      "cell_type": "code",
      "source": [
        "# Coba buatlah variabel untuk menampung angka 1500000\n",
        "# Kemudian cek tipe datanya\n",
        "\n",
        "number_1 = 1500000\n",
        "print(type(number_1))"
      ],
      "metadata": {
        "colab": {
          "base_uri": "https://localhost:8080/"
        },
        "id": "8OnPrh0g1Zai",
        "outputId": "2ccab38d-a778-413f-aba8-da9d40bffbb8"
      },
      "execution_count": null,
      "outputs": [
        {
          "output_type": "stream",
          "name": "stdout",
          "text": [
            "<class 'int'>\n"
          ]
        }
      ]
    },
    {
      "cell_type": "markdown",
      "source": [
        "**FLOAT**"
      ],
      "metadata": {
        "id": "GPJEcOG410LK"
      }
    },
    {
      "cell_type": "markdown",
      "source": [
        "Float adalah singkatan dari **floating point number**. Float mewakilkan bilangan rasional yang biasanya diakhiri dengan **angka desimal**, seperti 2.5, 3.14, 10.5 dsb.\n",
        "\n",
        "Semisal, kita akan mencoba melakukan print angka `3.14`.\n",
        "\n",
        "Untuk desimal di Python menggunakan titik `.`, bukan koma `,` sebagai pemisahnya."
      ],
      "metadata": {
        "id": "xleW4m1q11kF"
      }
    },
    {
      "cell_type": "code",
      "source": [
        "# Coba kita print angka 3,14\n",
        "\n",
        "print(3.14)"
      ],
      "metadata": {
        "colab": {
          "base_uri": "https://localhost:8080/"
        },
        "id": "w5MTJgKH2MSD",
        "outputId": "76360af9-c2f7-4a9f-d21b-e0faa8a221b6"
      },
      "execution_count": null,
      "outputs": [
        {
          "output_type": "stream",
          "name": "stdout",
          "text": [
            "3.14\n"
          ]
        }
      ]
    },
    {
      "cell_type": "markdown",
      "source": [
        "Jika anda kurang yakin bahwa bilangan tersebut memiliki tipe data float bisa anda cek dengan cara:\n",
        "\n",
        "`type(VALUE)`"
      ],
      "metadata": {
        "id": "eLdrz6f92T02"
      }
    },
    {
      "cell_type": "code",
      "source": [
        "# Coba jalankan code dibawah ini\n",
        "\n",
        "print(type(3.14))"
      ],
      "metadata": {
        "colab": {
          "base_uri": "https://localhost:8080/"
        },
        "id": "5QJqgoob2XWg",
        "outputId": "77b03a9d-9038-4262-e80a-ed20db571ec0"
      },
      "execution_count": null,
      "outputs": [
        {
          "output_type": "stream",
          "name": "stdout",
          "text": [
            "<class 'float'>\n"
          ]
        }
      ]
    },
    {
      "cell_type": "markdown",
      "source": [
        "Kita juga bisa mengetahui tipe data sebuah variabel dengan cara:\n",
        "\n",
        "`type(NAMA_VAR)`"
      ],
      "metadata": {
        "id": "sP0OzP_12dZH"
      }
    },
    {
      "cell_type": "code",
      "source": [
        "# Coba cek tipe data dari variabel phi dibawah ini\n",
        "\n",
        "phi = 3.14\n",
        "print(type(phi))"
      ],
      "metadata": {
        "colab": {
          "base_uri": "https://localhost:8080/"
        },
        "id": "0Ev7SsQC2gJL",
        "outputId": "176100f4-dcc0-4e46-def9-459011c495b7"
      },
      "execution_count": null,
      "outputs": [
        {
          "output_type": "stream",
          "name": "stdout",
          "text": [
            "<class 'float'>\n"
          ]
        }
      ]
    },
    {
      "cell_type": "code",
      "source": [
        "# Coba cek tipe data dari variabel float_1 dibawah\n",
        "\n",
        "float_1 = 9.9\n",
        "print(type(float_1))"
      ],
      "metadata": {
        "colab": {
          "base_uri": "https://localhost:8080/"
        },
        "id": "VhxhMg232puL",
        "outputId": "636c3be3-210b-4b1e-951f-154f3449c593"
      },
      "execution_count": null,
      "outputs": [
        {
          "output_type": "stream",
          "name": "stdout",
          "text": [
            "<class 'float'>\n"
          ]
        }
      ]
    },
    {
      "cell_type": "code",
      "source": [
        "# Coba buatlah variabel yang menampung angka 89.70\n",
        "# Kemudian cek tipe data variabel tersebut\n",
        "\n",
        "float_2 = 89.70\n",
        "print(type(float_2))"
      ],
      "metadata": {
        "colab": {
          "base_uri": "https://localhost:8080/"
        },
        "id": "jtGJfFVG27bE",
        "outputId": "cbcd09fb-b001-473f-e7a3-d2b9eea94d49"
      },
      "execution_count": null,
      "outputs": [
        {
          "output_type": "stream",
          "name": "stdout",
          "text": [
            "<class 'float'>\n"
          ]
        }
      ]
    },
    {
      "cell_type": "markdown",
      "source": [
        "**OPERASI MATEMATIKA PADA PYTHON**"
      ],
      "metadata": {
        "id": "Mu4Pr2m_3MBG"
      }
    },
    {
      "cell_type": "markdown",
      "source": [
        "Operator adalah simbol khusus yang mewakili perhitungan seperti penambahan dan pengurangan.\n",
        "\n",
        "![dasfs.JPG](data:image/jpeg;base64,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)"
      ],
      "metadata": {
        "id": "BIpJ6iLF3QS3"
      }
    },
    {
      "cell_type": "markdown",
      "source": [
        "**PERTAMBAHAN**"
      ],
      "metadata": {
        "id": "vu4n47Vz3bzX"
      }
    },
    {
      "cell_type": "markdown",
      "source": [
        "Operator tambah `(+)` akan menambahkan nilai di kedua sisi operator.\n",
        "\n",
        "Silahkan lakukan operasi pertambahan 1 **ditambah** 1."
      ],
      "metadata": {
        "id": "foZnUrcN3fzC"
      }
    },
    {
      "cell_type": "code",
      "source": [
        "print(1+1)"
      ],
      "metadata": {
        "colab": {
          "base_uri": "https://localhost:8080/"
        },
        "id": "fQjl1Po83lOS",
        "outputId": "bd569048-7792-462b-8961-a1b5e5415558"
      },
      "execution_count": null,
      "outputs": [
        {
          "output_type": "stream",
          "name": "stdout",
          "text": [
            "2\n"
          ]
        }
      ]
    },
    {
      "cell_type": "markdown",
      "source": [
        "Silahkan lakukan operasi pertambahan 23 **ditambah** 29."
      ],
      "metadata": {
        "id": "jdPNqI2i3s5q"
      }
    },
    {
      "cell_type": "code",
      "source": [
        "print(23+29)"
      ],
      "metadata": {
        "colab": {
          "base_uri": "https://localhost:8080/"
        },
        "id": "v5irAo-_3vJm",
        "outputId": "89e4bbdf-4e7e-433d-8c73-6101b609d4b9"
      },
      "execution_count": null,
      "outputs": [
        {
          "output_type": "stream",
          "name": "stdout",
          "text": [
            "52\n"
          ]
        }
      ]
    },
    {
      "cell_type": "markdown",
      "source": [
        "Kita juga bisa melakukan pertambahan dengan menggunakan variabel."
      ],
      "metadata": {
        "id": "LnpZmWe53y0C"
      }
    },
    {
      "cell_type": "code",
      "source": [
        "# Coba isi titik-titik dibawah ini dengan operator tambah\n",
        "\n",
        "num_1 = 4\n",
        "num_2 = 4\n",
        "print(num_1+num_2)"
      ],
      "metadata": {
        "colab": {
          "base_uri": "https://localhost:8080/"
        },
        "id": "6FLCC1EQ3zvC",
        "outputId": "bb69804e-63f9-47ed-af55-b3e8207c1992"
      },
      "execution_count": null,
      "outputs": [
        {
          "output_type": "stream",
          "name": "stdout",
          "text": [
            "8\n"
          ]
        }
      ]
    },
    {
      "cell_type": "code",
      "source": [
        "# Coba buatlah 2 variabel untuk menampung angka 5 dan 6\n",
        "# Untuk penamaan variabel bebas, tetapi memenuhi syarat \"good\" variable\n",
        "# Kemudian lakukan operasi tambah 5 + 6 dengan variabel yang telah dibuat\n",
        "\n",
        "angka_1 = 5\n",
        "angka_2 = 6\n",
        "print(angka_1+angka_2)"
      ],
      "metadata": {
        "colab": {
          "base_uri": "https://localhost:8080/"
        },
        "id": "3HxMYlXS4ENq",
        "outputId": "f7a224c8-ca8d-472c-88cc-ff4c7f7b1bfd"
      },
      "execution_count": null,
      "outputs": [
        {
          "output_type": "stream",
          "name": "stdout",
          "text": [
            "11\n"
          ]
        }
      ]
    },
    {
      "cell_type": "markdown",
      "source": [
        "**PENGURANGAN**"
      ],
      "metadata": {
        "id": "DorYcUMs4gGn"
      }
    },
    {
      "cell_type": "markdown",
      "source": [
        "Operasi kurang `(-)` akan mengurangi nilai sebelah kiri operator sebesar nilai sebelah kanan.\n",
        "\n",
        "Silahkan lakukan operasi pengurangan 2 **dikurangi** 1."
      ],
      "metadata": {
        "id": "HQP7DS804hse"
      }
    },
    {
      "cell_type": "code",
      "source": [
        "# Coba lengkapi kode dibawah ini\n",
        "\n",
        "print(2-1)"
      ],
      "metadata": {
        "colab": {
          "base_uri": "https://localhost:8080/"
        },
        "id": "U-rtzVjS4nMm",
        "outputId": "6776fe42-82dc-4be0-9dc5-4a4ad4280603"
      },
      "execution_count": null,
      "outputs": [
        {
          "output_type": "stream",
          "name": "stdout",
          "text": [
            "1\n"
          ]
        }
      ]
    },
    {
      "cell_type": "markdown",
      "source": [
        "Silahkan lakukan operasi pengurangan 10 **dikurangi** 3."
      ],
      "metadata": {
        "id": "Z6Hqrt2Y4vFS"
      }
    },
    {
      "cell_type": "code",
      "source": [
        "# Coba isi titik-titik dibawah ini dan keluarkan hasil pengurangannya\n",
        "\n",
        "print(10-3)"
      ],
      "metadata": {
        "colab": {
          "base_uri": "https://localhost:8080/"
        },
        "id": "xtCyFW674yQm",
        "outputId": "2578dc5e-46e9-4bcb-9237-cdb5aab2b524"
      },
      "execution_count": null,
      "outputs": [
        {
          "output_type": "stream",
          "name": "stdout",
          "text": [
            "7\n"
          ]
        }
      ]
    },
    {
      "cell_type": "markdown",
      "source": [
        "Kita juga bisa melakukan pengurangan dengan menggunakan variabel yang kita miliki atau buat sendiri."
      ],
      "metadata": {
        "id": "1FzujsDF48z3"
      }
    },
    {
      "cell_type": "code",
      "source": [
        "# Coba lengkapi kode dibawah ini dengan operator pengurangan\n",
        "\n",
        "sub_1 = 5\n",
        "sub_2 = 2\n",
        "print(sub_1-sub_2)"
      ],
      "metadata": {
        "colab": {
          "base_uri": "https://localhost:8080/"
        },
        "id": "H6oTvB3c49dy",
        "outputId": "800ef62c-4601-4ec6-fa06-a2025fe69314"
      },
      "execution_count": null,
      "outputs": [
        {
          "output_type": "stream",
          "name": "stdout",
          "text": [
            "3\n"
          ]
        }
      ]
    },
    {
      "cell_type": "code",
      "source": [
        "# Coba buatlah 2 variabel untuk menampung angka 18 dan 13\n",
        "# Untuk penamaan variabel bebas, tetapi memenuhi syarat \"good\" variable\n",
        "# Kemudian lakukan operasi pengurangan 18 - 13 dengan variabel yang telah dibuat\n",
        "\n",
        "num_1 = 18\n",
        "num_2 = 13\n",
        "print(num_1-num_2)"
      ],
      "metadata": {
        "colab": {
          "base_uri": "https://localhost:8080/"
        },
        "id": "wGPjEZPC5h6g",
        "outputId": "5f51db94-c0cf-4e25-b86c-273bb79a354f"
      },
      "execution_count": null,
      "outputs": [
        {
          "output_type": "stream",
          "name": "stdout",
          "text": [
            "5\n"
          ]
        }
      ]
    },
    {
      "cell_type": "markdown",
      "source": [
        "**PERKALIAN**"
      ],
      "metadata": {
        "id": "wYXLyi9F6Ojh"
      }
    },
    {
      "cell_type": "markdown",
      "source": [
        "Simbol kali `(*)` akan mengalikan nilai di kedua sisi operator\n",
        "\n",
        "Silahkan lakukan operasi perkalian 2 **dikali** 3."
      ],
      "metadata": {
        "id": "cq6XRBMN6lkZ"
      }
    },
    {
      "cell_type": "code",
      "source": [
        "# Coba lengkapi kode dibawah ini dengan operator perkalian\n",
        "\n",
        "print(2*3)"
      ],
      "metadata": {
        "colab": {
          "base_uri": "https://localhost:8080/"
        },
        "id": "xbAEOWLj6rxO",
        "outputId": "9bb3162a-c984-4fdb-80cb-159d6e622680"
      },
      "execution_count": null,
      "outputs": [
        {
          "output_type": "stream",
          "name": "stdout",
          "text": [
            "6\n"
          ]
        }
      ]
    },
    {
      "cell_type": "markdown",
      "source": [
        "Silahkan lakukan operasi perkalian 10 **dikali** 20."
      ],
      "metadata": {
        "id": "UKexJD5e6zG7"
      }
    },
    {
      "cell_type": "code",
      "source": [
        "# Coba isi titik-titik dibawah ini dan keluarkan hasil perkaliannya\n",
        "\n",
        "print(10*20)"
      ],
      "metadata": {
        "colab": {
          "base_uri": "https://localhost:8080/"
        },
        "id": "24C2vvKG63Wv",
        "outputId": "c759d889-400a-4707-8e28-f7cebf8f120c"
      },
      "execution_count": null,
      "outputs": [
        {
          "output_type": "stream",
          "name": "stdout",
          "text": [
            "200\n"
          ]
        }
      ]
    },
    {
      "cell_type": "markdown",
      "source": [
        "Kita juga bisa melakukan perkalian dengan menggunakan variabel yang kita miliki atau buat sendiri."
      ],
      "metadata": {
        "id": "739L0U487Jmm"
      }
    },
    {
      "cell_type": "code",
      "source": [
        "# Coba isi titik-titik dibawah ini dengan operator kali\n",
        "\n",
        "mark_1 = 7\n",
        "mark_2 = 5\n",
        "print(mark_1*mark_2)"
      ],
      "metadata": {
        "colab": {
          "base_uri": "https://localhost:8080/"
        },
        "id": "f48AyMi07NFo",
        "outputId": "7d1b3dd9-eed8-42b0-e836-bd0124339bd8"
      },
      "execution_count": null,
      "outputs": [
        {
          "output_type": "stream",
          "name": "stdout",
          "text": [
            "35\n"
          ]
        }
      ]
    },
    {
      "cell_type": "code",
      "source": [
        "# Coba buatlah 2 variabel untuk menampung angka 10 dan 8\n",
        "# Untuk penamaan variabel bebas, tetapi memenuhi syarat \"good\" variable\n",
        "# Kemudian lakukan operasi perkalian 10 * 8 dengan variabel yang telah dibuat\n",
        "\n",
        "multi_1 = 10\n",
        "multi_2 = 8\n",
        "print(multi_1*multi_2)"
      ],
      "metadata": {
        "colab": {
          "base_uri": "https://localhost:8080/"
        },
        "id": "0E2yzE5B7YKf",
        "outputId": "01f591fc-6469-45e1-b139-52aa8de1126e"
      },
      "execution_count": null,
      "outputs": [
        {
          "output_type": "stream",
          "name": "stdout",
          "text": [
            "80\n"
          ]
        }
      ]
    },
    {
      "cell_type": "markdown",
      "source": [
        "**PEMBAGIAN**"
      ],
      "metadata": {
        "id": "O8XB9YvepMK1"
      }
    },
    {
      "cell_type": "markdown",
      "source": [
        "Operator bagi `(/)` akan membagi angka disebelah kiri dengan angka sebelah kanan operator.\n",
        "\n",
        "Silahkan lakukan operasi pembagian 4 **dibagi** 2"
      ],
      "metadata": {
        "id": "6qdC3TJFpP8M"
      }
    },
    {
      "cell_type": "code",
      "source": [
        "# Coba lengkapi kode dibawah ini dengan operator pembagian\n",
        "\n",
        "print(4/2)"
      ],
      "metadata": {
        "colab": {
          "base_uri": "https://localhost:8080/"
        },
        "id": "wJMrxYEVpVQY",
        "outputId": "6d806730-739f-49d4-bb08-58cd0c55cab8"
      },
      "execution_count": null,
      "outputs": [
        {
          "output_type": "stream",
          "name": "stdout",
          "text": [
            "2.0\n"
          ]
        }
      ]
    },
    {
      "cell_type": "markdown",
      "source": [
        "Silahkan lakukan operasi pembagian 25 **dibagi** 5"
      ],
      "metadata": {
        "id": "edUtdX-_pgPQ"
      }
    },
    {
      "cell_type": "code",
      "source": [
        "# Coba keluarkan hasil pembagiannya\n",
        "\n",
        "print(25/5)"
      ],
      "metadata": {
        "colab": {
          "base_uri": "https://localhost:8080/"
        },
        "id": "aJ2IkYdhphy0",
        "outputId": "40e63e7c-05ba-45b4-eb1c-72a5a7510e49"
      },
      "execution_count": null,
      "outputs": [
        {
          "output_type": "stream",
          "name": "stdout",
          "text": [
            "5.0\n"
          ]
        }
      ]
    },
    {
      "cell_type": "markdown",
      "source": [
        "Kita juga bisa melakukan pembagian dengan menggunakan variabel yang kita miliki atau buat sendiri."
      ],
      "metadata": {
        "id": "F7sxyYBFpoIT"
      }
    },
    {
      "cell_type": "code",
      "source": [
        "# Coba isi titik-titik dibawah ini dengan operator bagi\n",
        "\n",
        "div_1 = 81\n",
        "div_2 = 9\n",
        "print(div_1/div_2)"
      ],
      "metadata": {
        "id": "HA0o8HNgpo-P",
        "colab": {
          "base_uri": "https://localhost:8080/"
        },
        "outputId": "42342e21-cacb-43c6-b78d-53494d6927f7"
      },
      "execution_count": 3,
      "outputs": [
        {
          "output_type": "stream",
          "name": "stdout",
          "text": [
            "9.0\n"
          ]
        }
      ]
    },
    {
      "cell_type": "code",
      "source": [
        "# Coba buatlah 2 variabel untuk menampung angka 27 dan 3\n",
        "# Untuk penamaan variabel bebas, tetapi memenuhi syarat \"good\" variable\n",
        "# Kemudian lakukan operasi pembagian 27 / 3 dengan variabel yang telah dibuat\n",
        "\n",
        "bagi_1 = 27\n",
        "bagi_2 = 3\n",
        "print(bagi_1/bagi_2)"
      ],
      "metadata": {
        "colab": {
          "base_uri": "https://localhost:8080/"
        },
        "id": "acs_gfsxsFbx",
        "outputId": "cc974060-bed3-45ab-d958-5d5c34aed4cc"
      },
      "execution_count": 4,
      "outputs": [
        {
          "output_type": "stream",
          "name": "stdout",
          "text": [
            "9.0\n"
          ]
        }
      ]
    },
    {
      "cell_type": "markdown",
      "source": [
        "**MINI EXERCISE**"
      ],
      "metadata": {
        "id": "6eo07fIYsn5R"
      }
    },
    {
      "cell_type": "markdown",
      "source": [
        "Sebagai seorang Analyst, anda ingin mengetahui rata-rata penjualan toko selama 3 bulan. Datanya sebagai berikut:\n",
        "\n",
        "![asgr.JPG](data:image/jpeg;base64,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)"
      ],
      "metadata": {
        "id": "EuI8Ov1Nsp_R"
      }
    },
    {
      "cell_type": "markdown",
      "source": [
        "Berapakah rata-rata pendapatan penjualan toko anda selama tiga bulan?"
      ],
      "metadata": {
        "id": "SN2w2wDPs0oL"
      }
    },
    {
      "cell_type": "code",
      "source": [
        "# Statement variabel yaitu bulan 1, bulan 2, bulan 3 dan banyaknya bulan yang akan dihitung rata-ratanya\n",
        "bulan_1 = 2578500\n",
        "bulan_2 = 2867400\n",
        "bulan_3 = 3100600\n",
        "banyak_bulan = 3\n",
        "\n",
        "# Menghitung rata - rata penjualan\n",
        "rata_rata = (bulan_1+bulan_2+bulan_3)/banyak_bulan\n",
        "\n",
        "print(\"Rata - rata pendapat penjualan toko adalah\", rata_rata)"
      ],
      "metadata": {
        "colab": {
          "base_uri": "https://localhost:8080/"
        },
        "id": "evdtJfdns3iZ",
        "outputId": "e2328230-eec5-4a3e-9e7d-80431358cbcf"
      },
      "execution_count": 6,
      "outputs": [
        {
          "output_type": "stream",
          "name": "stdout",
          "text": [
            "Rata - rata pendapat penjualan toko adalah 2848833.3333333335\n"
          ]
        }
      ]
    },
    {
      "cell_type": "markdown",
      "source": [
        "**FLOOR DIVISION**"
      ],
      "metadata": {
        "id": "H39WHxpdttrS"
      }
    },
    {
      "cell_type": "markdown",
      "source": [
        "Floor division berarti **membagi dan membulatkan ke bawah** ke bilangan bulat terdekat.\n",
        "\n",
        "Jika pembagian biasa, contohnya `7 / 2 = 3.5` maka floor devision akan membulatkan ke bawah ke bilangan bulat terdekat, berarti `7 // 2 = 3`."
      ],
      "metadata": {
        "id": "IpUHkvXktviE"
      }
    },
    {
      "cell_type": "markdown",
      "source": [
        "Silahkan lakukan operasi 7 **floor division** 2."
      ],
      "metadata": {
        "id": "8HOh5IvBt5Tq"
      }
    },
    {
      "cell_type": "code",
      "source": [
        "# Coba lengkapi kode dibawah ini dengan operator floor division\n",
        "\n",
        "print(7//2)"
      ],
      "metadata": {
        "colab": {
          "base_uri": "https://localhost:8080/"
        },
        "id": "WNh7lWoht9cF",
        "outputId": "459eb5ce-58fc-4eab-eebc-1e9641e03bb5"
      },
      "execution_count": 7,
      "outputs": [
        {
          "output_type": "stream",
          "name": "stdout",
          "text": [
            "3\n"
          ]
        }
      ]
    },
    {
      "cell_type": "markdown",
      "source": [
        "Silahkan lakukan operasi 8 **floor division** 3."
      ],
      "metadata": {
        "id": "2JDADV2iuikJ"
      }
    },
    {
      "cell_type": "code",
      "source": [
        "# Coba keluarkan hasil pembagiannya\n",
        "\n",
        "print(8//3)"
      ],
      "metadata": {
        "colab": {
          "base_uri": "https://localhost:8080/"
        },
        "id": "UzhcWzcGupdq",
        "outputId": "c8517a96-1295-4d9d-b1a9-4497eb8b571d"
      },
      "execution_count": 8,
      "outputs": [
        {
          "output_type": "stream",
          "name": "stdout",
          "text": [
            "2\n"
          ]
        }
      ]
    },
    {
      "cell_type": "markdown",
      "source": [
        "Kita juga bisa melakukan operasi floor devision dengan menggunakan variabel yang kita miliki atau buat sendiri."
      ],
      "metadata": {
        "id": "nS8Po6Oiuzk9"
      }
    },
    {
      "cell_type": "code",
      "source": [
        "# Lengkapi code dibawah ini dengan operator floor division\n",
        "\n",
        "fDivision_1 = 33\n",
        "fDivision_2 = 9\n",
        "print(fDivision_1//fDivision_2)"
      ],
      "metadata": {
        "colab": {
          "base_uri": "https://localhost:8080/"
        },
        "id": "uAebYptCu0no",
        "outputId": "23187f00-ea34-418e-c938-9ba932dd06a6"
      },
      "execution_count": 9,
      "outputs": [
        {
          "output_type": "stream",
          "name": "stdout",
          "text": [
            "3\n"
          ]
        }
      ]
    },
    {
      "cell_type": "code",
      "source": [
        "# Buatlah 2 variabel untuk menampung angka 15 dan 4\n",
        "# Untuk penamaan variabel bebas, tetapi memenuhi syarat \"good\" variable\n",
        "# Lakukan operasi 15 floor division 4 dengan variabel yang sudah dibuat\n",
        "\n",
        "floor_div_1 = 15\n",
        "floor_div_2 = 4\n",
        "print(floor_div_1//floor_div_2)"
      ],
      "metadata": {
        "colab": {
          "base_uri": "https://localhost:8080/"
        },
        "id": "6qfYSTudvOcN",
        "outputId": "50e7c6b4-790c-4c1c-8085-d1e833deb604"
      },
      "execution_count": 10,
      "outputs": [
        {
          "output_type": "stream",
          "name": "stdout",
          "text": [
            "3\n"
          ]
        }
      ]
    },
    {
      "cell_type": "markdown",
      "source": [
        "**MODULO (SISA BAGI HASIL)**"
      ],
      "metadata": {
        "id": "_tIyiOE_ve13"
      }
    },
    {
      "cell_type": "markdown",
      "source": [
        "Mungkin anda berpikir kalau simbol `%` artinya adalah persen. Namun pada Python ini disebut **Modulo**.\n",
        "\n",
        "Misalnya, anda memiliki 5 apel dan akan dibagikan ke dua teman anda. Jika setiap orang mendapatkan apel utuh dalam jumlah yang sama, berapa sisa apel anda?"
      ],
      "metadata": {
        "id": "NKbuHI-DviBB"
      }
    },
    {
      "cell_type": "markdown",
      "source": [
        "Silahkan lakukan operasi 5 **modulo** 2."
      ],
      "metadata": {
        "id": "DTOTp62bvoUF"
      }
    },
    {
      "cell_type": "code",
      "source": [
        "# Coba lengkapi titik - titik dibawah ini dengan operasi modulo\n",
        "\n",
        "print(5%2)"
      ],
      "metadata": {
        "colab": {
          "base_uri": "https://localhost:8080/"
        },
        "id": "eRKWel_0vrGS",
        "outputId": "7e820576-d832-4218-9f64-567a15181aea"
      },
      "execution_count": 11,
      "outputs": [
        {
          "output_type": "stream",
          "name": "stdout",
          "text": [
            "1\n"
          ]
        }
      ]
    },
    {
      "cell_type": "markdown",
      "source": [
        "Silahkan lakukan operasi 17 modulo 3."
      ],
      "metadata": {
        "id": "RG99z5Nrv0SB"
      }
    },
    {
      "cell_type": "code",
      "source": [
        "# Coba keluarkan hasil operasi modulo dibawah\n",
        "\n",
        "print(17%3)"
      ],
      "metadata": {
        "colab": {
          "base_uri": "https://localhost:8080/"
        },
        "id": "e_JeO4alv2ON",
        "outputId": "1a9024c8-329f-4703-8800-a5250c77f6b4"
      },
      "execution_count": 12,
      "outputs": [
        {
          "output_type": "stream",
          "name": "stdout",
          "text": [
            "2\n"
          ]
        }
      ]
    },
    {
      "cell_type": "markdown",
      "source": [
        "Kita juga bisa melakukan operasi modulo dengan variabel yang dimiliki atau anda buat sendiri."
      ],
      "metadata": {
        "id": "vRJR-4czv8Yp"
      }
    },
    {
      "cell_type": "code",
      "source": [
        "# Coba lengkapi titik-titik dibawah ini dengan operasi modulo\n",
        "\n",
        "mod_1 = 44\n",
        "mod_2 = 7\n",
        "print(mod_1%mod_2)"
      ],
      "metadata": {
        "colab": {
          "base_uri": "https://localhost:8080/"
        },
        "id": "KZps66yBv9-t",
        "outputId": "dcf14db6-dff1-475e-beda-67624aee6f45"
      },
      "execution_count": 13,
      "outputs": [
        {
          "output_type": "stream",
          "name": "stdout",
          "text": [
            "2\n"
          ]
        }
      ]
    },
    {
      "cell_type": "code",
      "source": [
        "# Coba buatlah 2 variabel untuk menampung angka 64 dan 6\n",
        "# Untuk penamaan variabel bebas, tetapi memenuhi syarat \"good\" variable\n",
        "# Lakukan operasi 64 modulo 6 dengan variabel yang sudah dibuat\n",
        "\n",
        "modulo_1 = 64\n",
        "modulo_2 = 6\n",
        "print(modulo_1%modulo_2)"
      ],
      "metadata": {
        "colab": {
          "base_uri": "https://localhost:8080/"
        },
        "id": "BoKyooqVwIfN",
        "outputId": "fba4418f-385d-45fa-b39f-562cad2a289c"
      },
      "execution_count": 14,
      "outputs": [
        {
          "output_type": "stream",
          "name": "stdout",
          "text": [
            "4\n"
          ]
        }
      ]
    },
    {
      "cell_type": "markdown",
      "source": [
        "**PANGKAT**"
      ],
      "metadata": {
        "id": "b1ISqGwgwVpV"
      }
    },
    {
      "cell_type": "markdown",
      "source": [
        "Operasi pangkat pada Python dilambangkan dengan `**`."
      ],
      "metadata": {
        "id": "Ey8jEH0JwXT5"
      }
    },
    {
      "cell_type": "markdown",
      "source": [
        "Silahkan lakukan operasi 3 **pangkat** 2."
      ],
      "metadata": {
        "id": "zPu_zwV3wZ9m"
      }
    },
    {
      "cell_type": "code",
      "source": [
        "# Coba lengkapi titik - titik dibawah ini dengan operasi pangkat\n",
        "\n",
        "print(3**2)"
      ],
      "metadata": {
        "colab": {
          "base_uri": "https://localhost:8080/"
        },
        "id": "lqtP1tZlwdzj",
        "outputId": "5d9017d2-05d0-4b45-b4d5-7dd3c34592ba"
      },
      "execution_count": 15,
      "outputs": [
        {
          "output_type": "stream",
          "name": "stdout",
          "text": [
            "9\n"
          ]
        }
      ]
    },
    {
      "cell_type": "markdown",
      "source": [
        "Silahkan lakukan operasi 4 **pangkat** 4"
      ],
      "metadata": {
        "id": "sx6TmXerxMdE"
      }
    },
    {
      "cell_type": "code",
      "source": [
        "# Coba keluarkan hasil operasi pangkat\n",
        "\n",
        "print(4**4)"
      ],
      "metadata": {
        "colab": {
          "base_uri": "https://localhost:8080/"
        },
        "id": "x22guVXSxPF_",
        "outputId": "e0f1de05-6f88-44fe-d80f-55c3dff2ed8e"
      },
      "execution_count": 16,
      "outputs": [
        {
          "output_type": "stream",
          "name": "stdout",
          "text": [
            "256\n"
          ]
        }
      ]
    },
    {
      "cell_type": "markdown",
      "source": [
        "Kita juga bisa melakukan operasi pangkat dengan variabel yang kita miliki atau buat sendiri."
      ],
      "metadata": {
        "id": "VKwMi2RCxU9d"
      }
    },
    {
      "cell_type": "code",
      "source": [
        "# Coba lengkapi titik-titik dibawah ini dengan operasi pangkat\n",
        "\n",
        "mark_1 = 2\n",
        "mark_2 = 9\n",
        "print(mark_1**mark_2)"
      ],
      "metadata": {
        "colab": {
          "base_uri": "https://localhost:8080/"
        },
        "id": "xCUBwDKIxXDV",
        "outputId": "4d12e99c-085b-4803-ace1-f360fc0bb276"
      },
      "execution_count": 17,
      "outputs": [
        {
          "output_type": "stream",
          "name": "stdout",
          "text": [
            "512\n"
          ]
        }
      ]
    },
    {
      "cell_type": "code",
      "source": [
        "# Coba buatlah 2 variabel untuk menampung angka 9 dan 4\n",
        "# Untuk penamaan variabel bebas, tetapi memenuhi syarat \"good\" variable\n",
        "# Kemudian lakukan operasi 9 pangkat 4 dengan variabel yang sudah dibuat\n",
        "\n",
        "pangkat_1 = 9\n",
        "pangkat_2 = 4\n",
        "print(pangkat_1**pangkat_2)"
      ],
      "metadata": {
        "colab": {
          "base_uri": "https://localhost:8080/"
        },
        "id": "UaV-W62XxyVr",
        "outputId": "5d070d08-863b-4ce4-ecbc-45324208b094"
      },
      "execution_count": 18,
      "outputs": [
        {
          "output_type": "stream",
          "name": "stdout",
          "text": [
            "6561\n"
          ]
        }
      ]
    },
    {
      "cell_type": "markdown",
      "source": [
        "**MINI EXERCISE**"
      ],
      "metadata": {
        "id": "y1C6nK1AxxDj"
      }
    },
    {
      "cell_type": "markdown",
      "source": [
        "Doni membeli 2 kotak Martabak Manis. Didalam 1 kotak, Martabak Manis dipotong menjadi 10 bagian. Doni kemudian menyantapnya bersama 6 orang temannya. Jika setiap orang mendapat jumlah yang sama. Berapakah sisa Martabak Manis di dalam kotak?"
      ],
      "metadata": {
        "id": "z_Y97Hj1yH75"
      }
    },
    {
      "cell_type": "code",
      "source": [
        "# Statement variabel yang di-declare adalah isi satu kotak martabak, total isi martabak,\n",
        "# total orang yang memakan martabak\n",
        "satu_kotak_martabak = 10\n",
        "total_martabak = 10*2\n",
        "total_yang_memakan = 7\n",
        "\n",
        "# Sisa martabak dihitung dari total isi martabak di modulo dengan total orang yang\n",
        "# memakan martabak\n",
        "sisa_martabak = total_martabak%total_yang_memakan\n",
        "\n",
        "print(sisa_martabak)"
      ],
      "metadata": {
        "colab": {
          "base_uri": "https://localhost:8080/"
        },
        "id": "0SPChXD6yJCJ",
        "outputId": "7bff4df6-494f-4198-dca4-c34e686e69b5"
      },
      "execution_count": 20,
      "outputs": [
        {
          "output_type": "stream",
          "name": "stdout",
          "text": [
            "6\n"
          ]
        }
      ]
    },
    {
      "cell_type": "markdown",
      "source": [
        "**EXERCISE**"
      ],
      "metadata": {
        "id": "bgpDpyunz_BA"
      }
    },
    {
      "cell_type": "markdown",
      "source": [
        "1. Pak Hartono agak kesal karena harga BBM naik dari Rp 7650 per liter menjadi Rp 10000 per liter. Jika sebelumnya beliau membeli Rp 20000 sudah full tank, berapa liter yang harus dibayar Pak Hartono jika mengisi full tank dengan harga yang baru?"
      ],
      "metadata": {
        "id": "jLv3AY0T0Ac5"
      }
    },
    {
      "cell_type": "code",
      "source": [
        "# Declare variabel yang berisi harga BBM lama, harga BBM baru dan harga fulltank dengan harga BBM lama\n",
        "harga_bbm_lama = 7650\n",
        "harga_bbm_baru = 10000\n",
        "harga_fulltank_lama = 20000\n",
        "\n",
        "# Hitung kapasitas tanki untuk menghitung harga fulltank dengan harga BBM baru\n",
        "kapasitas = harga_fulltank_lama/harga_bbm_lama\n",
        "\n",
        "# Hitung harga fulltank dengan harga BBM baru\n",
        "harga_fulltank_baru = harga_bbm_baru*kapasitas\n",
        "\n",
        "print(harga_fulltank_baru)"
      ],
      "metadata": {
        "colab": {
          "base_uri": "https://localhost:8080/"
        },
        "id": "TlrP5nVo0JyR",
        "outputId": "69b35267-c294-4a2d-df36-1a275f508d69"
      },
      "execution_count": 22,
      "outputs": [
        {
          "output_type": "stream",
          "name": "stdout",
          "text": [
            "26143.7908496732\n"
          ]
        }
      ]
    },
    {
      "cell_type": "markdown",
      "source": [
        "2. Putra bekerja di sebuah perusahaan swasta. Beliau mendapatkan gaji tahunan sebesar Rp 160 juta dan dibayarkan setiap dua minggu. Jika dalam satu tahun gaji tersebut dibayarkan sebanyak 26 kali, berapakah gaji yang di dapatkan Putra selama dua minggu?"
      ],
      "metadata": {
        "id": "b64eBH8L1X6o"
      }
    },
    {
      "cell_type": "code",
      "source": [
        "# Declare variabel yaitu gaji tahunan dan berapa kali gaji tersebut dibayarkan dalam setahun\n",
        "gaji_tahunan = 160_000_000\n",
        "jumlah_dibayarkan = 26\n",
        "\n",
        "# Hitung gaji yang diterima setiap 2 minggu\n",
        "gaji_dua_minggu = gaji_tahunan/jumlah_dibayarkan\n",
        "\n",
        "print(gaji_dua_minggu)"
      ],
      "metadata": {
        "colab": {
          "base_uri": "https://localhost:8080/"
        },
        "id": "HVN7Qs8X1a0Q",
        "outputId": "1168d70c-d849-43ce-c5f9-2b0f90f7bfd3"
      },
      "execution_count": 23,
      "outputs": [
        {
          "output_type": "stream",
          "name": "stdout",
          "text": [
            "6153846.153846154\n"
          ]
        }
      ]
    }
  ]
}