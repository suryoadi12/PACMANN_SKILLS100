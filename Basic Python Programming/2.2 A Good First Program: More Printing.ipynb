{
  "nbformat": 4,
  "nbformat_minor": 0,
  "metadata": {
    "colab": {
      "provenance": [],
      "authorship_tag": "ABX9TyPLBRfYeht76Z4/myi6JDkd",
      "include_colab_link": true
    },
    "kernelspec": {
      "name": "python3",
      "display_name": "Python 3"
    },
    "language_info": {
      "name": "python"
    }
  },
  "cells": [
    {
      "cell_type": "markdown",
      "metadata": {
        "id": "view-in-github",
        "colab_type": "text"
      },
      "source": [
        "<a href=\"https://colab.research.google.com/github/suryoadi12/PACMANN_SKILLS100/blob/main/Basic%20Python%20Programming/2.2%20A%20Good%20First%20Program%3A%20More%20Printing.ipynb\" target=\"_parent\"><img src=\"https://colab.research.google.com/assets/colab-badge.svg\" alt=\"Open In Colab\"/></a>"
      ]
    },
    {
      "cell_type": "markdown",
      "source": [
        "# **Pertemuan #1-3 - More Printing!**"
      ],
      "metadata": {
        "id": "cpqg_MbA7Uu6"
      }
    },
    {
      "cell_type": "markdown",
      "source": [
        "**MORE PRINTING DETAILS**"
      ],
      "metadata": {
        "id": "5m6gjS8U7apC"
      }
    },
    {
      "cell_type": "markdown",
      "source": [
        "Setelah sebelumnya kita telah belajar mengenai variabel, maka sekarang kita akan belajar bagaimana caranya menampilkan isi dari variabel yang telah kita buat sebelumnya."
      ],
      "metadata": {
        "id": "oggR5eCy7lXy"
      }
    },
    {
      "cell_type": "markdown",
      "source": [
        "Misalkan kita telah membuat sebuah variabel yang menyimpan nama lengkap\n",
        "dan ingin menampilkan isinya."
      ],
      "metadata": {
        "id": "C-ywm-Wz7pfH"
      }
    },
    {
      "cell_type": "code",
      "source": [
        "nama_lengkap = \"Raditya Dika\"\n",
        "\n",
        "print(nama_lengkap)"
      ],
      "metadata": {
        "id": "5UXeAzOt7rsa"
      },
      "execution_count": null,
      "outputs": []
    },
    {
      "cell_type": "code",
      "source": [
        "# Misalkan kita telah membuat sebuah variabel dan ingin menampilkan isinya\n",
        "\n",
        "text = \"Saya sedang belajar bahasa pemrograman python\"\n",
        "print(text)"
      ],
      "metadata": {
        "id": "cXR4i25V7wWa"
      },
      "execution_count": null,
      "outputs": []
    },
    {
      "cell_type": "markdown",
      "source": [
        "Apabila kita menjalankan kedua code di atas, maka akan menampilkan isi dari variabel yang telah kita buat. Sekarang ayo coba latihan! Coba tampilkan isi dari variabel di bawah ini menggunakan perintah printing variabel!\n",
        "\n",
        "`teks = \"Saya sedang belajar printing!\"`"
      ],
      "metadata": {
        "id": "ezwK1din71BG"
      }
    },
    {
      "cell_type": "code",
      "source": [
        "teks = \"Saya sedang belajar printing\"\n",
        "print(teks)"
      ],
      "metadata": {
        "colab": {
          "base_uri": "https://localhost:8080/"
        },
        "id": "hFWaG3jB7_OD",
        "outputId": "c91067d5-69bc-4790-a2ed-cff858533ed4"
      },
      "execution_count": 1,
      "outputs": [
        {
          "output_type": "stream",
          "name": "stdout",
          "text": [
            "Saya sedang belajar printing\n"
          ]
        }
      ]
    },
    {
      "cell_type": "markdown",
      "source": [
        "**EXERCISE**"
      ],
      "metadata": {
        "id": "VCVwYLp18KnX"
      }
    },
    {
      "cell_type": "markdown",
      "source": [
        "Buatlah sebuah variabel yang berisi tempat lahir Anda, kemudian tampilkan isinya!"
      ],
      "metadata": {
        "id": "RJNW55of8MwY"
      }
    },
    {
      "cell_type": "code",
      "source": [
        "tempat_lahir = \"Madiun\"\n",
        "print(tempat_lahir)"
      ],
      "metadata": {
        "colab": {
          "base_uri": "https://localhost:8080/"
        },
        "id": "_hVZsiak8PTI",
        "outputId": "54f9048b-9d0f-4bfc-a5af-2a939231040d"
      },
      "execution_count": 3,
      "outputs": [
        {
          "output_type": "stream",
          "name": "stdout",
          "text": [
            "Madiun\n"
          ]
        }
      ]
    },
    {
      "cell_type": "markdown",
      "source": [
        "**PRINTING MENGGUNAKAN PEMFORMATAN (FORMATTING)**"
      ],
      "metadata": {
        "id": "CwmQsnZW8XHC"
      }
    },
    {
      "cell_type": "markdown",
      "source": [
        "Di dalam bahasa pemrograman Python terdapat metode printing menggunakan pemformatan (formatting).\n",
        "\n",
        "Ada dua cara atau style formatting di Python:\n",
        "\n",
        "\n",
        "*   style lama (menggunakan tanda persen %)\n",
        "*   style baru (menggunakan metode format())\n",
        "\n"
      ],
      "metadata": {
        "id": "2zxcwP4L8cim"
      }
    },
    {
      "cell_type": "markdown",
      "source": [
        "**PRINTING MENGGUNAKAN %-FORMATTING**"
      ],
      "metadata": {
        "id": "I1VJZJLx8mp6"
      }
    },
    {
      "cell_type": "markdown",
      "source": [
        "Metode printing ini merupakan style lama yang digunakan dalam pemformatan (formatting).\n",
        "\n",
        "Printing menggunakan metode ini terbagi atas 2, yakni:\n",
        "\n",
        "\n",
        "*   %s : digunakan untuk melakukan print pada teks.\n",
        "*   %d : digunakan untuk melakukan print pada angka.\n",
        "\n"
      ],
      "metadata": {
        "id": "sau2yLu38t_8"
      }
    },
    {
      "cell_type": "code",
      "source": [
        "#Misalkan kita ingin melakukan print pada beberapa nama\n",
        "\n",
        "nama1 = \"Rima\"\n",
        "nama2 = \"Budi\"\n",
        "\n",
        "print(\"Hello, %s\" % nama1)\n",
        "print(\"Hello, %s\" % nama2)"
      ],
      "metadata": {
        "colab": {
          "base_uri": "https://localhost:8080/"
        },
        "id": "wxqtlhpM84r-",
        "outputId": "7a72d461-0b6f-40a5-81eb-e4ecdd05a23d"
      },
      "execution_count": 4,
      "outputs": [
        {
          "output_type": "stream",
          "name": "stdout",
          "text": [
            "Hello, Rima\n",
            "Hello, Budi\n"
          ]
        }
      ]
    },
    {
      "cell_type": "code",
      "source": [
        "#Misalkan kita ingin melakukan print pada beberapa angka\n",
        "\n",
        "angka1 = 21\n",
        "angka2 = 20\n",
        "print(\"Inilah adalah angka %d\" % angka1)\n",
        "print(\"Inilah adalah angka %d\" % angka2)"
      ],
      "metadata": {
        "colab": {
          "base_uri": "https://localhost:8080/"
        },
        "id": "KSHxC0Gf87H1",
        "outputId": "07ea7979-6b4c-4f33-d00f-f848d937c5bd"
      },
      "execution_count": 5,
      "outputs": [
        {
          "output_type": "stream",
          "name": "stdout",
          "text": [
            "Inilah adalah angka 21\n",
            "Inilah adalah angka 20\n"
          ]
        }
      ]
    },
    {
      "cell_type": "markdown",
      "source": [
        "**EXERCISE**"
      ],
      "metadata": {
        "id": "ifHBdJtK8-Te"
      }
    },
    {
      "cell_type": "markdown",
      "source": [
        "Apakah output yang akan dihasilkan dari potongan code di bawah ini?\n",
        "\n",
        "\n",
        "\n",
        "*   nama = \"Budi\"\n",
        "\n",
        "*   umur = 22\n",
        "*   print(\"Halo, saya %s. Saya berumur %s tahun.\" % (nama, umur))"
      ],
      "metadata": {
        "id": "05WnU2NO9EoX"
      }
    },
    {
      "cell_type": "code",
      "source": [
        "nama = \"Budi\"\n",
        "umur = 22\n",
        "\n",
        "print(\"Halo, saya %s. Saya berumur %s tahun.\" % (nama, umur))"
      ],
      "metadata": {
        "colab": {
          "base_uri": "https://localhost:8080/"
        },
        "id": "FTfHfGD99Mi-",
        "outputId": "f06d864d-e3a2-48e9-8131-26d235327b22"
      },
      "execution_count": 6,
      "outputs": [
        {
          "output_type": "stream",
          "name": "stdout",
          "text": [
            "Halo, saya Budi. Saya berumur 22 tahun.\n"
          ]
        }
      ]
    },
    {
      "cell_type": "markdown",
      "source": [
        "**PRINTING MENGGUNAKAN F-STRING**"
      ],
      "metadata": {
        "id": "TkcQesF39Xde"
      }
    },
    {
      "cell_type": "markdown",
      "source": [
        "\n",
        "\n",
        "*   Metode printing ini merupakan style baru yang digunakan dalam pemformatan.\n",
        "\n",
        "*   Metode ini memungkinkan kita untuk menyisipkan nilai suatu variabel ke dalam string.\n",
        "\n",
        "*   Hal ini lebih efisien dilakukan daripada kita menggabungkan string menggunakan tanda koma atau tanda tambah (concatenation).\n",
        "*   Komponen yang dibutuhkan untuk menggunakan f-string adalah `f` dan curly bracket `{}`\n",
        "\n",
        "\n",
        "*   Sehingga, untuk menggunakan f-string cara nya adalah: `print(f\"ini adalah contohnya {NAMA_VAR}\")`"
      ],
      "metadata": {
        "id": "DDeYzBC39Z_i"
      }
    },
    {
      "cell_type": "code",
      "source": [
        "# Contoh\n",
        "nama = \"Budi\"\n",
        "umur = 22\n",
        "\n",
        "# Versi lama\n",
        "print(\"Halo, saya %s. Saya berumur %s tahun.\" % (nama, umur))\n",
        "\n",
        "# Versi baru\n",
        "print(f\"Halo, saya {nama}. Saya berumur {umur} tahun.\")"
      ],
      "metadata": {
        "colab": {
          "base_uri": "https://localhost:8080/"
        },
        "id": "d4IKwBnA92xG",
        "outputId": "19e0044d-dfa9-4678-f230-925d3dc3bfaf"
      },
      "execution_count": 7,
      "outputs": [
        {
          "output_type": "stream",
          "name": "stdout",
          "text": [
            "Halo, saya Budi. Saya berumur 22 tahun.\n",
            "Halo, saya Budi. Saya berumur 22 tahun.\n"
          ]
        }
      ]
    },
    {
      "cell_type": "markdown",
      "source": [
        "**EXERCISE**"
      ],
      "metadata": {
        "id": "DNmVgOCd99oD"
      }
    },
    {
      "cell_type": "markdown",
      "source": [
        "Kita berbelanja bahan makanan di supermarket. Berikut merupakan harga bahan makanan yang dibeli:\n",
        "\n",
        "\n",
        "\n",
        "*   Ayam adalah 15000\n",
        "*   Bumbu 10000\n",
        "*   Beras 50000\n",
        "*   Total belanja nya adalah 160000\n",
        "\n",
        "Cobalah masukkan angka tersebut ke dalam variabel, kemudian print menggunakan f-string untuk semua variabel!"
      ],
      "metadata": {
        "id": "c6Jji-DW-CjG"
      }
    },
    {
      "cell_type": "code",
      "source": [
        "ayam = 15_000\n",
        "bumbu = 10_000\n",
        "beras = 50_000\n",
        "total_belanja = 160_000\n",
        "\n",
        "print(f\"Harga ayam adalah {ayam} rupiah, harga bumbu adalah {bumbu} rupiah, harga beras adalah {beras} rupiah.\")\n",
        "print(f\"Maka total belanjanya adalah {total_belanja} rupiah\")"
      ],
      "metadata": {
        "colab": {
          "base_uri": "https://localhost:8080/"
        },
        "id": "XO9B1wXS-Odl",
        "outputId": "2cbc3913-f46d-4806-c48b-2d605c61a98d"
      },
      "execution_count": 8,
      "outputs": [
        {
          "output_type": "stream",
          "name": "stdout",
          "text": [
            "Harga ayam adalah 15000 rupiah, harga bumbu adalah 10000 rupiah, harga beras adalah 50000 rupiah.\n",
            "Maka total belanjanya adalah 160000 rupiah\n"
          ]
        }
      ]
    }
  ]
}