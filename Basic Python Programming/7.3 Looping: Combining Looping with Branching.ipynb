{
  "nbformat": 4,
  "nbformat_minor": 0,
  "metadata": {
    "colab": {
      "provenance": [],
      "authorship_tag": "ABX9TyOtD0sxPqHk3zpKyF7Ci+bH",
      "include_colab_link": true
    },
    "kernelspec": {
      "name": "python3",
      "display_name": "Python 3"
    },
    "language_info": {
      "name": "python"
    }
  },
  "cells": [
    {
      "cell_type": "markdown",
      "metadata": {
        "id": "view-in-github",
        "colab_type": "text"
      },
      "source": [
        "<a href=\"https://colab.research.google.com/github/suryoadi12/PACMANN_SKILLS100/blob/main/Basic%20Python%20Programming/7.3%20Looping%3A%20Combining%20Looping%20with%20Branching.ipynb\" target=\"_parent\"><img src=\"https://colab.research.google.com/assets/colab-badge.svg\" alt=\"Open In Colab\"/></a>"
      ]
    },
    {
      "cell_type": "markdown",
      "source": [
        "# **Pertemuan #6 - Looping**"
      ],
      "metadata": {
        "id": "FYxGzTfol368"
      }
    },
    {
      "cell_type": "markdown",
      "source": [
        "**Combining Looping with Branching**"
      ],
      "metadata": {
        "id": "rLYZYnCol8m8"
      }
    },
    {
      "cell_type": "markdown",
      "source": [
        "Di dunia nyata kita biasa menemukan kondisi-kondisi tertentu saat melakukan hal-hal yang sifatnya repetitif.\n",
        "\n",
        "Misalkan kita disuruh untuk menulis kalimat yang sama beberapa kali. Pasti akan ada waktunya untuk anda ganti alat tulis jika pensil atau bolpoint anda habis di tengah-tengah proses. Saat menjemur pakaian setiap hari yang biasanya tidak hujan tiba-tiba hujan.\n",
        "\n",
        "Di dalam pemrograman kita juga bisa mengalami hal tersebut. Untuk menangani hal itu kita bisa menggunakan looping dan branching."
      ],
      "metadata": {
        "id": "PVlb6GlrmAwA"
      }
    },
    {
      "cell_type": "markdown",
      "source": [
        "**LOOPING + BRANCHING**"
      ],
      "metadata": {
        "id": "ozDjvfqFmG0k"
      }
    },
    {
      "cell_type": "markdown",
      "source": [
        "Bagaimana jika kita ingin menambahkan suatu kondisi tertentu saat loop?\n",
        "\n",
        "Misalkan memeriksa apakah angka tersebut genap atau ganjil."
      ],
      "metadata": {
        "id": "WKFPlhAYmLDV"
      }
    },
    {
      "cell_type": "code",
      "execution_count": 4,
      "metadata": {
        "colab": {
          "base_uri": "https://localhost:8080/"
        },
        "id": "oKhZZQEfl2sR",
        "outputId": "5bbcd719-2460-41df-89b2-02db8bb85a7b"
      },
      "outputs": [
        {
          "output_type": "stream",
          "name": "stdout",
          "text": [
            "1 adalah angka ganjil\n",
            "2 adalah angka genap\n",
            "3 adalah angka ganjil\n",
            "4 adalah angka genap\n",
            "5 adalah angka ganjil\n"
          ]
        }
      ],
      "source": [
        "# Jalankan code di bawah ini\n",
        "\n",
        "list_angka = [1, 2, 3, 4, 5]\n",
        "\n",
        "for angka in list_angka:\n",
        "  if angka % 2 == 0:\n",
        "    print(f\"{angka} adalah angka genap\")\n",
        "  else:\n",
        "    print(f\"{angka} adalah angka ganjil\")"
      ]
    },
    {
      "cell_type": "code",
      "source": [
        "# Coba cari bilangan kelipatan 4 dari angka 1 sampai 100\n",
        "\n",
        "for angka in range(1, 101):\n",
        "  if angka % 4 == 0:\n",
        "    print(angka, end=\" \")"
      ],
      "metadata": {
        "colab": {
          "base_uri": "https://localhost:8080/"
        },
        "id": "N94bFww3nlfX",
        "outputId": "7fae76f8-e601-4221-b0ad-e2d049274e4c"
      },
      "execution_count": 9,
      "outputs": [
        {
          "output_type": "stream",
          "name": "stdout",
          "text": [
            "4 8 12 16 20 24 28 32 36 40 44 48 52 56 60 64 68 72 76 80 84 88 92 96 100 "
          ]
        }
      ]
    },
    {
      "cell_type": "markdown",
      "source": [
        "Contoh lain dalam kehidupan sehari-hari adalah saat kita mendapatkan diskon saat berbelanja di supermarket. Diskon akan diberikan ketika harga total belanja kita lebih dari Rp. 150.000."
      ],
      "metadata": {
        "id": "2cIob33Eoqpi"
      }
    },
    {
      "cell_type": "code",
      "source": [
        "# Coba jalankan code di bawah\n",
        "\n",
        "total_harga = 0\n",
        "prosentase_diskon = (2/100)\n",
        "list_harga = [20_000, 41_000, 90_000]\n",
        "\n",
        "for harga in list_harga:\n",
        "    total_harga += harga\n",
        "\n",
        "  # If di deklarasikan di dalam for dengan indentasi yang lebih tinggi\n",
        "  # Jika total harga belanja kita lebih dari 150.000 maka blok if akan dijalakan\n",
        "    if total_harga >= 150_000:\n",
        "        print(f'Total belanjaan anda Rp {total_harga}')\n",
        "\n",
        "        diskon = prosentase_diskon * total_harga\n",
        "        print(f'Anda mendapatkan diskon 2% dan berhemat Rp {diskon}')\n",
        "\n",
        "        total_harga = total_harga - diskon\n",
        "\n",
        "print(f'Anda harus membayar Rp {total_harga}')"
      ],
      "metadata": {
        "colab": {
          "base_uri": "https://localhost:8080/"
        },
        "id": "RtCKSWCZoptR",
        "outputId": "d4ec152e-2118-4b82-8009-26cd71b9820e"
      },
      "execution_count": 19,
      "outputs": [
        {
          "output_type": "stream",
          "name": "stdout",
          "text": [
            "Total belanjaan anda Rp 151000\n",
            "Anda mendapatkan diskon 2% dan berhemat Rp 3020.0\n",
            "Anda harus membayar Rp 147980.0\n"
          ]
        }
      ]
    },
    {
      "cell_type": "markdown",
      "source": [
        "Coba cari harga total dari list di bawah ini dan jika harganya lebih dari **Rp 200.000** akan mendapatkan diskon sebanyak **4 persen**."
      ],
      "metadata": {
        "id": "gnMXy9oDrhjt"
      }
    },
    {
      "cell_type": "code",
      "source": [
        "total_harga = 0\n",
        "persentase_diskon = (4/100)\n",
        "list_harga = [26_000, 90_000, 150_000]\n",
        "\n",
        "for harga in list_harga:\n",
        "  total_harga += harga\n",
        "\n",
        "  if total_harga >= 200_000:\n",
        "    print(f\"Total belanjaan anda adalah {total_harga}\")\n",
        "\n",
        "    diskon = persentase_diskon * total_harga\n",
        "    print(f\"Anda mendapatkan diskon 4% dan berhemat Rp {diskon}\")\n",
        "\n",
        "    total_harga = total_harga - diskon\n",
        "\n",
        "print(f\"Anda harus membayar Rp {total_harga}\")"
      ],
      "metadata": {
        "colab": {
          "base_uri": "https://localhost:8080/"
        },
        "id": "snYB2GuTrsUs",
        "outputId": "18e6838e-5bdd-4ee2-84ee-997e10311273"
      },
      "execution_count": 21,
      "outputs": [
        {
          "output_type": "stream",
          "name": "stdout",
          "text": [
            "Total belanjaan anda adalah 266000\n",
            "Anda mendapatkan diskon 4% dan berhemat Rp 10640.0\n",
            "Anda harus membayar Rp 255360.0\n"
          ]
        }
      ]
    }
  ]
}