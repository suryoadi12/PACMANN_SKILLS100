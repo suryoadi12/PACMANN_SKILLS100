{
  "nbformat": 4,
  "nbformat_minor": 0,
  "metadata": {
    "colab": {
      "provenance": [],
      "authorship_tag": "ABX9TyMZ7jYMFke/CxLH+j2S+dGl",
      "include_colab_link": true
    },
    "kernelspec": {
      "name": "python3",
      "display_name": "Python 3"
    },
    "language_info": {
      "name": "python"
    }
  },
  "cells": [
    {
      "cell_type": "markdown",
      "metadata": {
        "id": "view-in-github",
        "colab_type": "text"
      },
      "source": [
        "<a href=\"https://colab.research.google.com/github/suryoadi12/PACMANN_SKILLS100/blob/main/Basic%20Python%20Programming/6.3%20Composite%20Data%20Structure%3A%20Tuple.ipynb\" target=\"_parent\"><img src=\"https://colab.research.google.com/assets/colab-badge.svg\" alt=\"Open In Colab\"/></a>"
      ]
    },
    {
      "cell_type": "markdown",
      "source": [
        "# **Pertemuan #5 - Composite Data Structure**"
      ],
      "metadata": {
        "id": "4VLR6NzrF5YB"
      }
    },
    {
      "cell_type": "markdown",
      "source": [
        "**WHAT IS TUPLE**"
      ],
      "metadata": {
        "id": "L63GT3rHF9Z-"
      }
    },
    {
      "cell_type": "markdown",
      "source": [
        "**Tuple** merupakan sebuah struktur data yang nilainya dapat berupa tipe data apa saja. `Tuple` sangat mirip dengan `list`. Perbedaan pentingnya adalah `tuple` tidak dapat diubah (**immutable**).\n",
        "\n",
        "Sebuah `tuple` dalam Python di representasikan dengan **tanda kurung** () dan dipisahkan oleh **tanda koma** `,`."
      ],
      "metadata": {
        "id": "HAXntnZNGBLv"
      }
    },
    {
      "cell_type": "markdown",
      "source": [
        "**HOW TO MAKE TUPLES**"
      ],
      "metadata": {
        "id": "rNrdcd1YGP5r"
      }
    },
    {
      "cell_type": "markdown",
      "source": [
        "Mari kita coba membuat tuple"
      ],
      "metadata": {
        "id": "rit1cm_DGTmG"
      }
    },
    {
      "cell_type": "code",
      "source": [
        "# Coba jalankan code dibawah ini\n",
        "\n",
        "(\"Apel\", \"Jeruk\", \"Mangga\")\n",
        "\n",
        "print((\"Apel\", \"Jeruk\", \"Mangga\"))"
      ],
      "metadata": {
        "colab": {
          "base_uri": "https://localhost:8080/"
        },
        "id": "KekPTdtHGW0F",
        "outputId": "1c2773c3-484d-4558-94b0-e408f3e57000"
      },
      "execution_count": 1,
      "outputs": [
        {
          "output_type": "stream",
          "name": "stdout",
          "text": [
            "('Apel', 'Jeruk', 'Mangga')\n"
          ]
        }
      ]
    },
    {
      "cell_type": "markdown",
      "source": [
        "Tuple juga bisa di deklarasikan dengan variabel."
      ],
      "metadata": {
        "id": "rllqpVJtGep1"
      }
    },
    {
      "cell_type": "code",
      "execution_count": 2,
      "metadata": {
        "colab": {
          "base_uri": "https://localhost:8080/"
        },
        "id": "KdLeG48lFzIB",
        "outputId": "0dc97432-05ae-478b-b7fd-954a41766fdc"
      },
      "outputs": [
        {
          "output_type": "stream",
          "name": "stdout",
          "text": [
            "('Apel', 'Jeruk', 'Mangga')\n"
          ]
        }
      ],
      "source": [
        "# Coba jalankan code dibawah ini\n",
        "\n",
        "nama_buah = (\"Apel\", \"Jeruk\", \"Mangga\")\n",
        "print(nama_buah)"
      ]
    },
    {
      "cell_type": "markdown",
      "source": [
        "Untuk memastikan variabel tersebut adalah sebuah tuple maka bisa dicek dengan `type()`."
      ],
      "metadata": {
        "id": "_64WvcCmJ6_p"
      }
    },
    {
      "cell_type": "code",
      "source": [
        "# Coba jalankan code di bawah ini\n",
        "\n",
        "nama_buah = (\"Apel\", \"Jeruk\", \"Mangga\")\n",
        "print(f\"Tipe data dari variabel nama_buah adalah {type(nama_buah)}\")"
      ],
      "metadata": {
        "colab": {
          "base_uri": "https://localhost:8080/"
        },
        "id": "6E169wqwKDKz",
        "outputId": "b3617692-66cf-4f6d-fe2c-426c5c154f56"
      },
      "execution_count": 3,
      "outputs": [
        {
          "output_type": "stream",
          "name": "stdout",
          "text": [
            "Tipe data dari variabel nama_buah adalah <class 'tuple'>\n"
          ]
        }
      ]
    },
    {
      "cell_type": "code",
      "source": [
        "# Coba buat sebuah tuple yang menampung tiga nama warna\n",
        "\n",
        "nama_warna = (\"Biru\", \"Merah\", \"Hijau\")\n",
        "print(nama_warna)"
      ],
      "metadata": {
        "colab": {
          "base_uri": "https://localhost:8080/"
        },
        "id": "4jjoLsYKKVS7",
        "outputId": "aeb6d1c9-d489-4aa5-ef97-0a85169eb3e1"
      },
      "execution_count": 4,
      "outputs": [
        {
          "output_type": "stream",
          "name": "stdout",
          "text": [
            "('Biru', 'Merah', 'Hijau')\n"
          ]
        }
      ]
    },
    {
      "cell_type": "markdown",
      "source": [
        "Untuk membuat tuple dengan hanya **satu element** saja, kita harus tetap **memasukkan** tanda koma di akhir."
      ],
      "metadata": {
        "id": "JEJSEUKAKg6r"
      }
    },
    {
      "cell_type": "code",
      "source": [
        "tuple_1 = (\"Jeruk\",)\n",
        "print(tuple_1)\n",
        "print(type(tuple_1))"
      ],
      "metadata": {
        "colab": {
          "base_uri": "https://localhost:8080/"
        },
        "id": "wg5GNg5RKnBz",
        "outputId": "6412dce3-60c7-46a0-952e-ba0aa8485d82"
      },
      "execution_count": 6,
      "outputs": [
        {
          "output_type": "stream",
          "name": "stdout",
          "text": [
            "('Jeruk',)\n",
            "<class 'tuple'>\n"
          ]
        }
      ]
    },
    {
      "cell_type": "markdown",
      "source": [
        "Jika kita tidak memasukkan tanda koma yang terakhir maka python akan mengidentifikasi variabel tersebut sebagai `string`."
      ],
      "metadata": {
        "id": "AbA6Dt_1KwHc"
      }
    },
    {
      "cell_type": "code",
      "source": [
        "tuple_2 = (\"Anggur\")\n",
        "print(type(tuple_2))"
      ],
      "metadata": {
        "colab": {
          "base_uri": "https://localhost:8080/"
        },
        "id": "mnCfM0yRKy-U",
        "outputId": "0c22b8d2-387c-445f-8a4a-4d04f8e61e99"
      },
      "execution_count": 7,
      "outputs": [
        {
          "output_type": "stream",
          "name": "stdout",
          "text": [
            "<class 'str'>\n"
          ]
        }
      ]
    },
    {
      "cell_type": "markdown",
      "source": [
        "Sebuah `tuple` yang tidak berisi elemen apapun disebut **empty tuple**. Kita dapat membuatnya dengan tanda kurung kosong `()`."
      ],
      "metadata": {
        "id": "xdVkVV5nK6FL"
      }
    },
    {
      "cell_type": "code",
      "source": [
        "# Coba jalankan code di bawah ini\n",
        "\n",
        "empty_tuple_1 = ()\n",
        "print(empty_tuple_1)\n",
        "print(type(empty_tuple_1))"
      ],
      "metadata": {
        "colab": {
          "base_uri": "https://localhost:8080/"
        },
        "id": "s5Jng3UvK9cD",
        "outputId": "abe6c638-821d-4dba-9a68-e29da2e98e6c"
      },
      "execution_count": 8,
      "outputs": [
        {
          "output_type": "stream",
          "name": "stdout",
          "text": [
            "()\n",
            "<class 'tuple'>\n"
          ]
        }
      ]
    },
    {
      "cell_type": "markdown",
      "source": [
        "**Empty tuple** juga bisa dibuat dengan notasi `tuple()`."
      ],
      "metadata": {
        "id": "boY61bEJLH2b"
      }
    },
    {
      "cell_type": "code",
      "source": [
        "empty_tuple_2 = tuple()\n",
        "print(empty_tuple_2)\n",
        "print(type(empty_tuple_2))"
      ],
      "metadata": {
        "colab": {
          "base_uri": "https://localhost:8080/"
        },
        "id": "wThHXUEaLOGT",
        "outputId": "edb800c6-a2d0-4e16-b28f-1e627e5f006f"
      },
      "execution_count": 9,
      "outputs": [
        {
          "output_type": "stream",
          "name": "stdout",
          "text": [
            "()\n",
            "<class 'tuple'>\n"
          ]
        }
      ]
    },
    {
      "cell_type": "markdown",
      "source": [
        "Indeks pada `tuple` mirip seperti indeks pada `list`. Perbedaanya hanya **element pada tuple tidak bisa dihapus**. Indeks dapat digunakan untuk **menemukan** element atau item tertentu.\n",
        "\n",
        "Kita akan mencoba mengambil element pada tuple dibawah."
      ],
      "metadata": {
        "id": "c1Yv_vrvLYXL"
      }
    },
    {
      "cell_type": "code",
      "source": [
        "# Coba jalankan code di bawah ini\n",
        "\n",
        "angka = (25, 47, 19, 13, 44, 78, 92, 73, 35, 66, 10)\n",
        "print(f\"Elemen pada indeks ke 4 pada tuple angka adalah {angka[4]}\")\n",
        "print(f\"Elemen pada indeks ke 9 pada tuple angka adalah {angka[9]}\")\n",
        "print(f\"Elemen pada indeks ke 9 pada tuple angka adalah {angka[0]}\")"
      ],
      "metadata": {
        "colab": {
          "base_uri": "https://localhost:8080/"
        },
        "id": "8GJWMcV-Lgs_",
        "outputId": "f2c2e618-3f55-480a-b56c-5f7faff28a83"
      },
      "execution_count": 13,
      "outputs": [
        {
          "output_type": "stream",
          "name": "stdout",
          "text": [
            "Elemen pada indeks ke 4 pada tuple angka adalah 44\n",
            "Elemen pada indeks ke 9 pada tuple angka adalah 66\n",
            "Elemen pada indeks ke 9 pada tuple angka adalah 25\n"
          ]
        }
      ]
    },
    {
      "cell_type": "code",
      "source": [
        "# Coba ambil element pada indeks ke-3 dan 1 tuple di bawah\n",
        "\n",
        "angka = (25, 47, 19, 13, 44, 78, 92, 73, 35, 66, 10)\n",
        "print(f\"Elemen pada indeks ke 3 pada tuple angka adalah {angka[3]}\")\n",
        "print(f\"Elemen pada indeks ke 1 pada tuple angka adalah {angka[1]}\")"
      ],
      "metadata": {
        "colab": {
          "base_uri": "https://localhost:8080/"
        },
        "id": "d1KFynPgMVdn",
        "outputId": "d5fc1fd3-db25-43fc-acbd-1a7dcfab627b"
      },
      "execution_count": 14,
      "outputs": [
        {
          "output_type": "stream",
          "name": "stdout",
          "text": [
            "Elemen pada indeks ke 3 pada tuple angka adalah 13\n",
            "Elemen pada indeks ke 1 pada tuple angka adalah 47\n"
          ]
        }
      ]
    },
    {
      "cell_type": "markdown",
      "source": [
        "Jika kita ingin mengambil element pada indeks ke `n` sampai akhir indeks tuple, bisa menggunakan `[n:]`."
      ],
      "metadata": {
        "id": "byGdFewMMihg"
      }
    },
    {
      "cell_type": "code",
      "source": [
        "# Coba kita jalankan code di bawah ini\n",
        "\n",
        "bunga = ('Sepatu', 'Matahari', 'Mawar', 'Lavender', 'Asoka')\n",
        "print(f\"Elemen pada indeks ke 2 sampai akhir adalah {bunga[2:]}\")"
      ],
      "metadata": {
        "colab": {
          "base_uri": "https://localhost:8080/"
        },
        "id": "opcBdTjVMiR4",
        "outputId": "82f57e4a-327d-4d79-dfa3-53fc74f1b1b3"
      },
      "execution_count": 22,
      "outputs": [
        {
          "output_type": "stream",
          "name": "stdout",
          "text": [
            "Elemen pada indeks ke 2 sampai akhir adalah ('Mawar', 'Lavender', 'Asoka')\n"
          ]
        }
      ]
    },
    {
      "cell_type": "code",
      "source": [
        "# Coba ambil element indeks ke 3 sampai terakhir pada tuple bunga di bawah\n",
        "\n",
        "bunga = ('Sepatu', 'Matahari', 'Mawar', 'Lavender', 'Asoka')\n",
        "print(f\"Elemen pada indeks ke 3 sampai akhir adalah {bunga[3:]}\")"
      ],
      "metadata": {
        "colab": {
          "base_uri": "https://localhost:8080/"
        },
        "id": "8vYZ-JftM0RT",
        "outputId": "98dfb4d2-97d8-445a-9dc3-7c68b0565d28"
      },
      "execution_count": 19,
      "outputs": [
        {
          "output_type": "stream",
          "name": "stdout",
          "text": [
            "Elemen pada indeks ke 3 sampai akhir adalah ('Lavender', 'Asoka')\n"
          ]
        }
      ]
    },
    {
      "cell_type": "markdown",
      "source": [
        "Jika kita ingin mengambil element pada awal tuple sampai indeks ke `m-1`, bisa menggunakan `[:m]`."
      ],
      "metadata": {
        "id": "UOO10T7pM_JX"
      }
    },
    {
      "cell_type": "code",
      "source": [
        "# Coba kita jalankan code di bawah ini\n",
        "\n",
        "bunga = ('Sepatu', 'Matahari', 'Mawar', 'Lavender', 'Asoka')\n",
        "print(f\"Elemen pada indeks pertama sampai ke 3 adalah {bunga[:4]}\")"
      ],
      "metadata": {
        "colab": {
          "base_uri": "https://localhost:8080/"
        },
        "id": "VOcfNqpVNB-3",
        "outputId": "9e932e51-996e-452a-d085-832ef17b409a"
      },
      "execution_count": 23,
      "outputs": [
        {
          "output_type": "stream",
          "name": "stdout",
          "text": [
            "Elemen pada indeks pertama sampai ke 3 adalah ('Sepatu', 'Matahari', 'Mawar', 'Lavender')\n"
          ]
        }
      ]
    },
    {
      "cell_type": "code",
      "source": [
        "# Coba ambil element indeks pertama sampai indeks ke 2 pada tuple bunga di bawah\n",
        "\n",
        "bunga = ('Sepatu', 'Matahari', 'Mawar', 'Lavender', 'Asoka')\n",
        "print(f\"Elemen pada indeks pertama sampai ke 2 adalah {bunga[:2]}\")"
      ],
      "metadata": {
        "colab": {
          "base_uri": "https://localhost:8080/"
        },
        "id": "OUAQSxQ1NleH",
        "outputId": "aa1cb14d-8173-47f9-c6d2-cadc3393668d"
      },
      "execution_count": 25,
      "outputs": [
        {
          "output_type": "stream",
          "name": "stdout",
          "text": [
            "Elemen pada indeks pertama sampai ke 2 adalah ('Sepatu', 'Matahari')\n"
          ]
        }
      ]
    },
    {
      "cell_type": "markdown",
      "source": [
        "Untuk mengambil indeks dengan **angka negatif** pada `tuple` caranya sama dengan saat kita menggunakan `list` ataupun `string`."
      ],
      "metadata": {
        "id": "3ytZao3AN8WT"
      }
    },
    {
      "cell_type": "code",
      "source": [
        "# Coba jalankan code di bawah ini\n",
        "\n",
        "bunga = ('Sepatu', 'Matahari', 'Mawar', 'Lavender', 'Asoka')\n",
        "print(f\"Elemen pada indeks negatif dua pada tuple bunga adalah {bunga[-2]}\")"
      ],
      "metadata": {
        "colab": {
          "base_uri": "https://localhost:8080/"
        },
        "id": "dN5LGaubOBYa",
        "outputId": "4c47fb17-9f3f-44de-847f-09f7d18c3352"
      },
      "execution_count": 26,
      "outputs": [
        {
          "output_type": "stream",
          "name": "stdout",
          "text": [
            "Elemen pada indeks negatif dua pada tuple bunga adalah Lavender\n"
          ]
        }
      ]
    },
    {
      "cell_type": "code",
      "source": [
        "# Coba ambil element indeks negatif tiga pada tuple dibawah\n",
        "\n",
        "bunga = ('Sepatu', 'Matahari', 'Mawar', 'Lavender', 'Asoka')\n",
        "print(f\"Elemen pada indeks negatif dua pada tuple bunga adalah {bunga[-3]}\")"
      ],
      "metadata": {
        "colab": {
          "base_uri": "https://localhost:8080/"
        },
        "outputId": "deb7a3ca-43c6-4053-d6dd-5b2686fcb460",
        "id": "LROzMEXCOQm9"
      },
      "execution_count": 27,
      "outputs": [
        {
          "output_type": "stream",
          "name": "stdout",
          "text": [
            "Elemen pada indeks negatif dua pada tuple bunga adalah Mawar\n"
          ]
        }
      ]
    },
    {
      "cell_type": "markdown",
      "source": [
        "**Slicing** pada `tuple` juga sama sintaknya dengan `list` ataupun `string`.\n",
        "\n",
        "Caranya dengan sintak `NAMA_TUPLE[start:stop]`. Sintaks tersebut ini akan mengambil element dari indeks `start` sampai ke indeks `stop-1` dari sebuah `tuple`."
      ],
      "metadata": {
        "id": "yhFoDjVaOYQr"
      }
    },
    {
      "cell_type": "code",
      "source": [
        "# Coba jalankan code di bawah ini\n",
        "# Kita akan mengambil element pada indeks ke-0 sampai ke-2 pada tuple bunga\n",
        "\n",
        "bunga = ('Sepatu', 'Matahari', 'Mawar', 'Lavender', 'Asoka')\n",
        "print(f\"Elemen pada indeks ke 0 sampai indeks ke 2 pada tuple bunga adalah {bunga[0:3]}\")"
      ],
      "metadata": {
        "colab": {
          "base_uri": "https://localhost:8080/"
        },
        "id": "BVF4DQsiOjC0",
        "outputId": "02032137-27b6-41ab-ce6a-c15b1155891f"
      },
      "execution_count": 29,
      "outputs": [
        {
          "output_type": "stream",
          "name": "stdout",
          "text": [
            "Elemen pada indeks ke 0 sampai indeks ke 2 pada tuple bunga adalah ('Sepatu', 'Matahari', 'Mawar')\n"
          ]
        }
      ]
    },
    {
      "cell_type": "code",
      "source": [
        "# Coba ambil element pada indeks ke 1 sampai 3 pada tuple bunga\n",
        "\n",
        "bunga = ('Sepatu', 'Matahari', 'Mawar', 'Lavender', 'Asoka')\n",
        "print(f\"Elemen pada indeks ke 1 sampai indeks ke 3 pada tuple bunga adalah {bunga[1:4]}\")"
      ],
      "metadata": {
        "colab": {
          "base_uri": "https://localhost:8080/"
        },
        "id": "v7OWuGj2O40Y",
        "outputId": "5242ee3e-34ae-4219-aed4-e939f9abff47"
      },
      "execution_count": 30,
      "outputs": [
        {
          "output_type": "stream",
          "name": "stdout",
          "text": [
            "Elemen pada indeks ke 1 sampai indeks ke 3 pada tuple bunga adalah ('Matahari', 'Mawar', 'Lavender')\n"
          ]
        }
      ]
    },
    {
      "cell_type": "markdown",
      "source": [
        "Kita juga bisa slicing dengan kombinasi indeks negatif dan positif."
      ],
      "metadata": {
        "id": "t_Div7mMPGA7"
      }
    },
    {
      "cell_type": "code",
      "source": [
        "# Coba jalankan kode di bawah ini\n",
        "\n",
        "bunga = ('Sepatu', 'Matahari', 'Mawar', 'Lavender', 'Asoka')\n",
        "print(bunga[1:-1])"
      ],
      "metadata": {
        "colab": {
          "base_uri": "https://localhost:8080/"
        },
        "id": "vlTWJ8I-PFrU",
        "outputId": "b32a55d8-3202-48a3-c0bb-1856ae01025e"
      },
      "execution_count": 32,
      "outputs": [
        {
          "output_type": "stream",
          "name": "stdout",
          "text": [
            "('Matahari', 'Mawar', 'Lavender')\n"
          ]
        }
      ]
    },
    {
      "cell_type": "code",
      "source": [
        "# Coba ambil element antara Sepatu sampai Mawar pada tuple bunga\n",
        "# Dengan kombinasi indeks negatif dan positif\n",
        "\n",
        "bunga = ('Sepatu', 'Matahari', 'Mawar', 'Lavender', 'Asoka')\n",
        "print(bunga[0:-2])"
      ],
      "metadata": {
        "colab": {
          "base_uri": "https://localhost:8080/"
        },
        "id": "WEb0y9XtPW2z",
        "outputId": "e96a7a02-046d-43ab-a881-a47f599c524b"
      },
      "execution_count": 36,
      "outputs": [
        {
          "output_type": "stream",
          "name": "stdout",
          "text": [
            "('Sepatu', 'Matahari', 'Mawar')\n"
          ]
        }
      ]
    },
    {
      "cell_type": "markdown",
      "source": [
        "**TUPLE ARE IMMUTABLE**"
      ],
      "metadata": {
        "id": "29sFmUkSPqbs"
      }
    },
    {
      "cell_type": "markdown",
      "source": [
        "Ini adalah perbedaan utama `tuple` dengan sebuah `list`.\n",
        "\n",
        "Jika sebuah `list` memiliki sifat **mutable** maka `tuple` memiliki sifat **immutable**.\n",
        "\n",
        "Tipe data yang **immutable** (tidak dapat diubah) berarti kita tidak bisa mengubah atau memodifikasi nilai dari tipe data tersebut.\n",
        "\n",
        "Jika pada list kita bisa mengubah element dengan langsung mengakses indeks dan memberikan nilai baru."
      ],
      "metadata": {
        "id": "x_p6MUq4PuRn"
      }
    },
    {
      "cell_type": "markdown",
      "source": [
        "**LIST**"
      ],
      "metadata": {
        "id": "jk-HFIjaP-SH"
      }
    },
    {
      "cell_type": "code",
      "source": [
        "# Coba jalankan code di bawah\n",
        "\n",
        "list_hewan = ['Kecapung', 'Bunglon', 'Komodo']\n",
        "list_hewan[0] = 'Kadal'\n",
        "print(f'{list_hewan}')"
      ],
      "metadata": {
        "colab": {
          "base_uri": "https://localhost:8080/"
        },
        "id": "XLA40E94QA5g",
        "outputId": "b6eef7da-b427-42fb-c52d-c78ef07d3e62"
      },
      "execution_count": 37,
      "outputs": [
        {
          "output_type": "stream",
          "name": "stdout",
          "text": [
            "['Kadal', 'Bunglon', 'Komodo']\n"
          ]
        }
      ]
    },
    {
      "cell_type": "markdown",
      "source": [
        "**TUPLE**"
      ],
      "metadata": {
        "id": "aghulIvmQIOo"
      }
    },
    {
      "cell_type": "code",
      "source": [
        "# Coba ubah bunga matahari menjadi kamboja\n",
        "\n",
        "tuple_hewan = ('Kecapung', 'Bunglon', 'Komodo')\n",
        "tuple_hewan[0] = 'Kadal'\n",
        "print(f'{tuple_hewan}')"
      ],
      "metadata": {
        "colab": {
          "base_uri": "https://localhost:8080/",
          "height": 200
        },
        "id": "MITJ4a6YPsrC",
        "outputId": "f6a0c8e4-5122-4ad7-ff4c-fd019ae68a81"
      },
      "execution_count": 38,
      "outputs": [
        {
          "output_type": "error",
          "ename": "TypeError",
          "evalue": "'tuple' object does not support item assignment",
          "traceback": [
            "\u001b[0;31m---------------------------------------------------------------------------\u001b[0m",
            "\u001b[0;31mTypeError\u001b[0m                                 Traceback (most recent call last)",
            "\u001b[0;32m<ipython-input-38-105eb9892734>\u001b[0m in \u001b[0;36m<cell line: 0>\u001b[0;34m()\u001b[0m\n\u001b[1;32m      2\u001b[0m \u001b[0;34m\u001b[0m\u001b[0m\n\u001b[1;32m      3\u001b[0m \u001b[0mtuple_hewan\u001b[0m \u001b[0;34m=\u001b[0m \u001b[0;34m(\u001b[0m\u001b[0;34m'Kecapung'\u001b[0m\u001b[0;34m,\u001b[0m \u001b[0;34m'Bunglon'\u001b[0m\u001b[0;34m,\u001b[0m \u001b[0;34m'Komodo'\u001b[0m\u001b[0;34m)\u001b[0m\u001b[0;34m\u001b[0m\u001b[0;34m\u001b[0m\u001b[0m\n\u001b[0;32m----> 4\u001b[0;31m \u001b[0mtuple_hewan\u001b[0m\u001b[0;34m[\u001b[0m\u001b[0;36m0\u001b[0m\u001b[0;34m]\u001b[0m \u001b[0;34m=\u001b[0m \u001b[0;34m'Kadal'\u001b[0m\u001b[0;34m\u001b[0m\u001b[0;34m\u001b[0m\u001b[0m\n\u001b[0m\u001b[1;32m      5\u001b[0m \u001b[0mprint\u001b[0m\u001b[0;34m(\u001b[0m\u001b[0;34mf'{tuple_hewan}'\u001b[0m\u001b[0;34m)\u001b[0m\u001b[0;34m\u001b[0m\u001b[0;34m\u001b[0m\u001b[0m\n",
            "\u001b[0;31mTypeError\u001b[0m: 'tuple' object does not support item assignment"
          ]
        }
      ]
    },
    {
      "cell_type": "markdown",
      "source": [
        "**TUPLE METHODS**"
      ],
      "metadata": {
        "id": "G54tFXT0QO6b"
      }
    },
    {
      "cell_type": "markdown",
      "source": [
        "Tidak seperti `list` dan `dictionary` yang memiliki banyak method, `tuple` hanya memiliki sedikit karena sifat **immutable** yang dimilikinya."
      ],
      "metadata": {
        "id": "KJCqUtf1QR9p"
      }
    },
    {
      "cell_type": "markdown",
      "source": [
        "misalkan:\n",
        "\n",
        "tuple_1 = (3, 3, 4, 5)\n",
        "\n",
        "tuple_2 = ('string_1', 'string_3')"
      ],
      "metadata": {
        "id": "inzYEMnZQYvp"
      }
    },
    {
      "cell_type": "markdown",
      "source": [
        "![saflsdjf.JPG](data:image/jpeg;base64,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)"
      ],
      "metadata": {
        "id": "wS158JErQmF2"
      }
    },
    {
      "cell_type": "markdown",
      "source": [
        "**len()**"
      ],
      "metadata": {
        "id": "AoR9FuytQopE"
      }
    },
    {
      "cell_type": "markdown",
      "source": [
        "Method `len()` akan mengembalikan panjang dari suatu tuple."
      ],
      "metadata": {
        "id": "ug-TlDB_QrlA"
      }
    },
    {
      "cell_type": "code",
      "source": [
        "# Coba jalankan code di bawah ini\n",
        "\n",
        "siswa = ('Andi', 'Gilang', 'Bagus', 'Putra', 'Dwi')\n",
        "print(f'Panjang tuple siswa adalah {len(siswa)}')"
      ],
      "metadata": {
        "colab": {
          "base_uri": "https://localhost:8080/"
        },
        "id": "2PW4pxqaQQQT",
        "outputId": "e219c997-3274-4014-c52c-1e5229b5ec32"
      },
      "execution_count": 40,
      "outputs": [
        {
          "output_type": "stream",
          "name": "stdout",
          "text": [
            "Panjang tuple siswa adalah 5\n"
          ]
        }
      ]
    },
    {
      "cell_type": "code",
      "source": [
        "# Coba cari tau berapa panjang list karyawan di bawah\n",
        "\n",
        "karyawan = ['Joko', 'Alex', 'Chandra', 'Hartono', 'Samsul']\n",
        "print(f\"Panjang tuple karyawan adalah {len(karyawan)}\")"
      ],
      "metadata": {
        "colab": {
          "base_uri": "https://localhost:8080/"
        },
        "id": "G1YUpwUSQ0uU",
        "outputId": "7c109461-6361-4d08-fff5-e1cd40e6dc5d"
      },
      "execution_count": 42,
      "outputs": [
        {
          "output_type": "stream",
          "name": "stdout",
          "text": [
            "Panjang tuple karyawan adalah 5\n"
          ]
        }
      ]
    },
    {
      "cell_type": "markdown",
      "source": [
        "**in**"
      ],
      "metadata": {
        "id": "XmEPFpjjQ-gM"
      }
    },
    {
      "cell_type": "markdown",
      "source": [
        "Untuk memeriksa apakah suatu value atau element ada di dalam tuple atau tidak, kita bisa menggunakan `in`."
      ],
      "metadata": {
        "id": "KWkhvEyRRBnA"
      }
    },
    {
      "cell_type": "code",
      "source": [
        "# Coba jalankan code di bawah\n",
        "siswa = ('Andi', 'Gilang', 'Bagus', 'Putra', 'Dwi')\n",
        "\n",
        "# Kita akan mengecek apakah nama Gilang ada di variabel siswa atau tidak\n",
        "print(f'{\"Gilang\" in siswa}')"
      ],
      "metadata": {
        "colab": {
          "base_uri": "https://localhost:8080/"
        },
        "id": "yFRhe2QHRNEw",
        "outputId": "2af4f571-6dc1-4301-be12-4d1ec3930840"
      },
      "execution_count": 45,
      "outputs": [
        {
          "output_type": "stream",
          "name": "stdout",
          "text": [
            "True\n"
          ]
        }
      ]
    },
    {
      "cell_type": "markdown",
      "source": [
        "Jika sebuah element atau nilai tidak ada pada suatu tuple, maka outputnya `False`."
      ],
      "metadata": {
        "id": "scaMHBTnRO9I"
      }
    },
    {
      "cell_type": "code",
      "source": [
        "# Coba jalankan code di bawah\n",
        "siswa = ('Andi', 'Gilang', 'Bagus', 'Putra', 'Dwi')\n",
        "\n",
        "# Kita akan mengecek apakah nama Sam Pitak ada di variabel siswa atau tidak\n",
        "print(f'{\"Sam Pitak\" in siswa}')"
      ],
      "metadata": {
        "colab": {
          "base_uri": "https://localhost:8080/"
        },
        "id": "PSrXU_UvQ_be",
        "outputId": "0f237534-6de5-43f3-da92-686f7c433e4a"
      },
      "execution_count": 44,
      "outputs": [
        {
          "output_type": "stream",
          "name": "stdout",
          "text": [
            "False\n"
          ]
        }
      ]
    },
    {
      "cell_type": "code",
      "source": [
        "# Coba buatlah tuple yang menyimpan warna Putih, Hitam, Merah\n",
        "warna = ('Putih', 'Hitam', 'Merah')\n",
        "\n",
        "# Kemudian periksa dengan method in apakah ada warna Biru atau tidak\n",
        "print('Biru' in warna)"
      ],
      "metadata": {
        "colab": {
          "base_uri": "https://localhost:8080/"
        },
        "id": "8G69N_WaRUPg",
        "outputId": "6ea15530-8245-4329-fe03-d27952abb4c7"
      },
      "execution_count": 46,
      "outputs": [
        {
          "output_type": "stream",
          "name": "stdout",
          "text": [
            "False\n"
          ]
        }
      ]
    },
    {
      "cell_type": "markdown",
      "source": [
        "**index()**"
      ],
      "metadata": {
        "id": "L_-FGMkYRZLz"
      }
    },
    {
      "cell_type": "markdown",
      "source": [
        "Method `index()` berfungsi untuk mengetahui element yang kita sebut ada di indeks ke berapa."
      ],
      "metadata": {
        "id": "-z9Yrj8dRb73"
      }
    },
    {
      "cell_type": "code",
      "source": [
        "# Coba jalankan code di bawah ini\n",
        "# Kita akan cek Liverpool ada di indeks ke berapa\n",
        "\n",
        "football_club = (\"AC Milan\", \"Bayern Munchen\", \"Liverpool\", \"Real Madrid\", \"Manchester United\", \"PSG\", \"Ajax\")\n",
        "print(f\"Liverpool ada di indeks ke {football_club.index('Liverpool')}\")"
      ],
      "metadata": {
        "colab": {
          "base_uri": "https://localhost:8080/"
        },
        "id": "jphf8yViRagG",
        "outputId": "ad6c76a2-360d-4eeb-a0b3-840cf82a8943"
      },
      "execution_count": 52,
      "outputs": [
        {
          "output_type": "stream",
          "name": "stdout",
          "text": [
            "Liverpool ada di indeks ke 2\n"
          ]
        }
      ]
    },
    {
      "cell_type": "code",
      "source": [
        "# Coba cek AC Milan dan Manchester United ada di indeks ke berapa\n",
        "\n",
        "football_club = (\"AC Milan\", \"Bayern Munchen\", \"Liverpool\", \"Real Madrid\", \"Manchester United\", \"PSG\", \"Ajax\")\n",
        "print(f\"AC Milan ada di indeks ke {football_club.index('AC Milan')} dan Manchester United ada di indeks ke {football_club.index('Manchester United')}\")"
      ],
      "metadata": {
        "colab": {
          "base_uri": "https://localhost:8080/"
        },
        "id": "TX3BHwboSWWc",
        "outputId": "4967a6bf-c48b-4576-f0ad-3154c859fce7"
      },
      "execution_count": 53,
      "outputs": [
        {
          "output_type": "stream",
          "name": "stdout",
          "text": [
            "AC Milan ada di indeks ke 0 dan Manchester United ada di indeks ke 4\n"
          ]
        }
      ]
    },
    {
      "cell_type": "markdown",
      "source": [
        "**count()**"
      ],
      "metadata": {
        "id": "94eX18WgSr-X"
      }
    },
    {
      "cell_type": "markdown",
      "source": [
        "Jika ingin mengetahui jumlah suatu element pada tuple, kita bisa menggunakan method `count()`."
      ],
      "metadata": {
        "id": "OMY-7gbDSvUg"
      }
    },
    {
      "cell_type": "code",
      "source": [
        "# Coba jalankan code di bawah\n",
        "angka = (2, 3, 5, 6, 1, 2, 4, 1, 2, 1, 3, 4, 6, 12)\n",
        "\n",
        "# Kita akan menghitung banyak kemunculan angka 1 pada tuple angka\n",
        "print(f\"Kemunculan angka 1 pada tuple angka sebanyak {angka.count(1)} kali\")"
      ],
      "metadata": {
        "colab": {
          "base_uri": "https://localhost:8080/"
        },
        "id": "T8YrMLJQSrcy",
        "outputId": "256c0d75-c11d-439f-f178-8e45a95add6e"
      },
      "execution_count": 54,
      "outputs": [
        {
          "output_type": "stream",
          "name": "stdout",
          "text": [
            "Kemunculan angka 1 pada tuple angka sebanyak 3 kali\n"
          ]
        }
      ]
    },
    {
      "cell_type": "code",
      "source": [
        "# Coba hitung kemunculan angka 2 pada tuple angka\n",
        "angka = [2, 3, 5, 6, 1, 2, 4, 1, 2, 1, 3, 4, 6, 12, 9, 18, 5, 4, 8, 3, 2, 8, 10, 4, 6, 2, 7]\n",
        "print(f\"Kemunculan angka 2 pada tuple angka sebanyak {angka.count(2)} kali\")"
      ],
      "metadata": {
        "colab": {
          "base_uri": "https://localhost:8080/"
        },
        "id": "i6OstVqfS6k3",
        "outputId": "dbcba0d9-45b9-4aa8-e87a-e5cad26389f5"
      },
      "execution_count": 55,
      "outputs": [
        {
          "output_type": "stream",
          "name": "stdout",
          "text": [
            "Kemunculan angka 2 pada tuple angka sebanyak 5 kali\n"
          ]
        }
      ]
    }
  ]
}