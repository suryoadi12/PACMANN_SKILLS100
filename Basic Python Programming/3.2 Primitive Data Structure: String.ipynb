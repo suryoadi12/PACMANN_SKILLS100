{
  "nbformat": 4,
  "nbformat_minor": 0,
  "metadata": {
    "colab": {
      "provenance": [],
      "authorship_tag": "ABX9TyOmfvUCTzbpWuBIgLlvgNi/",
      "include_colab_link": true
    },
    "kernelspec": {
      "name": "python3",
      "display_name": "Python 3"
    },
    "language_info": {
      "name": "python"
    }
  },
  "cells": [
    {
      "cell_type": "markdown",
      "metadata": {
        "id": "view-in-github",
        "colab_type": "text"
      },
      "source": [
        "<a href=\"https://colab.research.google.com/github/suryoadi12/PACMANN_SKILLS100/blob/main/Basic%20Python%20Programming/3.2%20Primitive%20Data%20Structure%3A%20String.ipynb\" target=\"_parent\"><img src=\"https://colab.research.google.com/assets/colab-badge.svg\" alt=\"Open In Colab\"/></a>"
      ]
    },
    {
      "cell_type": "markdown",
      "source": [
        "# **Pertemuan #2-3 - Primitive Data Structure: String**"
      ],
      "metadata": {
        "id": "AQklc8h4pVMF"
      }
    },
    {
      "cell_type": "markdown",
      "source": [
        "**3. STRING**"
      ],
      "metadata": {
        "id": "A-bNdMdnpxJq"
      }
    },
    {
      "cell_type": "markdown",
      "source": [
        "String adalah **kumpulan huruf, kata atau karakter yang lain**. Di Python String bisa dibuat dengan tanda kutip tunggal `('...')` atau ganda `(\"...\")`\n",
        "\n",
        "Di dunia nyata string bisa digunakan untuk cek plagiasi, deteksi spam pada email, bahkan untuk search engine.\n",
        "\n",
        "Contoh sebuah string: `\"google\"`, `'python'`, `'data_'`, `'@'`, dsb."
      ],
      "metadata": {
        "id": "32pahAA7p5Ht"
      }
    },
    {
      "cell_type": "code",
      "execution_count": null,
      "metadata": {
        "colab": {
          "base_uri": "https://localhost:8080/"
        },
        "id": "wc_tFlYQpCdY",
        "outputId": "747986da-978d-48e6-e62a-96e633f776e2"
      },
      "outputs": [
        {
          "output_type": "stream",
          "name": "stdout",
          "text": [
            "Pintu\n"
          ]
        }
      ],
      "source": [
        "# Coba jalankan code dibawah ini\n",
        "\n",
        "print('Pintu')"
      ]
    },
    {
      "cell_type": "code",
      "source": [
        "# Isi titik-titik dibawah ini dengan kalimat \"Antony is the GOAT\"\n",
        "\n",
        "print(\"Antony is the GOAT\")"
      ],
      "metadata": {
        "colab": {
          "base_uri": "https://localhost:8080/"
        },
        "id": "kzJcZg5KqRkf",
        "outputId": "44b43429-e186-4ce9-b5ab-312c72afac68"
      },
      "execution_count": null,
      "outputs": [
        {
          "output_type": "stream",
          "name": "stdout",
          "text": [
            "Antony is the GOAT\n"
          ]
        }
      ]
    },
    {
      "cell_type": "code",
      "source": [
        "# Coba print kota tempat tinggal kamu sekarang dengan petik ganda\n",
        "\n",
        "print(\"Kota Madiun\")"
      ],
      "metadata": {
        "colab": {
          "base_uri": "https://localhost:8080/"
        },
        "id": "E0eMRiJwqcbG",
        "outputId": "eefad922-f29b-4141-d07b-a3dfad782a40"
      },
      "execution_count": null,
      "outputs": [
        {
          "output_type": "stream",
          "name": "stdout",
          "text": [
            "Kota Madiun\n"
          ]
        }
      ]
    },
    {
      "cell_type": "markdown",
      "source": [
        "Bagaimana jika kita ingin **menggunakan tanda kutip di dalam string**?\n",
        "\n",
        "Jika menggunakan **kutip ganda** `(\"...\")` untuk definisi string, maka bisa digunakan **kutip tunggal** `('...')` di dalam teks."
      ],
      "metadata": {
        "id": "nPT7Kiw1qqmq"
      }
    },
    {
      "cell_type": "code",
      "source": [
        "# Coba lengkapi kode dibawah sehingga bisa diprint\n",
        "\n",
        "print(\"'Hello, it's me'\")"
      ],
      "metadata": {
        "colab": {
          "base_uri": "https://localhost:8080/"
        },
        "id": "q_ev2kLsq2mb",
        "outputId": "214916a4-bed5-48f9-e07c-b3fbabafd28e"
      },
      "execution_count": null,
      "outputs": [
        {
          "output_type": "stream",
          "name": "stdout",
          "text": [
            "'Hello, it's me'\n"
          ]
        }
      ]
    },
    {
      "cell_type": "markdown",
      "source": [
        "Jika menggunakan **kutip tunggal** `('...')` untuk definisi string, maka bisa menggunakan **kutip ganda** `(\"...\")` di dalam teks."
      ],
      "metadata": {
        "id": "4-V1xACvrQy2"
      }
    },
    {
      "cell_type": "code",
      "source": [
        "# Coba lengkapi kode dibawah ini sehingga bisa diprint\n",
        "\n",
        "print('\"Terbentur, terbentur, terbentuk\", kata Tan Malaka')"
      ],
      "metadata": {
        "colab": {
          "base_uri": "https://localhost:8080/"
        },
        "id": "6Vnd4L0CrXhD",
        "outputId": "7ecf52e3-35e2-4f01-ff27-3db962dece26"
      },
      "execution_count": null,
      "outputs": [
        {
          "output_type": "stream",
          "name": "stdout",
          "text": [
            "\"Terbentur, terbentur, terbentuk\", kata Tan Malaka\n"
          ]
        }
      ]
    },
    {
      "cell_type": "markdown",
      "source": [
        "Apakah bisa menggunakan kutip tunggal dan ganda secara bersamaan? Untuk itu Python memungkinkan kita untuk menggunakan **tanda kutip tiga** `('''...''')`.\n",
        "\n",
        "Untuk membuatnya kita bisa menggunakan **kutip tunggal** `('')` sebanyak tiga kali."
      ],
      "metadata": {
        "id": "vwkEsMFVryQe"
      }
    },
    {
      "cell_type": "code",
      "source": [
        "# Coba jalankan kode dibawah ini\n",
        "\n",
        "print('''\"That's great\", she said.''')"
      ],
      "metadata": {
        "colab": {
          "base_uri": "https://localhost:8080/"
        },
        "id": "vXYSqZTpr7k4",
        "outputId": "a056abca-3abb-4c5a-d825-528f04e9c7c9"
      },
      "execution_count": null,
      "outputs": [
        {
          "output_type": "stream",
          "name": "stdout",
          "text": [
            "\"That's great\", she said.\n"
          ]
        }
      ]
    },
    {
      "cell_type": "code",
      "source": [
        "# Lengkapi titik-titik dibawah ini dengan tanda kutip tiga\n",
        "\n",
        "print('''...He said, \"What's there?\"''')"
      ],
      "metadata": {
        "colab": {
          "base_uri": "https://localhost:8080/"
        },
        "id": "FJLBneH9sS6e",
        "outputId": "d4c3dd9f-2b17-4f67-f90e-c27528ea2576"
      },
      "execution_count": null,
      "outputs": [
        {
          "output_type": "stream",
          "name": "stdout",
          "text": [
            "...He said, \"What's there?\"\n"
          ]
        }
      ]
    },
    {
      "cell_type": "markdown",
      "source": [
        "Untuk menyimpan string di dalam variabel caranya sama dengan menyimpan integer atau float, namun untuk definisi string tetap harus menggunakan tanda kutip."
      ],
      "metadata": {
        "id": "XYDQcpBzsgGX"
      }
    },
    {
      "cell_type": "code",
      "source": [
        "# Lengkapi kode dibawah ini sehingga bisa diprint\n",
        "\n",
        "string_1 = \"Antony wins the Ballon D'Or\"\n",
        "print(string_1)"
      ],
      "metadata": {
        "colab": {
          "base_uri": "https://localhost:8080/"
        },
        "id": "TuRvbfEsspIg",
        "outputId": "140ea16d-1037-4379-9ef2-6b2e699710ff"
      },
      "execution_count": null,
      "outputs": [
        {
          "output_type": "stream",
          "name": "stdout",
          "text": [
            "Antony wins the Ballon D'Or\n"
          ]
        }
      ]
    },
    {
      "cell_type": "code",
      "source": [
        "# Coba print variabel string_2\n",
        "\n",
        "string_2 = \"Ruben Amorim\"\n",
        "print(string_2)"
      ],
      "metadata": {
        "colab": {
          "base_uri": "https://localhost:8080/"
        },
        "id": "cOCAs9L_s6QE",
        "outputId": "dec03ce0-b740-48ef-c9e8-edad25f44d6a"
      },
      "execution_count": null,
      "outputs": [
        {
          "output_type": "stream",
          "name": "stdout",
          "text": [
            "Ruben Amorim\n"
          ]
        }
      ]
    },
    {
      "cell_type": "markdown",
      "source": [
        "Untuk memeriksa bahwa tipe data yang kita tulis adalah string bisa dengan cara `type(VALUE)`"
      ],
      "metadata": {
        "id": "BUX1yoXstIZm"
      }
    },
    {
      "cell_type": "code",
      "source": [
        "# Coba isi titik-titik dibawah ini\n",
        "\n",
        "club = \"Manchester United\"\n",
        "print(type(club))"
      ],
      "metadata": {
        "colab": {
          "base_uri": "https://localhost:8080/"
        },
        "id": "Ho4ampf_tKkG",
        "outputId": "b2ee68c6-b3ae-4cb5-b057-ac3986b037be"
      },
      "execution_count": null,
      "outputs": [
        {
          "output_type": "stream",
          "name": "stdout",
          "text": [
            "<class 'str'>\n"
          ]
        }
      ]
    },
    {
      "cell_type": "code",
      "source": [
        "# Coba buat sebuah variabel bernama hewan\n",
        "# Kemudian isi variabel tersebut dengan string kelinci\n",
        "# Selanjutnya cek tipe data variabel tersebut\n",
        "\n",
        "hewan = \"Kelinci\"\n",
        "print(type(hewan))"
      ],
      "metadata": {
        "colab": {
          "base_uri": "https://localhost:8080/"
        },
        "id": "-lSEbgsJtWm9",
        "outputId": "b376e84b-458e-47fe-8f0b-3b3b26d2d4f7"
      },
      "execution_count": null,
      "outputs": [
        {
          "output_type": "stream",
          "name": "stdout",
          "text": [
            "<class 'str'>\n"
          ]
        }
      ]
    },
    {
      "cell_type": "markdown",
      "source": [
        "Angka yang didefinisikan dengan tanda kutip juga merupakan string."
      ],
      "metadata": {
        "id": "8V_CO5pUtfHK"
      }
    },
    {
      "cell_type": "code",
      "source": [
        "# Coba lengkapi kode dibawah ini\n",
        "\n",
        "angka = \"17\"\n",
        "print(type(angka))"
      ],
      "metadata": {
        "colab": {
          "base_uri": "https://localhost:8080/"
        },
        "id": "kfXmbQitthda",
        "outputId": "2ba4751b-5b2f-4ba6-b851-0137ecf68a7e"
      },
      "execution_count": null,
      "outputs": [
        {
          "output_type": "stream",
          "name": "stdout",
          "text": [
            "<class 'str'>\n"
          ]
        }
      ]
    },
    {
      "cell_type": "markdown",
      "source": [
        "**STRING OPERATOR**"
      ],
      "metadata": {
        "id": "fYGR_jcutrem"
      }
    },
    {
      "cell_type": "markdown",
      "source": [
        "Di Python, string operator mewakili berbagai jenis operasi yang dapat digunakan pada tipe data string. Berikut ini adalah beberapa string operator yang sering digunakan.\n",
        "\n",
        "Misalkan :\n",
        "\n",
        "\n",
        "\n",
        "*   `STR_1 = 'data'`\n",
        "\n",
        "*   `STR_2 = 'science'`\n",
        "\n"
      ],
      "metadata": {
        "id": "7xwfgOXNttd6"
      }
    },
    {
      "cell_type": "markdown",
      "source": [
        "![asdfafwe.JPG](data:image/jpeg;base64,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)"
      ],
      "metadata": {
        "id": "evJfmUurt_FK"
      }
    },
    {
      "cell_type": "markdown",
      "source": [
        "**CONCATENATION**"
      ],
      "metadata": {
        "id": "aIp1yYB7uLUm"
      }
    },
    {
      "cell_type": "markdown",
      "source": [
        "Concatenation `(STR_VALUE1 + STR_VALUE2)` berfungsi untuk menggabungkan dua string atau lebih."
      ],
      "metadata": {
        "id": "6UuJr0SxuQBW"
      }
    },
    {
      "cell_type": "code",
      "source": [
        "# Jalankan kode dibawah ini\n",
        "\n",
        "print(\"Manchester\"+\"United\")"
      ],
      "metadata": {
        "colab": {
          "base_uri": "https://localhost:8080/"
        },
        "id": "DjnbfJ8ZuUFu",
        "outputId": "922e6543-c9a0-46ab-f011-a252563de8b3"
      },
      "execution_count": null,
      "outputs": [
        {
          "output_type": "stream",
          "name": "stdout",
          "text": [
            "ManchesterUnited\n"
          ]
        }
      ]
    },
    {
      "cell_type": "markdown",
      "source": [
        "Atau bisa juga dengan menggunakan variabel."
      ],
      "metadata": {
        "id": "9USAN0etuc-n"
      }
    },
    {
      "cell_type": "code",
      "source": [
        "# Coba isi code dibawah dengan operasi concatenation\n",
        "\n",
        "string_1 = \"Manchester\"\n",
        "string_2 = \" \"\n",
        "string_3 = \"United\"\n",
        "print(string_1+string_2+string_3)"
      ],
      "metadata": {
        "colab": {
          "base_uri": "https://localhost:8080/"
        },
        "id": "F97CWIRtudvC",
        "outputId": "7637285d-67ac-42a1-963b-543b95743786"
      },
      "execution_count": null,
      "outputs": [
        {
          "output_type": "stream",
          "name": "stdout",
          "text": [
            "Manchester United\n"
          ]
        }
      ]
    },
    {
      "cell_type": "markdown",
      "source": [
        "**REPETITION**"
      ],
      "metadata": {
        "id": "L6dE-QXEuz2e"
      }
    },
    {
      "cell_type": "markdown",
      "source": [
        "Operator repetition `(STR_VALUE*n)` berfungsi untuk **mengulang string** sebanyak n kali sesuai yang kita inginkan."
      ],
      "metadata": {
        "id": "5O_zAR_-u1km"
      }
    },
    {
      "cell_type": "code",
      "source": [
        "# Jalankan kode dibawah ini\n",
        "\n",
        "print(\"Ayam\"*3)"
      ],
      "metadata": {
        "colab": {
          "base_uri": "https://localhost:8080/"
        },
        "id": "Le1vYoZqu1OW",
        "outputId": "37b22d87-1bac-4451-a61d-e50e419effdb"
      },
      "execution_count": null,
      "outputs": [
        {
          "output_type": "stream",
          "name": "stdout",
          "text": [
            "AyamAyamAyam\n"
          ]
        }
      ]
    },
    {
      "cell_type": "markdown",
      "source": [
        "Cara ini bisa juga dilakukan dengan menggunakan variabel."
      ],
      "metadata": {
        "id": "mZ7CN7ysvCbW"
      }
    },
    {
      "cell_type": "code",
      "source": [
        "# Coba isi variabel hewan dengan string \"ayam\"\n",
        "# Ulangi variabel hewan saat di print sebanyak 5 kali\n",
        "\n",
        "hewan = \"Ayam\"\n",
        "print(hewan*5)"
      ],
      "metadata": {
        "colab": {
          "base_uri": "https://localhost:8080/"
        },
        "id": "zZGCrvohvD8K",
        "outputId": "4502ff27-e7bb-4375-8eb6-5f6afd28523e"
      },
      "execution_count": null,
      "outputs": [
        {
          "output_type": "stream",
          "name": "stdout",
          "text": [
            "AyamAyamAyamAyamAyam\n"
          ]
        }
      ]
    },
    {
      "cell_type": "code",
      "source": [
        "# Coba buatlah variabel tanaman dan isilah variabel dengan string \"bunga\"\n",
        "# Ulangi variabel tanaman saat di print sebanyak 4 kali\n",
        "\n",
        "tanaman = \"Bunga\"\n",
        "print(tanaman*4)"
      ],
      "metadata": {
        "colab": {
          "base_uri": "https://localhost:8080/"
        },
        "id": "74009A5pvOdK",
        "outputId": "1d187609-85ce-43f4-8f3b-a7e063a61cd6"
      },
      "execution_count": null,
      "outputs": [
        {
          "output_type": "stream",
          "name": "stdout",
          "text": [
            "BungaBungaBungaBunga\n"
          ]
        }
      ]
    },
    {
      "cell_type": "markdown",
      "source": [
        "**SLICING**"
      ],
      "metadata": {
        "id": "LqBseYcovWXY"
      }
    },
    {
      "cell_type": "markdown",
      "source": [
        "Pada string kita bisa mengambil karakter yang kita inginkan dengan cara **mengakses indeks dari string tersebut**. Perlu di ingat indeks pada Python dimulai dengan 0."
      ],
      "metadata": {
        "id": "_Ybc5mCDvYut"
      }
    },
    {
      "cell_type": "markdown",
      "source": [
        "![slafjewoaf.JPG](data:image/jpeg;base64,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)"
      ],
      "metadata": {
        "id": "67EVdRkmvZ1q"
      }
    },
    {
      "cell_type": "markdown",
      "source": [
        "Cara untuk melakukan slicing bisa menggunakan **kurung siku** `[]`.\n",
        "\n",
        "Contohnya jika kita ingin mengambil karakter ke-4 pada sebuah string maka caranya `NAMA_VAR[4]`"
      ],
      "metadata": {
        "id": "kE_3zl0Pvn2r"
      }
    },
    {
      "cell_type": "code",
      "source": [
        "# Coba jalankan kode dibawah ini\n",
        "\n",
        "jam = \"Jam Tangan\"\n",
        "print(jam[4])"
      ],
      "metadata": {
        "colab": {
          "base_uri": "https://localhost:8080/"
        },
        "id": "fto8BwdLvuNG",
        "outputId": "1ea826f0-060b-408e-829b-731b4ca4f458"
      },
      "execution_count": null,
      "outputs": [
        {
          "output_type": "stream",
          "name": "stdout",
          "text": [
            "T\n"
          ]
        }
      ]
    },
    {
      "cell_type": "code",
      "source": [
        "# Lengkapi titik-titik dibawah ini\n",
        "\n",
        "jam = \"Jam Tangan\"\n",
        "print(jam[1])"
      ],
      "metadata": {
        "colab": {
          "base_uri": "https://localhost:8080/"
        },
        "id": "Ue--WzfZv2ja",
        "outputId": "5e7da12f-5469-4a25-bacc-07bf1b8d07e1"
      },
      "execution_count": null,
      "outputs": [
        {
          "output_type": "stream",
          "name": "stdout",
          "text": [
            "a\n"
          ]
        }
      ]
    },
    {
      "cell_type": "code",
      "source": [
        "# Coba ambil karakter n pada string jam\n",
        "\n",
        "jam = \"Jam Tangan\"\n",
        "print(jam[9])"
      ],
      "metadata": {
        "colab": {
          "base_uri": "https://localhost:8080/"
        },
        "id": "XcVA0lD2wFiu",
        "outputId": "a223db16-67f6-41ce-8b43-b1130d960669"
      },
      "execution_count": null,
      "outputs": [
        {
          "output_type": "stream",
          "name": "stdout",
          "text": [
            "n\n"
          ]
        }
      ]
    },
    {
      "cell_type": "markdown",
      "source": [
        "Bagaimana jika ingin **mendapatkan beberapa karakter** secara langsung? Bisa menggunakan `NAMA_VAR[start:stop-1]`. Operator ini akan mengambil karakter dari indeks `start` sampai ke indeks `stop-1` dari string."
      ],
      "metadata": {
        "id": "kndw0jblwVXn"
      }
    },
    {
      "cell_type": "markdown",
      "source": [
        "Untuk mengambil seluruh nilai pada string menggunakan notasi `[:]`."
      ],
      "metadata": {
        "id": "KBXEiyfTwgC-"
      }
    },
    {
      "cell_type": "code",
      "source": [
        "# Coba jalankan kode dibawah ini\n",
        "\n",
        "jam = \"Jam Tangan\"\n",
        "print(jam[:])"
      ],
      "metadata": {
        "colab": {
          "base_uri": "https://localhost:8080/"
        },
        "id": "86cgDOJgwjnc",
        "outputId": "2061f91b-57ed-494e-968f-ee84923c7933"
      },
      "execution_count": null,
      "outputs": [
        {
          "output_type": "stream",
          "name": "stdout",
          "text": [
            "Jam Tangan\n"
          ]
        }
      ]
    },
    {
      "cell_type": "markdown",
      "source": [
        "Kita akan coba mengambil indeks ke 1 - 5 pada kata `'jam tangan'` berarti notasinya `[1:6]`"
      ],
      "metadata": {
        "id": "kzNntyIOwsd2"
      }
    },
    {
      "cell_type": "markdown",
      "source": [
        "![asjdfose.JPG](data:image/jpeg;base64,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)"
      ],
      "metadata": {
        "id": "WsfhDsiuwwX-"
      }
    },
    {
      "cell_type": "code",
      "source": [
        "# Coba lengkapi titik-titik dibawah ini\n",
        "\n",
        "jam = \"Jam Tangan\"\n",
        "print(jam[1:6])"
      ],
      "metadata": {
        "colab": {
          "base_uri": "https://localhost:8080/"
        },
        "id": "MvB4mMLew5Je",
        "outputId": "8346fa45-86d0-4198-9cb0-396dbab89acd"
      },
      "execution_count": null,
      "outputs": [
        {
          "output_type": "stream",
          "name": "stdout",
          "text": [
            "am Ta\n"
          ]
        }
      ]
    },
    {
      "cell_type": "code",
      "source": [
        "# Coba ambil kata jam dengan metode slicing\n",
        "\n",
        "jam = \"Jam Tangan\"\n",
        "print(jam[0:3])"
      ],
      "metadata": {
        "colab": {
          "base_uri": "https://localhost:8080/"
        },
        "id": "9boGKUQrxCSu",
        "outputId": "75060e71-008d-4c8e-8d6a-1b4446dcebde"
      },
      "execution_count": null,
      "outputs": [
        {
          "output_type": "stream",
          "name": "stdout",
          "text": [
            "Jam\n"
          ]
        }
      ]
    },
    {
      "cell_type": "markdown",
      "source": [
        "Jika kita ingin mengambil karakter yang diawali indeks ke `n` sampai akhir string, bisa menggunakan `[n:]`"
      ],
      "metadata": {
        "id": "mWPgh1JTxN_9"
      }
    },
    {
      "cell_type": "code",
      "source": [
        "# Coba jalankan kode dibawah ini\n",
        "\n",
        "jam = \"Jam Tangan\"\n",
        "print(jam[1:])"
      ],
      "metadata": {
        "colab": {
          "base_uri": "https://localhost:8080/"
        },
        "id": "Vwnbor5YxR7P",
        "outputId": "414c2660-a511-4570-efed-598354dbabad"
      },
      "execution_count": null,
      "outputs": [
        {
          "output_type": "stream",
          "name": "stdout",
          "text": [
            "am Tangan\n"
          ]
        }
      ]
    },
    {
      "cell_type": "code",
      "source": [
        "# Coba isi titik-titik dibawah dari index ke 2\n",
        "\n",
        "jam = \"Jam Tangan\"\n",
        "print(jam[2:])"
      ],
      "metadata": {
        "colab": {
          "base_uri": "https://localhost:8080/"
        },
        "id": "YjRRIybFxbgO",
        "outputId": "3ccda3d5-af4f-44f6-e527-338b7812c03d"
      },
      "execution_count": null,
      "outputs": [
        {
          "output_type": "stream",
          "name": "stdout",
          "text": [
            "m Tangan\n"
          ]
        }
      ]
    },
    {
      "cell_type": "code",
      "source": [
        "# Coba ambil kata tangan pada variabel jam\n",
        "\n",
        "jam = \"Jam Tangan\"\n",
        "print(jam[4:])"
      ],
      "metadata": {
        "colab": {
          "base_uri": "https://localhost:8080/"
        },
        "id": "H4zGXHdixq6f",
        "outputId": "6de7cadd-6843-4db3-a318-414e2e08f2e0"
      },
      "execution_count": null,
      "outputs": [
        {
          "output_type": "stream",
          "name": "stdout",
          "text": [
            "Tangan\n"
          ]
        }
      ]
    },
    {
      "cell_type": "markdown",
      "source": [
        "Jika kita ingin mengambil karakter dari awal string sampai indeks ke `m-1`, bisa menggunakan `[:m]`"
      ],
      "metadata": {
        "id": "JIgCopvbx6Dv"
      }
    },
    {
      "cell_type": "code",
      "source": [
        "# Coba jalankan kode dibawah ini\n",
        "\n",
        "jam = \"Jam Tangan\"\n",
        "print(jam[:6])"
      ],
      "metadata": {
        "colab": {
          "base_uri": "https://localhost:8080/"
        },
        "id": "rrHwGGEex-Dm",
        "outputId": "1131a239-466c-4702-8514-558ad59f2551"
      },
      "execution_count": null,
      "outputs": [
        {
          "output_type": "stream",
          "name": "stdout",
          "text": [
            "Jam Ta\n"
          ]
        }
      ]
    },
    {
      "cell_type": "code",
      "source": [
        "# Coba isi titik-titik dibawah ini sampai index ke 5\n",
        "\n",
        "jam = \"Jam Tangan\"\n",
        "print(jam[:5])"
      ],
      "metadata": {
        "colab": {
          "base_uri": "https://localhost:8080/"
        },
        "id": "3dTFOGPIyKbv",
        "outputId": "69732d40-9dad-4c76-c029-fd25a70cfb04"
      },
      "execution_count": null,
      "outputs": [
        {
          "output_type": "stream",
          "name": "stdout",
          "text": [
            "Jam T\n"
          ]
        }
      ]
    },
    {
      "cell_type": "code",
      "source": [
        "# Coba ambil kata jam pada nilai string jam\n",
        "\n",
        "jam = \"Jam Tangan\"\n",
        "print(jam[:4])"
      ],
      "metadata": {
        "colab": {
          "base_uri": "https://localhost:8080/"
        },
        "id": "EIUOqosWyZal",
        "outputId": "1a4b28a3-ef5d-466f-a86f-ab8d834bda09"
      },
      "execution_count": null,
      "outputs": [
        {
          "output_type": "stream",
          "name": "stdout",
          "text": [
            "Jam \n"
          ]
        }
      ]
    },
    {
      "cell_type": "markdown",
      "source": [
        "Apakah bisa menggunakan angka negatif dalam string slicing? Bisa!"
      ],
      "metadata": {
        "id": "GJ0Fu8AfyXZM"
      }
    },
    {
      "cell_type": "markdown",
      "source": [
        "![dslajfew.JPG](data:image/jpeg;base64,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)"
      ],
      "metadata": {
        "id": "tuXQ1xEbyrew"
      }
    },
    {
      "cell_type": "markdown",
      "source": [
        "Menggunakan angka negatif sebagai indeks dalam Python akan mengembalikan elemen ke-n dari **sisi kanan** (berlawanan dengan sisi kiri yang biasa).\n",
        "\n",
        "Kelebihan menggunakan metode ini yaitu, daripada kita menghitung indeks dari awal untuk mengambil suatu string yang berada di akhir kalimat atau kata, kita bisa langsung menggunakan mengakses indeksnya menggunakan slicing negatif."
      ],
      "metadata": {
        "id": "vc_I5Rk1yypl"
      }
    },
    {
      "cell_type": "code",
      "source": [
        "# Coba jalankan kode dibawah ini\n",
        "\n",
        "jam = \"Jam Tangan\"\n",
        "print(jam[-5])"
      ],
      "metadata": {
        "colab": {
          "base_uri": "https://localhost:8080/"
        },
        "id": "XA1ZfAQey7Jq",
        "outputId": "839ef3dd-759b-4ef8-fa5a-4d3a79cadfed"
      },
      "execution_count": null,
      "outputs": [
        {
          "output_type": "stream",
          "name": "stdout",
          "text": [
            "a\n"
          ]
        }
      ]
    },
    {
      "cell_type": "code",
      "source": [
        "# Ambil nilai indeks negatif satu pada variabel jam\n",
        "\n",
        "jam = \"Jam Tangan\"\n",
        "print(jam[-1])"
      ],
      "metadata": {
        "colab": {
          "base_uri": "https://localhost:8080/"
        },
        "id": "MLqGDboTzTHd",
        "outputId": "19840554-27ef-486d-caf1-f3d78348a553"
      },
      "execution_count": null,
      "outputs": [
        {
          "output_type": "stream",
          "name": "stdout",
          "text": [
            "n\n"
          ]
        }
      ]
    },
    {
      "cell_type": "code",
      "source": [
        "# Dengan slicing, ambil kata jam menggunakan index negatif\n",
        "\n",
        "jam = \"Jam Tangan\"\n",
        "print(jam[:-7])"
      ],
      "metadata": {
        "colab": {
          "base_uri": "https://localhost:8080/"
        },
        "id": "vwZo0wT-zbJW",
        "outputId": "372dfbfd-d509-4761-e0b7-d2ca655dee0d"
      },
      "execution_count": null,
      "outputs": [
        {
          "output_type": "stream",
          "name": "stdout",
          "text": [
            "Jam\n"
          ]
        }
      ]
    },
    {
      "cell_type": "markdown",
      "source": [
        "Kita juga bisa menggunakan **kombinasi indeks negatif dan positif** dalam slicing."
      ],
      "metadata": {
        "id": "TAUws87Nzw7u"
      }
    },
    {
      "cell_type": "code",
      "source": [
        "# Coba jalankan kode dibawah ini\n",
        "\n",
        "jam = \"Jam Tangan\"\n",
        "print(jam[-9:5])"
      ],
      "metadata": {
        "colab": {
          "base_uri": "https://localhost:8080/"
        },
        "id": "4e42_kXfz1B5",
        "outputId": "cbe9e5e1-14e2-4314-bae0-b20127fc937f"
      },
      "execution_count": null,
      "outputs": [
        {
          "output_type": "stream",
          "name": "stdout",
          "text": [
            "am T\n"
          ]
        }
      ]
    },
    {
      "cell_type": "code",
      "source": [
        "# Dengan kombinasi indeks positif dan negatif, ambil kata 'tanga'\n",
        "\n",
        "jam = \"Jam Tangan\"\n",
        "print(jam[4:-1])"
      ],
      "metadata": {
        "colab": {
          "base_uri": "https://localhost:8080/"
        },
        "id": "7jmqCgPHz-Ep",
        "outputId": "21a5a119-a10c-4b12-a396-aa93784c6efc"
      },
      "execution_count": null,
      "outputs": [
        {
          "output_type": "stream",
          "name": "stdout",
          "text": [
            "Tanga\n"
          ]
        }
      ]
    },
    {
      "cell_type": "markdown",
      "source": [
        "**MINI EXERCISE**"
      ],
      "metadata": {
        "id": "uEBf4oGM0OWl"
      }
    },
    {
      "cell_type": "markdown",
      "source": [
        "1. Boss anda menyuruh untuk mengambil data penjualan di bulan tertentu. Bagaimana cara anda untuk mendapatkan hanya bulannya saja di tanggal transaksi tersebut ?\n",
        "\n",
        "\n",
        "\n",
        "  *   tgl_transaksi_1 = \"02-01-2022\"\n",
        "  *   tgl_transaksi_2 = \"26-05-2022\""
      ],
      "metadata": {
        "id": "sIZTnzc50QDd"
      }
    },
    {
      "cell_type": "code",
      "source": [
        "tgl_transaksi_1 = \"02-01-2022\"\n",
        "tgl_transaksi_2 = \"26-05-2022\"\n",
        "print(tgl_transaksi_1[3:-5])\n",
        "print(tgl_transaksi_2[3:-5])"
      ],
      "metadata": {
        "colab": {
          "base_uri": "https://localhost:8080/"
        },
        "id": "AfqwKRUG0ZoW",
        "outputId": "15b0aa07-d004-4152-96b7-7053ddc7a620"
      },
      "execution_count": null,
      "outputs": [
        {
          "output_type": "stream",
          "name": "stdout",
          "text": [
            "01\n",
            "05\n"
          ]
        }
      ]
    },
    {
      "cell_type": "markdown",
      "source": [
        "**STRING METHOD**"
      ],
      "metadata": {
        "id": "ILUknDSM1JYm"
      }
    },
    {
      "cell_type": "markdown",
      "source": [
        "Ada berbagai macam string methods yang ada di Python. Untuk pertemuan ini, hanya akan dikenalkan beberapa, yaitu sebagai berikut:"
      ],
      "metadata": {
        "id": "qaW-FwCk1LJN"
      }
    },
    {
      "cell_type": "markdown",
      "source": [
        "![asgrgsdgs.JPG](data:image/jpeg;base64,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)"
      ],
      "metadata": {
        "id": "6krUnJFu1Mwg"
      }
    },
    {
      "cell_type": "markdown",
      "source": [
        "**len()**"
      ],
      "metadata": {
        "id": "TVsVjcby1Ut5"
      }
    },
    {
      "cell_type": "markdown",
      "source": [
        "`len()` akan **mengembalikan panjang string** dalam bentuk integer.\n",
        "\n",
        "Penggunaan: `len(NAMA_VAR)`"
      ],
      "metadata": {
        "id": "xCQyaPki1W89"
      }
    },
    {
      "cell_type": "code",
      "source": [
        "# Jalankan kode dibawah ini\n",
        "\n",
        "string_1 = \"Bruno Fernandes\"\n",
        "print(len(string_1))"
      ],
      "metadata": {
        "colab": {
          "base_uri": "https://localhost:8080/"
        },
        "id": "yP-iMh1C1edW",
        "outputId": "77bb62a1-4181-4ddd-89cb-0c0be6b6bd1d"
      },
      "execution_count": null,
      "outputs": [
        {
          "output_type": "stream",
          "name": "stdout",
          "text": [
            "15\n"
          ]
        }
      ]
    },
    {
      "cell_type": "code",
      "source": [
        "# Coba cari panjang string kalimat di bawah ini\n",
        "\n",
        "lyrics = \"Head in the ceiling fan goes rolling And missing like bullets slamming into deer skin\"\n",
        "print(len(lyrics))"
      ],
      "metadata": {
        "colab": {
          "base_uri": "https://localhost:8080/"
        },
        "id": "d29qKksM1qD6",
        "outputId": "7d7af739-8c5e-4937-d783-7b1b78bebe9b"
      },
      "execution_count": null,
      "outputs": [
        {
          "output_type": "stream",
          "name": "stdout",
          "text": [
            "85\n"
          ]
        }
      ]
    },
    {
      "cell_type": "markdown",
      "source": [
        "**upper()**"
      ],
      "metadata": {
        "id": "_dPc0rG42FEV"
      }
    },
    {
      "cell_type": "markdown",
      "source": [
        "`upper()` akan mengubah semua karakter di dalam string menjadi huruf kapital.\n",
        "\n",
        "penggunaan: `NAMA_VAR.upper()`"
      ],
      "metadata": {
        "id": "23vWS7ND2H4h"
      }
    },
    {
      "cell_type": "code",
      "source": [
        "# Coba jalankan kode dibawah ini\n",
        "\n",
        "pulau = \"Sumatera\"\n",
        "print(pulau.upper())"
      ],
      "metadata": {
        "id": "UeEvprMW2PsK",
        "colab": {
          "base_uri": "https://localhost:8080/"
        },
        "outputId": "33319737-80c7-43eb-f701-01c48219e188"
      },
      "execution_count": 46,
      "outputs": [
        {
          "output_type": "stream",
          "name": "stdout",
          "text": [
            "SUMATERA\n"
          ]
        }
      ]
    },
    {
      "cell_type": "code",
      "source": [
        "# Lengkapi kode dibawah ini\n",
        "# Buat string kota menjadi huruf kapital dengan method upper()\n",
        "\n",
        "city = \"Manchester\"\n",
        "print(city.upper())"
      ],
      "metadata": {
        "colab": {
          "base_uri": "https://localhost:8080/"
        },
        "id": "Z72i2ml3DrlD",
        "outputId": "ee578d7c-0494-405d-a224-64d2f98f093a"
      },
      "execution_count": 47,
      "outputs": [
        {
          "output_type": "stream",
          "name": "stdout",
          "text": [
            "MANCHESTER\n"
          ]
        }
      ]
    },
    {
      "cell_type": "markdown",
      "source": [
        "**lower()**"
      ],
      "metadata": {
        "id": "fHmKTQHzD2tq"
      }
    },
    {
      "cell_type": "markdown",
      "source": [
        "`lower()` akan mengubah semua karakter di dalam string menjadi huruf kecil.\n",
        "\n",
        "penggunaan : `NAMA_VAR.lower()`."
      ],
      "metadata": {
        "id": "0-Qw3t6mD51S"
      }
    },
    {
      "cell_type": "code",
      "source": [
        "# Coba jalankan code dibawah ini\n",
        "\n",
        "alatMusik = \"GITAR\"\n",
        "print(alatMusik.lower())"
      ],
      "metadata": {
        "colab": {
          "base_uri": "https://localhost:8080/"
        },
        "id": "DU-0CL1oEAiO",
        "outputId": "718b6618-d4a7-488c-d4e0-de067cac2cac"
      },
      "execution_count": 48,
      "outputs": [
        {
          "output_type": "stream",
          "name": "stdout",
          "text": [
            "gitar\n"
          ]
        }
      ]
    },
    {
      "cell_type": "code",
      "source": [
        "# Coba lengkapi kode dibawah ini\n",
        "# Jadikan kata dibawah ini menjadi huruf kecil dengan menggunakan method lower()\n",
        "\n",
        "bunga = \"anggrek BULAN\"\n",
        "print(bunga.lower())"
      ],
      "metadata": {
        "colab": {
          "base_uri": "https://localhost:8080/"
        },
        "id": "0xH9xvUwD9U6",
        "outputId": "6800742c-6aca-4eae-cafd-d60990b23c84"
      },
      "execution_count": 49,
      "outputs": [
        {
          "output_type": "stream",
          "name": "stdout",
          "text": [
            "anggrek bulan\n"
          ]
        }
      ]
    },
    {
      "cell_type": "markdown",
      "source": [
        "**count()**"
      ],
      "metadata": {
        "id": "suWYYg5hEZqK"
      }
    },
    {
      "cell_type": "markdown",
      "source": [
        "`count(`) akan menghitung karakter di dalam string dan mengembalikannya dalam bentuk integer\n",
        "\n",
        "penggunaan: `NAMA_VAR.count('VALUE')`"
      ],
      "metadata": {
        "id": "xkH8jjutEb0m"
      }
    },
    {
      "cell_type": "code",
      "source": [
        "# Coba jalankan code dibawah ini\n",
        "\n",
        "string_1 = \"Python Programming\"\n",
        "print(string_1.count(\"o\"))"
      ],
      "metadata": {
        "colab": {
          "base_uri": "https://localhost:8080/"
        },
        "id": "3LuAXi4uEn-a",
        "outputId": "ac716860-99f6-4f6e-9de8-c0763656386a"
      },
      "execution_count": 50,
      "outputs": [
        {
          "output_type": "stream",
          "name": "stdout",
          "text": [
            "2\n"
          ]
        }
      ]
    },
    {
      "cell_type": "code",
      "source": [
        "# Coba hitung huruf o pada string_2 menggunakan count()\n",
        "\n",
        "string_2 = \"Antony Dos Santos\"\n",
        "print(string_2.count(\"o\"))"
      ],
      "metadata": {
        "colab": {
          "base_uri": "https://localhost:8080/"
        },
        "id": "tkpG0Am7Ez7b",
        "outputId": "0a2fd1e7-e91d-425e-96af-1512cbaaf428"
      },
      "execution_count": 51,
      "outputs": [
        {
          "output_type": "stream",
          "name": "stdout",
          "text": [
            "3\n"
          ]
        }
      ]
    },
    {
      "cell_type": "markdown",
      "source": [
        "**find()**"
      ],
      "metadata": {
        "id": "-BXjAmAQFABO"
      }
    },
    {
      "cell_type": "markdown",
      "source": [
        "`find()` akan mencari sebuah karakter di dalam string, keluarannya adalah posisi indeks string tersebut.\n",
        "\n",
        "Jika tidak menemukan maka keluarannya -1\n",
        "\n",
        "penggunaan : `NAMA_VAR.find('karakter yang dicari')`"
      ],
      "metadata": {
        "id": "TX2JOnWEFBsN"
      }
    },
    {
      "cell_type": "code",
      "source": [
        "# Coba jalankan code dibawah ini\n",
        "\n",
        "buah = \"Apel\"\n",
        "print(buah.find(\"e\"))"
      ],
      "metadata": {
        "colab": {
          "base_uri": "https://localhost:8080/"
        },
        "id": "kyQ2MSMuFGKV",
        "outputId": "d938c3a1-f608-46a4-8bd8-f5f042e09d61"
      },
      "execution_count": 55,
      "outputs": [
        {
          "output_type": "stream",
          "name": "stdout",
          "text": [
            "2\n"
          ]
        }
      ]
    },
    {
      "cell_type": "code",
      "source": [
        "# Lengkapi kode berikut\n",
        "# Carilah karakter 'l' ada di indeks ke berapa dengan method find()\n",
        "\n",
        "pohon = \"Kelapa\"\n",
        "print(pohon.find(\"l\"))"
      ],
      "metadata": {
        "colab": {
          "base_uri": "https://localhost:8080/"
        },
        "id": "EoXyWQxiFY1T",
        "outputId": "350fb6d8-43fa-4677-8caa-3ebb6d329610"
      },
      "execution_count": 56,
      "outputs": [
        {
          "output_type": "stream",
          "name": "stdout",
          "text": [
            "2\n"
          ]
        }
      ]
    },
    {
      "cell_type": "markdown",
      "source": [
        "**replace()**"
      ],
      "metadata": {
        "id": "zABbvVRAFrNa"
      }
    },
    {
      "cell_type": "markdown",
      "source": [
        "`replace()` akan mengganti karakter sesuai dengan apa yang kita inginkan.\n",
        "\n",
        "penggunaan : `NAMA_VAR.replace('karakter_lama', 'karakter_baru')`"
      ],
      "metadata": {
        "id": "U31au21VFtj1"
      }
    },
    {
      "cell_type": "code",
      "source": [
        "# Coba jalankan kode dibawah ini\n",
        "\n",
        "unggas = \"Ayam Cemani\"\n",
        "print(unggas.replace(\"Cemani\", \"Petelor\"))"
      ],
      "metadata": {
        "colab": {
          "base_uri": "https://localhost:8080/"
        },
        "id": "MvJ0COpAFtRZ",
        "outputId": "d4fa186d-189b-4dd5-c307-4ca339dc6af8"
      },
      "execution_count": 57,
      "outputs": [
        {
          "output_type": "stream",
          "name": "stdout",
          "text": [
            "Ayam Petelor\n"
          ]
        }
      ]
    },
    {
      "cell_type": "code",
      "source": [
        "# Ganti kata pony menjadi jingkrak menggunakan metode replace()\n",
        "\n",
        "hewan = \"Kuda Pony\"\n",
        "print(hewan.replace(\"Pony\", \"Jingkrak\"))"
      ],
      "metadata": {
        "colab": {
          "base_uri": "https://localhost:8080/"
        },
        "id": "9T2MRRjJGAGh",
        "outputId": "9f381254-e534-47fd-e545-cd1bae12e557"
      },
      "execution_count": 58,
      "outputs": [
        {
          "output_type": "stream",
          "name": "stdout",
          "text": [
            "Kuda Jingkrak\n"
          ]
        }
      ]
    },
    {
      "cell_type": "markdown",
      "source": [
        "**capitalize()**"
      ],
      "metadata": {
        "id": "HbCCp8CRGQrt"
      }
    },
    {
      "cell_type": "markdown",
      "source": [
        "`capitalize()` akan mengubah karakter pertama pada suatu string menjadi huruf kapital.\n",
        "\n",
        "penggunaan : `NAMA_VAR.capitalize()`"
      ],
      "metadata": {
        "id": "BJSK98BJGUGl"
      }
    },
    {
      "cell_type": "code",
      "source": [
        "# Coba jalankan kode dibawah ini\n",
        "\n",
        "pohon = \"cemara\"\n",
        "print(pohon.capitalize())"
      ],
      "metadata": {
        "colab": {
          "base_uri": "https://localhost:8080/"
        },
        "id": "32EDcDv5GWON",
        "outputId": "9d4c82e6-3252-4740-aa21-f997fd86ca54"
      },
      "execution_count": 59,
      "outputs": [
        {
          "output_type": "stream",
          "name": "stdout",
          "text": [
            "Cemara\n"
          ]
        }
      ]
    },
    {
      "cell_type": "code",
      "source": [
        "# Buatlah huruf pertama pada setiap kata string dibawah menjadi kapital dengan method capitalize()\n",
        "\n",
        "player = \"antony dos santos\"\n",
        "print(player.capitalize())"
      ],
      "metadata": {
        "colab": {
          "base_uri": "https://localhost:8080/"
        },
        "id": "nAjBPauiGgnh",
        "outputId": "a47f9712-12c4-4705-dd7d-d0b79278fde9"
      },
      "execution_count": 60,
      "outputs": [
        {
          "output_type": "stream",
          "name": "stdout",
          "text": [
            "Antony dos santos\n"
          ]
        }
      ]
    },
    {
      "cell_type": "markdown",
      "source": [
        "**title()**"
      ],
      "metadata": {
        "id": "LuPNdCj3GrqA"
      }
    },
    {
      "cell_type": "markdown",
      "source": [
        "`title()` akan mengubah karakter pertama setiap kata pada suatu string menjadi huruf kapital.\n",
        "\n",
        "penggunaan : `NAMA_VAR.title()`"
      ],
      "metadata": {
        "id": "vFURauXtGtzV"
      }
    },
    {
      "cell_type": "code",
      "source": [
        "# Coba jalankan kode dibawah ini\n",
        "\n",
        "string_1 = \"python programming\"\n",
        "print(string_1.title())"
      ],
      "metadata": {
        "colab": {
          "base_uri": "https://localhost:8080/"
        },
        "id": "5LDBI5H5GySN",
        "outputId": "3345e899-7a13-42dc-8199-77b36cac6714"
      },
      "execution_count": 61,
      "outputs": [
        {
          "output_type": "stream",
          "name": "stdout",
          "text": [
            "Python Programming\n"
          ]
        }
      ]
    },
    {
      "cell_type": "code",
      "source": [
        "# Buatlah huruf pertama pada string dibawah ini menjadi kapital\n",
        "\n",
        "string_2 = \"antony matheus dos santos\"\n",
        "print(string_2.title())"
      ],
      "metadata": {
        "colab": {
          "base_uri": "https://localhost:8080/"
        },
        "id": "1972i7oyG9ch",
        "outputId": "8483aca9-5960-4cd9-91d9-995c0cf92981"
      },
      "execution_count": 62,
      "outputs": [
        {
          "output_type": "stream",
          "name": "stdout",
          "text": [
            "Antony Matheus Dos Santos\n"
          ]
        }
      ]
    },
    {
      "cell_type": "markdown",
      "source": [
        "**MINI EXERCISE**"
      ],
      "metadata": {
        "id": "HKft26rjHQk7"
      }
    },
    {
      "cell_type": "markdown",
      "source": [
        "1. Anda diberikan data dari hasil scrapping web. Data tesebut masih 'kotor' dan harus dibersihkan. Salah satu contoh data yang harus dibenarkan disini adalah \"Pyth^*&on Exercis8es\". Hilangkan karakter yang tidak diperlukan pada string tersebut.\n",
        "**Hint**: menggunakan `.replace()`"
      ],
      "metadata": {
        "id": "JFm1fwQuHSER"
      }
    },
    {
      "cell_type": "code",
      "source": [
        "# Declare variabel string\n",
        "sentence = \"Pyth^*&on Exercis8es\"\n",
        "\n",
        "# Replace karakter yang tidak diperlukan dengan kata baru yang proper\n",
        "sentence = sentence.replace(\"Pyth^*&on Exercis8es\", \"Python Exercises\")\n",
        "\n",
        "print(sentence)"
      ],
      "metadata": {
        "colab": {
          "base_uri": "https://localhost:8080/"
        },
        "id": "HTk0Zh6RHdSM",
        "outputId": "cc44820b-97c4-494b-8933-1de79266cc57"
      },
      "execution_count": 69,
      "outputs": [
        {
          "output_type": "stream",
          "name": "stdout",
          "text": [
            "Python Exercises\n"
          ]
        }
      ]
    },
    {
      "cell_type": "markdown",
      "source": [
        "**EXERCISE**"
      ],
      "metadata": {
        "id": "8n9r3ok4Jals"
      }
    },
    {
      "cell_type": "markdown",
      "source": [
        "1. Anda memiliki perusahaan percetakan. Pelanggan anda meminta anda untuk mencetak tulisan \"HAPPI BIRTHDAY\". Namun ternyata di dalam file tulisan yang dikirim, anda menyadari bahwa ada tulisan typo yaitu I di dalam kata HAPPI yang seharusnya huruf Y. Pelanggan meminta anda untuk mengganti dengan yang benar dan mengubah hurufnya menjadi besar di awal kata saja. Coba revisi tulisan HAPPI BIRTHDAY sesuai permintaan pelanggan anda!"
      ],
      "metadata": {
        "id": "SE7EilgiJgM4"
      }
    },
    {
      "cell_type": "code",
      "source": [
        "# Declare variabel string\n",
        "kalimat = \"HAPPI BIRTHDAY\"\n",
        "\n",
        "# Replace kata HAPPI menjadi HAPPY\n",
        "kalimat = kalimat.replace(\"HAPPI\", \"HAPPY\")\n",
        "\n",
        "# Buat huruf pertama pada setiap kata saja yang menjadi kapital\n",
        "kalimat = kalimat.title()\n",
        "\n",
        "print(kalimat)"
      ],
      "metadata": {
        "colab": {
          "base_uri": "https://localhost:8080/"
        },
        "id": "cLyQ7dsjJkF8",
        "outputId": "31c2f4a7-a8ad-4746-e6f0-fdeac03d56c3"
      },
      "execution_count": 71,
      "outputs": [
        {
          "output_type": "stream",
          "name": "stdout",
          "text": [
            "Happy Birthday\n"
          ]
        }
      ]
    },
    {
      "cell_type": "markdown",
      "source": [
        "2. Terdapat kode pos NZ12348, dimana 2 karakter awal adalah kode negara. Coba ambil kode negara dari string tersebut!"
      ],
      "metadata": {
        "id": "3XmedjCANdTi"
      }
    },
    {
      "cell_type": "code",
      "source": [
        "# Declare variabel string\n",
        "string = \"NZ12348\"\n",
        "\n",
        "# Buat variabel baru untuk mengambil kode negara dari string tsb\n",
        "kode_negara = string[:-5]\n",
        "\n",
        "print(kode_negara)"
      ],
      "metadata": {
        "colab": {
          "base_uri": "https://localhost:8080/"
        },
        "id": "vUj3FuSANhG-",
        "outputId": "cd94616d-8009-42a9-b997-2024e6964b2e"
      },
      "execution_count": 75,
      "outputs": [
        {
          "output_type": "stream",
          "name": "stdout",
          "text": [
            "NZ\n"
          ]
        }
      ]
    }
  ]
}