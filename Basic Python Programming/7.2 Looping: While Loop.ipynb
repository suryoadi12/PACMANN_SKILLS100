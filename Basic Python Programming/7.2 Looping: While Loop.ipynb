{
  "nbformat": 4,
  "nbformat_minor": 0,
  "metadata": {
    "colab": {
      "provenance": [],
      "authorship_tag": "ABX9TyOongpExz4owX4ts7R7pT7Q",
      "include_colab_link": true
    },
    "kernelspec": {
      "name": "python3",
      "display_name": "Python 3"
    },
    "language_info": {
      "name": "python"
    }
  },
  "cells": [
    {
      "cell_type": "markdown",
      "metadata": {
        "id": "view-in-github",
        "colab_type": "text"
      },
      "source": [
        "<a href=\"https://colab.research.google.com/github/suryoadi12/PACMANN_SKILLS100/blob/main/Basic%20Python%20Programming/7.2%20Looping%3A%20While%20Loop.ipynb\" target=\"_parent\"><img src=\"https://colab.research.google.com/assets/colab-badge.svg\" alt=\"Open In Colab\"/></a>"
      ]
    },
    {
      "cell_type": "markdown",
      "source": [
        "# **Pertemuan #6 - Looping**"
      ],
      "metadata": {
        "id": "kplfSOwfgcDu"
      }
    },
    {
      "cell_type": "markdown",
      "source": [
        "**WHILE LOOP**"
      ],
      "metadata": {
        "id": "2GFwXEVQgfJZ"
      }
    },
    {
      "cell_type": "markdown",
      "source": [
        "Jika perulangan `for` sudah kita ketahui objek yang akan di loop dan banyaknya looping. Semisal kita akan melakukan looping sebanyak 10x. Maka dalam while kita tidak mengetahui berapa banyak loop akan dijalankan."
      ],
      "metadata": {
        "id": "STdQrV5tgj4s"
      }
    },
    {
      "cell_type": "markdown",
      "source": [
        "**WHILE IN GENERAL**"
      ],
      "metadata": {
        "id": "grrkcvEDgr-A"
      }
    },
    {
      "cell_type": "markdown",
      "source": [
        "Bentuk umum While adalah:\n",
        "\n",
        "    while <condition>:\n",
        "      # Jika kondisi benar\n",
        "      run_this_statement\n",
        "\n",
        "Berarti selama kondisi masih terpenuhi maka akan terus mengeksekusi blok statement"
      ],
      "metadata": {
        "id": "RxmUieC-gupc"
      }
    },
    {
      "cell_type": "markdown",
      "source": [
        "![asldfjalsd.JPG](data:image/jpeg;base64,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)"
      ],
      "metadata": {
        "id": "EL0bwK6thUJL"
      }
    },
    {
      "cell_type": "markdown",
      "source": [
        "`while` loop biasanya harus disertai dengan nilai yang selalu berubah."
      ],
      "metadata": {
        "id": "YFeM2ua-hYXM"
      }
    },
    {
      "cell_type": "code",
      "execution_count": 1,
      "metadata": {
        "colab": {
          "base_uri": "https://localhost:8080/"
        },
        "id": "9kKMGbufgW6h",
        "outputId": "1f91d1ab-e810-4a06-8c25-251a66630ff5"
      },
      "outputs": [
        {
          "output_type": "stream",
          "name": "stdout",
          "text": [
            "Sekarang angka 0\n",
            "Sekarang angka 1\n",
            "Sekarang angka 2\n",
            "Sekarang angka 3\n",
            "Sekarang angka 4\n",
            "Sekarang angka 5\n"
          ]
        }
      ],
      "source": [
        "# Coba jalankan code di bawah ini\n",
        "\n",
        "counter = 0\n",
        "max = 5\n",
        "\n",
        "while counter <= max: # Jika counter masih kurang dari max, code akan tetap berjalan\n",
        "  print(f\"Sekarang angka {counter}\")\n",
        "  counter += 1 # Counter akan ditambahkan 1 agar perulangan bisa berhenti"
      ]
    },
    {
      "cell_type": "markdown",
      "source": [
        "Atau bisa juga dengan cara dibawah:"
      ],
      "metadata": {
        "id": "u4Ra_3_Jh2-y"
      }
    },
    {
      "cell_type": "code",
      "source": [
        "angka = 5\n",
        "\n",
        "while angka >= 0: # \"Angka\" disini memenuhi kondisi while, maka looping akan berjalan\n",
        "  print(angka)\n",
        "  angka -= 1 # Variabel angka akan dikurangi dengan 1 sampai kondisi di atas tidak terpenuhi"
      ],
      "metadata": {
        "colab": {
          "base_uri": "https://localhost:8080/"
        },
        "id": "SjHjc0Wdh37K",
        "outputId": "5cfd552f-648d-4ab1-92e6-35663f8d12cb"
      },
      "execution_count": 2,
      "outputs": [
        {
          "output_type": "stream",
          "name": "stdout",
          "text": [
            "5\n",
            "4\n",
            "3\n",
            "2\n",
            "1\n",
            "0\n"
          ]
        }
      ]
    },
    {
      "cell_type": "code",
      "source": [
        "# Coba buatlah loop while dari angka 1 sampai 10\n",
        "\n",
        "angka = 1\n",
        "max = 10\n",
        "\n",
        "while angka <= max:\n",
        "  print(angka)\n",
        "  angka += 1"
      ],
      "metadata": {
        "colab": {
          "base_uri": "https://localhost:8080/"
        },
        "id": "_KaOukiFiOrN",
        "outputId": "84fa4c00-7049-4f77-a8c1-7732431d1bea"
      },
      "execution_count": 3,
      "outputs": [
        {
          "output_type": "stream",
          "name": "stdout",
          "text": [
            "1\n",
            "2\n",
            "3\n",
            "4\n",
            "5\n",
            "6\n",
            "7\n",
            "8\n",
            "9\n",
            "10\n"
          ]
        }
      ]
    },
    {
      "cell_type": "markdown",
      "source": [
        "Untuk membuat tabel perkalian menggunakan `while` yaitu caranya kurang lebih sama dengan menggunakan `for`."
      ],
      "metadata": {
        "id": "DrZTMuv8iqat"
      }
    },
    {
      "cell_type": "code",
      "source": [
        "# Coba jalankan code di bawah ini\n",
        "\n",
        "angka = 1\n",
        "\n",
        "while angka <= 10:\n",
        "  perkalian = angka * 2\n",
        "  print(f\"{angka} x 2 = {perkalian}\")\n",
        "  angka += 1"
      ],
      "metadata": {
        "colab": {
          "base_uri": "https://localhost:8080/"
        },
        "id": "k7Op8f7ZiuuM",
        "outputId": "00be4b96-f736-460b-cff4-29a2c2990f39"
      },
      "execution_count": 4,
      "outputs": [
        {
          "output_type": "stream",
          "name": "stdout",
          "text": [
            "1 x 2 = 2\n",
            "2 x 2 = 4\n",
            "3 x 2 = 6\n",
            "4 x 2 = 8\n",
            "5 x 2 = 10\n",
            "6 x 2 = 12\n",
            "7 x 2 = 14\n",
            "8 x 2 = 16\n",
            "9 x 2 = 18\n",
            "10 x 2 = 20\n"
          ]
        }
      ]
    },
    {
      "cell_type": "code",
      "source": [
        "# Coba buatlah tabel pertambahan angka 5 dari 1 sampai 10\n",
        "# Anda bisa menggunakan beberapa cara dari while, yang penting outputnya sama seperti di bawah\n",
        "\n",
        "angka = 1\n",
        "max = 10\n",
        "\n",
        "while angka <= max:\n",
        "  pertambahan = angka + 5\n",
        "  print(f\"{angka} + 5 = {pertambahan}\")\n",
        "  angka += 1"
      ],
      "metadata": {
        "colab": {
          "base_uri": "https://localhost:8080/"
        },
        "id": "8303p2JKjGM5",
        "outputId": "e4fce9d0-2f98-4725-f92c-ec3c9ad7ab68"
      },
      "execution_count": 5,
      "outputs": [
        {
          "output_type": "stream",
          "name": "stdout",
          "text": [
            "1 + 5 = 6\n",
            "2 + 5 = 7\n",
            "3 + 5 = 8\n",
            "4 + 5 = 9\n",
            "5 + 5 = 10\n",
            "6 + 5 = 11\n",
            "7 + 5 = 12\n",
            "8 + 5 = 13\n",
            "9 + 5 = 14\n",
            "10 + 5 = 15\n"
          ]
        }
      ]
    },
    {
      "cell_type": "markdown",
      "source": [
        "Bagaimana jika tidak ada kondisi yang membuat while berhenti? loop akan terus berjalan dan membebani komputer."
      ],
      "metadata": {
        "id": "DQNaMgBkjqgs"
      }
    },
    {
      "cell_type": "code",
      "source": [
        "# HATI-HATI dalam menjalankan code ini karena proses akan tidak akan berhenti :)\n",
        "# Cara agar berhenti yaitu dengan pencet keyboar anda CTRL + M + I (bisa berbeda tiap komputer)\n",
        "# Atau dengan klik animasi proses disamping kiri\n",
        "\n",
        "counter = 0\n",
        "max = 5\n",
        "while counter < max: # kondisi 'counter < max' selalu terpenuhi\n",
        "    print(f'Sekarang angka {counter}') # ini akan terus dilakukan, jadinya infinite"
      ],
      "metadata": {
        "id": "8KFShzF8jpt8"
      },
      "execution_count": null,
      "outputs": []
    },
    {
      "cell_type": "markdown",
      "source": [
        "**WHILE - ELSE**"
      ],
      "metadata": {
        "id": "QjKYie5akAQB"
      }
    },
    {
      "cell_type": "markdown",
      "source": [
        "Statement `else` di dalam `while` berguna untuk menjalankan satu blok kode lain ketika kondisi pertama sudah tidak terpenuhi."
      ],
      "metadata": {
        "id": "5-PxN4_ZkD_A"
      }
    },
    {
      "cell_type": "code",
      "source": [
        "# Coba jalankan code di bawah ini\n",
        "# Kita akan membuat while - else dari angka 1 - 3\n",
        "\n",
        "numb = 1\n",
        "\n",
        "while numb <= 3: # Jika nilai numb masih kurang sama dengan tiga maka proses akan terus berlangsung\n",
        "  print(f\"Nilai numb sekarang adalah {numb}\")\n",
        "  numb += 1\n",
        "else: # Else akan di eksekusi karena nilai numb sudah lebih dari 3\n",
        "  print(f\"Nilai numb sekarang ({numb}) sudah melebihi dari angka 3\")"
      ],
      "metadata": {
        "colab": {
          "base_uri": "https://localhost:8080/"
        },
        "id": "z535x4LHkCEY",
        "outputId": "64c30fb4-1625-4cf0-9a91-04258de57c26"
      },
      "execution_count": 6,
      "outputs": [
        {
          "output_type": "stream",
          "name": "stdout",
          "text": [
            "Nilai numb sekarang adalah 1\n",
            "Nilai numb sekarang adalah 2\n",
            "Nilai numb sekarang adalah 3\n",
            "Nilai numb sekarang (4) sudah melebihi dari angka 3\n"
          ]
        }
      ]
    },
    {
      "cell_type": "code",
      "source": [
        "# Coba buatlah while - else dari angka 1 - 10\n",
        "\n",
        "numb = 1\n",
        "max = 10\n",
        "\n",
        "while numb <= max:\n",
        "  print(f\"{numb}\")\n",
        "  numb += 1\n",
        "else:\n",
        "  print(f\"Finished\")"
      ],
      "metadata": {
        "colab": {
          "base_uri": "https://localhost:8080/"
        },
        "id": "kxk2b3aGk5Jk",
        "outputId": "a0674537-87ba-4c56-8b09-fe012e98bb70"
      },
      "execution_count": 7,
      "outputs": [
        {
          "output_type": "stream",
          "name": "stdout",
          "text": [
            "1\n",
            "2\n",
            "3\n",
            "4\n",
            "5\n",
            "6\n",
            "7\n",
            "8\n",
            "9\n",
            "10\n",
            "Finished\n"
          ]
        }
      ]
    }
  ]
}