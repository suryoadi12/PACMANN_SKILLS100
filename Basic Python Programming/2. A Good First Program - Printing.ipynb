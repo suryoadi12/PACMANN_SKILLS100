{
  "nbformat": 4,
  "nbformat_minor": 0,
  "metadata": {
    "colab": {
      "provenance": [],
      "authorship_tag": "ABX9TyN3gFHzUKFc01Hif3sgIbkr",
      "include_colab_link": true
    },
    "kernelspec": {
      "name": "python3",
      "display_name": "Python 3"
    },
    "language_info": {
      "name": "python"
    }
  },
  "cells": [
    {
      "cell_type": "markdown",
      "metadata": {
        "id": "view-in-github",
        "colab_type": "text"
      },
      "source": [
        "<a href=\"https://colab.research.google.com/github/suryoadi12/PACMANN_SKILLS100/blob/main/Basic%20Python%20Programming/2.%20A%20Good%20First%20Program%20-%20Printing.ipynb\" target=\"_parent\"><img src=\"https://colab.research.google.com/assets/colab-badge.svg\" alt=\"Open In Colab\"/></a>"
      ]
    },
    {
      "cell_type": "markdown",
      "source": [
        "# **Pertemuan #1-1 - Printing**"
      ],
      "metadata": {
        "id": "_kqxIf25rN9S"
      }
    },
    {
      "cell_type": "markdown",
      "source": [
        "**PRINTING**"
      ],
      "metadata": {
        "id": "i4AmGUTOrWLo"
      }
    },
    {
      "cell_type": "markdown",
      "source": [
        "**How to print a text**"
      ],
      "metadata": {
        "id": "1V_MMTkQrZLu"
      }
    },
    {
      "cell_type": "markdown",
      "source": [
        "\n",
        "\n",
        "*   Sebagai pengalaman ngoding awal, kita bisa menampilkan sesuatu lewat Python.\n",
        "\n",
        "*   Pada bagian ini, kita akan coba menampilkan sebuah text.\n",
        "\n",
        "*   Caranya adalah dengan menggunakan perintah print melalui syntax:\n"
      ],
      "metadata": {
        "id": "NkOkVdqUrbtb"
      }
    },
    {
      "cell_type": "code",
      "source": [
        "print(\"<TEXT YANG INGIN DITAMPILKAN>\")"
      ],
      "metadata": {
        "id": "Fr2PiG8OrqrU"
      },
      "execution_count": null,
      "outputs": []
    },
    {
      "cell_type": "markdown",
      "source": [
        "\n",
        "\n",
        "*   Misalkan kita mau menampilkan kalimat `Hello World!`.\n",
        "*   Kita dapat melakukannya dengan cara seperti berikut:\n",
        "\n"
      ],
      "metadata": {
        "id": "SlgVVEaLrtTu"
      }
    },
    {
      "cell_type": "code",
      "source": [
        "print(\"Hello World!\")"
      ],
      "metadata": {
        "id": "0UbH3sLurz5h"
      },
      "execution_count": null,
      "outputs": []
    },
    {
      "cell_type": "markdown",
      "source": [
        "Selain menggunakan tanda petik dua `(\"...\")`, kita juga dapat menggunakan tanda petik satu `('...')`"
      ],
      "metadata": {
        "id": "N5-z5eymr3sZ"
      }
    },
    {
      "cell_type": "code",
      "source": [
        "print('Hello World!')"
      ],
      "metadata": {
        "id": "-iQH0BFBr8XB"
      },
      "execution_count": null,
      "outputs": []
    },
    {
      "cell_type": "code",
      "source": [
        "# Contoh\n",
        "# Kita ingin menampilkan kalimat \"Hello World!\"\n",
        "\n",
        "print(\"Hello World!\")"
      ],
      "metadata": {
        "colab": {
          "base_uri": "https://localhost:8080/"
        },
        "id": "nt3_QUWDr_Rh",
        "outputId": "5d06a09e-91fd-47e6-fbf3-0a284d4325ff"
      },
      "execution_count": null,
      "outputs": [
        {
          "output_type": "stream",
          "name": "stdout",
          "text": [
            "Hello World!\n"
          ]
        }
      ]
    },
    {
      "cell_type": "markdown",
      "source": [
        "Sekarang ayo latihan, coba print kalimat \"Halo Dunia!\""
      ],
      "metadata": {
        "id": "F0dNrjjTsL-w"
      }
    },
    {
      "cell_type": "code",
      "source": [
        "# Isi titik-titik berikut dengan kalimat \"Halo Dunia!\"\n",
        "\n",
        "print(\"Halo Dunia!\")"
      ],
      "metadata": {
        "colab": {
          "base_uri": "https://localhost:8080/"
        },
        "id": "GicSl3gmsNqP",
        "outputId": "d6d164b7-b2a6-41f9-f60f-0a86329e2113"
      },
      "execution_count": null,
      "outputs": [
        {
          "output_type": "stream",
          "name": "stdout",
          "text": [
            "Halo Dunia!\n"
          ]
        }
      ]
    },
    {
      "cell_type": "markdown",
      "source": [
        "**EXERCISE**"
      ],
      "metadata": {
        "id": "83Rq6uIksX1L"
      }
    },
    {
      "cell_type": "markdown",
      "source": [
        "Cobalah print text \"Saya sedang belajar melakukan print\"."
      ],
      "metadata": {
        "id": "CrcM9d2tsaOl"
      }
    },
    {
      "cell_type": "code",
      "source": [
        "print(\"Saya sedang belajar melakukan print\")"
      ],
      "metadata": {
        "colab": {
          "base_uri": "https://localhost:8080/"
        },
        "id": "rdjyPxbisd6Y",
        "outputId": "fd3a8dec-db02-4dbe-c1bc-62a32f716067"
      },
      "execution_count": null,
      "outputs": [
        {
          "output_type": "stream",
          "name": "stdout",
          "text": [
            "Saya sedang belajar melakukan print\n"
          ]
        }
      ]
    },
    {
      "cell_type": "markdown",
      "source": [
        "**HOW TO PRINT A NUMBER**"
      ],
      "metadata": {
        "id": "kKG2NVENshnB"
      }
    },
    {
      "cell_type": "markdown",
      "source": [
        "Selain melakukan printing berupa text, kita juga dapat melakukan printing berupa angka dengan menggunakan syntax:"
      ],
      "metadata": {
        "id": "L5GYPZTsskZD"
      }
    },
    {
      "cell_type": "code",
      "source": [
        "print(<ANGKA YANG INGIN DITAMPILKAN>)"
      ],
      "metadata": {
        "id": "REhU9l2ZsoSJ"
      },
      "execution_count": null,
      "outputs": []
    },
    {
      "cell_type": "markdown",
      "source": [
        "Bedanya dengan text adalah apabila ingin melakukan printing berupa angka tidak perlu diikuti dengan tanda petik satu ('') maupun tanda petik dua (\"\")."
      ],
      "metadata": {
        "id": "ul7LQox4sqyg"
      }
    },
    {
      "cell_type": "code",
      "source": [
        "# Contoh\n",
        "# Kita ingin print angka 69\n",
        "\n",
        "print(69)"
      ],
      "metadata": {
        "colab": {
          "base_uri": "https://localhost:8080/"
        },
        "id": "gYI-IscosqB0",
        "outputId": "1ae6fbc3-a0a8-4605-b5a1-c760463bc9d6"
      },
      "execution_count": null,
      "outputs": [
        {
          "output_type": "stream",
          "name": "stdout",
          "text": [
            "69\n"
          ]
        }
      ]
    },
    {
      "cell_type": "code",
      "source": [
        "# Contoh\n",
        "# Kita ingin print angka 43,8\n",
        "\n",
        "print(43.8)"
      ],
      "metadata": {
        "colab": {
          "base_uri": "https://localhost:8080/"
        },
        "outputId": "9740444c-d650-45fb-c9f4-e259c7691c36",
        "id": "7uIznfdys6Uq"
      },
      "execution_count": null,
      "outputs": [
        {
          "output_type": "stream",
          "name": "stdout",
          "text": [
            "43.8\n"
          ]
        }
      ]
    },
    {
      "cell_type": "markdown",
      "source": [
        "\n",
        "\n",
        "*   Ayo coba latihan lagi!\n",
        "\n",
        "*   Misalkan terdapat bangun ruang persegi yang mempunyai sisi 4 cm.\n",
        "*   Cobalah print sisi persegi tersebut!"
      ],
      "metadata": {
        "id": "vkiWmL7RtHa_"
      }
    },
    {
      "cell_type": "code",
      "source": [
        "print(4)"
      ],
      "metadata": {
        "colab": {
          "base_uri": "https://localhost:8080/"
        },
        "id": "77eYJt-MtQOU",
        "outputId": "2b69e203-3a3f-41b0-fcb9-65df48eb3684"
      },
      "execution_count": null,
      "outputs": [
        {
          "output_type": "stream",
          "name": "stdout",
          "text": [
            "4\n"
          ]
        }
      ]
    },
    {
      "cell_type": "markdown",
      "source": [
        "**EXERCISE**"
      ],
      "metadata": {
        "id": "ijpLjLFytYek"
      }
    },
    {
      "cell_type": "markdown",
      "source": [
        "\n",
        "\n",
        "*   Perusahaan A mendapatkan profit sebesar 200.000 USD di bulan Maret.\n",
        "*   Cobalah print angka besar profit yang didapatkan perusahaan A!\n",
        "\n"
      ],
      "metadata": {
        "id": "fzUS0_YptdNQ"
      }
    },
    {
      "cell_type": "code",
      "source": [
        "print(200_000)"
      ],
      "metadata": {
        "colab": {
          "base_uri": "https://localhost:8080/"
        },
        "id": "3ZkFbLUTtcFg",
        "outputId": "6d10fac7-9756-4cf3-d098-11e9923e823f"
      },
      "execution_count": null,
      "outputs": [
        {
          "output_type": "stream",
          "name": "stdout",
          "text": [
            "200000\n"
          ]
        }
      ]
    }
  ]
}