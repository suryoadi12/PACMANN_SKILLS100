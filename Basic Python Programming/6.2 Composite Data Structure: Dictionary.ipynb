{
  "nbformat": 4,
  "nbformat_minor": 0,
  "metadata": {
    "colab": {
      "provenance": [],
      "authorship_tag": "ABX9TyMNJM5bDYYrlOblQJR4cAk0",
      "include_colab_link": true
    },
    "kernelspec": {
      "name": "python3",
      "display_name": "Python 3"
    },
    "language_info": {
      "name": "python"
    }
  },
  "cells": [
    {
      "cell_type": "markdown",
      "metadata": {
        "id": "view-in-github",
        "colab_type": "text"
      },
      "source": [
        "<a href=\"https://colab.research.google.com/github/suryoadi12/PACMANN_SKILLS100/blob/main/Basic%20Python%20Programming/6.2%20Composite%20Data%20Structure%3A%20Dictionary.ipynb\" target=\"_parent\"><img src=\"https://colab.research.google.com/assets/colab-badge.svg\" alt=\"Open In Colab\"/></a>"
      ]
    },
    {
      "cell_type": "markdown",
      "source": [
        "# **Pertemuan #5 - Composite Data Structure**"
      ],
      "metadata": {
        "id": "sve2grGpGDbN"
      }
    },
    {
      "cell_type": "markdown",
      "source": [
        "**WHAT IS DICTIONARY**"
      ],
      "metadata": {
        "id": "bgCpK8bcGJ7J"
      }
    },
    {
      "cell_type": "markdown",
      "source": [
        "`Dictionary` merupakan struktur data seperti `list`. Dalam `list`, indeks merupakan bilangan bulat, namun di dalam `dictionary` indeks bisa (hampir) tipe data apa saja.\n",
        "\n",
        "`Dictionary` juga bisa dianggap sebagai pemetaan antara sebuah indeks yang disebut **keys** dan sebuah **value**. Setiap key **memetakan** ke suatu value. Hubungan key dan value ini disebut **key-value pair**."
      ],
      "metadata": {
        "id": "b-gZergRGOkL"
      }
    },
    {
      "cell_type": "markdown",
      "source": [
        "Sebuah `dictionary` dalam python di representasikan dengan **tanda kurung kurawal** `{}`.\n",
        "\n",
        "`key` dan `value` setiap element dipisahkan dengan **tanda titik dua** `:`\n",
        "\n",
        "Lalu, element satu dengan element yang lain dipisahkan oleh **tanda koma** `,`\n",
        "\n",
        "Contoh pendefinisian dictionary:\n",
        "\n",
        "NAMA_DICT = {'name': 'Bob',\n",
        "             'age': 25,\n",
        "             'job': 'Dev',\n",
        "             'city': 'New York',\n",
        "             'email': 'bob@web.com'}"
      ],
      "metadata": {
        "id": "oOfo0mBsGp6Q"
      }
    },
    {
      "cell_type": "markdown",
      "source": [
        "**HOW TO MAKE A DICTIONARY**"
      ],
      "metadata": {
        "id": "nPgR1RHPG5Gr"
      }
    },
    {
      "cell_type": "markdown",
      "source": [
        "Mari kita coba untuk membuat sebuah `dictionary`."
      ],
      "metadata": {
        "id": "RSuZGl1dG603"
      }
    },
    {
      "cell_type": "code",
      "execution_count": null,
      "metadata": {
        "colab": {
          "base_uri": "https://localhost:8080/"
        },
        "id": "VlXLwDs1GCZ9",
        "outputId": "1444c05f-9ea7-4f4a-8a1d-b2d47676a0d5"
      },
      "outputs": [
        {
          "output_type": "stream",
          "name": "stdout",
          "text": [
            "{1: 90, 2: 75, 3: 50}\n"
          ]
        }
      ],
      "source": [
        "# Coba jalankan code di bawah ini\n",
        "\n",
        "print({1: 90, 2: 75, 3: 50})"
      ]
    },
    {
      "cell_type": "markdown",
      "source": [
        "`dictionary` juga bisa didefinisikan dengan variabel."
      ],
      "metadata": {
        "id": "MZQfzBBrHLoc"
      }
    },
    {
      "cell_type": "code",
      "source": [
        "# Lengkapi code di bawah ini sehingga bisa diprint\n",
        "\n",
        "num_dict = {1: 90, 2: 75, 3: 50}\n",
        "print(num_dict)"
      ],
      "metadata": {
        "colab": {
          "base_uri": "https://localhost:8080/"
        },
        "id": "2lXFmBy-HOA1",
        "outputId": "ba172c14-ec6e-4241-918e-8ca6b12ac83e"
      },
      "execution_count": null,
      "outputs": [
        {
          "output_type": "stream",
          "name": "stdout",
          "text": [
            "{1: 90, 2: 75, 3: 50}\n"
          ]
        }
      ]
    },
    {
      "cell_type": "markdown",
      "source": [
        "Untuk memastikan variabel tersebut adalah sebuah `dictionary` maka bisa dicek dengan `type()`."
      ],
      "metadata": {
        "id": "m3mP7o2iHbn8"
      }
    },
    {
      "cell_type": "code",
      "source": [
        "# Coba kita cek tipe data variabel num_dict dibawah\n",
        "\n",
        "num_dict = {1: 90, 2: 75, 3: 50}\n",
        "print(f\"Tipe data variabel num_dict adalah {type(num_dict)}\")"
      ],
      "metadata": {
        "colab": {
          "base_uri": "https://localhost:8080/"
        },
        "id": "eJcZRiEWHewr",
        "outputId": "344391bb-5538-4c9f-841b-280595e5212b"
      },
      "execution_count": null,
      "outputs": [
        {
          "output_type": "stream",
          "name": "stdout",
          "text": [
            "Tipe data variabel num_dict adalah <class 'dict'>\n"
          ]
        }
      ]
    },
    {
      "cell_type": "markdown",
      "source": [
        "Seperti pada struktur data `list`, sebuah `dictionary` memungkinkan kita untuk menampung berbagai macam tipe data. Bahkan sebuah `dictionary` bisa menyimpan `list`."
      ],
      "metadata": {
        "id": "lIZ4Z433H7pL"
      }
    },
    {
      "cell_type": "code",
      "source": [
        "# Coba jalankan code di bawah ini\n",
        "\n",
        "mix_dict = {1: 2,\n",
        "            \"Kota\": \"Jakarta\",\n",
        "            2.0: \"Surabaya\",\n",
        "            \"Genap\": [2, 4, 6, 8]}\n",
        "print(mix_dict)"
      ],
      "metadata": {
        "colab": {
          "base_uri": "https://localhost:8080/"
        },
        "id": "aR2e1UZxH7Xj",
        "outputId": "d0c82431-f96b-493b-a79f-43b9f89f4792"
      },
      "execution_count": null,
      "outputs": [
        {
          "output_type": "stream",
          "name": "stdout",
          "text": [
            "{1: 2, 'Kota': 'Jakarta', 2.0: 'Surabaya', 'Genap': [2, 4, 6, 8]}\n"
          ]
        }
      ]
    },
    {
      "cell_type": "code",
      "source": [
        "# Coba buatlah sebuah dictionary bernama \"hewan_dict\" yang berisi tiga element\n",
        "# Key-nya karnivora, herbivora, omnivora\n",
        "# Value-nya nama binatang\n",
        "\n",
        "hewan_dict = {\"Karnivora\": \"Macan\", \"Herbivora\": \"Kambing\", \"Omnivora\": \"Monyet\"}\n",
        "print(hewan_dict)"
      ],
      "metadata": {
        "colab": {
          "base_uri": "https://localhost:8080/"
        },
        "id": "4H8x_ySPIoL4",
        "outputId": "542accc8-bbc1-44f3-9c81-cef37234f358"
      },
      "execution_count": null,
      "outputs": [
        {
          "output_type": "stream",
          "name": "stdout",
          "text": [
            "{'Karnivora': 'Macan', 'Herbivora': 'Kambing', 'Omnivora': 'Monyet'}\n"
          ]
        }
      ]
    },
    {
      "cell_type": "markdown",
      "source": [
        "Perlu diketahui bahwa `key` pada elemen `dictionary` tidak bisa memiliki duplikat, namun untuk value bisa.\n",
        "\n",
        "Jika key memiliki duplikat maka yang akan di keluarkan adalah element `key` yang terakhir."
      ],
      "metadata": {
        "id": "IyNk3o0FJOuE"
      }
    },
    {
      "cell_type": "code",
      "source": [
        "# Coba jalankan code di bawah ini\n",
        "\n",
        "hewan_dict = {1: \"Kucing\", 2: \"Kucing\", 2: \"Ayam\"} # Key 2 memiliki value terakhir\n",
        "print(hewan_dict)"
      ],
      "metadata": {
        "colab": {
          "base_uri": "https://localhost:8080/"
        },
        "id": "cq6nxFceJSy7",
        "outputId": "85d26fdf-53fb-4121-f728-695605f26f97"
      },
      "execution_count": null,
      "outputs": [
        {
          "output_type": "stream",
          "name": "stdout",
          "text": [
            "{1: 'Kucing', 2: 'Ayam'}\n"
          ]
        }
      ]
    },
    {
      "cell_type": "markdown",
      "source": [
        "`Dictionary` di Python juga mengizinkan kita untuk membuat sebuah **empty dictionary** atau dictionary yang tidak memiliki element di dalamnya.\n",
        "\n",
        "Caranya kita bisa langsung mendefinisikan dictionary dengan **kurung kurawal** `{}`"
      ],
      "metadata": {
        "id": "BYdp2HLNJ7hc"
      }
    },
    {
      "cell_type": "code",
      "source": [
        "# Coba jalankan code di bawah ini\n",
        "\n",
        "empty_dict = {}\n",
        "print(empty_dict)"
      ],
      "metadata": {
        "colab": {
          "base_uri": "https://localhost:8080/"
        },
        "id": "J3MP_r_7KF8D",
        "outputId": "bf9232c4-b604-4a50-a2da-d6fc59d82436"
      },
      "execution_count": null,
      "outputs": [
        {
          "output_type": "stream",
          "name": "stdout",
          "text": [
            "{}\n"
          ]
        }
      ]
    },
    {
      "cell_type": "markdown",
      "source": [
        "Atau bisa juga dengan `dict()`."
      ],
      "metadata": {
        "id": "R7Xcp1SxKOG7"
      }
    },
    {
      "cell_type": "code",
      "source": [
        "# Coba jalankan code di bawah ini\n",
        "\n",
        "empty_dict2 = dict()\n",
        "print(empty_dict2)"
      ],
      "metadata": {
        "colab": {
          "base_uri": "https://localhost:8080/"
        },
        "id": "sTuugTNOKRv2",
        "outputId": "daf860aa-d73e-4c81-8d1e-6ab2ca4495ac"
      },
      "execution_count": null,
      "outputs": [
        {
          "output_type": "stream",
          "name": "stdout",
          "text": [
            "{}\n"
          ]
        }
      ]
    },
    {
      "cell_type": "markdown",
      "source": [
        "Sebuah dictionary terdapat key dan value. Untuk **mengakses element** di dalamnya, kita bisa menggunakan notasi **kurung siku** `NAMA_DICT[KEY]`, mirip dengan cara kita mengakses element dalam `list` dengan kurung siku yang berisi indeks."
      ],
      "metadata": {
        "id": "yfiAg-gKKcoe"
      }
    },
    {
      "cell_type": "code",
      "source": [
        "# Coba jalankan code di bawah ini\n",
        "\n",
        "num_dict = {1: \"Satu\", 2: \"Dua\", 3: \"Tiga\"}\n",
        "print(num_dict[1])\n",
        "print(num_dict[3])"
      ],
      "metadata": {
        "colab": {
          "base_uri": "https://localhost:8080/"
        },
        "id": "YM7IQq0iKsUg",
        "outputId": "150cd474-191f-4d32-84db-687bdd90fe09"
      },
      "execution_count": null,
      "outputs": [
        {
          "output_type": "stream",
          "name": "stdout",
          "text": [
            "Satu\n",
            "Tiga\n"
          ]
        }
      ]
    },
    {
      "cell_type": "code",
      "source": [
        "# Coba keluarkan element-element yang ada pada dictionary di bawah\n",
        "# Dengan cara mengakses keys nya\n",
        "\n",
        "score_dict = {\"Sam Pitak\": 80, \"Eripras\": 75, \"Truno Lele\": 81}\n",
        "print(f\"Nilai ujian Sam Pitak adalah {score_dict['Sam Pitak']}\")\n",
        "print(f\"Nilai ujian Eripras adalah {score_dict['Eripras']}\")\n",
        "print(f\"Nilai ujian Truno Lele adalah {score_dict['Truno Lele']}\")"
      ],
      "metadata": {
        "colab": {
          "base_uri": "https://localhost:8080/"
        },
        "id": "h2dOlLwWK_ZW",
        "outputId": "49573063-078f-4980-b577-b4a0f4f45341"
      },
      "execution_count": null,
      "outputs": [
        {
          "output_type": "stream",
          "name": "stdout",
          "text": [
            "Nilai ujian Sam Pitak adalah 80\n",
            "Nilai ujian Eripras adalah 75\n",
            "Nilai ujian Truno Lele adalah 81\n"
          ]
        }
      ]
    },
    {
      "cell_type": "markdown",
      "source": [
        "Perlu perhatikan juga jika ingin mengakses **keys**, apabila **keys** nya bertipe string maka untuk mengakses nya diikuti dengan tanda petik `(\"\")`."
      ],
      "metadata": {
        "id": "_OFAkqLoL6yE"
      }
    },
    {
      "cell_type": "markdown",
      "source": [
        "Lalu apa yang terjadi jika kita coba untuk mengakses key di dictionary namun **key tersebut tidak ada**? Kita akan mendapatkan eror `KeyError : key`."
      ],
      "metadata": {
        "id": "QzG8jLaRMBXy"
      }
    },
    {
      "cell_type": "code",
      "source": [
        "# Coba jalankan code di bawah ini\n",
        "\n",
        "num_dict = {1: \"satu\", 2: \"dua\", 3: \"tiga\"}\n",
        "\n",
        "print(num_dict[4])"
      ],
      "metadata": {
        "colab": {
          "base_uri": "https://localhost:8080/",
          "height": 183
        },
        "id": "V0pBZMnWMHNq",
        "outputId": "9a57e720-452c-4d7c-934d-42cd6147a4b6"
      },
      "execution_count": null,
      "outputs": [
        {
          "output_type": "error",
          "ename": "KeyError",
          "evalue": "4",
          "traceback": [
            "\u001b[0;31m---------------------------------------------------------------------------\u001b[0m",
            "\u001b[0;31mKeyError\u001b[0m                                  Traceback (most recent call last)",
            "\u001b[0;32m<ipython-input-15-290a78379195>\u001b[0m in \u001b[0;36m<cell line: 0>\u001b[0;34m()\u001b[0m\n\u001b[1;32m      3\u001b[0m \u001b[0mnum_dict\u001b[0m \u001b[0;34m=\u001b[0m \u001b[0;34m{\u001b[0m\u001b[0;36m1\u001b[0m\u001b[0;34m:\u001b[0m \u001b[0;34m\"satu\"\u001b[0m\u001b[0;34m,\u001b[0m \u001b[0;36m2\u001b[0m\u001b[0;34m:\u001b[0m \u001b[0;34m\"dua\"\u001b[0m\u001b[0;34m,\u001b[0m \u001b[0;36m3\u001b[0m\u001b[0;34m:\u001b[0m \u001b[0;34m\"tiga\"\u001b[0m\u001b[0;34m}\u001b[0m\u001b[0;34m\u001b[0m\u001b[0;34m\u001b[0m\u001b[0m\n\u001b[1;32m      4\u001b[0m \u001b[0;34m\u001b[0m\u001b[0m\n\u001b[0;32m----> 5\u001b[0;31m \u001b[0mprint\u001b[0m\u001b[0;34m(\u001b[0m\u001b[0mnum_dict\u001b[0m\u001b[0;34m[\u001b[0m\u001b[0;36m4\u001b[0m\u001b[0;34m]\u001b[0m\u001b[0;34m)\u001b[0m\u001b[0;34m\u001b[0m\u001b[0;34m\u001b[0m\u001b[0m\n\u001b[0m",
            "\u001b[0;31mKeyError\u001b[0m: 4"
          ]
        }
      ]
    },
    {
      "cell_type": "markdown",
      "source": [
        "**DICTIONARY ARE MUTABLE AND IMMUTABLE**"
      ],
      "metadata": {
        "id": "7e49IE7fMO7q"
      }
    },
    {
      "cell_type": "markdown",
      "source": [
        "Sebuah `dictinonary` memiliki sifat mutable (**bisa diubah**) dan immutable (**tidak bisa diubah**).\n",
        "\n",
        "Kita tidak bisa mengganti key pada dictionary karena `key` memiliki sifat immutable. Atau jika kita memang harus menggantinya, `key` tersebut harus di hapus dahulu, baru kita masukkan `key` yang baru ke dalam dictionary tersebut.\n",
        "\n",
        "Untuk `value` pada dictionary kita bisa menggantinya, karena value memiliki sifat `mutable`.\n",
        "\n",
        "Cara mengganti value pada dictionary bisa menggunakan notasi `NAMA_DICT[NAMA_KEY] = VALUE_BARU`."
      ],
      "metadata": {
        "id": "WT7ehIzoMSyG"
      }
    },
    {
      "cell_type": "code",
      "source": [
        "# Coba jalankan code di bawah ini\n",
        "num_dict = {1: \"One\", 2: \"Two\", 3: \"Three\"}\n",
        "\n",
        "# Kita akan mengganti value key 1 menjadi \"Ayam\"\n",
        "num_dict[1] = \"Ayam\"\n",
        "print(num_dict)"
      ],
      "metadata": {
        "colab": {
          "base_uri": "https://localhost:8080/"
        },
        "id": "UOWvGV1JMfgD",
        "outputId": "0d91086f-64dd-4db3-94be-eb0b1c2ebd90"
      },
      "execution_count": null,
      "outputs": [
        {
          "output_type": "stream",
          "name": "stdout",
          "text": [
            "{1: 'Ayam', 2: 'Two', 3: 'Three'}\n"
          ]
        }
      ]
    },
    {
      "cell_type": "code",
      "source": [
        "# Coba ubah warna buah apel pada dictionary dibawah menjadi hijau\n",
        "\n",
        "warna_buah = {\"Pisang\": \"Kuning\", \"Apel\": \"Merah\", \"Semangka\": \"Hijau\"}\n",
        "warna_buah[\"Apel\"] = \"Hijau\"\n",
        "print(warna_buah)"
      ],
      "metadata": {
        "colab": {
          "base_uri": "https://localhost:8080/"
        },
        "id": "XR3F1ft_ie41",
        "outputId": "31eb9340-db3b-4b78-c30e-6e10a47625ca"
      },
      "execution_count": null,
      "outputs": [
        {
          "output_type": "stream",
          "name": "stdout",
          "text": [
            "{'Pisang': 'Kuning', 'Apel': 'Hijau', 'Semangka': 'Hijau'}\n"
          ]
        }
      ]
    },
    {
      "cell_type": "markdown",
      "source": [
        "**DICTIONARY METHODS**"
      ],
      "metadata": {
        "id": "DquwLdFDi2cO"
      }
    },
    {
      "cell_type": "markdown",
      "source": [
        "Ada berbagai macam method pada `dictionary` yang bisa digunakan. Pada pertemuan ini hanya akan dikenalkan pada method yang sering digunakan saja."
      ],
      "metadata": {
        "id": "po6Eh5LYi5SX"
      }
    },
    {
      "cell_type": "markdown",
      "source": [
        "misalkan:\n",
        "\n",
        "dict_1 = {'Nama': 'Dani', 'Usia':24}\n",
        "dict_2 = {'Nama': 'Lala', 'Usia':19}"
      ],
      "metadata": {
        "id": "-ttE66d6i-qN"
      }
    },
    {
      "cell_type": "markdown",
      "source": [
        "![aldjfla.JPG](data:image/jpeg;base64,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)"
      ],
      "metadata": {
        "id": "0RqVoa-Di_9O"
      }
    },
    {
      "cell_type": "markdown",
      "source": [
        "**len()**"
      ],
      "metadata": {
        "id": "rlPiuSMwjMi9"
      }
    },
    {
      "cell_type": "markdown",
      "source": [
        "Sama seperti struktur data list, method `len()` akan mengembalikan panjang dari sebuah dictionary."
      ],
      "metadata": {
        "id": "nTgGYGMljOEB"
      }
    },
    {
      "cell_type": "code",
      "source": [
        "# Coba jalankan code di bawah ini\n",
        "\n",
        "warna_buah = {\"Pisang\": \"Kuning\", \"Apel\": \"Merah\", \"Semangka\": \"Hijau\"}\n",
        "print(f\"Panjang dictionary warna_buah adalah {len(warna_buah)}\")"
      ],
      "metadata": {
        "colab": {
          "base_uri": "https://localhost:8080/"
        },
        "id": "TJv2wNX4jK4Y",
        "outputId": "b7f7a74a-3137-4937-f960-9d6cba12461a"
      },
      "execution_count": null,
      "outputs": [
        {
          "output_type": "stream",
          "name": "stdout",
          "text": [
            "Panjang dictionary warna_buah adalah 3\n"
          ]
        }
      ]
    },
    {
      "cell_type": "code",
      "source": [
        "# Coba cari panjang dictionary di bawah ini dengan method len()\n",
        "\n",
        "num_kuadrat = {1:1, 2:4, 3:9, 4:16, 5:25}\n",
        "print(f\"Panjang dictionary num_kuadrat adalah {len(num_kuadrat)}\")"
      ],
      "metadata": {
        "colab": {
          "base_uri": "https://localhost:8080/"
        },
        "id": "p_hpuZ_ljurG",
        "outputId": "ae64a243-f894-4ee9-d67b-9f54d3c6f281"
      },
      "execution_count": null,
      "outputs": [
        {
          "output_type": "stream",
          "name": "stdout",
          "text": [
            "Panjang dictionary num_kuadrat adalah 5\n"
          ]
        }
      ]
    },
    {
      "cell_type": "markdown",
      "source": [
        "**get()**"
      ],
      "metadata": {
        "id": "gUP9vXtrkA3i"
      }
    },
    {
      "cell_type": "markdown",
      "source": [
        "Method `get()` akan mengembalikan element dari suatu key."
      ],
      "metadata": {
        "id": "Tif3gadYkCJq"
      }
    },
    {
      "cell_type": "code",
      "source": [
        "# Coba jalankan code di bawah ini\n",
        "\n",
        "biodata_siswa_1 = {\"Nama\": \"Andre\", \"Umur\": 17, \"Alamat\": \"Ambon\"}\n",
        "print(f\"Nama siswa tersebut adalah {biodata_siswa_1.get('Nama')}\")"
      ],
      "metadata": {
        "colab": {
          "base_uri": "https://localhost:8080/"
        },
        "id": "I_eAiajbkSZf",
        "outputId": "987cee5a-79d8-4df4-d898-8c093c7010a1"
      },
      "execution_count": null,
      "outputs": [
        {
          "output_type": "stream",
          "name": "stdout",
          "text": [
            "Nama siswa tersebut adalah Andre\n"
          ]
        }
      ]
    },
    {
      "cell_type": "code",
      "source": [
        "# Coba tampilkan umur dari Andre dari dictionary di bawah\n",
        "\n",
        "biodata_siswa_1 = {\"Nama\": \"Andre\", \"Umur\": 17, \"Alamat\": \"Ambon\"}\n",
        "print(f\"Umur {biodata_siswa_1.get('Nama')} adalah {biodata_siswa_1.get('Umur')} tahun\")"
      ],
      "metadata": {
        "colab": {
          "base_uri": "https://localhost:8080/"
        },
        "id": "vFjs9F6blaX-",
        "outputId": "237d2f57-98ed-4522-9bc4-fcc01230ed5e"
      },
      "execution_count": null,
      "outputs": [
        {
          "output_type": "stream",
          "name": "stdout",
          "text": [
            "Umur Andre adalah 17 tahun\n"
          ]
        }
      ]
    },
    {
      "cell_type": "markdown",
      "source": [
        "**keys()**"
      ],
      "metadata": {
        "id": "oAPlQcK_91wp"
      }
    },
    {
      "cell_type": "markdown",
      "source": [
        "Jika ingin **mendapatkan semua key** didalam dictionary bisa menggunakan Method `keys()`. Method ini akan mengembalikan semua key di dalam dictionary dalam sebuah list."
      ],
      "metadata": {
        "id": "XbfAhAd7935Y"
      }
    },
    {
      "cell_type": "code",
      "source": [
        "# Coba jalankan code di bawah ini\n",
        "\n",
        "biodata_siswa_1 = {\"Nama\": \"Andre\", \"Umur\": 17, \"Alamat\": \"Ambon\"}\n",
        "print(biodata_siswa_1.keys())"
      ],
      "metadata": {
        "colab": {
          "base_uri": "https://localhost:8080/"
        },
        "id": "cIdtAe_c93lU",
        "outputId": "f31a4ac5-85e7-4ad8-960e-ab0d86e638cb"
      },
      "execution_count": null,
      "outputs": [
        {
          "output_type": "stream",
          "name": "stdout",
          "text": [
            "dict_keys(['Nama', 'Umur', 'Alamat'])\n"
          ]
        }
      ]
    },
    {
      "cell_type": "code",
      "source": [
        "# Coba dapatkan semua key di dalam dictionary di bawah dengan method keys()\n",
        "\n",
        "warna_buah = {\"Pisang\": \"Kuning\", \"Apel\": \"Merah\", \"Semangka\": \"Hijau\"}\n",
        "print(warna_buah.keys())"
      ],
      "metadata": {
        "colab": {
          "base_uri": "https://localhost:8080/"
        },
        "id": "N4DqKbLv-XlF",
        "outputId": "8ece3eef-3f13-4c62-d314-92a5b0716cce"
      },
      "execution_count": null,
      "outputs": [
        {
          "output_type": "stream",
          "name": "stdout",
          "text": [
            "dict_keys(['Pisang', 'Apel', 'Semangka'])\n"
          ]
        }
      ]
    },
    {
      "cell_type": "markdown",
      "source": [
        "**values()**"
      ],
      "metadata": {
        "id": "0GAjX612-iq2"
      }
    },
    {
      "cell_type": "markdown",
      "source": [
        "Dengan method `values()`, kita bisa mendapatkan semua element di dalam dictionary dalam sebuah list."
      ],
      "metadata": {
        "id": "7rW2J0px-kYw"
      }
    },
    {
      "cell_type": "code",
      "source": [
        "# Coba jalankan code di bawah ini\n",
        "\n",
        "biodata_siswa_1 = {\"Nama\": \"Andre\", \"Umur\": 17, \"Alamat\": \"Ambon\"}\n",
        "print(biodata_siswa_1.values())"
      ],
      "metadata": {
        "colab": {
          "base_uri": "https://localhost:8080/"
        },
        "id": "Uq5kqWxt-nE4",
        "outputId": "66063b01-fab9-48c0-ebc1-d3ff7989b02b"
      },
      "execution_count": null,
      "outputs": [
        {
          "output_type": "stream",
          "name": "stdout",
          "text": [
            "dict_values(['Andre', 17, 'Ambon'])\n"
          ]
        }
      ]
    },
    {
      "cell_type": "code",
      "source": [
        "# Coba dapatkan semua key di dalam dictionary di bawah dengan method keys()\n",
        "\n",
        "warna_buah = {\"Pisang\": \"Kuning\", \"Apel\": \"Merah\", \"Semangka\": \"Hijau\"}\n",
        "print(warna_buah.values())"
      ],
      "metadata": {
        "colab": {
          "base_uri": "https://localhost:8080/"
        },
        "id": "b4RmOon4-ve8",
        "outputId": "a2c2dfbe-75a3-4a49-a3d3-3b7ad3682afc"
      },
      "execution_count": null,
      "outputs": [
        {
          "output_type": "stream",
          "name": "stdout",
          "text": [
            "dict_values(['Kuning', 'Merah', 'Hijau'])\n"
          ]
        }
      ]
    },
    {
      "cell_type": "markdown",
      "source": [
        "**pop()**"
      ],
      "metadata": {
        "id": "8nCeEXlK-y5c"
      }
    },
    {
      "cell_type": "markdown",
      "source": [
        "Method `pop()` akan mengeluarkan atau menghapus key-value pada sebuah dictionary."
      ],
      "metadata": {
        "id": "gsCQadix_kYw"
      }
    },
    {
      "cell_type": "code",
      "source": [
        "# Coba jalankan code di bawah ini\n",
        "\n",
        "dict_kuadrat = {1: 1, 2: 4, 3: 9, 4: 16, 5: 25}\n",
        "dict_kuadrat.pop(4)\n",
        "print(dict_kuadrat)"
      ],
      "metadata": {
        "colab": {
          "base_uri": "https://localhost:8080/"
        },
        "id": "ZKT3pdW__qq-",
        "outputId": "6b463f88-9b40-45ca-c01c-dd2513ef46d3"
      },
      "execution_count": null,
      "outputs": [
        {
          "output_type": "stream",
          "name": "stdout",
          "text": [
            "{1: 1, 2: 4, 3: 9, 5: 25}\n"
          ]
        }
      ]
    },
    {
      "cell_type": "code",
      "source": [
        "# Coba hapus key-value apel pada dictionary di bawah\n",
        "\n",
        "warna_buah = {\"Pisang\": \"Kuning\", \"Apel\": \"Merah\", \"Semangka\": \"Hijau\"}\n",
        "warna_buah.pop(\"Apel\")\n",
        "print(warna_buah)"
      ],
      "metadata": {
        "colab": {
          "base_uri": "https://localhost:8080/"
        },
        "id": "DIjhfVEhAKmc",
        "outputId": "951f4e03-581b-4e79-fb2c-519ed48901b8"
      },
      "execution_count": null,
      "outputs": [
        {
          "output_type": "stream",
          "name": "stdout",
          "text": [
            "{'Pisang': 'Kuning', 'Semangka': 'Hijau'}\n"
          ]
        }
      ]
    },
    {
      "cell_type": "markdown",
      "source": [
        "**update()**"
      ],
      "metadata": {
        "id": "ux_aMdOt6VYc"
      }
    },
    {
      "cell_type": "markdown",
      "source": [
        "Jika kita ingin menambahkan data pada dictionary bisa menggunakan method `update()`. Method ini hampir sama dengan method `append()` dalam list."
      ],
      "metadata": {
        "id": "rVrZkkxj6ari"
      }
    },
    {
      "cell_type": "code",
      "source": [
        "# Coba jalankan code di bawah ini\n",
        "\n",
        "warna_buah = {\"Pisang\": \"Kuning\", \"Apel\": \"Merah\", \"Semangka\": \"Hijau\"}\n",
        "warna_buah.update({'Sirsak': 'Putih'})\n",
        "print(warna_buah)"
      ],
      "metadata": {
        "colab": {
          "base_uri": "https://localhost:8080/"
        },
        "id": "GvCJksBp6aD1",
        "outputId": "e7c97fe7-a61a-4e51-d137-412086a35404"
      },
      "execution_count": 1,
      "outputs": [
        {
          "output_type": "stream",
          "name": "stdout",
          "text": [
            "{'Pisang': 'Kuning', 'Apel': 'Merah', 'Semangka': 'Hijau', 'Sirsak': 'Putih'}\n"
          ]
        }
      ]
    },
    {
      "cell_type": "markdown",
      "source": [
        "Kita juga bisa menambahkan dictionary yang lain pada sebuah dictionary dengan method `update()`."
      ],
      "metadata": {
        "id": "aakHNXyF68qr"
      }
    },
    {
      "cell_type": "code",
      "source": [
        "# Coba jalankan code di bawah ini\n",
        "\n",
        "warna_buah = {\"Pisang\": \"Kuning\", \"Apel\": \"Merah\", \"Semangka\": \"Hijau\"}\n",
        "buah_baru = {\"Sirsak\": \"Putih\", \"Blackberry\": \"Hitam\"}\n",
        "warna_buah.update(buah_baru)\n",
        "print(warna_buah)"
      ],
      "metadata": {
        "colab": {
          "base_uri": "https://localhost:8080/"
        },
        "id": "NL0XZArN6-Sr",
        "outputId": "d8c5ac2c-12ec-4335-f2c9-ef504516a872"
      },
      "execution_count": 2,
      "outputs": [
        {
          "output_type": "stream",
          "name": "stdout",
          "text": [
            "{'Pisang': 'Kuning', 'Apel': 'Merah', 'Semangka': 'Hijau', 'Sirsak': 'Putih', 'Blackberry': 'Hitam'}\n"
          ]
        }
      ]
    },
    {
      "cell_type": "code",
      "source": [
        "# Coba update dictionary nilai_siswa dengan dictionary nilai_siswa_susulan\n",
        "\n",
        "nilai_siswa = {\"Andi\": 90, \"Budi\": 85, \"Bagus\": 80}\n",
        "nilai_siswa_susulan = {\"Rizky\": 70, \"Ajeng\": 60}\n",
        "nilai_siswa.update(nilai_siswa_susulan)\n",
        "print(nilai_siswa)"
      ],
      "metadata": {
        "colab": {
          "base_uri": "https://localhost:8080/"
        },
        "id": "h-Vck6eZ7Xbv",
        "outputId": "c4c0a829-48ae-45d9-de49-926007463b0d"
      },
      "execution_count": 3,
      "outputs": [
        {
          "output_type": "stream",
          "name": "stdout",
          "text": [
            "{'Andi': 90, 'Budi': 85, 'Bagus': 80, 'Rizky': 70, 'Ajeng': 60}\n"
          ]
        }
      ]
    },
    {
      "cell_type": "markdown",
      "source": [
        "**copy()**"
      ],
      "metadata": {
        "id": "AVLWrH4J-6B5"
      }
    },
    {
      "cell_type": "markdown",
      "source": [
        "Method `copy()` akan membuat duplikasi dari sebuah dictionary."
      ],
      "metadata": {
        "id": "3LEeptHd-96y"
      }
    },
    {
      "cell_type": "code",
      "source": [
        "# Coba jalankan code di bawah ini\n",
        "\n",
        "jam_kerja = {'Joko':40, 'Alex':36, 'Chandra':38}\n",
        "jam_kerja_2 = jam_kerja.copy()\n",
        "print(f\"Jam kerja {(jam_kerja)}\")\n",
        "print(f\"Jam kerja 2 {jam_kerja_2}\")"
      ],
      "metadata": {
        "colab": {
          "base_uri": "https://localhost:8080/"
        },
        "id": "xJK_oxjA-7QH",
        "outputId": "dc0a7080-6861-45d9-fc27-825b8d1ca154"
      },
      "execution_count": 4,
      "outputs": [
        {
          "output_type": "stream",
          "name": "stdout",
          "text": [
            "Jam kerja {'Joko': 40, 'Alex': 36, 'Chandra': 38}\n",
            "Jam kerja 2 {'Joko': 40, 'Alex': 36, 'Chandra': 38}\n"
          ]
        }
      ]
    },
    {
      "cell_type": "markdown",
      "source": [
        "Jika kita langsung membuat duplikasi dictionary tanpa menggunakan method `copy()`, maka apabila dictionary utama kita lakukan perubahan, dictionary duplikasi juga ikut berubah."
      ],
      "metadata": {
        "id": "U2o2GXtn_bxf"
      }
    },
    {
      "cell_type": "code",
      "source": [
        "# coba jalankan code dibawah ini\n",
        "jam_kerja = {'Joko':40, 'Alex':36, 'Chandra':38}\n",
        "\n",
        "# Kita coba duplikasi jam_kerja ke jam_kerja_2\n",
        "jam_kerja_2 = jam_kerja\n",
        "\n",
        "# kemudian kita akan mengeluarkan joko dari dict jam kerja\n",
        "jam_kerja.pop('Joko')\n",
        "\n",
        "print(f'Dict jam_kerja : {jam_kerja}')\n",
        "print(f'Dict jam_kerja_2 : {jam_kerja_2}')"
      ],
      "metadata": {
        "colab": {
          "base_uri": "https://localhost:8080/"
        },
        "id": "S8zG_f02_gAh",
        "outputId": "bf2765a3-2e60-48fd-c338-012ea5d14399"
      },
      "execution_count": 5,
      "outputs": [
        {
          "output_type": "stream",
          "name": "stdout",
          "text": [
            "Dict jam_kerja : {'Alex': 36, 'Chandra': 38}\n",
            "Dict jam_kerja_2 : {'Alex': 36, 'Chandra': 38}\n"
          ]
        }
      ]
    },
    {
      "cell_type": "markdown",
      "source": [
        "Namun jika menggunakan method `copy()`, maka yang akan berubah hanya dictionary yang diubah."
      ],
      "metadata": {
        "id": "6ljKC5X4AIhX"
      }
    },
    {
      "cell_type": "code",
      "source": [
        "# Coba jalankan code dibawah ini\n",
        "jam_kerja = {'Joko':40, 'Alex':36, 'Chandra':38}\n",
        "jam_kerja_2 = jam_kerja.copy()\n",
        "\n",
        "# Kita akan mengeluarkan joko dari dict jam kerja\n",
        "jam_kerja.pop('Joko')\n",
        "\n",
        "print(f'Dict jam_kerja : {jam_kerja}')\n",
        "print(f'Dict jam_kerja_2 : {jam_kerja_2}')"
      ],
      "metadata": {
        "colab": {
          "base_uri": "https://localhost:8080/"
        },
        "id": "PHeHtk3fANhH",
        "outputId": "51029d76-a5a0-46f5-bb36-d321710252d6"
      },
      "execution_count": 6,
      "outputs": [
        {
          "output_type": "stream",
          "name": "stdout",
          "text": [
            "Dict jam_kerja : {'Alex': 36, 'Chandra': 38}\n",
            "Dict jam_kerja_2 : {'Joko': 40, 'Alex': 36, 'Chandra': 38}\n"
          ]
        }
      ]
    },
    {
      "cell_type": "code",
      "source": [
        "# Coba lakukan duplikasi dict 'nilai_siswa' menjadi 'nilai_siswa_sementara'\n",
        "nilai_siswa = {'Andi':90, 'Gilang':75, 'Bagus':95}\n",
        "nilai_siswa_2 = nilai_siswa.copy()\n",
        "print(f\"Dict nilai_siswa_2 {jam_kerja_2}\")"
      ],
      "metadata": {
        "colab": {
          "base_uri": "https://localhost:8080/"
        },
        "id": "7wPtpTFdAZnS",
        "outputId": "2f936159-695f-425b-acd9-662c092287e3"
      },
      "execution_count": 9,
      "outputs": [
        {
          "output_type": "stream",
          "name": "stdout",
          "text": [
            "Dict nilai_siswa_2 {'Joko': 40, 'Alex': 36, 'Chandra': 38}\n"
          ]
        }
      ]
    },
    {
      "cell_type": "markdown",
      "source": [
        "**clear()**"
      ],
      "metadata": {
        "id": "NAR_9xZsBL5D"
      }
    },
    {
      "cell_type": "markdown",
      "source": [
        "Method `clear()` akan **menghapus semua `key` dan `value`** yang ada di dalam dictionary. Jadi dictionary tersebut akan menjadi **empty dictionary**."
      ],
      "metadata": {
        "id": "DLGjgFX1BNcj"
      }
    },
    {
      "cell_type": "code",
      "source": [
        "# Coba jalankan code di bawah ini\n",
        "\n",
        "biodata_siswa_1 = {'Nama':'Andrew', 'Umur':25, 'Alamat':'Ambon'}\n",
        "biodata_siswa_1 .clear()\n",
        "print(biodata_siswa_1)"
      ],
      "metadata": {
        "colab": {
          "base_uri": "https://localhost:8080/"
        },
        "id": "dZdEbR7-BZqj",
        "outputId": "4d0260da-9148-48c2-a4f7-d6d5b18be4bf"
      },
      "execution_count": 10,
      "outputs": [
        {
          "output_type": "stream",
          "name": "stdout",
          "text": [
            "{}\n"
          ]
        }
      ]
    },
    {
      "cell_type": "code",
      "source": [
        "# coba implementasikan method clear() pada dictionary dibawah\n",
        "nilai_siswa = {'Andi': 90, 'Gilang': 75, 'Bagus': 95}\n",
        "\n",
        "nilai_siswa.clear()\n",
        "\n",
        "# kemudian print untuk melihat masih ada isinya atau tidak\n",
        "print(nilai_siswa)"
      ],
      "metadata": {
        "colab": {
          "base_uri": "https://localhost:8080/"
        },
        "id": "TzwtsZMxBgXX",
        "outputId": "c7b9aea5-2afa-4e70-e975-e9959c9c4d0f"
      },
      "execution_count": 11,
      "outputs": [
        {
          "output_type": "stream",
          "name": "stdout",
          "text": [
            "{}\n"
          ]
        }
      ]
    },
    {
      "cell_type": "markdown",
      "source": [
        "**MINI EXERCISE**"
      ],
      "metadata": {
        "id": "sUIY6R5ZBng8"
      }
    },
    {
      "cell_type": "markdown",
      "source": [
        "Andi adalah seorang Machine Learning Engineer. Dia disuruh oleh manager nya untuk melatih model Machine Learning dengan metode:\n",
        "\n",
        "\n",
        "\n",
        "*   Linear Regression\n",
        "\n",
        "*   SVM\n",
        "*   Decision Tree\n",
        "\n",
        "\n",
        "*   Random Forest\n",
        "\n",
        "\n",
        "\n",
        "Setelah melatih model Machine Learning tersebut, Andi mengukurnya dengan metrics Accuracy dan didapatkan hasil seperti berikut"
      ],
      "metadata": {
        "id": "-xWtMOKtBq1E"
      }
    },
    {
      "cell_type": "markdown",
      "source": [
        "![alksdjflas.JPG](data:image/jpeg;base64,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)"
      ],
      "metadata": {
        "id": "gY5BWl0XCDcf"
      }
    },
    {
      "cell_type": "markdown",
      "source": [
        "Buatlah dictionary yang berguna untuk menampung nilai di table atas!"
      ],
      "metadata": {
        "id": "XObBsZewCHED"
      }
    },
    {
      "cell_type": "code",
      "source": [
        "# Tulis jawaban anda di bawah ini!\n",
        "\n",
        "metode_ML = {\"Linear Regression\": 85, \"SVM\": 88, \"Decision Tree\": 90, \"Random Forest\": 95}\n",
        "print(metode_ML)"
      ],
      "metadata": {
        "colab": {
          "base_uri": "https://localhost:8080/"
        },
        "id": "VRiOfbMvBpAu",
        "outputId": "5fa11d09-ec7e-455f-a9b7-0f63ee4a5ca9"
      },
      "execution_count": 12,
      "outputs": [
        {
          "output_type": "stream",
          "name": "stdout",
          "text": [
            "{'Linear Regression': 85, 'SVM': 88, 'Decision Tree': 90, 'Random Forest': 95}\n"
          ]
        }
      ]
    },
    {
      "cell_type": "markdown",
      "source": [
        "Dengan cara mengakses keys, keluarkan element - element pada dictionary yang sudah dibuat pada di atas!"
      ],
      "metadata": {
        "id": "8Bag3BsHDFiH"
      }
    },
    {
      "cell_type": "code",
      "source": [
        "# Tulis jawaban anda di bawah ini!\n",
        "\n",
        "metode_ML = {\"Linear Regression\": 85, \"SVM\": 88, \"Decision Tree\": 90, \"Random Forest\": 95}\n",
        "print(f\"Nilai model ML metode Linear Regression {metode_ML.get('Linear Regression')}\")\n",
        "print(f\"Nilai model ML metode SVM {metode_ML.get('SVM')}\")\n",
        "print(f\"Nilai model ML metode Decision Tree {metode_ML.get('Decision Tree')}\")\n",
        "print(f\"Nilai model ML metode Random Forest {metode_ML.get('Random Forest')}\")"
      ],
      "metadata": {
        "colab": {
          "base_uri": "https://localhost:8080/"
        },
        "id": "QjpFSbS_DJXr",
        "outputId": "10e1f7f1-734c-4434-bdd5-3ad0bbffa24e"
      },
      "execution_count": 18,
      "outputs": [
        {
          "output_type": "stream",
          "name": "stdout",
          "text": [
            "Nilai model ML metode Linear Regression 85\n",
            "Nilai model ML metode SVM 88\n",
            "Nilai model ML metode Decision Tree 90\n",
            "Nilai model ML metode Random Forest 95\n"
          ]
        }
      ]
    },
    {
      "cell_type": "code",
      "source": [
        "# Alternate answer\n",
        "\n",
        "metode_ML = {\"Linear Regression\": 85, \"SVM\": 88, \"Decision Tree\": 90, \"Random Forest\": 95}\n",
        "print(f\"Nilai model ML metode Linear Regression {metode_ML['Linear Regression']}\")\n",
        "print(f\"Nilai model ML metode SVM {metode_ML['SVM']}\")\n",
        "print(f\"Nilai model ML metode Decision Tree {metode_ML['Decision Tree']}\")\n",
        "print(f\"Nilai model ML metode Random Forest {metode_ML['Random Forest']}\")"
      ],
      "metadata": {
        "colab": {
          "base_uri": "https://localhost:8080/"
        },
        "id": "xYrqYm23FCcg",
        "outputId": "d6947a86-5c60-4e4f-c65e-61f6d0298427"
      },
      "execution_count": 20,
      "outputs": [
        {
          "output_type": "stream",
          "name": "stdout",
          "text": [
            "Nilai model ML metode Linear Regression 85\n",
            "Nilai model ML metode SVM 88\n",
            "Nilai model ML metode Decision Tree 90\n",
            "Nilai model ML metode Random Forest 95\n"
          ]
        }
      ]
    }
  ]
}