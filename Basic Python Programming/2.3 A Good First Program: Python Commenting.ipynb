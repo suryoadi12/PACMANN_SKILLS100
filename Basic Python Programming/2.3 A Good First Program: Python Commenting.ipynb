{
  "nbformat": 4,
  "nbformat_minor": 0,
  "metadata": {
    "colab": {
      "provenance": [],
      "authorship_tag": "ABX9TyNj02aOFzVotzgYADgEF2rv",
      "include_colab_link": true
    },
    "kernelspec": {
      "name": "python3",
      "display_name": "Python 3"
    },
    "language_info": {
      "name": "python"
    }
  },
  "cells": [
    {
      "cell_type": "markdown",
      "metadata": {
        "id": "view-in-github",
        "colab_type": "text"
      },
      "source": [
        "<a href=\"https://colab.research.google.com/github/suryoadi12/PACMANN_SKILLS100/blob/main/Basic%20Python%20Programming/2.3%20A%20Good%20First%20Program%3A%20Python%20Commenting.ipynb\" target=\"_parent\"><img src=\"https://colab.research.google.com/assets/colab-badge.svg\" alt=\"Open In Colab\"/></a>"
      ]
    },
    {
      "cell_type": "markdown",
      "source": [
        "# **Pertemuan #1-4 - Commenting**"
      ],
      "metadata": {
        "id": "A5XFbJ-UfCU-"
      }
    },
    {
      "cell_type": "markdown",
      "source": [
        "**COMMENTING**"
      ],
      "metadata": {
        "id": "a41-TqEcfKMd"
      }
    },
    {
      "cell_type": "markdown",
      "source": [
        "\n",
        "\n",
        "*   Commenting merupakan sebuah komentar yang digunakan untuk memperjelas maksud dari sebuah proses ataupun sebuah perintah.\n",
        "\n",
        "*   Apabila dijalankan commenting tidak akan melakukan eksekusi apapun.\n",
        "*   Commenting diperlukan untuk mempermudah kita mengerti suatu program.\n",
        "\n",
        "\n",
        "*   Commenting juga akan mempermudah orang lain yang hendak membaca program kita kelak.\n",
        "\n"
      ],
      "metadata": {
        "id": "bZ2_A1oOfMlq"
      }
    },
    {
      "cell_type": "markdown",
      "source": [
        "Terdapat 3 macam bentuk komentar, yakni:\n",
        "\n",
        "\n",
        "\n",
        "*   Single Line\n",
        "\n",
        "*   Inline\n",
        "*   Multi Line\n"
      ],
      "metadata": {
        "id": "6uE3YTEgfXrh"
      }
    },
    {
      "cell_type": "markdown",
      "source": [
        "**SINGLE LINE COMMENT**"
      ],
      "metadata": {
        "id": "-ckZ02-9fpH5"
      }
    },
    {
      "cell_type": "code",
      "execution_count": 1,
      "metadata": {
        "colab": {
          "base_uri": "https://localhost:8080/"
        },
        "id": "wHDpUyF4ecEW",
        "outputId": "cfb94704-53e3-4093-8047-9a9edfafa524"
      },
      "outputs": [
        {
          "output_type": "stream",
          "name": "stdout",
          "text": [
            "Ini adalah code untuk sebuah proses untuk mengeluarkan sebuah text\n"
          ]
        }
      ],
      "source": [
        "# Single line merupakan komentar yang diawali dengan tanda pagar (#)\n",
        "# Single line merupakan komentar yang paling awam digunakan\n",
        "# Biasanya digunakan untuk menjelaskan sebuah proses\n",
        "\n",
        "print(\"Ini adalah code untuk sebuah proses untuk mengeluarkan sebuah text\")"
      ]
    },
    {
      "cell_type": "markdown",
      "source": [
        "**CONTOH**"
      ],
      "metadata": {
        "id": "DHheR0oYftDF"
      }
    },
    {
      "cell_type": "code",
      "source": [
        "profit = (revenue - modal)\n",
        "print(profit)"
      ],
      "metadata": {
        "id": "Xxv8DdXcf12N"
      },
      "execution_count": null,
      "outputs": []
    },
    {
      "cell_type": "code",
      "source": [
        "# Baris ini untuk mencari profit dari produk, dengan cara revenue dikurangi modal\n",
        "profit = revenue - modal\n",
        "\n",
        "# Selanjutnya tampilkan nilai profit yang didapat\n",
        "print(profit)"
      ],
      "metadata": {
        "id": "j43aAnrkf4L5"
      },
      "execution_count": null,
      "outputs": []
    },
    {
      "cell_type": "markdown",
      "source": [
        "Dari kedua program di atas, manakah yang lebih mudah dipahami?"
      ],
      "metadata": {
        "id": "wMfF1CkIf5rt"
      }
    },
    {
      "cell_type": "markdown",
      "source": [
        "Sekarang teman - teman bisa coba kasih comment agar untuk mempermudah maksud dari code di bawah ini:"
      ],
      "metadata": {
        "id": "KhafZicMf8d9"
      }
    },
    {
      "cell_type": "code",
      "source": [
        "# Masukkan comment di titik - titik di bawah ini\n",
        "\n",
        "# Baris ini menjelaskan tanggal lahir Bung Karno\n",
        "print(\"Bung Karno lahir pada 6 Juni 1901\")"
      ],
      "metadata": {
        "id": "1o1crqdlf9dR"
      },
      "execution_count": null,
      "outputs": []
    },
    {
      "cell_type": "markdown",
      "source": [
        "**EXERCISE**"
      ],
      "metadata": {
        "id": "6BeKTF6ogJYE"
      }
    },
    {
      "cell_type": "code",
      "source": [
        "# Masukkan comment di titik - titik di bawah ini\n",
        "\n",
        "# Baris ini menjelaskan tanggal hari ini\n",
        "print(\"Hari ini tanggal 24 September 2022\")"
      ],
      "metadata": {
        "id": "4PGYfIVXgMpG"
      },
      "execution_count": null,
      "outputs": []
    },
    {
      "cell_type": "markdown",
      "source": [
        "**INLINE COMMENT**"
      ],
      "metadata": {
        "id": "BR41tgQrgR_B"
      }
    },
    {
      "cell_type": "code",
      "source": [
        "# ini adalah komentar single line\n",
        "\n",
        "print ('Hello World!') # Komentar ini juga diawali dengan tanda pagar (#)\n",
        "print ('Hello World!') # Digunakan di dalam satu baris yang sama dengan perintahnya"
      ],
      "metadata": {
        "id": "VUPvyFaRgVwl"
      },
      "execution_count": null,
      "outputs": []
    },
    {
      "cell_type": "markdown",
      "source": [
        "**CONTOH**"
      ],
      "metadata": {
        "id": "9V7FGmkCgZz5"
      }
    },
    {
      "cell_type": "markdown",
      "source": [
        "Semisal kita ingin membuat code untuk menghitung luas dari bangun ruang Persegi. Pertama, kita memasukkan nilai sisi persegi 5 ke dalam variabel `sisi_persegi`. Untuk mencari luas persegi adalah dengan cara `luas_persegi = sisi_persegi * sisi_persegi.`"
      ],
      "metadata": {
        "id": "jLtGEASMgbCV"
      }
    },
    {
      "cell_type": "code",
      "source": [
        "# Good: (menggunakan inline)\n",
        "luas_persegi = sisi_persegi * sisi_persegi # Mencari luas persegi\n",
        "\n",
        "# Bad: (komentar terlalu panjang dan deskriptif)\n",
        "luas_persegi = sisi_persegi * sisi_persegi # Ini adalah baris yang digunakan untuk mencari luas persegi sebagai hasil perkalian sisi persegi dengan sisi persegi"
      ],
      "metadata": {
        "id": "0WDmoeqegqyG"
      },
      "execution_count": null,
      "outputs": []
    },
    {
      "cell_type": "markdown",
      "source": [
        "Coba berikan inline comment, terhadap code di bawah ini!"
      ],
      "metadata": {
        "id": "QprILphhgypA"
      }
    },
    {
      "cell_type": "code",
      "source": [
        "# Coba berikan comment untuk titik - titik di bawah ini\n",
        "\n",
        "sisi_persegi = 5 # Jumlah sisi persegi yang akan dihitung\n",
        "luas_persegi = sisi_persegi * sisi_persegi # Mencari luas persegi"
      ],
      "metadata": {
        "id": "NkLaPSAdgyBH"
      },
      "execution_count": null,
      "outputs": []
    },
    {
      "cell_type": "markdown",
      "source": [
        "**EXERCISE**"
      ],
      "metadata": {
        "id": "1qE5lZpChLKh"
      }
    },
    {
      "cell_type": "markdown",
      "source": [
        "\n",
        "\n",
        "*   tinggi_segitiga = 5 cm\n",
        "*   print(tinggi_segitiga)\n",
        "\n",
        "\n",
        "\n",
        "Berilah komentar pada code di atas menggunakan inline comment!"
      ],
      "metadata": {
        "id": "jselP26thN7B"
      }
    },
    {
      "cell_type": "code",
      "source": [
        "# Coba berikan comment untuk titik - titik di bawah ini\n",
        "\n",
        "tinggi_segitiga = 5cm # Menampung nilai tinggi segitiga\n",
        "print(tinggi_segitiga) # Output dari variabel tinggi_segitiga"
      ],
      "metadata": {
        "id": "l4EMu6kxhYHt"
      },
      "execution_count": null,
      "outputs": []
    },
    {
      "cell_type": "markdown",
      "source": [
        "**MULTI LINE COMMENT**"
      ],
      "metadata": {
        "id": "zWegM6hPhylX"
      }
    },
    {
      "cell_type": "markdown",
      "source": [
        "Multi line merupakan komentar yang biasanya digunakan apabila memiliki isi/konten yang banyak. Komentar ini ditandai dengan 3 kutip diawal dan diakhir, 3 kutip ini dapat berupa kutip tunggal maupun kutip ganda."
      ],
      "metadata": {
        "id": "u9o_uOQfh1zJ"
      }
    },
    {
      "cell_type": "markdown",
      "source": [
        "**CONTOH**"
      ],
      "metadata": {
        "id": "LxQDN-Erh6_t"
      }
    },
    {
      "cell_type": "markdown",
      "source": [
        "Perhatikan 2 potongan program di bawah ini!\n",
        "\n",
        "Manakah yang lebih mudah dimengerti atau dipahami?"
      ],
      "metadata": {
        "id": "Fi5muW5th9Zt"
      }
    },
    {
      "cell_type": "code",
      "source": [
        "import pandas as pd\n",
        "from sklearn import model_selection\n",
        "\n",
        "df = pd.read_csv(\"train.csv\")\n",
        "df[\"kfold\"] = -1\n",
        "df = df.sample(frac=1).reset_index(drop=True)\n",
        "kf = model_selection.KFold(n_splits=5)\n",
        "\n",
        "\n",
        "for fold, (trn_, val_) in enumerate(kf.split(X=df)):\n",
        "    df.loc[val_, 'kfold'] = fold\n",
        "\n",
        "df.to_csv(\"train_folds.csv\", index=False)"
      ],
      "metadata": {
        "id": "XDuphEvgh-IC"
      },
      "execution_count": null,
      "outputs": []
    },
    {
      "cell_type": "code",
      "source": [
        "# import pandas and model_selection module of scikit-learn\n",
        "import pandas as pd\n",
        "from sklearn import model_selection\n",
        "\n",
        "# Training data is in a CSV file called train.csv\n",
        "df = pd.read_csv(\"train.csv\")\n",
        "\n",
        "# we create a new column called kfold and fill it with -1\n",
        "df[\"kfold\"] = -1\n",
        "\n",
        "# the next step is to randomize the rows of the data\n",
        "df = df.sample(frac=1).reset_index(drop=True)\n",
        "\n",
        "# initiate the kfold class from model_selection module\n",
        "kf = model_selection.KFold(n_splits=5)\n",
        "\n",
        "# fill the new kfold column\n",
        "for fold, (trn_, val_) in enumerate(kf.split(X=df)):\n",
        "    df.loc[val_, 'kfold'] = fold\n",
        "\n",
        "# save the new csv with kfold column\n",
        "df.to_csv(\"train_folds.csv\", index=False)"
      ],
      "metadata": {
        "id": "uzkv1UIkiD8z"
      },
      "execution_count": null,
      "outputs": []
    }
  ]
}