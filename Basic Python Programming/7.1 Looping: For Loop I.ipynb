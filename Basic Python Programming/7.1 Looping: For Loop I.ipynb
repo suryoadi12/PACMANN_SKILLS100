{
  "nbformat": 4,
  "nbformat_minor": 0,
  "metadata": {
    "colab": {
      "provenance": [],
      "authorship_tag": "ABX9TyMh/07Uh5js0LSn6TD+V5si",
      "include_colab_link": true
    },
    "kernelspec": {
      "name": "python3",
      "display_name": "Python 3"
    },
    "language_info": {
      "name": "python"
    }
  },
  "cells": [
    {
      "cell_type": "markdown",
      "metadata": {
        "id": "view-in-github",
        "colab_type": "text"
      },
      "source": [
        "<a href=\"https://colab.research.google.com/github/suryoadi12/PACMANN_SKILLS100/blob/main/Basic%20Python%20Programming/7.1%20Looping%3A%20For%20Loop%20I.ipynb\" target=\"_parent\"><img src=\"https://colab.research.google.com/assets/colab-badge.svg\" alt=\"Open In Colab\"/></a>"
      ]
    },
    {
      "cell_type": "markdown",
      "source": [
        "# **Pertemuan #6 - Looping**"
      ],
      "metadata": {
        "id": "27HM4HRaXoPV"
      }
    },
    {
      "cell_type": "markdown",
      "source": [
        "**FOR LOOP**"
      ],
      "metadata": {
        "id": "RALFeUN8XqiD"
      }
    },
    {
      "cell_type": "markdown",
      "source": [
        "Biasanya jika kita ingin mencetak sesuatu kita menggunakan keyword print. Namun ini akan menjadi tidak efisien jika kita print kata yang berulang kali. Misalnya seperti print 10 bilangan awal secara berurutan. Jadi kode yang kita pakai:\n",
        "\n",
        "print(1)\n",
        "\n",
        "print(2)\n",
        "\n",
        "print(3)\n",
        "\n",
        "...\n",
        "\n",
        "print(10)\n",
        "\n",
        "Bagaimana jika ingin print 50 atau 100 lagi? Pasti akan capek dan hal ini tidak efisien.\n",
        "\n",
        "Kita bisa otomatisasi print hal yang berulang tersebut dengan `for` loop."
      ],
      "metadata": {
        "id": "KxBxDzeYXvTT"
      }
    },
    {
      "cell_type": "markdown",
      "source": [
        "Struktur perulangan `for` adalah sebagai berikut:\n",
        "\n",
        "    for iterator_variable in sequence_name:\n",
        "      Statements\n",
        "    . . .\n",
        "      Statements\n",
        "\n",
        "\n",
        "*   Keyword `for` menandakan awal dari `for` loop.\n",
        "\n",
        "*   `iterator_variabel` adalah variabel yang kita gunakan untuk menyimpan nilai pada saat kita melakukan for loop\n",
        "*   Keyword `in` memberi tahu variabel iterator untuk mengulang elemen dalam urutan\n",
        "\n",
        "\n",
        "*   `sequence_name` adalah tipe data yang memiliki urutan, seperti list, set, tuple, dictionary dll.\n",
        "\n"
      ],
      "metadata": {
        "id": "CG_AP3EthShe"
      }
    },
    {
      "cell_type": "markdown",
      "source": [
        "**FOR LOOPING IN A NUMBER**"
      ],
      "metadata": {
        "id": "G6FQZaDbh1MG"
      }
    },
    {
      "cell_type": "markdown",
      "source": [
        "Jika kita ingin mencetak kalimat beberapa kali kita bisa menggunakan angka sebagai penanda.\n",
        "\n",
        "Contohnya kita akan mencetak kalimat \"Hello World\" sebanyak lima kali."
      ],
      "metadata": {
        "id": "UHoCH9S7h5cG"
      }
    },
    {
      "cell_type": "code",
      "source": [
        "# Coba jalankan code di bawah ini\n",
        "\n",
        "for angka in 0, 1, 2, 3, 4, 5:\n",
        "  print(\"Hello World\")"
      ],
      "metadata": {
        "colab": {
          "base_uri": "https://localhost:8080/"
        },
        "id": "sOuSD-CUh6wm",
        "outputId": "30005402-7f52-4c7a-df3b-3859db247380"
      },
      "execution_count": 2,
      "outputs": [
        {
          "output_type": "stream",
          "name": "stdout",
          "text": [
            "Hello World\n",
            "Hello World\n",
            "Hello World\n",
            "Hello World\n",
            "Hello World\n",
            "Hello World\n"
          ]
        }
      ]
    },
    {
      "cell_type": "code",
      "source": [
        "# Kita juga bisa mencetak angka yang digunakan sebagai penanda\n",
        "\n",
        "for angka in 0, 1, 2, 3, 4, 5:\n",
        "    print(f'Hello World ke-{angka}')"
      ],
      "metadata": {
        "colab": {
          "base_uri": "https://localhost:8080/"
        },
        "id": "A2Os-fr7iLRf",
        "outputId": "a0c1b60e-370e-4bc7-b35a-9e6702c197ed"
      },
      "execution_count": 3,
      "outputs": [
        {
          "output_type": "stream",
          "name": "stdout",
          "text": [
            "Hello World ke-0\n",
            "Hello World ke-1\n",
            "Hello World ke-2\n",
            "Hello World ke-3\n",
            "Hello World ke-4\n",
            "Hello World ke-5\n"
          ]
        }
      ]
    },
    {
      "cell_type": "markdown",
      "source": [
        "Perhatikan penulisan kelompok angka `(0, 1, 2, 3, 4, 5)` di atas. Jika kita ingin melakukan perulangan dengan jumlah yang kecil maka masih memungkinkan. Bagaimana jika kita akan melakukan 100 atau bahkan 1.000 perulangan? Cara tersebut tentu tidak efektif.\n",
        "\n",
        "Untuk mengatasi hal tersebut, kita bisa menggunakan `range()`."
      ],
      "metadata": {
        "id": "IvM1jcFoiYBZ"
      }
    },
    {
      "cell_type": "markdown",
      "source": [
        "`range()` akan membuat **kumpulan angka** secara otomatis sesuai yang kita inginkan. Cara penggunaanya adalah `range(begin, end, step)`.\n",
        "\n",
        "\n",
        "\n",
        "*   `begin` adalah angka pertama di dalam range, secara default adalah 0.\n",
        "\n",
        "*   `end` adalah angka 1 step setelah angka terakhir, tidak memiliki default.\n",
        "*   `step` adalah besar dari kenaikan atau penurunan, secara default adalah 1.\n",
        "\n",
        "\n"
      ],
      "metadata": {
        "id": "AKPnmR6Oie82"
      }
    },
    {
      "cell_type": "markdown",
      "source": [
        "Jika kita hanya memberikan satu nilai pada `range` berarti yang didefinisikan adalah angka untuk parameter `end`."
      ],
      "metadata": {
        "id": "beUfsl-ni1N4"
      }
    },
    {
      "cell_type": "code",
      "source": [
        "# Coba jalankan code di bawah ini\n",
        "\n",
        "for angka in range(5):\n",
        "  print(angka)"
      ],
      "metadata": {
        "colab": {
          "base_uri": "https://localhost:8080/"
        },
        "id": "D6TEsZ43iu6q",
        "outputId": "a19be94e-103a-46f0-d552-373a16471e10"
      },
      "execution_count": 4,
      "outputs": [
        {
          "output_type": "stream",
          "name": "stdout",
          "text": [
            "0\n",
            "1\n",
            "2\n",
            "3\n",
            "4\n"
          ]
        }
      ]
    },
    {
      "cell_type": "markdown",
      "source": [
        "Jika kita definisikan dua angka pada `range()` berarti yang didefinisikan adalah angka untuk parameter `begin` dan `end`.\n",
        "\n",
        "Cara ini bisa digunakan untuk membuat deret angka tertentu yang kita inginkan. Misalnya dari 100 sampai 200 atau 50 sampai 100"
      ],
      "metadata": {
        "id": "Z-JoNd6vjLo8"
      }
    },
    {
      "cell_type": "code",
      "source": [
        "# Kita akan print dari angka 5 sampai 10\n",
        "\n",
        "for angka in range(5, 11):\n",
        "  print(angka)"
      ],
      "metadata": {
        "colab": {
          "base_uri": "https://localhost:8080/"
        },
        "id": "gftjbmBnjPtB",
        "outputId": "dbd9dbce-a195-4cb9-e065-55ab0cc753f2"
      },
      "execution_count": 5,
      "outputs": [
        {
          "output_type": "stream",
          "name": "stdout",
          "text": [
            "5\n",
            "6\n",
            "7\n",
            "8\n",
            "9\n",
            "10\n"
          ]
        }
      ]
    },
    {
      "cell_type": "code",
      "source": [
        "# Coba print angka 10 sampai 20 menggunakan method range()\n",
        "\n",
        "for angka in range(10, 21):\n",
        "  print(angka)"
      ],
      "metadata": {
        "colab": {
          "base_uri": "https://localhost:8080/"
        },
        "id": "hxPcT7RHjmXD",
        "outputId": "7082108d-bf62-4cbb-e58a-e510576d83d8"
      },
      "execution_count": 6,
      "outputs": [
        {
          "output_type": "stream",
          "name": "stdout",
          "text": [
            "10\n",
            "11\n",
            "12\n",
            "13\n",
            "14\n",
            "15\n",
            "16\n",
            "17\n",
            "18\n",
            "19\n",
            "20\n"
          ]
        }
      ]
    },
    {
      "cell_type": "markdown",
      "source": [
        "Bagaimana kalo kita hanya ingin mencari angka genapnya saja? Semisal kita ingin mencari ID pelanggan yang bernomor genap.\n",
        "\n",
        "Kita bisa mendefinisikan tiga parameter angka pada `range()`.\n",
        "\n",
        "\n",
        "\n",
        "*   Angka yang pertama untuk parameter `begin` sebagai awal kita mulai dari angka berapa.\n",
        "\n",
        "*   Kedua untuk parameter `end` atau angka akan berakhir dimana.\n",
        "*   dan ketiga untuk parameter `step` atau berapa jarak antar angka pada deret yang kita inginkan.\n",
        "\n",
        "\n",
        "*   Jadi penulisannya `range(begin, end, step)`.\n",
        "\n"
      ],
      "metadata": {
        "id": "0Z_rhpqUjx_x"
      }
    },
    {
      "cell_type": "code",
      "source": [
        "# Coba jalankan kode dibawah\n",
        "# Kita akan print angka genap dari 1 sampai 10\n",
        "\n",
        "for angka in range(0, 10, 2):\n",
        "    print(angka)"
      ],
      "metadata": {
        "colab": {
          "base_uri": "https://localhost:8080/"
        },
        "id": "BdUsCqJBkElD",
        "outputId": "b2ea043b-6be7-47be-a9c7-d071127ba562"
      },
      "execution_count": 14,
      "outputs": [
        {
          "output_type": "stream",
          "name": "stdout",
          "text": [
            "0\n",
            "2\n",
            "4\n",
            "6\n",
            "8\n"
          ]
        }
      ]
    },
    {
      "cell_type": "markdown",
      "source": [
        "Apakah bisa jika kita ingin membuat deret angka dari **besar ke kecil** ? Bisa. Caranya dengan membuat parameter `step` bernilai **negatif**."
      ],
      "metadata": {
        "id": "f0VoTqDEka_T"
      }
    },
    {
      "cell_type": "code",
      "source": [
        "# Coba jalankan code dibawah\n",
        "# Deret angka akan bergerak dari angka 10 sampai 0 karena step memiliki indeks negatif\n",
        "\n",
        "for angka in range(10, 0, -1):\n",
        "    print(angka)"
      ],
      "metadata": {
        "colab": {
          "base_uri": "https://localhost:8080/"
        },
        "id": "F9uk2i0Ykgm9",
        "outputId": "525140a4-a55a-4fb4-b828-9d0174e39690"
      },
      "execution_count": 10,
      "outputs": [
        {
          "output_type": "stream",
          "name": "stdout",
          "text": [
            "10\n",
            "9\n",
            "8\n",
            "7\n",
            "6\n",
            "5\n",
            "4\n",
            "3\n",
            "2\n",
            "1\n"
          ]
        }
      ]
    },
    {
      "cell_type": "code",
      "source": [
        "# Coba buatlah for loop untuk mendapatkan bilangan ganjil dari 0 sampai 10\n",
        "\n",
        "for angka in range(1, 10, 2):\n",
        "  print(angka)"
      ],
      "metadata": {
        "colab": {
          "base_uri": "https://localhost:8080/"
        },
        "id": "Up-W1EEVkrrb",
        "outputId": "109aacc2-7cf2-4e71-9fe2-61e76ad117f1"
      },
      "execution_count": 15,
      "outputs": [
        {
          "output_type": "stream",
          "name": "stdout",
          "text": [
            "1\n",
            "3\n",
            "5\n",
            "7\n",
            "9\n"
          ]
        }
      ]
    },
    {
      "cell_type": "markdown",
      "source": [
        "**NESTED LOOP**"
      ],
      "metadata": {
        "id": "-ZMX0T4HlM6R"
      }
    },
    {
      "cell_type": "markdown",
      "source": [
        "Sebuah `loop` juga bisa berada di dalam `loop` lainnya untuk mengejakan sebuah pekerjaan yang lebih kompleks.\n",
        "\n",
        "Kita ambil contoh dari sebuah tanggal. Pada tanggal ada hitungan hari, bulan dan tahun, Setiap satu tahun terdiri dari 12 bulan, dan setiap bulan terdiri dari 30 hari. Hal ini disebut dengan **nested loop**, atau perulangan yang berada pada perulangan lainnya."
      ],
      "metadata": {
        "id": "wmG6c8JUlOXc"
      }
    },
    {
      "cell_type": "code",
      "source": [
        "# Coba jalankan code di bawah ini\n",
        "\n",
        "for bulan in range(1, 13):\n",
        "  print(f\"Bulan {bulan}\")\n",
        "  for tanggal in range(1, 32):\n",
        "    print(f\"Tanggal {tanggal}\")"
      ],
      "metadata": {
        "colab": {
          "base_uri": "https://localhost:8080/"
        },
        "id": "eQEeZ1Zylbbs",
        "outputId": "d7e5272e-b821-4bdd-9f79-83a3af0f5684"
      },
      "execution_count": 18,
      "outputs": [
        {
          "output_type": "stream",
          "name": "stdout",
          "text": [
            "Bulan 1\n",
            "Tanggal 1\n",
            "Tanggal 2\n",
            "Tanggal 3\n",
            "Tanggal 4\n",
            "Tanggal 5\n",
            "Tanggal 6\n",
            "Tanggal 7\n",
            "Tanggal 8\n",
            "Tanggal 9\n",
            "Tanggal 10\n",
            "Tanggal 11\n",
            "Tanggal 12\n",
            "Tanggal 13\n",
            "Tanggal 14\n",
            "Tanggal 15\n",
            "Tanggal 16\n",
            "Tanggal 17\n",
            "Tanggal 18\n",
            "Tanggal 19\n",
            "Tanggal 20\n",
            "Tanggal 21\n",
            "Tanggal 22\n",
            "Tanggal 23\n",
            "Tanggal 24\n",
            "Tanggal 25\n",
            "Tanggal 26\n",
            "Tanggal 27\n",
            "Tanggal 28\n",
            "Tanggal 29\n",
            "Tanggal 30\n",
            "Tanggal 31\n",
            "Bulan 2\n",
            "Tanggal 1\n",
            "Tanggal 2\n",
            "Tanggal 3\n",
            "Tanggal 4\n",
            "Tanggal 5\n",
            "Tanggal 6\n",
            "Tanggal 7\n",
            "Tanggal 8\n",
            "Tanggal 9\n",
            "Tanggal 10\n",
            "Tanggal 11\n",
            "Tanggal 12\n",
            "Tanggal 13\n",
            "Tanggal 14\n",
            "Tanggal 15\n",
            "Tanggal 16\n",
            "Tanggal 17\n",
            "Tanggal 18\n",
            "Tanggal 19\n",
            "Tanggal 20\n",
            "Tanggal 21\n",
            "Tanggal 22\n",
            "Tanggal 23\n",
            "Tanggal 24\n",
            "Tanggal 25\n",
            "Tanggal 26\n",
            "Tanggal 27\n",
            "Tanggal 28\n",
            "Tanggal 29\n",
            "Tanggal 30\n",
            "Tanggal 31\n",
            "Bulan 3\n",
            "Tanggal 1\n",
            "Tanggal 2\n",
            "Tanggal 3\n",
            "Tanggal 4\n",
            "Tanggal 5\n",
            "Tanggal 6\n",
            "Tanggal 7\n",
            "Tanggal 8\n",
            "Tanggal 9\n",
            "Tanggal 10\n",
            "Tanggal 11\n",
            "Tanggal 12\n",
            "Tanggal 13\n",
            "Tanggal 14\n",
            "Tanggal 15\n",
            "Tanggal 16\n",
            "Tanggal 17\n",
            "Tanggal 18\n",
            "Tanggal 19\n",
            "Tanggal 20\n",
            "Tanggal 21\n",
            "Tanggal 22\n",
            "Tanggal 23\n",
            "Tanggal 24\n",
            "Tanggal 25\n",
            "Tanggal 26\n",
            "Tanggal 27\n",
            "Tanggal 28\n",
            "Tanggal 29\n",
            "Tanggal 30\n",
            "Tanggal 31\n",
            "Bulan 4\n",
            "Tanggal 1\n",
            "Tanggal 2\n",
            "Tanggal 3\n",
            "Tanggal 4\n",
            "Tanggal 5\n",
            "Tanggal 6\n",
            "Tanggal 7\n",
            "Tanggal 8\n",
            "Tanggal 9\n",
            "Tanggal 10\n",
            "Tanggal 11\n",
            "Tanggal 12\n",
            "Tanggal 13\n",
            "Tanggal 14\n",
            "Tanggal 15\n",
            "Tanggal 16\n",
            "Tanggal 17\n",
            "Tanggal 18\n",
            "Tanggal 19\n",
            "Tanggal 20\n",
            "Tanggal 21\n",
            "Tanggal 22\n",
            "Tanggal 23\n",
            "Tanggal 24\n",
            "Tanggal 25\n",
            "Tanggal 26\n",
            "Tanggal 27\n",
            "Tanggal 28\n",
            "Tanggal 29\n",
            "Tanggal 30\n",
            "Tanggal 31\n",
            "Bulan 5\n",
            "Tanggal 1\n",
            "Tanggal 2\n",
            "Tanggal 3\n",
            "Tanggal 4\n",
            "Tanggal 5\n",
            "Tanggal 6\n",
            "Tanggal 7\n",
            "Tanggal 8\n",
            "Tanggal 9\n",
            "Tanggal 10\n",
            "Tanggal 11\n",
            "Tanggal 12\n",
            "Tanggal 13\n",
            "Tanggal 14\n",
            "Tanggal 15\n",
            "Tanggal 16\n",
            "Tanggal 17\n",
            "Tanggal 18\n",
            "Tanggal 19\n",
            "Tanggal 20\n",
            "Tanggal 21\n",
            "Tanggal 22\n",
            "Tanggal 23\n",
            "Tanggal 24\n",
            "Tanggal 25\n",
            "Tanggal 26\n",
            "Tanggal 27\n",
            "Tanggal 28\n",
            "Tanggal 29\n",
            "Tanggal 30\n",
            "Tanggal 31\n",
            "Bulan 6\n",
            "Tanggal 1\n",
            "Tanggal 2\n",
            "Tanggal 3\n",
            "Tanggal 4\n",
            "Tanggal 5\n",
            "Tanggal 6\n",
            "Tanggal 7\n",
            "Tanggal 8\n",
            "Tanggal 9\n",
            "Tanggal 10\n",
            "Tanggal 11\n",
            "Tanggal 12\n",
            "Tanggal 13\n",
            "Tanggal 14\n",
            "Tanggal 15\n",
            "Tanggal 16\n",
            "Tanggal 17\n",
            "Tanggal 18\n",
            "Tanggal 19\n",
            "Tanggal 20\n",
            "Tanggal 21\n",
            "Tanggal 22\n",
            "Tanggal 23\n",
            "Tanggal 24\n",
            "Tanggal 25\n",
            "Tanggal 26\n",
            "Tanggal 27\n",
            "Tanggal 28\n",
            "Tanggal 29\n",
            "Tanggal 30\n",
            "Tanggal 31\n",
            "Bulan 7\n",
            "Tanggal 1\n",
            "Tanggal 2\n",
            "Tanggal 3\n",
            "Tanggal 4\n",
            "Tanggal 5\n",
            "Tanggal 6\n",
            "Tanggal 7\n",
            "Tanggal 8\n",
            "Tanggal 9\n",
            "Tanggal 10\n",
            "Tanggal 11\n",
            "Tanggal 12\n",
            "Tanggal 13\n",
            "Tanggal 14\n",
            "Tanggal 15\n",
            "Tanggal 16\n",
            "Tanggal 17\n",
            "Tanggal 18\n",
            "Tanggal 19\n",
            "Tanggal 20\n",
            "Tanggal 21\n",
            "Tanggal 22\n",
            "Tanggal 23\n",
            "Tanggal 24\n",
            "Tanggal 25\n",
            "Tanggal 26\n",
            "Tanggal 27\n",
            "Tanggal 28\n",
            "Tanggal 29\n",
            "Tanggal 30\n",
            "Tanggal 31\n",
            "Bulan 8\n",
            "Tanggal 1\n",
            "Tanggal 2\n",
            "Tanggal 3\n",
            "Tanggal 4\n",
            "Tanggal 5\n",
            "Tanggal 6\n",
            "Tanggal 7\n",
            "Tanggal 8\n",
            "Tanggal 9\n",
            "Tanggal 10\n",
            "Tanggal 11\n",
            "Tanggal 12\n",
            "Tanggal 13\n",
            "Tanggal 14\n",
            "Tanggal 15\n",
            "Tanggal 16\n",
            "Tanggal 17\n",
            "Tanggal 18\n",
            "Tanggal 19\n",
            "Tanggal 20\n",
            "Tanggal 21\n",
            "Tanggal 22\n",
            "Tanggal 23\n",
            "Tanggal 24\n",
            "Tanggal 25\n",
            "Tanggal 26\n",
            "Tanggal 27\n",
            "Tanggal 28\n",
            "Tanggal 29\n",
            "Tanggal 30\n",
            "Tanggal 31\n",
            "Bulan 9\n",
            "Tanggal 1\n",
            "Tanggal 2\n",
            "Tanggal 3\n",
            "Tanggal 4\n",
            "Tanggal 5\n",
            "Tanggal 6\n",
            "Tanggal 7\n",
            "Tanggal 8\n",
            "Tanggal 9\n",
            "Tanggal 10\n",
            "Tanggal 11\n",
            "Tanggal 12\n",
            "Tanggal 13\n",
            "Tanggal 14\n",
            "Tanggal 15\n",
            "Tanggal 16\n",
            "Tanggal 17\n",
            "Tanggal 18\n",
            "Tanggal 19\n",
            "Tanggal 20\n",
            "Tanggal 21\n",
            "Tanggal 22\n",
            "Tanggal 23\n",
            "Tanggal 24\n",
            "Tanggal 25\n",
            "Tanggal 26\n",
            "Tanggal 27\n",
            "Tanggal 28\n",
            "Tanggal 29\n",
            "Tanggal 30\n",
            "Tanggal 31\n",
            "Bulan 10\n",
            "Tanggal 1\n",
            "Tanggal 2\n",
            "Tanggal 3\n",
            "Tanggal 4\n",
            "Tanggal 5\n",
            "Tanggal 6\n",
            "Tanggal 7\n",
            "Tanggal 8\n",
            "Tanggal 9\n",
            "Tanggal 10\n",
            "Tanggal 11\n",
            "Tanggal 12\n",
            "Tanggal 13\n",
            "Tanggal 14\n",
            "Tanggal 15\n",
            "Tanggal 16\n",
            "Tanggal 17\n",
            "Tanggal 18\n",
            "Tanggal 19\n",
            "Tanggal 20\n",
            "Tanggal 21\n",
            "Tanggal 22\n",
            "Tanggal 23\n",
            "Tanggal 24\n",
            "Tanggal 25\n",
            "Tanggal 26\n",
            "Tanggal 27\n",
            "Tanggal 28\n",
            "Tanggal 29\n",
            "Tanggal 30\n",
            "Tanggal 31\n",
            "Bulan 11\n",
            "Tanggal 1\n",
            "Tanggal 2\n",
            "Tanggal 3\n",
            "Tanggal 4\n",
            "Tanggal 5\n",
            "Tanggal 6\n",
            "Tanggal 7\n",
            "Tanggal 8\n",
            "Tanggal 9\n",
            "Tanggal 10\n",
            "Tanggal 11\n",
            "Tanggal 12\n",
            "Tanggal 13\n",
            "Tanggal 14\n",
            "Tanggal 15\n",
            "Tanggal 16\n",
            "Tanggal 17\n",
            "Tanggal 18\n",
            "Tanggal 19\n",
            "Tanggal 20\n",
            "Tanggal 21\n",
            "Tanggal 22\n",
            "Tanggal 23\n",
            "Tanggal 24\n",
            "Tanggal 25\n",
            "Tanggal 26\n",
            "Tanggal 27\n",
            "Tanggal 28\n",
            "Tanggal 29\n",
            "Tanggal 30\n",
            "Tanggal 31\n",
            "Bulan 12\n",
            "Tanggal 1\n",
            "Tanggal 2\n",
            "Tanggal 3\n",
            "Tanggal 4\n",
            "Tanggal 5\n",
            "Tanggal 6\n",
            "Tanggal 7\n",
            "Tanggal 8\n",
            "Tanggal 9\n",
            "Tanggal 10\n",
            "Tanggal 11\n",
            "Tanggal 12\n",
            "Tanggal 13\n",
            "Tanggal 14\n",
            "Tanggal 15\n",
            "Tanggal 16\n",
            "Tanggal 17\n",
            "Tanggal 18\n",
            "Tanggal 19\n",
            "Tanggal 20\n",
            "Tanggal 21\n",
            "Tanggal 22\n",
            "Tanggal 23\n",
            "Tanggal 24\n",
            "Tanggal 25\n",
            "Tanggal 26\n",
            "Tanggal 27\n",
            "Tanggal 28\n",
            "Tanggal 29\n",
            "Tanggal 30\n",
            "Tanggal 31\n"
          ]
        }
      ]
    },
    {
      "cell_type": "markdown",
      "source": [
        "Bisa dilihat pada nested loop di atas bahwa konsep dari **nested loop** adalah:"
      ],
      "metadata": {
        "id": "yxy0_ugql6n_"
      }
    },
    {
      "cell_type": "markdown",
      "source": [
        "\n",
        "\n",
        "*   Untuk satu kali iterasi dari loop yang luar.\n",
        "*   Loop yang di dalam akan menyelesaikan satu siklus.\n",
        "\n"
      ],
      "metadata": {
        "id": "5TKubeagl_PB"
      }
    },
    {
      "cell_type": "code",
      "source": [
        "# Coba jalankan code dibawah\n",
        "# Kita akan membuat tabel pertambahan dari 1 dan 2 dari angka 1 sampai 5\n",
        "\n",
        "for angka_1 in range(1,3):\n",
        "    for angka_2 in range(1,6):\n",
        "        pertambahan = angka_1 + angka_2\n",
        "        print(f'{angka_1} + {angka_2} = {pertambahan}')\n",
        "    print('---')"
      ],
      "metadata": {
        "colab": {
          "base_uri": "https://localhost:8080/"
        },
        "id": "abp9QiVel-wD",
        "outputId": "ca9b165b-d396-4e16-8d22-8d2bc7eee6ab"
      },
      "execution_count": 19,
      "outputs": [
        {
          "output_type": "stream",
          "name": "stdout",
          "text": [
            "1 + 1 = 2\n",
            "1 + 2 = 3\n",
            "1 + 3 = 4\n",
            "1 + 4 = 5\n",
            "1 + 5 = 6\n",
            "---\n",
            "2 + 1 = 3\n",
            "2 + 2 = 4\n",
            "2 + 3 = 5\n",
            "2 + 4 = 6\n",
            "2 + 5 = 7\n",
            "---\n"
          ]
        }
      ]
    },
    {
      "cell_type": "code",
      "source": [
        "# Untuk latihan coba buat tabel perkalian dari 3 dan 4 dari angka 1 sampai 5\n",
        "\n",
        "for angka_1 in range(3, 5):\n",
        "  for angka_2 in range(1, 6):\n",
        "    perkalian = angka_1 * angka_2\n",
        "    print(f\"{angka_1} x {angka_2} = {perkalian}\")\n",
        "  print(\"---\")"
      ],
      "metadata": {
        "colab": {
          "base_uri": "https://localhost:8080/"
        },
        "id": "4tHJyXPEmnue",
        "outputId": "fc162444-9077-434e-93c6-522f629dd362"
      },
      "execution_count": 22,
      "outputs": [
        {
          "output_type": "stream",
          "name": "stdout",
          "text": [
            "3 x 1 = 3\n",
            "3 x 2 = 6\n",
            "3 x 3 = 9\n",
            "3 x 4 = 12\n",
            "3 x 5 = 15\n",
            "---\n",
            "4 x 1 = 4\n",
            "4 x 2 = 8\n",
            "4 x 3 = 12\n",
            "4 x 4 = 16\n",
            "4 x 5 = 20\n",
            "---\n"
          ]
        }
      ]
    },
    {
      "cell_type": "markdown",
      "source": [
        "**FOR LOOPING OVER A COMPOSITE DATA STRUCTURE**"
      ],
      "metadata": {
        "id": "HJCZVx8TnUgX"
      }
    },
    {
      "cell_type": "markdown",
      "source": [
        "Bagaimana jika kita ingin melakukan perulangan pada sebuah **Composite Data Structure**?\n",
        "\n",
        "`Loop` juga bisa bekerja dalam Composite Data Structure karena `loop` membutuhkan sebuah sequence atau data yang memiliki urutan.\n",
        "\n",
        "Untuk mengakses element pada list, tuple, dan set dengan perulangan, caranya sama."
      ],
      "metadata": {
        "id": "ZZ-UBBY2nbX9"
      }
    },
    {
      "cell_type": "code",
      "source": [
        "# Coba jalankan code di bawah ini\n",
        "# Ini adalah perulangan dengan list\n",
        "\n",
        "list_kota = [\"Jakarta\", \"Bandung\", \"Surabaya\", \"Semarang\", \"Solo\", \"Yogyakarta\", \"Malang\"]\n",
        "print(type(list_kota))\n",
        "for kota in list_kota:\n",
        "    print(kota)"
      ],
      "metadata": {
        "colab": {
          "base_uri": "https://localhost:8080/"
        },
        "id": "BfjSLv2SnlTc",
        "outputId": "cdc0f194-346b-4ec8-e9ec-c8381c58e511"
      },
      "execution_count": 28,
      "outputs": [
        {
          "output_type": "stream",
          "name": "stdout",
          "text": [
            "<class 'list'>\n",
            "Jakarta\n",
            "Bandung\n",
            "Surabaya\n",
            "Semarang\n",
            "Solo\n",
            "Yogyakarta\n",
            "Malang\n"
          ]
        }
      ]
    },
    {
      "cell_type": "code",
      "source": [
        "# Coba jalankan code di bawah ini\n",
        "# Ini adalah perulangan dengan tuple\n",
        "\n",
        "tuple_kota = (\"Jakarta\", \"Bandung\", \"Surabaya\", \"Yogyakarta\")\n",
        "print(type(tuple_kota))\n",
        "for kota in tuple_kota:\n",
        "  print(kota)"
      ],
      "metadata": {
        "colab": {
          "base_uri": "https://localhost:8080/"
        },
        "id": "I2d3lHD7n8KB",
        "outputId": "9e624a6e-6d6c-4464-b65e-7320a4c9aeec"
      },
      "execution_count": 26,
      "outputs": [
        {
          "output_type": "stream",
          "name": "stdout",
          "text": [
            "<class 'tuple'>\n",
            "Jakarta\n",
            "Bandung\n",
            "Surabaya\n",
            "Yogyakarta\n"
          ]
        }
      ]
    },
    {
      "cell_type": "markdown",
      "source": [
        "Perbedaanya hanya ada pada `set`, karena `set` tidak menyimpan datanya sesuai urutan pada saat kita membuatnya."
      ],
      "metadata": {
        "id": "bQnEV1K_oXTH"
      }
    },
    {
      "cell_type": "code",
      "source": [
        "# Coba jalankan code di bawah ini\n",
        "# Ini adalah perulangan dengan set\n",
        "\n",
        "set_kota = {\"Jakarta\", \"Bandung\", \"Surabaya\", \"Yogyakarta\"}\n",
        "print(type(set_kota))\n",
        "for kota in set_kota:\n",
        "    print(kota)"
      ],
      "metadata": {
        "colab": {
          "base_uri": "https://localhost:8080/"
        },
        "id": "BPZGh-sioa5C",
        "outputId": "871e14e9-a6a4-4e5f-b316-60265050c25d"
      },
      "execution_count": 27,
      "outputs": [
        {
          "output_type": "stream",
          "name": "stdout",
          "text": [
            "<class 'set'>\n",
            "Surabaya\n",
            "Yogyakarta\n",
            "Bandung\n",
            "Jakarta\n"
          ]
        }
      ]
    },
    {
      "cell_type": "markdown",
      "source": [
        "Untuk `looping` pada dictionary memerlukan perlakuan khusus, karena di dalam dictionary memiliki key-value.\n",
        "\n",
        "Jika kita langsung loop dictionary dengan metode seperti pada list, tuple, dan set, yang akan muncul hanya key-nya saja."
      ],
      "metadata": {
        "id": "s_PCDsqpovpF"
      }
    },
    {
      "cell_type": "code",
      "source": [
        "# Coba jalankan code di bawah ini\n",
        "\n",
        "dict_kota = {\"Kota 1\": \"Jakarta\", \"Kota 2\": \"Bandung\", \"Kota 3\": \"Surabaya\", \"Kota 4\": \"Yogyakarta\"}\n",
        "print(type(dict_kota))\n",
        "for kota in dict_kota:\n",
        "  print(kota)"
      ],
      "metadata": {
        "colab": {
          "base_uri": "https://localhost:8080/"
        },
        "id": "EP7SDqsqoypR",
        "outputId": "431f9560-3480-4ea7-e12c-ecf2f12d8a99"
      },
      "execution_count": 29,
      "outputs": [
        {
          "output_type": "stream",
          "name": "stdout",
          "text": [
            "<class 'dict'>\n",
            "Kota 1\n",
            "Kota 2\n",
            "Kota 3\n",
            "Kota 4\n"
          ]
        }
      ]
    },
    {
      "cell_type": "markdown",
      "source": [
        "Ada beberapa cara untuk bisa menampilkan key dan value dictionary secara bersama.\n",
        "\n",
        "Pada materi dictionary sudah dibahas mengenai cara untuk mengakses value dengan key."
      ],
      "metadata": {
        "id": "wAKh35ZvqN1t"
      }
    },
    {
      "cell_type": "code",
      "source": [
        "# Coba jalankan code di bawah ini\n",
        "\n",
        "dict_kota = {\"Kota 1\": \"Jakarta\", \"Kota 2\": \"Bandung\", \"Kota 3\": \"Surabaya\", \"Kota 4\": \"Yogyakarta\"}\n",
        "print(dict_kota['Kota 2'])"
      ],
      "metadata": {
        "colab": {
          "base_uri": "https://localhost:8080/"
        },
        "id": "2jXAZ-oSqPyJ",
        "outputId": "1bdb2fdf-687a-4cc6-e16b-b1fae629ab52"
      },
      "execution_count": 33,
      "outputs": [
        {
          "output_type": "stream",
          "name": "stdout",
          "text": [
            "Bandung\n"
          ]
        }
      ]
    },
    {
      "cell_type": "markdown",
      "source": [
        "Jika kita print dictionary seperti cara list, tuple dan set hanya akan muncul Key, maka kita bisa memberikan key tersebut kepada nama dictionary untuk mengakses value."
      ],
      "metadata": {
        "id": "lOnY29C6q0oD"
      }
    },
    {
      "cell_type": "code",
      "source": [
        "# Cara pertama\n",
        "dict_kota = {\"Kota 1\": \"Jakarta\", \"Kota 2\": \"Bandung\", \"Kota 3\": \"Surabaya\", \"Kota 4\": \"Yogyakarta\"}\n",
        "for kota in dict_kota:\n",
        "    print(f'Key: {kota} | Value: {dict_kota[kota]}')"
      ],
      "metadata": {
        "colab": {
          "base_uri": "https://localhost:8080/"
        },
        "id": "Rc80NOtMq6FM",
        "outputId": "fd2554c3-450f-43f4-c581-888cf2801b73"
      },
      "execution_count": 35,
      "outputs": [
        {
          "output_type": "stream",
          "name": "stdout",
          "text": [
            "Key: Kota 1 | Value: Jakarta\n",
            "Key: Kota 2 | Value: Bandung\n",
            "Key: Kota 3 | Value: Surabaya\n",
            "Key: Kota 4 | Value: Yogyakarta\n"
          ]
        }
      ]
    },
    {
      "cell_type": "markdown",
      "source": [
        "Cara kedua yaitu dengan menggunakan method `items()`. Method ini akan mengembalikan semua element pada dictionary sebagai tuple yang berisi key-value."
      ],
      "metadata": {
        "id": "-LQ1RRnrrESx"
      }
    },
    {
      "cell_type": "code",
      "source": [
        "# Coba jalankan code dibawah\n",
        "\n",
        "dict_kota = {\"Kota 1\": \"Jakarta\", \"Kota 2\": \"Bandung\", \"Kota 3\": \"Surabaya\", \"Kota 4\": \"Yogyakarta\"}\n",
        "print(dict_kota.items())"
      ],
      "metadata": {
        "colab": {
          "base_uri": "https://localhost:8080/"
        },
        "id": "0VHLfy7frF9T",
        "outputId": "79a04e91-a1c8-4df9-c842-b3b80d07fb72"
      },
      "execution_count": 36,
      "outputs": [
        {
          "output_type": "stream",
          "name": "stdout",
          "text": [
            "dict_items([('Kota 1', 'Jakarta'), ('Kota 2', 'Bandung'), ('Kota 3', 'Surabaya'), ('Kota 4', 'Yogyakarta')])\n"
          ]
        }
      ]
    },
    {
      "cell_type": "markdown",
      "source": [
        "Method `item()` akan memberikan kita key dan value dari dictionary, namun apakah key dan value bisa langsung kita masukkan untuk perulangan?\n",
        "\n",
        "Kita bisa memanfaatkan **unpacking** untuk hal tersebut."
      ],
      "metadata": {
        "id": "so38bUXorOut"
      }
    },
    {
      "cell_type": "code",
      "source": [
        "# Jika sebuah tuple memiliki tiga element\n",
        "# Kita bisa memberikan variabel kepada tiga element tersebut\n",
        "\n",
        "numb_tuple = (1, 2, 3)\n",
        "x, y, z = numb_tuple\n",
        "\n",
        "print(f'Nilai x: {x} | Nilai y: {y} | Nilai z = {z}')"
      ],
      "metadata": {
        "colab": {
          "base_uri": "https://localhost:8080/"
        },
        "id": "7RD2nkgWsxXs",
        "outputId": "7c4c4ba5-ad1c-4189-86f3-0557051404c5"
      },
      "execution_count": 37,
      "outputs": [
        {
          "output_type": "stream",
          "name": "stdout",
          "text": [
            "Nilai x: 1 | Nilai y: 2 | Nilai z = 3\n"
          ]
        }
      ]
    },
    {
      "cell_type": "markdown",
      "source": [
        "Dengan method `items()` dan `unpacking` kita bisa langsung mendapatkan key-value dari sebuah dictionary."
      ],
      "metadata": {
        "id": "bFJF26pBs19z"
      }
    },
    {
      "cell_type": "code",
      "source": [
        "# Coba jalankan code di bawah ini\n",
        "\n",
        "dict_kota = {\"Kota 1\": \"Jakarta\", \"Kota 2\": \"Bandung\", \"Kota 3\": \"Surabaya\", \"Kota 4\": \"Yogyakarta\"}\n",
        "for key, value in dict_kota.items():\n",
        "  # Variabel key, value akan menyimpan nilai key dan value dari method items()\n",
        "  print(f\"Key: {key} | Value: {value}\")"
      ],
      "metadata": {
        "colab": {
          "base_uri": "https://localhost:8080/"
        },
        "id": "cyZ2N6Ums5kR",
        "outputId": "2f3eb4a4-b1d1-4d46-bccd-b82691bfa107"
      },
      "execution_count": 38,
      "outputs": [
        {
          "output_type": "stream",
          "name": "stdout",
          "text": [
            "Key: Kota 1 | Value: Jakarta\n",
            "Key: Kota 2 | Value: Bandung\n",
            "Key: Kota 3 | Value: Surabaya\n",
            "Key: Kota 4 | Value: Yogyakarta\n"
          ]
        }
      ]
    },
    {
      "cell_type": "code",
      "source": [
        "# Coba print nama karyawan dalam gaji_dict dan gajinya\n",
        "# Manfaatkan method items()\n",
        "\n",
        "gaji_dict = {'Dika': 4_000_000, 'Rendy': 3_5000_000, 'Satria': 5_000_000}\n",
        "for key, value in gaji_dict.items():\n",
        "    print(f'Nama {key} | Gaji Rp {value}')"
      ],
      "metadata": {
        "colab": {
          "base_uri": "https://localhost:8080/"
        },
        "id": "5UHqJ8LxvKzB",
        "outputId": "4d650965-56d9-40df-ae96-af95f18bf1fd"
      },
      "execution_count": 40,
      "outputs": [
        {
          "output_type": "stream",
          "name": "stdout",
          "text": [
            "Nama Dika | Gaji Rp 4000000\n",
            "Nama Rendy | Gaji Rp 35000000\n",
            "Nama Satria | Gaji Rp 5000000\n"
          ]
        }
      ]
    },
    {
      "cell_type": "code",
      "source": [
        "# Coba buatlah dictionary yang menampung -\n",
        "# Key nama Andika, Bayu, Rizal dan value pekerjaan Programmer, Arsitek, PNS\n",
        "\n",
        "nama_dict = {\"Andika\": \"Programmer\", \"Bayu\": \"Arsitek\", \"Rizal\": \"PNS\"}\n",
        "\n",
        "# Kemudian print key dan value dari dict tersebut (cara yang digunakan bebas)\n",
        "for nama, pekerjaan in nama_dict.items():\n",
        "    print(f\"Nama {nama} | Pekerjaan {pekerjaan}\")"
      ],
      "metadata": {
        "colab": {
          "base_uri": "https://localhost:8080/"
        },
        "id": "K6PbsUJyvdqY",
        "outputId": "6dad87a4-a858-406a-9871-1edb858c4d72"
      },
      "execution_count": 42,
      "outputs": [
        {
          "output_type": "stream",
          "name": "stdout",
          "text": [
            "Nama Andika | Pekerjaan Programmer\n",
            "Nama Bayu | Pekerjaan Arsitek\n",
            "Nama Rizal | Pekerjaan PNS\n"
          ]
        }
      ]
    },
    {
      "cell_type": "markdown",
      "source": [
        "**FOR LOOPING WITH ENUMERATE**"
      ],
      "metadata": {
        "id": "LpPJyDu9wRso"
      }
    },
    {
      "cell_type": "markdown",
      "source": [
        "Saat melakukan perulangan biasanya kita akan menggunakan suatu variabel untuk menampilkan penghitungan perulangannya sampai pada angka berapa. misalkan kita akan mencetak kata hello world tiga kali.\n",
        "\n",
        "    for angka in range(1,4):\n",
        "\n",
        "      print(f'hello world ke-{angka}')\n",
        "\n",
        "output:\n",
        "\n",
        "hello world ke-1\n",
        "\n",
        "hello world ke-2\n",
        "\n",
        "hello world ke-3\n",
        "\n",
        "Daripada kita menggunakan variabel baru, ada cara yang lebih bagus lagi yaitu dengan method `enumerate()`."
      ],
      "metadata": {
        "id": "bEpfRe-ewWfI"
      }
    },
    {
      "cell_type": "markdown",
      "source": [
        "Penggunaan method enumerate adalah\n",
        "\n",
        "`enumerate(iterable, start=0)`\n",
        "\n",
        "\n",
        "\n",
        "*   parameter `iterable` diisi dengan tipe data yang memiliki urutan.\n",
        "*   parameter `start` untuk memulai perhitungannya dari angka berapa.\n",
        "\n"
      ],
      "metadata": {
        "id": "bRsLfp_owpvI"
      }
    },
    {
      "cell_type": "code",
      "source": [
        "# Coba jalankan code di bawah ini\n",
        "\n",
        "list_kota = [\"Jakarta\", \"Bandung\", \"Surabaya\", \"Yogyakarta\", \"Malang\"]\n",
        "for kota in enumerate(list_kota):\n",
        "  print(kota)"
      ],
      "metadata": {
        "colab": {
          "base_uri": "https://localhost:8080/"
        },
        "id": "k3zUmx_6w2S7",
        "outputId": "01010b2a-d53b-46d8-9355-ea12ff715909"
      },
      "execution_count": 43,
      "outputs": [
        {
          "output_type": "stream",
          "name": "stdout",
          "text": [
            "(0, 'Jakarta')\n",
            "(1, 'Bandung')\n",
            "(2, 'Surabaya')\n",
            "(3, 'Yogyakarta')\n",
            "(4, 'Malang')\n"
          ]
        }
      ]
    },
    {
      "cell_type": "markdown",
      "source": [
        "Bagaimana jika kita ingin memulai angka bukan dari 0? Misalkan kita mulai angkanya dari 10.\n",
        "\n",
        "Kita cuma harus menambahkan parameter `start`."
      ],
      "metadata": {
        "id": "XFf22beRxZoI"
      }
    },
    {
      "cell_type": "code",
      "source": [
        "# Coba jalankan code di bawah ini\n",
        "\n",
        "list_kota = [\"Jakarta\", \"Bandung\", \"Surabaya\", \"Yogyakarta\", \"Malang\"]\n",
        "for kota in enumerate(list_kota, start=10):\n",
        "  print(kota)"
      ],
      "metadata": {
        "colab": {
          "base_uri": "https://localhost:8080/"
        },
        "id": "AcGH_59zxcmZ",
        "outputId": "77b1c774-adba-4d10-b9c7-898301f82bb9"
      },
      "execution_count": 44,
      "outputs": [
        {
          "output_type": "stream",
          "name": "stdout",
          "text": [
            "(10, 'Jakarta')\n",
            "(11, 'Bandung')\n",
            "(12, 'Surabaya')\n",
            "(13, 'Yogyakarta')\n",
            "(14, 'Malang')\n"
          ]
        }
      ]
    },
    {
      "cell_type": "markdown",
      "source": [
        "Atau jika kita ingin membuat print lebih menarik lagi bisa menggunakan **unpack**."
      ],
      "metadata": {
        "id": "Dc3zAdIQxnhV"
      }
    },
    {
      "cell_type": "code",
      "source": [
        "# Coba jalankan code di bawah ini\n",
        "\n",
        "list_kota = [\"Jakarta\", \"Bandung\", \"Surabaya\", \"Yogyakarta\", \"Malang\"]\n",
        "for num, kota in enumerate(list_kota, start=10):\n",
        "  print(f\"Nomor {num} adalah kota {kota}\")"
      ],
      "metadata": {
        "colab": {
          "base_uri": "https://localhost:8080/"
        },
        "id": "tgf9PSvRxtHf",
        "outputId": "8f6de555-199f-4258-bcd9-d2c66e9505c7"
      },
      "execution_count": 45,
      "outputs": [
        {
          "output_type": "stream",
          "name": "stdout",
          "text": [
            "Nomor 10 adalah kota Jakarta\n",
            "Nomor 11 adalah kota Bandung\n",
            "Nomor 12 adalah kota Surabaya\n",
            "Nomor 13 adalah kota Yogyakarta\n",
            "Nomor 14 adalah kota Malang\n"
          ]
        }
      ]
    },
    {
      "cell_type": "code",
      "source": [
        "# Coba print absen siswa pada list siswa di bawah dengan method enumerate\n",
        "# Gunakan juga metode unpack\n",
        "\n",
        "list_siswa = ['Bagus', 'Dina', 'Gilang', 'Putri']\n",
        "\n",
        "for num, siswa in enumerate(list_siswa, start=1):\n",
        "    print(f'Absen ke-{num}: {siswa}')"
      ],
      "metadata": {
        "colab": {
          "base_uri": "https://localhost:8080/"
        },
        "id": "PK9k6UBryDM1",
        "outputId": "f06a1181-11e3-4a04-feaf-30c05e94b5f4"
      },
      "execution_count": 46,
      "outputs": [
        {
          "output_type": "stream",
          "name": "stdout",
          "text": [
            "Absen ke-1: Bagus\n",
            "Absen ke-2: Dina\n",
            "Absen ke-3: Gilang\n",
            "Absen ke-4: Putri\n"
          ]
        }
      ]
    }
  ]
}