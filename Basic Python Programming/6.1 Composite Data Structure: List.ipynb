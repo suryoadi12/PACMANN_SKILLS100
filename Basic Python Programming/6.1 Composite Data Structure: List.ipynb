{
  "nbformat": 4,
  "nbformat_minor": 0,
  "metadata": {
    "colab": {
      "provenance": [],
      "authorship_tag": "ABX9TyOlSYPzfzgEY0sahTRC1tUX",
      "include_colab_link": true
    },
    "kernelspec": {
      "name": "python3",
      "display_name": "Python 3"
    },
    "language_info": {
      "name": "python"
    }
  },
  "cells": [
    {
      "cell_type": "markdown",
      "metadata": {
        "id": "view-in-github",
        "colab_type": "text"
      },
      "source": [
        "<a href=\"https://colab.research.google.com/github/suryoadi12/PACMANN_SKILLS100/blob/main/Basic%20Python%20Programming/6.1%20Composite%20Data%20Structure%3A%20List.ipynb\" target=\"_parent\"><img src=\"https://colab.research.google.com/assets/colab-badge.svg\" alt=\"Open In Colab\"/></a>"
      ]
    },
    {
      "cell_type": "markdown",
      "source": [
        "# **Pertemuan #5 - Composite Data Structure**"
      ],
      "metadata": {
        "id": "JY3oqQLkYgrh"
      }
    },
    {
      "cell_type": "markdown",
      "source": [
        "**WHAT IS LIST?**"
      ],
      "metadata": {
        "id": "BYRmR-_GYksy"
      }
    },
    {
      "cell_type": "markdown",
      "source": [
        "Composite Data Structure yang paling umum digunakan dalam Python adalah `list`. `list` adalah tempat untuk menyimpan data yang **memiliki urutan**. Data dapat berupa apa saja mulai dari string, angka atau tipe data yang lain."
      ],
      "metadata": {
        "id": "-JkNiTSDYvMY"
      }
    },
    {
      "cell_type": "markdown",
      "source": [
        "Sebuah `list` dalam python di representasikan dengan tanda **kurung siku** `[]`"
      ],
      "metadata": {
        "id": "h2Slm3AuY0oE"
      }
    },
    {
      "cell_type": "markdown",
      "source": [
        "**HOW TO MAKE A LIST**"
      ],
      "metadata": {
        "id": "8n4AdLPTY8GI"
      }
    },
    {
      "cell_type": "markdown",
      "source": [
        "Mari kita coba membuat list."
      ],
      "metadata": {
        "id": "ei9wlOI5ZASU"
      }
    },
    {
      "cell_type": "code",
      "execution_count": 1,
      "metadata": {
        "colab": {
          "base_uri": "https://localhost:8080/"
        },
        "id": "YZ_8sEq9Ycvi",
        "outputId": "9564689c-4e03-4c46-d632-620510644cb5"
      },
      "outputs": [
        {
          "output_type": "stream",
          "name": "stdout",
          "text": [
            "[1, 2, 3, 4, 5]\n"
          ]
        }
      ],
      "source": [
        "# Coba jalankan code di bawah ini\n",
        "\n",
        "print([1, 2, 3, 4, 5])"
      ]
    },
    {
      "cell_type": "markdown",
      "source": [
        "Jika kita akan membuat sebuah `list` dari `string`, nilai `string` tetap didefinisikan dengan tanda petik kemudian nilainya dipisahkan dengan koma."
      ],
      "metadata": {
        "id": "T91wu8wQZMnY"
      }
    },
    {
      "cell_type": "code",
      "source": [
        "# Coba jalankan code di bawah ini\n",
        "\n",
        "print([\"Kucing\", \"Kuda\", \"Gajah\", \"Ayam\", \"Jerapah\"])"
      ],
      "metadata": {
        "colab": {
          "base_uri": "https://localhost:8080/"
        },
        "id": "QcYzJw6uZRAY",
        "outputId": "d1edc351-ea96-4018-b584-2f1a4967b7bb"
      },
      "execution_count": 2,
      "outputs": [
        {
          "output_type": "stream",
          "name": "stdout",
          "text": [
            "['Kucing', 'Kuda', 'Gajah', 'Ayam', 'Jerapah']\n"
          ]
        }
      ]
    },
    {
      "cell_type": "code",
      "source": [
        "# Coba buatlah sebuah list bilangan genap yang kurang dari 10\n",
        "\n",
        "print([2, 4, 6, 8])"
      ],
      "metadata": {
        "colab": {
          "base_uri": "https://localhost:8080/"
        },
        "id": "bKtd8cCKZdiY",
        "outputId": "62668429-f38b-49f3-c6fb-bc54af80eacb"
      },
      "execution_count": 3,
      "outputs": [
        {
          "output_type": "stream",
          "name": "stdout",
          "text": [
            "[2, 4, 6, 8]\n"
          ]
        }
      ]
    },
    {
      "cell_type": "markdown",
      "source": [
        "Sebuah list bisa **homogen** dan juga **heterogen**. Artinya kita bisa menyimpan tipe data seperti `integer`, `string` atau tipe data lain secara sendiri-sendiri atau bersama-sama, tergantung kebutuhan."
      ],
      "metadata": {
        "id": "WVYu2_eRZosE"
      }
    },
    {
      "cell_type": "markdown",
      "source": [
        "\n",
        "\n",
        "*   Semisal anda seorang Data Analyst di Bank ABC.\n",
        "\n",
        "*   Anda diminta oleh Manager anda untuk membuat data user bank dengan nilai umur (`int`), jenis kelamin (`str`), status dapat mendapatkan bonus (`bool`)\n",
        "*   Apakah kita bisa menggunakan `list` jika memiliki tipe data yang berbeda?\n",
        "\n",
        "\n",
        "*   Jawabannya bisa!!!\n",
        "\n"
      ],
      "metadata": {
        "id": "qgpzSyo-Zw8v"
      }
    },
    {
      "cell_type": "code",
      "source": [
        "# Coba jalankan code di bawah ini\n",
        "\n",
        "print([27, \"Pria\", True])"
      ],
      "metadata": {
        "colab": {
          "base_uri": "https://localhost:8080/"
        },
        "id": "gwi6SGQ8Z-p4",
        "outputId": "95b1935b-feb4-4ad5-817a-2d58c5daf79e"
      },
      "execution_count": 4,
      "outputs": [
        {
          "output_type": "stream",
          "name": "stdout",
          "text": [
            "[27, 'pria', True]\n"
          ]
        }
      ]
    },
    {
      "cell_type": "code",
      "source": [
        "# Coba buatlah list yang menyimpan tiga tipe data yang berbeda berdasarkan soal di atas\n",
        "\n",
        "print([25, \"Wanita\", True])"
      ],
      "metadata": {
        "colab": {
          "base_uri": "https://localhost:8080/"
        },
        "id": "rbYxNMhqaLrE",
        "outputId": "8a6acc44-cbdf-484b-fd8d-b5fdadc5e8c2"
      },
      "execution_count": 5,
      "outputs": [
        {
          "output_type": "stream",
          "name": "stdout",
          "text": [
            "[25, 'wanita', True]\n"
          ]
        }
      ]
    },
    {
      "cell_type": "markdown",
      "source": [
        "Sebuah `list` juga bisa digunakan untuk menyimpan `list` yang lain, hal ini bisa disebut **nested list**."
      ],
      "metadata": {
        "id": "KiUcU4hcaK_D"
      }
    },
    {
      "cell_type": "code",
      "source": [
        "# Coba jalankan code di bawah ini\n",
        "\n",
        "print([\"Kucing\", 8, [4, 5, 6, 7], [\"Indra\", 5, True]])"
      ],
      "metadata": {
        "colab": {
          "base_uri": "https://localhost:8080/"
        },
        "id": "vxMpt8_FagU4",
        "outputId": "8d7eda04-f8a5-45d9-af7a-d11bb73ecb11"
      },
      "execution_count": 6,
      "outputs": [
        {
          "output_type": "stream",
          "name": "stdout",
          "text": [
            "['Kucing', 8, [4, 5, 6, 7], ['Indra', 5, True]]\n"
          ]
        }
      ]
    },
    {
      "cell_type": "code",
      "source": [
        "# Coba isikan gaji dari masing-masing karyawan sesuai urutan ke titik-titik dibawah\n",
        "# 5.000.000, 9.000.000, 8.500.000\n",
        "\n",
        "print([[\"Nurul\", 5_000_000], [\"Roni\", 9_000_000], [\"Joko\", 8_500_000]])"
      ],
      "metadata": {
        "colab": {
          "base_uri": "https://localhost:8080/"
        },
        "id": "xps7koARay7c",
        "outputId": "df91077e-e3c1-478e-82df-8e665cf2034d"
      },
      "execution_count": 8,
      "outputs": [
        {
          "output_type": "stream",
          "name": "stdout",
          "text": [
            "[['Nurul', 5000000], ['Roni', 9000000], ['Joko', 8500000]]\n"
          ]
        }
      ]
    },
    {
      "cell_type": "markdown",
      "source": [
        "`list` juga bisa didefinisikan dengan **variabel**."
      ],
      "metadata": {
        "id": "St_FHnn7bWOM"
      }
    },
    {
      "cell_type": "code",
      "source": [
        "# Coba jalankan code di bawah ini\n",
        "\n",
        "jobs = [\"Data Scientist\", \"Data Engineer\", \"Data Analyst\", \"Tukang Bakso\"]\n",
        "print(jobs)"
      ],
      "metadata": {
        "colab": {
          "base_uri": "https://localhost:8080/"
        },
        "id": "bcL-MJUmbagI",
        "outputId": "8412242a-bdd7-4589-817e-acc907751363"
      },
      "execution_count": 10,
      "outputs": [
        {
          "output_type": "stream",
          "name": "stdout",
          "text": [
            "['Data Scientist', 'Data Engineer', 'Data Analyst', 'Tukang Bakso']\n"
          ]
        }
      ]
    },
    {
      "cell_type": "markdown",
      "source": [
        "Untuk memastikan variabel tersebut adalah sebuah `list` maka bisa dicek dengan `type()`"
      ],
      "metadata": {
        "id": "VSR44ahTbp93"
      }
    },
    {
      "cell_type": "code",
      "source": [
        "# Cek tipe data variabel di bawah ini\n",
        "\n",
        "jobs = [\"Data Scientist\", \"Data Engineer\", \"Data Analyst\", \"Tukang Bakso\"]\n",
        "print(jobs)\n",
        "print(f\"Tipe data variabel jobs adalah {type(jobs)}\")"
      ],
      "metadata": {
        "colab": {
          "base_uri": "https://localhost:8080/"
        },
        "id": "pcMa5OfUbsuD",
        "outputId": "1b789681-cd92-4a60-a908-777cdc0a4b2f"
      },
      "execution_count": 11,
      "outputs": [
        {
          "output_type": "stream",
          "name": "stdout",
          "text": [
            "['Data Scientist', 'Data Engineer', 'Data Analyst', 'Tukang Bakso']\n",
            "Tipe data variabel jobs adalah <class 'list'>\n"
          ]
        }
      ]
    },
    {
      "cell_type": "code",
      "source": [
        "# Cek tipe data variabel di bawah ini\n",
        "\n",
        "data_karyawan = [[\"Nurul\", 5_000_000], [\"Roni\", 9_000_000], [\"Joko\", 8_500_000]]\n",
        "print(f\"Tipe data variabel data_karyawan adalah {type(data_karyawan)}\")"
      ],
      "metadata": {
        "colab": {
          "base_uri": "https://localhost:8080/"
        },
        "id": "k3DO2R1qcIJA",
        "outputId": "2b73246a-8d7a-401e-a857-ddf9ee4a75e8"
      },
      "execution_count": 12,
      "outputs": [
        {
          "output_type": "stream",
          "name": "stdout",
          "text": [
            "Tipe data variabel data_karyawan adalah <class 'list'>\n"
          ]
        }
      ]
    },
    {
      "cell_type": "code",
      "source": [
        "# Coba buatlah sebuah list yang menampung tiga nama bunga\n",
        "# Kemudian print variabel tersebut dan cek tipe data nya\n",
        "\n",
        "bunga = [\"Anggrek\", \"Mawar\", \"Melati\"]\n",
        "print(f\"Tipe data variabel bunga adalah {type(bunga)}\")"
      ],
      "metadata": {
        "colab": {
          "base_uri": "https://localhost:8080/"
        },
        "id": "-gY9GxeSc03Y",
        "outputId": "115b1878-b5b4-4797-80b2-2cd81c941024"
      },
      "execution_count": 13,
      "outputs": [
        {
          "output_type": "stream",
          "name": "stdout",
          "text": [
            "Tipe data variabel bunga adalah <class 'list'>\n"
          ]
        }
      ]
    },
    {
      "cell_type": "markdown",
      "source": [
        "**ELEMENT**"
      ],
      "metadata": {
        "id": "r08hbJgqdJYb"
      }
    },
    {
      "cell_type": "markdown",
      "source": [
        "**Element** adalah nilai atau data yang ada di dalam `list`. Sebuah `list` yang tidak berisi elemen apapun disebut **empty list**. Kita dapat membuatnya dengan tanda kurung kotak kosong `[]`."
      ],
      "metadata": {
        "id": "KtZV6dUedKxb"
      }
    },
    {
      "cell_type": "code",
      "source": [
        "# Coba jalankan code di bawah ini\n",
        "\n",
        "empty_list_1 = []\n",
        "print(empty_list_1)"
      ],
      "metadata": {
        "colab": {
          "base_uri": "https://localhost:8080/"
        },
        "id": "kTMxguP3dTJk",
        "outputId": "e43c864f-804d-49a2-e200-358ed315eedf"
      },
      "execution_count": 14,
      "outputs": [
        {
          "output_type": "stream",
          "name": "stdout",
          "text": [
            "[]\n"
          ]
        }
      ]
    },
    {
      "cell_type": "markdown",
      "source": [
        "Empty list juga bisa dibuat dengan sintaks `list()`"
      ],
      "metadata": {
        "id": "duJPuWPRdd5u"
      }
    },
    {
      "cell_type": "code",
      "source": [
        "empty_list_2 = list()\n",
        "print(empty_list_2)"
      ],
      "metadata": {
        "colab": {
          "base_uri": "https://localhost:8080/"
        },
        "id": "BhNQnk3Kdfbf",
        "outputId": "828e3d4e-ace4-4cfa-aefd-ef9dfaaa1ef5"
      },
      "execution_count": 15,
      "outputs": [
        {
          "output_type": "stream",
          "name": "stdout",
          "text": [
            "[]\n"
          ]
        }
      ]
    },
    {
      "cell_type": "markdown",
      "source": [
        "**INDEXING**"
      ],
      "metadata": {
        "id": "_Rw9LVz7dl0v"
      }
    },
    {
      "cell_type": "markdown",
      "source": [
        "Setiap elemen pada `list` terletak pada posisi yang dinamakan **indeks**. Indeks dapat digunakan untuk **menemukan** element atau item tertentu.\n",
        "\n",
        "Ingat, **indeks pada python dimulai dari nol**, berikutnya adalah satu, dan seterusnya.\n",
        "\n",
        "Kita akan mencoba mengambil element dengan indeks pada variabel dibawah."
      ],
      "metadata": {
        "id": "jhNA5ePkdogi"
      }
    },
    {
      "cell_type": "markdown",
      "source": [
        "![alsdfjlas.JPG](data:image/jpeg;base64,/9j/4AAQSkZJRgABAQEAkACQAAD/4QLgRXhpZgAATU0AKgAAAAgABAE7AAIAAAAHAAABSodpAAQAAAABAAABUpydAAEAAAAOAAACyuocAAcAAAEMAAAAPgAAAAAc6gAAAAEAAAAAAAAAAAAAAAAAAAAAAAAAAAAAAAAAAAAAAAAAAAAAAAAAAAAAAAAAAAAAAAAAAAAAAAAAAAAAAAAAAAAAAAAAAAAAAAAAAAAAAAAAAAAAAAAAAAAAAAAAAAAAAAAAAAAAAAAAAAAAAAAAAAAAAAAAAAAAAAAAAAAAAAAAAAAAAAAAAAAAAAAAAAAAAAAAAAAAAAAAAAAAAAAAAAAAAAAAAAAAAAAAAAAAAAAAAAAAAAAAAAAAAAAAAAAAAAAAAAAAAAAAAAAAAAAAAAAAAAAAAAAAAAAAAAAAAAAAAAAAAAAAAAAAAAAAAAAAAAAAAAAAAAAAAAAAAAAAAAAAAAAAAAAATEVOT1ZPAAAABZADAAIAAAAUAAACoJAEAAIAAAAUAAACtJKRAAIAAAADMjUAAJKSAAIAAAADMjUAAOocAAcAAAEMAAABlAAAAAAc6gAAAAEAAAAAAAAAAAAAAAAAAAAAAAAAAAAAAAAAAAAAAAAAAAAAAAAAAAAAAAAAAAAAAAAAAAAAAAAAAAAAAAAAAAAAAAAAAAAAAAAAAAAAAAAAAAAAAAAAAAAAAAAAAAAAAAAAAAAAAAAAAAAAAAAAAAAAAAAAAAAAAAAAAAAAAAAAAAAAAAAAAAAAAAAAAAAAAAAAAAAAAAAAAAAAAAAAAAAAAAAAAAAAAAAAAAAAAAAAAAAAAAAAAAAAAAAAAAAAAAAAAAAAAAAAAAAAAAAAAAAAAAAAAAAAAAAAAAAAAAAAAAAAAAAAAAAAAAAAAAAAAAAAAAAAAAAAAAAAAAAAAAAAAAAAAAAAMjAyNTowMjoyMiAwOToyMzo1NgAyMDI1OjAyOjIyIDA5OjIzOjU2AAAATABFAE4ATwBWAE8AAAD/4QQZaHR0cDovL25zLmFkb2JlLmNvbS94YXAvMS4wLwA8P3hwYWNrZXQgYmVnaW49J++7vycgaWQ9J1c1TTBNcENlaGlIenJlU3pOVGN6a2M5ZCc/Pg0KPHg6eG1wbWV0YSB4bWxuczp4PSJhZG9iZTpuczptZXRhLyI+PHJkZjpSREYgeG1sbnM6cmRmPSJodHRwOi8vd3d3LnczLm9yZy8xOTk5LzAyLzIyLXJkZi1zeW50YXgtbnMjIj48cmRmOkRlc2NyaXB0aW9uIHJkZjphYm91dD0idXVpZDpmYWY1YmRkNS1iYTNkLTExZGEtYWQzMS1kMzNkNzUxODJmMWIiIHhtbG5zOmRjPSJodHRwOi8vcHVybC5vcmcvZGMvZWxlbWVudHMvMS4xLyIvPjxyZGY6RGVzY3JpcHRpb24gcmRmOmFib3V0PSJ1dWlkOmZhZjViZGQ1LWJhM2QtMTFkYS1hZDMxLWQzM2Q3NTE4MmYxYiIgeG1sbnM6eG1wPSJodHRwOi8vbnMuYWRvYmUuY29tL3hhcC8xLjAvIj48eG1wOkNyZWF0ZURhdGU+MjAyNS0wMi0yMlQwOToyMzo1Ni4yNTM8L3htcDpDcmVhdGVEYXRlPjwvcmRmOkRlc2NyaXB0aW9uPjxyZGY6RGVzY3JpcHRpb24gcmRmOmFib3V0PSJ1dWlkOmZhZjViZGQ1LWJhM2QtMTFkYS1hZDMxLWQzM2Q3NTE4MmYxYiIgeG1sbnM6ZGM9Imh0dHA6Ly9wdXJsLm9yZy9kYy9lbGVtZW50cy8xLjEvIj48ZGM6Y3JlYXRvcj48cmRmOlNlcSB4bWxuczpyZGY9Imh0dHA6Ly93d3cudzMub3JnLzE5OTkvMDIvMjItcmRmLXN5bnRheC1ucyMiPjxyZGY6bGk+TEVOT1ZPPC9yZGY6bGk+PC9yZGY6U2VxPg0KCQkJPC9kYzpjcmVhdG9yPjwvcmRmOkRlc2NyaXB0aW9uPjwvcmRmOlJERj48L3g6eG1wbWV0YT4NCiAgICAgICAgICAgICAgICAgICAgICAgICAgICAgICAgICAgICAgICAgICAgICAgICAgICAgICAgICAgICAgICAgICAgICAgICAgICAgICAgICAgICAgICAgICAgICAgICAgICAKICAgICAgICAgICAgICAgICAgICAgICAgICAgICAgICAgICAgICAgICAgICAgICAgICAgICAgICAgICAgICAgICAgICAgICAgICAgICAgICAgICAgICAgICAgICAgICAgICAgIAogICAgICAgICAgICAgICAgICAgICAgICAgICAgICAgICAgICAgICAgICAgICAgICAgICAgICA8P3hwYWNrZXQgZW5kPSd3Jz8+/9sAQwAHBQUGBQQHBgUGCAcHCAoRCwoJCQoVDxAMERgVGhkYFRgXGx4nIRsdJR0XGCIuIiUoKSssKxogLzMvKjInKisq/9sAQwEHCAgKCQoUCwsUKhwYHCoqKioqKioqKioqKioqKioqKioqKioqKioqKioqKioqKioqKioqKioqKioqKioqKioq/8AAEQgBwQM+AwEiAAIRAQMRAf/EAB8AAAEFAQEBAQEBAAAAAAAAAAABAgMEBQYHCAkKC//EALUQAAIBAwMCBAMFBQQEAAABfQECAwAEEQUSITFBBhNRYQcicRQygZGhCCNCscEVUtHwJDNicoIJChYXGBkaJSYnKCkqNDU2Nzg5OkNERUZHSElKU1RVVldYWVpjZGVmZ2hpanN0dXZ3eHl6g4SFhoeIiYqSk5SVlpeYmZqio6Slpqeoqaqys7S1tre4ubrCw8TFxsfIycrS09TV1tfY2drh4uPk5ebn6Onq8fLz9PX29/j5+v/EAB8BAAMBAQEBAQEBAQEAAAAAAAABAgMEBQYHCAkKC//EALURAAIBAgQEAwQHBQQEAAECdwABAgMRBAUhMQYSQVEHYXETIjKBCBRCkaGxwQkjM1LwFWJy0QoWJDThJfEXGBkaJicoKSo1Njc4OTpDREVGR0hJSlNUVVZXWFlaY2RlZmdoaWpzdHV2d3h5eoKDhIWGh4iJipKTlJWWl5iZmqKjpKWmp6ipqrKztLW2t7i5usLDxMXGx8jJytLT1NXW19jZ2uLj5OXm5+jp6vLz9PX29/j5+v/aAAwDAQACEQMRAD8A+kaKKKACiiigAooooAKKKKACiiigAooooAKKKKACiiigAooooAKKKKACiiigAooooAKKKKACiiigAooooAKKKKACiiigAooooAKKKKACiiigAooooAKKKKACiiigAooooAKKKKACiiigAooooAKKKKACiiigAooooAKKKKACiiigAooooAKKKKACiiigAooooAKKKKACiiigAooooAKKKKACiiigAooooAKKKKACiiigAooooAKKKKACiiigAooooAKKKKACiiigAooooAKKKKACiiigAooooAKKKKADNFfOnx+1jU9P+INjFYajdW0Z0+NikM7ICfMfnAPtX0PbHNrETySgz+VU42SZKldtElFeV/tB395p/gCylsLqa1kbU41LwyFCR5UpxkduBVr4QavKvwZj1TU55rloDcyu8jl2Kq7HGT7Cjl924c2tj0rNGa+VdOfxf8aPFl1D/bC20aIZjC8zLFEmQAFRc5PI5/M16F8P/A/xF8KeNI7e91ZZdCVC0reeZY5B2VUbBVvfAHXk9DThZaslTv0PaM0Zr5+8X/DP4gxXuua5D4khSwWW4vEiXUJw6xZZwoXZgELxjOPeuI8E6R408fXl1baL4ilhe1jEjm7vplBBOONoamoJq9wc2nax9cZozXil/e+J/hB8IbldVv477WLzUSltcrM8ywq0Y5+cA5HltgYxkj3rifDPw58afEDRR4kj8QKGd2EJuruQuxUkHJAO3kf/AFqSh1uDn0sfUOaK8/8AhPpPjTSdJu4fG94Zgsu21ilcSyKo6sZATlT2B5GPwr0Coas7Fp3QUUUUhhmjNeP/ALQ+o3uneGtJfT7ue1ZrtgzQyFCRsPBxWn4YvbqX9nGW8luZnuhpN2/ntIS+4CTB3dcjAquXS5PNrY9NzRXyX8N/iLqfhzxpZ3Or6jdT6bcE29yLiV3VVOPnGT1U4P0z616V+0Tql7YaboL6bez23mSy7jBKU3DauOh5qnTalYlTTVz2rNGa80uL26/4ZtW8FzMLr+xEfz/MO/dsHO7rn3rxzwN4d8beO7a+n0TxLNA9kyhlub2ZdxYEjBUH0oULpu43OzR9XUZr5t8M/ErxX8PvGI0Dx1PNc2ayBJ/tL+Y8IbpIr8ll5zjnjpg13v7QF/dWPgOxm0+7mtnbUEBeCQoSPLfjI7UuRp2DnVrnquaM18w+Ffh98QvGHh231rS/EyR21wWCrcahOrjaxU5AUjqPWvWvh94F1/RfDOr6V4w1UXrX5xHLb3crtGpTBwzBSpzyMUSil1CMm+h6JmjIr5s8EeItZ8C/GR9A8S6hc3EEsps38+dmUbiDHIMnvx+DGpNc1fWPiR8bzo+ianeW+mwS/Zy1rKyBYoz+8k4OCSd2D3ytP2buLn0Po/NGa8Y/aCvLvR/D2gppl5cWuJ3QmGZlJAQYyQea19Hvrt/2abi9e6ma6GjXTicyHeGCvg7uufep5dLlc2tj1DNGa+Tvhj8RNR8P+NbSbWdSuZ9Nuj9mn+0zMyoDj5+TjKnBJ9CfWvQP2i9UvtPHh46dfXFsJBcb/ImZN+PLxnB56/rVezfNYn2i5bnuNGa4/RvEEOhfB7TNc1WSSRLfSYZpWJy8jeWvGT1JJxz3NeGW154++NGv3KWd41rYxn50ErR29upPCnbyzdexJ9h0ShcblY+o80V4N4c+GXxH8JeLtPGn63G+nO+biVJmeNUHUNE2Mk9Bj8xXvIpSSWzGncKM1j+LtbHhzwhqerkKzWlu0iKxwGfHyj8TgV8naf4m8T6NJpXiKfUb+e3a8Yoklw+2byijOpGcYO/H5+lOMHIUpcp9k0ZFQW1zHeWMV1A26KaMSIw7gjIr5C0rx3rugeMo9TOoX11Ba3RMsD3DFZEJIKkE45Gceh57URi5BKXKfYmaM15X8aNbaX4SW2qaJeyRJc3MDxzQSFSUZWPUVofBq8ub34RWlxeXEtxMXuMySuWY4kbHJpculx82tj0TNGa+QvA9n4t8da1Jpml+I7qCeO3M+64vJQpAKjHGTn5h2roh4t+IHwl8TxWfiW5l1C1kw5hmmMyTJnBMbnlT19PcVfs+lyPadWj6bozVbTdQg1XS7XULN99vdRLNG3qrDI/nXE/GLxje+DPBIuNJIjvbydbaKUjPlZUsWA6E4UgZ7nPas0m3Y0bsrnf5FFfL/hv4a+NPHOhL4mh8QJ5krN5JubqQyMVJByQDt5FeyfCnTPGOl+H7iHxxdtNIJdtrHI4kkRBnJZx1BPQc4H5CpRSW5MZN9DvMiivmrwTrWqT/ALRX2SbUryS2/tK9XyGnYpgLLgbc4wMD8q+laUo8o4y5gzRXzx+0Jq+pad400+Ow1C6tUawDFYZmQE+Y/OAa9f8AEHiu38H/AA//ALbvQZTHbxiOPdgyyMAFXP16nsMmhx0XmClq0dRmjNfLej6d4++Muo3V22qGKyjfDtJKyQRnGQiIucnGPz5PPPoXw28E/EDwn4wa31TVVk0GOMlh5plSY/whFbBQg8k4xxjmqcLLclTu9j2LNGa+a/iRrWqW3x5+y2+pXcVv9ptB5Mc7KmCqZ4Bxzk16B+0Bf3en+AbOWwupraRtRRS8MhQkeXJxkduKXJt5j59/I9UzRmvCfgJ47uri9uvDOuXM800g+02clw5ZjwNyZPPTDD/gVZXi3WNTh/aSgs4tRuktTf2amBZ2CYIjyNucc5p8jvYXOrXPoujIrhfir8QB4D8NLJahJNTvGMdpG/QYHzOR3C5H4kV41oHgXx98T7U63fay0drIxMUl5O/znPOxFGAoIPp7UoxursblZ2R9P5oryn4V+FfHvhnWr228S6mJtIjQCJGmMwlY9GQnlAB1BxnPTvXq1S1ZlJ3QUUUUhhRRRQAUUUUAFFFFABRRRQAUUUUAFFFFABRRRQAUUUUAFFFFABRRRQAUUUUAFFFFABRRRQAUUUUAFFFFABRRRQAUUUUAFFFFABRRRQAUUUUAFFFFAHzR+0V/yUew/wCwdH/6Mkr6Stf+PSH/AHB/KvnL9oWzup/iFZSW1tNMo05BlIywz5knHFTp8ePG0caovhy1woAH+jzf/FVu4uUVYxUkpO51/wC0f/yTux/7Csf/AKKlrR+BkSXHwdtIZlDxyS3Csp7gyMCK5z4v3d/4j+CXh7UJrNhd3V3BPNDDGx2EwyZ46gZPet74QjU7H4Ix/YLMSaihuWgt7gmMO/mNgEkcZqfsFfbPOfE3wZ8V+EdWl1TwVNPdWyFmja1kKXMS/wB0gYLcf3evpWp8PvjbrkfiK10LxpGJlnlW3Fw0XlTQyE4G8DAIyQDwCOvNZ9r8YPiD4Pu5rPxRpf2w+Yx23UTRMpJzhXHBXrjg8YwcVn+G/D/iH4p/FFfEV/pxtLM3MU91MIykYVAoCKT95iEA49cnFXuveM72fun0P4y58C65/wBg+f8A9FtXiP7NX/Iw63/16R/+hmvb/F6M3gjW0RSzHT5wABkk+Wa8W/Zws7m28Qa0bm3mhBtYwDJGVz8x9aiPwM0l8SPX/Hng618c+FptJupPJfcJYJ9ufKkGcHHcckEehNfPNz4c+I/wmuJLuwa4SyVyzT2Z823cAdXQ5xxxlgPY17j8V7zxbZ+E93gi3aScvm4kh+aaOMc/Iv8AESevU47HOR5N/wAL58Xrpcum3ui20l86mMTNE6kZ4yY+5/Ie1OnzW0FPlvqeh/CT4rSeOvP0zVreOHVLaPzd8IISZM4JwfukZGRnnOR6D0+vDPgH4D1bSr+68SaxbvZpNAYLaGVdruCwJcjqB8oxnrn0xn3OonZS0Kg21qeR3n7RXhuyv57WTStVZ4JWjYqsWCVODj5/avTNB1iHxB4fsdWtUkjhvYFnRJMbgGGQDjIzQ2gaQ7Fm0uzLMckm3XJP5VdihjgiWKCNY40GFRBgKPQCk7dBq/U8a/aT/wCRX0f/AK/G/wDQDWr4U/5Nlm/7A97/ACkrO/aNtp7nwzpC20MkxW7YkRoWx8h9K1PC8Eyfs1zQvE6y/wBkXg8sqQ2SJMcVf2ER9tni3g/w0/iv4d+KIrWMve6S8F7AFXLOCJA6Dvyq5wOpAqTxL4ofxP8ACXQUu3L3mj3jWkjMcl0aPMbfkhX6qT3rvP2bLO4trjxN9pt5YQyWoXzIyueZs9frXD/FbwNd+GPGt1HplrM2mX5+1QLCjMq8nKnA/hJOPYitbpzsZ2ajc9fuP+TX1/7AKf8AoArnv2aP+Qf4g/66w/yaulngl/4ZnWDyn87+w0Xy9p3Z2DjHWvGPAnjfxH4Bs7+DSdDNxJesjb54ZCEKgjoMZ6+tQleLSLekkzof2jfK/wCE707bjzf7PXd648x8f1rqfjf5n/Cm/D/n5Mvnwb8+vktmuU8M/D/xV8SvGY8QeM7aa2sWkDztcRmMyquMRoh5AxxnpjPJNd7+0LbTT/D+xjtYXkK6gh2xoWwPLfsKLpOKFq02ea+C7D4sT+FbWTwfcTJpBL+SqSwqAd53cNz97NfQPgSLXofBtlH4udn1cb/PZmVifnO3lePu46V8/eEvip4s8H+G7fRdP0GKaC3LlXmt5Sx3MWOcEDqa9V8CfE7VNb8N67q3ibTFtE0tVZI7eFw0uQTgBicnIAH1pTT7DhZHA/tFf2dceLtJgsY2k1fyCJxFyShb92uBzuzu/Aj1FaP7Nh0sya0WIOsHaQW6mD/Z/wCBdf8AgNZvwr0TUvGvxXvPFXiG2lVLVzcnzEKgytxGoz1CgH6bVz1rP13TdT+FPxmGpaPZ3EunvJ58aQqSHhc/PFwMcfMAD6KarpyC1vzHYftK/wDIC0P/AK+ZP/QRWtov/Jrdz/2A7v8A9BkrI/aDL6v4V8PXOnRSzxyytIpRCTtKAjI7Vt6NbzD9mO4gMUgmOi3SiPad2SsnGOtR9lFfaZ4z4V8Lt4o+GfiN7WPffaRLFdxBVyzIVcSKO/IUHA6lRS+K/Esnir4ZeHJLpy93pE8tjMzHl1ZFaNv++UI9ypr0T9m60uLeLxELm3li3G3x5iFc/wCs9a8++KPga88LeNLu2062mfTLxvtVuIlLKAc/Kcd1JYD2I9a1TTnYzaajc9H8ftMP2ZdDEOdjW9iJcf3dgI/8eC1f/Z1EA+Ht+0HM/wDaD+b658tMfhj+tdTpfhyHxL8FdM0PUA0S3OkwRklfmjYIpDYPcMAfwrw3Trnxz8FNduYvsHm2kxG8PGz284B4ZWH3TjPvzyOlZr3k0W/daZpan8aPiRo0ipq2mxWDSZMYutPeIuB3G4jNfSFpIZrOGR/vOiscepFfKnijXfEvxj1yxWy8Psr26NHGkAZlGTkl3OABwOuP1r6rtI2hsoY3+8kaqfqBSmkkhwbbZ5D+0Zr4s/ClhokTkS6hP5kgHeOPB5/4Eyn8K848Qaz4WuPgloeiWGoCXWLGYXEkXkSLgvuLqGK4OCw787a1/iZBe+N/jfb6SsE62UMsNiJVjOACcyPnGMgsR/wEV6LqXwH8GSaTdppthLBeNA4glN1KwR8HaSC2Dg44qk1FK5LTk2W/glrw1v4X2kTyF59NZrOTPYLyn4bGUfhXhvgTw0ni7xP4j0YhfNnsJ2t2bgJKsqMpz25GD7E11/7Pl7f6X4k1TRry1mihu4PNVpIyAskZxj8Qx/75qt8ELK6g+LV9JPazRIbaf5njIH317mj4Ww3sc2niGe4+D+reFNSJW40i8juIEYYYIZNjr/wF2H/fXtXtXwQ/5I1af79z/wCjGrzj47eCLnTfFA13SLeZ7XVV23KwqSFlHJyB2YAH6qTXpXwVhlg+D9pHNG8b77j5XUg/6xu1EmnG4RupWPKv2c/+SjXX/YMk/wDRkddR+0t9m+waBnH2vzZtnr5eF3frtry/wJ4g1zwHrkuqWGjSXMsls1vsmicKAWU54H+zXRr4f8efGTxNDea1avZWiAIZ5ITFDAmcnYrcsT+POMkDpTXvcwr+7yntfwe87/hUmhfaN27ynxu67fMbb+GMVf8AiB4Kt/Hfhd9KnmNvKriW3mAz5cgBAJHcEEg/Wt3TNPg0nS7XT7NNkFrEsMa+iqMD+VcZ8Wr7xhY+GUfwRbu8gkDXE0GGmjQcjahB3ZPXrx25yMN5XRttHU8Sn0T4kfCSd7m0a4jsgxZpbY+dbP7spGF4HVgD717B8Jfik3jyGex1SGKDVrVPMbyshJkzjcAckEEgEZ7j6DzSf46+LLjRZ9IvNEtnvZozEZvKcHBGDmM9T+ntXTfALwBqWiT3fiPWreS0aeD7PbQSjaxQsGZ2U8j7qgZ56+1ayXu3luZR+L3Ti/An/Jy3/cUvv/QZq+o6+Q3v9Y8K/FrUNd0/TJJ5rbUrpo1khco25nXt7NmvQ9A+NvjHU/Eem2F34ftooLq6ihkdYJQVVmAJyTjoaJxb1Q4SS0Zi/tIf8jxpv/YOH/ox66n49mQfCvQQmdhu4t+P+uL4rnP2ibK6ufGunNb200yjTwCY4ywB8x/SvXvFPhGPxp8ORo8rCKZoI3gkYf6uVQME+3UH2JpXsosLNuRlfAtYR8JtOMIUM0kxkx3bzD1/DFeiV8seHvFPjT4OXl1pd7pLSWryb3hnVthbGN0cg4549enY13nw++IXj3xl46SaTS0j0LYUmXYUjiHUMHIyz9sDgg9B1ClB3bHGStY4n4n/APJwn/b1Z/8AoMdejftGf8k7sv8AsJJ/6LkrgPiXY3cvx+82O1neP7TaHesZK/dTvXof7Q1vNc/D6zS3hklYaihKxqWOPLk54qusSf5jybUNOv8ARvB3g/4gaQAk0YNvO/UCSKRljJHUhkXaf90DvVvVdVg17496LrFof3F/cWE6DOduQgK/UMCD7ivVfh94ai8Q/s/2mh6rE0a3MU6HenzRt5zlWwe4OCK8P8N6Dq+lfFLSLHULO4D2WqRRM3lsVAWUZIOPu9Tn3zVJp3E01Y7f9pMyHxJoob/VC1cr9d/P9K9Iv9U1XQ/glpl54MszeXkdlaCCGKBptykICQq8n5STSfF74fSeOvDsT6cF/tWwLPb7jgSKwG6PPQZwpBPcdsmvIfDfxP8AGPw4s/7C1TRjNb2xKxxXkbxvFz0D91644PscVC96Kt0Kfuydzp/A/wAWfGWr/ErT/DviC3t7ZZpHSeFrVopUxEzgYJyOg7dK95r5s+HFl4j8XfGiLxhdaU9vaiZ5biUIUjXMTIoUt949OmfXivpOpqJJ6Fwba1CiiisywooooAKKKKACiiigAooooAKKKKACiiigAooooAKKKKACiiigAooooAKKKKACiiigAooooAKKKKACiiigAooooAKKKKACiiigAooooAKKKKACiiigBMCjApaKADFGKKKAEKK33gD9aUADpRRQAYowB0oooAMU3YpOSBn1xTqKADFFFFABRRRQAhGaMUtFACYA6UYpaKADFJgUtFABijFFFACYHpRgUtFACYowKWigBMClxRRQAAYpMUtFABikKgjB5paKAEChfujH0paKKAEwKXFFFACYFGKWigAxmkxS0UAJgUuKKKACjFFFACbFznaM+uKXFFFACYFLgUUUAJgUtFFACFQ3UA/WgADpxS0UAJgUYpaKADFJgUtFABSFFb7wB+opaKAAADpRRRQAUUUUAFFFFABRRRQAUUUUAFFFFABRRRQAUUUUAFFFFABRRRQAUUUUAFFFFABRRRQAUUUUAFFFFABRRRQAUUUUAFFFFABRRRQAUUUUAFFFFABRRRQAUUUUAFFYTa3cDx/HoeyP7M2nm6L4O/cJNuM5xjHtV3XHvI9FuW025trW5C/u5rr/AFaHPVvwoA0KKpG+i0/TYZtXvLaI7FEkzOEjZsc4yelUdc8U2OkeG5tXilhu40XMapMMSnPQHmgDboqtY39tqNuJbSeKYYG7y3DbTjocVg69ruqp4gttB8OwWzXssBuZJ7tj5cUYOOg5JJoA6eisPRrnxDi6h8Q2lqjRKGiurSQlJc542tyCMc/WsfRtV1rUvhja6jHqNrFqMhO65vVAjwJSOcYA44oA7SioJbqGztfOvZ4oUUDfI7BVB+pqhfaj9t0C5uNA1Gx8wL+7uHkDxIf9oigDWoqnbXPlWNoNQubc3MkYBZDtWRsZJUHt3+lLaarYX8jpY3tvcvHw6wyq5X646UAW6Kp3Wr6dYzLFe39rbyPyqSzKpP4E1Na3ltexl7O4inRTgtE4YA+nFAE1FFFABRRRQAUUUUAFFFFABRRRQAUUUUAFFFFABRRRQAUUUUAFFFFABRRRQAUUUUAFFFFABRRRQAUUUUAFFFFABRRRQAUUUUAFFFFABRRRQAUUUUAFFFFABRRRQAUUUUAFFFFABRRRQAUUUUAFFFFABRRRQAUUUUAFFFFABRRRQAUUUUAFFFFABRRRQAUUUUAFFFFABRRRQAUUUUAFFFFABRRRQAUUUUAFFFFABRRRQAUUUUAchJ/yWWH/ALAjf+jhVn4jf8k81f8A64f1FTaz4Rg1fWY9UGo6hY3SQeQGs5QmU3bsHg9/5Uz/AIQ6KTR7/Tr3VtTvYb1FVjczh2jAOfl44z3+goAy9e0C+v8A+wtWsbW21IafCd+nXRwsu5V5UngMMd+KxNefRNR+GuufZNDi027spgZrZ4VDQykqNykccr3Hau21Hwyl89tJb6nqFhNbReUslrNjcvoykEHp6VHb+DNNi0O/02d7i6GoktdXE8m6SRj0OegxgY47UAaGi6XYaXp6Jptlb2iyKrOIIggY46nHU1neIvCttr11Ddw3k+n6paoRDdWzYZQezDuvXj61d0LRW0S1aBtSvL9TjabtwxQAYwMAVT1jwja6pqg1KC9vdNvtnltPZzbDIvYMDkGgDN0LV9at9euvDfiR4LqeO0+0wXkC7fMTO07l7HPpXLz/APJui/Vf/SoV32ieFLLRZ7m68+5vb25AWW7u5N8hUdFBwMD2qnH4FsU8JXHh17u8ksZpBIu513RAOH2qcdMj9TQBm6vawa38S9M0vVgJrCDTmu47aT7ksu7byP4sDt/9erXi/R9N0rwDrx0yxt7Tz7cmQQRhAxHTgVra74Xs9d+yySyT213ZnNvd2z7ZI8jBAPofSoF8Iwto9/p99qeo3wv02Sy3E25lHooxhfyoA5zxJZw6hb+CLS6XfDNMiSKGI3KYuRx2PSp7nTLLRPit4fXSLSCyS6tbhJkt4wiuFXIyB74/KumufDlpdNpJkeUHSnDwYYfMQu35uOeKku9CtrzxBYaxK8guLBZFiVSNpDjByMUAcDE2nW+seLINa0ebV7ua7PlSQ2bT71KLtiDgEIV46kY49K7HwRoraF4RsrSe2ht7ryw1wIkUZf8A2iOrAYBPtXF2kmn/ANra3LqfiS78O3b3zs9lFII1IAAVxuB3FgM5Hr0rrPAd1qd3pV0+pTzXNuLp1sbi4jCSTQjoxHHvyQCaAOoooooAKKKKACiiigAooooAKKKKACiiigAooooAKKKKACiiigAooooAKKKKACiiigAooooAKKKKACiiigAooooAKKKKACiiigAooooAKKKKACiiigAooooAKKKKACiiigAooooAKKKKACiiigAooooAKKKKACiiigAooooAKKKKACiiigAooooAKKKKACiiigAooooAKKKKACiiigAooooAKKKKACiiigAooooAKKKKACiiigAooooAKKKKACiiigAooooAKKKKACiiigBpjVjllUn1Ip1FFABRRRQAUUUUAFFFFABRRRQAUUUUAFFFFABRRRQAUUUUAFFFFABRRRQAUUUUAFFFFABRRRQAUUUUAFFFFABRRRQAUUUUAFFFFABRRRQAUUUUAFFFFABRRRQAUUUUAFFFFABRRRQAUUUUAFFFFABRRRQAUUUUAFFFFABRRRQAUUUUAFFFFABRRRQAUUUUAFFFFABRRRQAUUUUAFFFFABRRRQAUUUUAFFFFABRRRQAUUUUAFFFFABRRRQAUUUUAFFFGaACiiubTWdVufHN1pNtFaCys44pJnkLeYQ4P3ccdR3oA6SisDxF4w0/w5Nb2s0V1fX90CYLGxh82aQDq2MgADPUkVL4b8U6f4otZpLATwzW0nlXNrdRGOa3frtZf8CR71r7Gpye0tp3FdG1RSZrC8U+LrDwja2s2oQ3dwbufyIYrSHzZHfBOAufQGphCVSSjBXbGb1FYHhvxbB4le4W30zVbHyApJ1C0MG/Ofu564xz9RTP7Z1SHx1DpF1FamyuYJJoXjLeYAm0fNnjv2onCVOXLJWYHRUUUVABRRRQAUUUUAFFFFABRRRQAUUUUAFFFFABRRRQAUUUUAFFFFABRRRQAUUUUAFFFFABRRRQAUUUUAFFFFABRRRQAUUUUAFFFFABRRRQAUUUUAFFFFABRRRQAUUUUAFFFFABRRRQAUUUUAFFFFABRRRQAUUUUAFFFFABRRRQAUUUUAFFFFABRRRQAUUUUAFFFFABRRRQAUUUUAFFFFABRRRQAUUUUAFFFFABRRRQAUUUUAFFFFABRRRQAVy/jW5WKCxga/vbczz4Ftp6E3F3gZ2KwI2juT6dxXUVi+IPDi65JZ3EV5NY3ti7Pb3MIBKbhhgQRggigDnfCF9dw+M73SmXU4rM2a3McGqS+ZJG28qdrbmO0+56itLSf+Sm+If+vS1/k9WNH8JnTNek1e41W7v7uW38iRrjbgjdngADaPYe9Vbdb2x+JWozHTbmW0voII0uYwuxCgbO7Jz3HQUAX9en0Pw753ijVlSKa3t/I8/BLlC2RGo7kt0HrWR4B0m/SfWPEmtQfZL3Xp0m+yd4IkXbGrf7W3k/Wp/F3gaTxVq2nXy65dWB08l4Yoo0dBJ/fKsCCwHA9O1X9B0LVtLupJdT8S3erxsm1Yp4IkCHP3gUUH2/Gu7nhHD2jL3nvvtfRLp5/wBaz1HX3hmO+8W6drzahfRSWMbxraxzYhk3Z5Ze/X9B6Vl+NvDmp6/qWhS6Nqltp8+n3Dz7po/MPKFMqnQkbj14/lWte6BPd+KtP1hNYvbeGzjZHsI3xDPnPLDuRn9BUHibwlH4gnsb23v7jTNT09mNteW20soYYZSrAhlPHB9KmlV5JwfNsmtr2308/wDgjZleEtb12HxZqXhXxTcQX1za28d3bX0EXledExKnco4VgR2q7qH/ACVHRv8AsH3H/oSVN4Z8HroF9fald6jc6rql/sE95chVO1R8qqqgBQMngdzVeRL28+Jdpcf2dcxWlnazRNcyAbJCxUjbg57HqKjEypyqXp7WW2ivbWy9QR1dFFFcwwooooAKKKKACiiigAooooAKKKKACiiigAooooAKKKKACiiigAooooAKKKKACiiigAooooAKKKKACiiigAooooAKKKKACiiigAooooAKKKKACiiigAooooAKKKKACiiigAooooAKKKKACiiigAooooAKKKKACiiigAooooAKKKKACiiigAooooAKKKKACiiigAooooAKKKKACiiigAooooAKKKKACiiigAooooAKKKKACiiigAooooAKKKKACiiigAooooAKKKKACiiigAooooAKKKKACiiigAooooAKKKKACiiigAooooAKKKKACiiigAooooAKKKKACiiigAooooAKKKKACiiigAooooAKKKKACiiigAooooAKKKKACiiigAooooAKKKKACiiigAooooAKKKKACiiigAooooAKKKKACiiigAooooAKKKKACiiigAooooAKKKKACiiigAooooAKKKKACiiigAooooAKKKKACiiigAooooAKKKKACiiigAooooAKKKKACiiigAooooAKKKKACiiigAooooAKKKKACiiigAooooAKKKKACiiigAooooAKKKKACiiigAooooAKKKKACiiigAooooAKKKKACiiigAooooAKKKKACiiigAooooAKKKKACiiigAooooAKKKKACiiigAooooAKKKKACiiigAooooAKKKKACiiigAooooAKKKKACiiigAooooAKKKKACiiigAooooAKKKKACiiigAooooAKKKKACiiigAooooAKKKKACiiigAoopskiRRtJKyoijLMxwAPXNADqKpf2zpn/AEELX/v8v+NH9saZ/wBBC1/7/L/jQBdoql/bOmf9BC1/7/L/AI0f2zpn/QQtf+/y/wCNAF2iqX9s6Z/0ELX/AL/L/jR/bOmf9BG1/wC/y/40AXaKpf2zpn/QQtf+/wAv+NH9saZ/0ELX/v8AL/jQBdoql/bGmf8AQQtf+/y/40f2zpn/AEEbX/v8v+NAF2iqX9s6Z/0ELX/v8v8AjR/bOmf9BC1/7/L/AI0AXaKpf2zpn/QQtf8Av8v+NH9saZ/0ELX/AL/L/jQBdoql/bGmf9BC1/7/AC/40v8AbGmnpqFr/wB/l/xppN7AXKKp/wBr6d/z/wBt/wB/l/xo/tfTv+f+2/7/AC/40+WXYC5RVP8AtfTv+f8Atv8Av8v+NH9r6d/z/wBt/wB/l/xo5ZdgLlFU/wC19O/5/wC2/wC/y/40f2vp3/P/AG3/AH+X/Gjll2AuUVT/ALX07/n/ALb/AL/L/jR/a+nf8/8Abf8Af5f8aOWXYC5RVP8AtfTf+f8Atv8Av8v+NH9r6d/z/wBt/wB/l/xo5ZdgLlFU/wC19O/5/wC2/wC/y/40f2vp3/P/AG3/AH+X/Gjll2AuUVT/ALX03/n/ALb/AL/L/jR/a+m/8/8Abf8Af5f8aOWXYC5RVP8AtfTv+f8Atv8Av8v+NH9r6d/z/wBt/wB/l/xpcr7AXKKp/wBr6b/z/wBt/wB/l/xo/tfTf+f+2/7/AC/40cr7AXKKp/2vpv8Az/23/f5f8aP7X07/AJ/7b/v8v+NHK+wFyiqf9r6d/wA/9t/3+X/Gj+19N/5/7b/v8v8AjRyvsBcoqn/a+m/8/wDbf9/l/wAaP7X03/n/ALb/AL/L/jRyvsBcoqn/AGvpv/P/AG3/AH+X/Gj+19O/5/7b/v8AL/jRyvsBcoqn/a+nf8/9t/3+X/Gj+19O/wCf+2/7/L/jRyvsBcoqn/bGm/8AP/bf9/l/xo/tfTf+f+2/7/L/AI0+V9gLlFU/7X03/n/tv+/y/wCNH9r6b/z/ANt/3+X/ABpcr7AXKKp/2vpv/P8A23/f5f8AGj+19N/5/wC2/wC/y/40cr7AXKKp/wBr6b/z/wBt/wB/l/xo/tfTf+f+2/7/AC/40cr7AXKKp/2vpv8Az/23/f5f8aP7X03/AJ/7b/v8v+NHK+wFyiqf9r6b/wA/9t/3+X/Gj+19N/5/7b/v8v8AjRyvsBcoqn/a+m/8/wDbf9/l/wAaP7X03/n/ALb/AL/L/jRyvsBcoqn/AGvpv/P/AG3/AH+X/Gj+19N/5/7b/v8AL/jT5X2AuUVT/tfTf+f+2/7/AC/40f2vpv8Az/23/f5f8aXK+wFyiqf9r6b/AM/9t/3+X/Gj+19N/wCf+2/7/L/jRyvsBcoqn/a+m/8AP/bf9/l/xo/tfTf+f+2/7/L/AI0cr7AXKKp/2vpv/P8A23/f5f8AGj+19N/5/wC2/wC/y/40cr7AXKKp/wBr6b/z/wBt/wB/l/xo/tfTv+f+2/7/AC/40cr7AXKKp/2vp3/P/bf9/l/xo/tfTf8An/tv+/y/40cr7BcuUVT/ALX03/n/ALb/AL/L/jR/bGm/8/8Abf8Af5f8afLLsBcoqn/bGm/8/wDbf9/l/wAaP7X03/n/ALb/AL/L/jRyy7AXKKp/2vpv/P8A23/f5f8AGj+19N/5/wC2/wC/y/40csuwFyiqf9r6b/z/ANt/3+X/ABo/tfTf+f8Atv8Av8v+NHLLsBcoqn/a+m/8/wDbf9/l/wAaP7X03/n/ALb/AL/L/jRyy7AXKKp/2vpv/P8A23/f5f8AGj+2NN/5/wC2/wC/y/40csuwFyiqf9sab/z/ANt/3+X/ABo/tjTf+f8Atf8Av8v+NHLLsBcoqn/a+m/8/wDbf9/l/wAaP7X07/n/ALb/AL/L/jRyy7AXKKp/2vpv/P8A23/f5f8AGj+19N/5/wC2/wC/y/40csuwFyiqi6rp7uqJfW7MxwAJVJJ/OrdJprcAooopAFFFFABRRRQAUUUUAFFFFABXO/EAZ+G/iLPP/EtuP/RbV0Vc78QP+SceIv8AsG3H/otqa3A4NdNsdo/0ODp/zyFL/Ztj/wA+dv8A9+h/hVhfuD6U6volFW2PMuyr/Ztj/wA+dv8A9+h/hR/Ztj/z5wf9+hVqsjxRrbeHtBk1CO3+0sssUYiL7cl3VOuD/epNRSuwV27F7+zbH/nzt/8Av0P8KT+zbH/nzg/79CrPalp8sewXZV/s2x/584P+/Qo/s2x/587f/v0v+FWaWjlj2FdlX+zbH/nzt/8Av0v+FH9m2P8Az5wf9+hVnNGaOWPYd2Vv7Nsf+fO3/wC/Q/wo/s2x/wCfO3/79D/CrNY/hzXX16HUJHthbizv5rRfn3eYEON3QYz6UrRvawamh/Ztj/z52/8A36H+FJ/Ztj/z52//AH6FWqKfKuwrsq/2bY/8+dv/AN+l/wAKztJsLM3OqA2sJAvCB+7HH7tK26zNI/4+dU/6/D/6LSl8LVh3di1/Z1l/z6Qf9+xR/Z1l/wA+kH/fsVZorTml3Fcrf2dZf8+kH/fsUf2dZf8APpB/37FWayPDuttrtndTvb/ZxBeTWwG/dvCNt3dB1x0pc7Ttcetrl7+zrL/n0g/79ij+zrL/AJ9IP+/YqxnHWlp8z7iuyt/Z1l/z6Qf9+xR/Z1l/z6Qf9+xVjNL+NHM+4XZW/s6y/wCfSD/v2KP7Osv+fSD/AL9irBPB71leGNaPiLw5a6o0H2c3AY+WG3bcMR1wPSlzu9rj1tcu/wBnWX/PpB/37FH9nWX/AD6Qf9+xVminzS7iuyt/Z1l/z6Qf9+xWJo1lamzlzbQn/S7gfcH/AD2eukrC0b/jzm/6/Ln/ANHPXlZvUnHC3Te6/UmT0LP2G0/59Yf+/Yo+w2n/AD6w/wDfsVPRXx/t6v8AM/vMtSD7Daf8+sP/AH7FH2G0/wCfWH/v2Ko6drJv9d1bTzBsGnPGok3Z8zeu7pjjFQr4hLeOH8PfZwAtkLrz9/X5tu3bj9c1ftK/8z+8rlkan2G0/wCfaH/v2KPsNp/z6w/9+xU9FT7et/M/vJuyD7Daf8+sP/fsUfYbT/n1h/79ip6KPb1v5n94akH2G0/59Yf+/Yo+w2n/AD6w/wDfsVPRn1o9vW/mf3hqQfYbT/n1h/79ij7Daf8APrD/AN+xU9ZWgay2t213K1v5H2e8ltgN+7cEbG7pxn0p+2rWvzP7xq9rl77Daf8APrD/AN+xR9htP+fWH/v2Knope3q/zP7xXMSaztR4ttF+zxbTZTEjYP78dan2G0/59Yf+/YqjN/yOFp/14zf+jIq1a6K9eryw957d/NjZB9htP+fWH/v2KPsNp/z6w/8AfsVS1zWDo62BWDzvtd7Ha/e27d+fm6c4x0rUrD21ZK/M/vCztcg+w2n/AD6w/wDfsUfYbT/n1h/79ioNI1my1yza602UyRLI0RJUr8y9Rg1epOtWTs5P72DuiD7Daf8APrD/AN+xR9htP+fWH/v2KnzRS9vW/mf3sWpB9htP+fWH/v2KPsNp/wA+sP8A37FT0yaZLe3kmlOEjUux9ABk0/b1v5n94akf2G0/59Yf+/Yo+w2n/PrD/wB+xUWlaraa3pcOoadIZLabOxipXOCQeD7g1codasnZyf3seq0IPsNp/wA+sP8A37FH2G0/59Yf+/Yqc9KyPC2tnxH4atNVNv8AZ/tAY+Xv3bcMR1wPSn7ata/M/vCztc0PsNp/z6w/9+xVNLG1/tqYfZocfZ4/4B/eetOqaf8AIan/AOveP/0J63oV6vve89n1BEv2G0/59Yf+/Yo+w2n/AD6w/wDfsVPRXN7er/M/vYtSv9htP+fWH/v2KX7Daf8APrD/AN+xSahdGx025uwm/wAiJpNucZwCcZ/CodF1E6toNjqLReSbq3Sby92du4A4z361Xtq1r8z+8etrk/2G0/59Yf8Av2KPsNp/z6w/9+xWZ4U8QHxNoS6i1v8AZsyvH5e/d91sZzgelbVEq1aLs5P7waadmQfYbT/n1h/79ij7Daf8+0P/AH7FT0Zpe3rfzP72LUg+w2n/AD6w/wDfsUfYbT/n1h/79iq2u6n/AGNoF7qQi877LC0nl7tu7A6Z7VbtJjcWcMzJsMkauVznGRnFP21a1+Z/ePW1xv2G0/59Yf8Av2KPsNp/z6w/9+xU9FT7er/M/vEZs1jaf2xp4+zQ4LSZHljn5K1v7Osv+fSD/v2Koy/8hrTv96T/ANANa9fbZbObwkG33/NmsXoVv7Osv+fOD/v2KP7Osv8Anzg/79irNZHiDXDoa6cVt/P+238Vn9/bs35+bpzjHSu5zaV2y1duxe/s6y/59IP+/Yo/s6y/584P+/Ypupz3dtps0um2gvbpFzHAZRHvOem48CsPwn4qvde1HVbHVNLXTrnTXjR0W4EuSwJ6gAdqTq2aTY0m1c3v7Osv+fOD/v2KP7Osv+fOD/v0KsZrA8Z+Jj4S8Otqi2ouysiJ5Zk2feOM5wabqOKu2JXbsa/9nWX/AD6Qf9+xR/Z1l/z5wf8AfsVYByBS0+d9xalb+zrL/nzg/wC/Yo/s6y/584P+/Yp91cxWdnLc3DbYoUMjkDOFAyag0jV7PXNKh1HTZDLbTgmNypXOCR0PPUUc7va49ST+zrL/AJ84P+/Yo/s6y/584P8Av2KsZpaOZ9xalb+zrL/nzg/79ij+zrL/AJ84P+/Yqxmsm81w2vivTdGFvvF7DLKZt+NmzHGMc5z60nNrdj1Ze/s6y/59IP8Av2KP7Osv+fSD/v2Ks0U+aXcV2Zd/ZWsTWDxW0SMNSs8MqAEf6RHXs4rx/U/u2P8A2ErP/wBKY69gFeZmDb5b+Z2UPhYUUUV5h0BRRRQAUUUUAFFFFABRRRQAVzvxA/5Jx4i/7Bs//otq6Kud+IH/ACTjxF/2DZ//AEW1Nbgcav3B9KWkX7o+lLX0a2PLCop7eC6i8q6hjmjyG2SKGGQcg4PoQDUtFAFHWvP/ALCvRaXUdpcGBxFPIcLG5HBJ7c15JZW0GhNpL67Bq2jaiLlN2sx3H2m3uyc/eO7GG69Olex3dpBf2c1pdxLLBMhSRG6MD1Fcpb/DPR4biAzXmqXdpbOJILC5uy9vEw6YXHb0JrCrCUmmjSEklqYdxo1r4i+Mmq2OpvcPax6dHIIY52jVm4GTtIz1qHQtR/szwV4tsb/VrxLHSb2S2gvIjumSPIAVSe+Tj2z2q5e+EJ9a+Kup3Fw2pWNq1hGsV7ZyGIlwRlQ3Q8dq6e18E6JaeFZvD6W7PZXGTMXfLyscHezf3sgfkKyjCTbaXctySSTPO7e3n0TxP4WudP0rUdIivLkQyyXN8JDdowH30DHB79uvsKo+I7XztQ1y9NxdJPB4hhgiaO4ZdiMPmAAOAenPXivQbT4aaTa3dldSX+q3c9jKslu9zd7/ACwOiAYxt/DPvVy68CaTd/bPNa5H2y9S+k2yD/WL0xx09qn2M2rf1sP2kbmX8O4VsNU8T6dA0n2W11ACFHkL7AUGeTzXaQW0FqrrbQxwh3MjCNAu5icljjuT3qlpmhWmk32oXdqZDJqEwmm3tkbsY444FaVdVOLjGzMZO7uFFFFakBWZpH/Hzqn/AF+H/wBFpWnWZpH/AB9ap/1+H/0WlS90V0NOiiiqJCooLaC1RktoY4VZi7LGoUFick8dyec1LRSGeP3bXHiXxx4gXUtI1TVobCUW1tDaXSwpbjB+bBYEk4zn/Ik1K78R2Pwt0/TdZlnsLm51JLCS4kkDSCBiSGLA+nB56Cu11jwHpmraq2pRXV/pl7IoWabTrjyjMB0DcEGo9b8N2Fr4Dm0m20mbVLdMN9mE/wC9Yl8swc/xck+/TvXH7Ka5n6m/OnY5q50C08M/E/wnbaTLcpBOJzJFJcM6lgn3sE9Tnn6Cm6RpEXjLWvFWo6zdXf2ixvZLW0WG5eP7KqZwygHr39Mg+tQ+GvDF3cePNM1KC01uGy02J/MuNbkzLIzKQqIvZRn+ftUvivRl/wCEj1OeHw/r5muFAU6ZcYtr75QP32OV5yD6jnvWdtL20vt8i+trnSfC2R5vhtpbzO0jESZZjkn943euqt7eC0gWG1hjgiT7scahVX6AVh+BdGufD/gnTtNvtouIUYyBTkKWYtjPtnFdDXZTVoK5zz+JhRRRWpAVh6N/x5y/9fdz/wCj3rcrD0b/AI85v+vy5/8ARz14+c/7p/28vyZMti/RRRXxpmRx28MU0ssUMaSTEGR1UAuQMDJ78V59qmi2mu/GOS11AymBdJVykcrJv/edCQQSOc49hXotc5rPgnTta1g6rLc31reiEQpNaz+WUAOcjjryRzW1Kai22+hpTkot3OZ0O8/sjR/GGm3Gp3SafpUxWC5Rt0sKsD8qk9weB7mseOGbR9T8MX2naZqOnJd30ML3V1eh2u0cc74wxwSOe2Pyr0Ow8GaPp/h650aOF5ra7yblpnLSTE9WLevA6VnW/wANdJgltJJL7VLh7KZJbYz3W4Q7TkKoxjb07Z4610KtTu/66GyqQuzOurVPFfxQ1DStXmlNjptqjQ2kcrIJGbBLnBBOM4/Ko9alufCXw11iPStcbUGgn8qKXcGks1ZwpQsCTkZPJwRmul13wfYa7ex3rT3ljexp5YurGbypCn90nByKmsvCmkWPh+bRo7bfaXG4ziRizSk9WZupPvUe1jZfLQjnjZfkcdqWiQeD5fDupaJdXX2i4vYra5Dzs4u1cckg9+M8ev0qWHRoPEHxN8S2mpy3D2kUduwt0nZFLFOp2kHjn863dM+H+labqMF41xf3ptf+PWK8uDIlv/uDAx+Oa1rTQrSy16/1eEy/ab9UWXcwK4QYGBim6yWz1tuN1F03Oc+F887aDqNpPPJOljqU1vC0hywQBSBn8T+ddjDbw2ystvDHErMXYIoUFick8dye9UNE0Cz8PxXcdiZSt3ctcyeYwPztjOOOnFadYVJKUm0ZTacm0FFFFZkGVN/yOFp/14zf+jIq1aypv+RwtP8Arxm/9GRVq101/hp/4f1Y2RzW8Nxs8+GOXy3Eib1B2sOjDPQ+9Qanptrq1g9nfIzwOQWVXKE4OeoINW6K502hXaPNfhh4Z0ubSDqMkMhure/lCMJ3wNp4+XOD+IqxbaVD4y8beIV12W5aHTZEt7a2SZkWMEEl8DHJx1rbtPAWm2GuNqNheajbK83ntZxXO2Bn9SuOfpmpNZ8EadrGpNqAub6wupFCTS2M/lmZfRuDmup1Yubd9/wOh1E5N3/4BwcN9eal4N06zvLueVbbxKlgtwshV5Ih0+Yc5+bGfYVTs7JLC6W5t5rlZLTxYtjDmd2CwFjlcE457mvTx4P0lNK0/ToInhttPuVuoVR+TIpJyxOc5JOah/4QnSvn+a4+fVBqh/eD/XA59Pu+361arwLVWJyetW1trviTWltrHU9amtcRu63iwRWTbTwmWGT3PB5FX/D8I8T/AAftn1tpbqSOGVw5kYMSm9VyQcnj1rYvvAGk32sT3/2i/tjdEG6t7a5McVx/vgcn8CK1dD0Gz8P6LHpdl5j20e7aJiGOGJJHQetRKrHkSjvoQ6keVWOR+Fvh/To/Cemawkb/AG1kkBbzmI++w+7nHT2qno+jw+NrzxHfa7dXAmt72S1tlSdkFqiDggA4z9fSum0XwLYaDqQudPvtSWFGZksmucwIWzn5ce/c03VPAGlapqM94Li/smuv+PqOzuPLS5/3xg5/DFHtY87d9w9ouZu+4vw71O71bwPZXOoSGaYF4zK3VwrEA/kOvtXR29tBaW6wWsMcEKDCxxqFVfoBUen2Ftpenw2VhCsNvAu2NF7D/PerFc05JybWxjJpttBVNP8AkNT/APXvH/6E9XKpp/yGp/8Ar3j/APQnrbD/AGvRiRcooornENdEljZJFV0YEMrDII9DSRxRwQLFBGsccahURBgKAMAAdhT6KLgeN6P4btLv4VX+ryTXQvLU3Elu6XDKIirE8KDjkjnvz9K3dYvo9V0DwnBftqF7d6hbpN/Z9nII/tTeWCS7kjCjk9f5V1tp4U0+y8MXGhQmb7JcCQOWcb/n64OPf0qtqHgbS9Q03TbUy3ds+lxiO1urebZNGoAH3sY5AHauz20XK77nT7SLepxWkSXenv400vyJ7C3h04TRWctz53kMUOdrAnr1/KsddHgkFt5k103neFzfSZuX+aZRwevQccdOBXpNj4B0rT3v3imvXbULY29y0s+8uD/FkjO79Paph4J0tRFhrj91pp0xfnH+pP4fe9/0q/bwT0K9rFbEvhbGo+BdK+3qtyJrKMSCUbg/yjrnrW2AFUBQABwAO1VtN0+HStLtrC1LGG2jWNN5ycAYGatVxTd5No5ZO7dgoooqBFSX/kM6d/vSf+gGtiseX/kM6d/vSf8AoFbFfc5X/ucPn+bNY7BUU1tBc+X9phjl8txJHvUNsYdGGehHrUtFegUFcR4Q/wCSieNP+u9v/wCizXWanYJqmmzWck08CzDBkt5Njrzng9q5mw+Gul6dqf2+21PWPOMiySbr3IlK9N/HzDtzWVRSck0ti42s7mJp+mReOfG3iYeIGuvL02Zba0t452jES4PzgA9TjOT61zmr6hd3/wAD7qO+uHuWs9U+yx3DnLSIrDBz364z7V6RrfgLTNa1STUBdahp91MgSeSwuPK89QMAPwc8cVLdeB9EufCsfh0QvDp0bhwkT4YkHPJOc5NYulN3+fzNOeOhyWp6XF4K8ceFpNDmuSdSma2vI5bh5POX5fnOSeRuzUfiLTpbjxfqd5qmnXmvaYVVIDpl5mSxIGGBiDDnOTn2966zSfAOl6TrSaoLi/vJ4VK2wvLgyrbKeMICOOOOc0mqeAdO1HVJtQt77UtLnucfaTp9z5Qnx/eGDR7KXLsHOrmPDZaZ4h+EW4311qsFvbyyQzTlo5AyqwAbB5x05yD70z4T+HdNj8IaXrKRP9teOQM/nOV++w+7nb0HpXZ6Toen6Lo0el6fAEtEBGxiW3ZOTknrnJrG0HwFp/hzUhc6bf6mIELGOye63W6bgc4THv3Jq1TalGTRPOmmrnn0f2rxXrXiC41LSdV1OSC7ktbY2l2sSWYXgYUuPm79MH8629fl1yH4A3R8QebDqkSRo7FxuIFwgUkg9SuOe9dLqnw/0vUdVl1CC61HTLi4x9oOn3PlCf8A3hg/pir134R0u88It4bZZk09lVcJIS/Dh/vHPcVCpTV/mU5x0Mrwh4NsrJLDXZbq9u9SktlZ5p5ywO9BkbegAzgeldY1tA9ylw8MbTxgqkpUFlB6gHqM4pLW2Szs4baHPlwxrGu45OAMD+VTV0xioqyMZSbdwoooqySlqf3bH/sJWf8A6Ux17AK8f1P7tj/2ErP/ANKY69gFebj/ALPzO3D/AAsKKKK8w6AooooAKKKKACiiigAooooAK534gf8AJOPEX/YNuP8A0Wa6KqOtaXFrmhX2lXDyRxXsDwO8ZG5QykEjIIzz6U1uB5yv3R9KWtwfDcgD/iptW/74t/8A41S/8K4P/Qzat/3xb/8AxqvW+u0/M4vYSMKit3/hXB/6GbVv++Lf/wCNUf8ACuD/ANDNq3/fFv8A/Gqf12n5h7CRhUVu/wDCuD/0M2rf98W//wAao/4Vwf8AoZtW/wC+Lf8A+NUfXafmHsJGFRW7/wAK4P8A0M2rf98W/wD8ao/4Vwf+hm1b/vi3/wDjVH12n5h7CRhUVu/8K4P/AEM2rf8AfFv/APGqP+FcH/oZtW/74t//AI1R9dp+YewkYVFbv/CuD/0M2rf98W//AMao/wCFcH/oZtW/74t//jVL67T8w9hIwqK3f+FcH/oZtW/74t//AI1R/wAK4P8A0M2rf98W/wD8ap/XafmH1eRhVmaR/wAfWq/9fh/9FpXYf8K4P/Qzat/3xb//ABqo4PhjHbtM0fiLVczP5jkpBy2AP+efoBQsXSb10H7CVjGore/4V1/1Meqf98Qf/G6X/hXX/Ux6p/3xb/8AxutfrVD+b8GT7CZgUVv/APCuv+pj1T/vi3/+N0f8K6/6mPVP++Lf/wCN0fWqH834MPYTMCit/wD4V1/1Meqf98W//wAbo/4V1/1Meqf98Qf/ABuj61Q/m/Bh7CZgUVv/APCuv+pj1T/viD/43R/wrr/qY9U/74g/+N0fWqH834MPYTMCit7/AIV1/wBTHqn/AHxB/wDG6P8AhXX/AFMeqf8AfFv/APG6PrVD+b8GHsJmDRW9/wAK6/6mPVP++IP/AI3R/wAK6/6mPVP++IP/AI3R9aofzfgw9hMwaw9G/wCPKb/r7uf/AEc9d1/wrr/qY9U/74g/+N1Xg+FsNsjJF4h1QKztIflg6sxY/wDLP1JrgzCVPE0PZwlrdPr5ilh5tHOUV1H/AArRf+hi1T/viD/43R/wrRP+hi1T/vmD/wCN189/Z8v5l+P+RH1aocvRXUf8K0T/AKGLVP8AviD/AON0f8K0T/oYtU/75g/+N0f2fL+Zfj/kH1aocvRXUf8ACtE/6GLVP++YP/jdH/CtE/6GLVP++IP/AI3R/Z8v5l+P+QfVqhy9FdR/wrRP+hi1T/viD/43R/wrRP8AoYtU/wC+IP8A43R/Z8v5l+P+QfVqhy9FdR/wrRP+hi1T/viD/wCN0f8ACtE/6GLVP++IP/jdH9ny/nX4/wCQfVqhy9FdR/wrRf8AoYtU/wC+IP8A43R/wrRP+hi1T/viD/43R/Z8v5l+P+QfVqhy9FdR/wAK0T/oYtU/74g/+N0f8K0T/oYtU/74g/8AjdH9ny/mX4/5B9WqHBzf8jfaf9eM3/oyKtSuib4VwNepdHxBqnnJG0attg4ViCR/q/VRU3/CtF/6GLVP++IP/jdbVcE5KKUlorde78h/VpnL0V1H/CtF/wChi1T/AL5g/wDjdH/CtE/6GLVP++IP/jdY/wBny/mX4/5C+rVDl6K6j/hWi/8AQxap/wB8Qf8Axuj/AIVov/Qxap/3zB/8bo/s+X86/H/IPq1Q5eiuo/4Vov8A0MWqf98wf/G6P+FaJ/0MWqf98wf/ABuj+z5fzL8f8g+rVDl6K6j/AIVov/Qxap/3zB/8bo/4Vov/AEMWqf8AfMH/AMbo/s+X86/H/IPq1Q5eiuo/4Von/Qxap/3xB/8AG6P+FaL/ANDFqn/fMH/xuj+z5fzr8f8AIPq1Q5eiuo/4Vov/AEMWqf8AfMH/AMbo/wCFaL/0MWqf98wf/G6P7Pl/Ovx/yD6tUOXqmn/Ibn/694//AEJ67T/hWi/9DFqn/fMH/wAbpg+F8QuGmHiHVN7KEJ2wdASR/wAs/c1tSwThzXktU11/yBYaZzVFdR/wrRf+hi1T/viD/wCN0f8ACtF/6GLVP++YP/jdY/2fL+Zfj/kH1aocvRXUf8K0T/oYtU/75g/+N0f8K0X/AKGLVP8AvmD/AON0f2fL+Zfj/kH1aocvRXUf8K0T/oYtU/75g/8AjdH/AArRP+hi1T/viD/43R/Z8v5l+P8AkH1aocvRXUf8K0X/AKGLVP8AvmD/AON0f8K0T/oYtU/74g/+N0f2fL+Zfj/kH1aocvRXUf8ACtF/6GLVP++YP/jdH/CtF/6GLVP++IP/AI3R/Z8v51+P+QfVqhy9FdR/wrRf+hi1T/vmD/43R/wrRf8AoYtU/wC+IP8A43R/Z8v5l+P+QfVqhxkv/IZ07/ek/wDQK2K2G+F8TTxSnxDqm+IkodsHGRg/8s6n/wCFdf8AUx6p/wB8W/8A8br6XBVKVDDxpylqr9+5aw80jAorf/4V1/1Meqf98W//AMbpP+FdH/oY9U/74g/+N11/WqH834MfsJmDRW//AMK6/wCpj1T/AL4t/wD43Sf8K6/6mPVP++Lf/wCN0fWqH834MPYTMGit7/hXX/Ux6p/3xB/8bpf+Fdf9THqn/fFv/wDG6PrVD+b8GHsJmBRW/wD8K6/6mPVP++IP/jdJ/wAK6/6mPVP++IP/AI3R9aofzfgw9hMwaK3/APhXX/Ux6p/3xB/8bo/4V1/1Meqf98Qf/G6PrVD+b8GHsJmBRW9/wro/9DHqn/fEH/xuj/hXX/Ux6p/3xb//ABuj61Q/m/Bh7CZg0Vv/APCuv+pj1T/vi3/+N0n/AArr/qY9U/74g/8AjdH1qh/N+DD2EzBorf8A+Fdf9THqn/fEH/xuk/4V1/1Meqf98Qf/ABuj61Q/m/Bh7CZymp/dsf8AsJWf/pTHXsArih8N4jPbvca7qU6QzxziNlhAZkcOAcRg4yo6Gu1FcGMqwqcvI72OilBwVmFFFFcJsFFFFABRRRQAUUUUAFFFFABRRRQAUUUUAFFFFABRRRQAUUyWRYYnkkO1EUsxPYCvHx8TfG2sabqHibw3oent4bsHcYuWcTzxp951wcDj2OORziplJRNqVGdW/Kex0Vk+GNftvFHhqx1myDLDdx7wrdUOcFT9CCK1qpamUouLae4UUUUCCiiigAooooAKKKKACiiigAoorL8Ralf6Tok13pOlSatdoQEtI5AhfJwTk9MdaBpOTsjUorz/AOGPjzVfGsutJrFhBYvp06xCKLJKn5shiTyQV7Yr0AUk1JXRdSnKlNwluFFFFMzCiiigAooooAKKKKACiiigAooooAKK891vXPiNda7fW3hTQdPgsrJtouNTds3RwDlNpAxz/wDqORWj8N/HDeN9EuJby0+x6jYzm3u4AcqHHce38iD9anmV7G7oTUOfS3r3OxoooqjAKKKKACiiigAooooAKKKKACiiigAoorjfFup+N49XhsPBmj2UkbReZJf38h8tTnGzapBz0OefpSbsXCDm7I7KivPfAfj7VdY8T6n4W8V2EFprWnp5hNqSYpE45GScfeXvzntivQqE01dDqU5UpcsgooopmYUUUUAFFFFABRRRQAUUUUAFFFZ2v63Z+HNCutW1KTZbWsZdvU+ij3JwB7mgaTbsjRorzb4X/ETWvGmsataa3p9tY/Y44ZYkiDbtsgJG4kn+Hb2HWvSamMlJXRpVpSoz5J7hRRRVGQUUUUAFFFFABRRRQAUUUUAFFFFABRRXk7+PfHer+Mtd0nwjpOk3VvpFx5LPcsyt3H98A8g1MpJGtKjKre3TuesUVjeF59euNFV/Fdra2uoF23R2rFkC9uSTWzVLUzkuV2CiiigQUUUUAFFFFABRRRQAUUUUAFFFFABRRRQAUUUUAFFFFABRRRQAUUUUAFFFFABRRRQBi+MYp5/BGtxWeftD2E6xbeu4xnH61w/wvuLVP2fI5JWUQw2t352T0w8hOfwr1FlDKQ3IIwRXldx8GLmMahp2ieKrrTfD+oy+ZcaakCsecZVXJyAcY+mAc1nJO90dlCcHTdObtqn9xo/AtJU+E2neZna0sxTP93zG/rmvRKpaPpFpoWj2umadH5dtaxiONepwO5Pc96u1UVZJGNaaqVZTXVhRRRVGIUUUUAFFFFABRRRQAUUUUAFJS1heLNC1LX9LjttI1yfRZklDm4gXcWXBG3qOOQfwpPYqKTdm7Hn/AME/+Rh8c/8AYVP/AKFJXrteWeG/hBqvhrWvt9r4zuistytxdwi3Ci5IbJDHd3yfzr1OoppqNmdOMlCdXmg7rT8gooorQ5AooooAKKKKACiiigAooooAKKKKAOR+IPjm28GaLuRftWq3R8uxsk+ZpXPAOBztB/w6mqvwq8H3PhPws51Vt2q6lKbq85ztY9F/AdfcmsHWvg3qOr+MbjxEPGFxDdvITARbAm3T+FFO7jA4yMeveup8GeEdX8NXF1Jq/im811ZlVUW5BAiIJyR8x65/SslzOV2jvl7KNDlhLV77/d8jraKKK1OAKKKKACiiigAooooAKKKKACiiigArI8SWesX2kNB4d1OPTL0sCJ5IRKAO4wf51r1w/iXwDqmpeJDrvh3xXe6LePGI5U2iaFgOmEJwO/ryc8HNTK9jWkouXvO3rqcj8L2Og/E7XNA8RxC58STp58mqLKZBOnB24IGzhhwPT2FezVw3gv4aR+GNbu9e1TVbjWtau1KPdzDaFU4yAuT6D6AADFdzSgmlqa4qpGpU5ou+i/peQUUUVZyhRRRQAUUUUAFFFFABRRRQAV4p8UtdOo+P7DQ9W0/UpPD2nMtzdC1tTJ9rkxlV/wB0Zwee59jXtdJtHoPyqZR5lY3oVVSnzNXPC/hz4usn+MfiNorG/RNWeCOBTbY8napH7wfwD0r3XNctoPgtdE8aa94gF4ZjrBjJhMePK2DHXPNdTSgmlqaYqpCpNOHZfkFFFFWcgUUUUAFFFFABRRRQAUUUUAFFFFABXlc3wh1CHVNc1LR/GWoabLqV294Etl2KGJZgrkHLAFj6fSvUyMgivMZ/hTr0CXVlofj3UrTS7piz280Ymdd3ULISCO/THvmomr9Dqw8+Vv3uX1V/8y/8HfFup+K/Cdw2uOs17YXb2rzqABKAAQeOM84/AV6BWF4P8I6f4K8PRaTpe5kUl5JX+9K56sfyA+gFbtOKaWpnXlCVWTprQKKKKoxCiiigAooooAKKKKACiiigAooooAKKKKACiiigAooooAKKKKACiiigAooooAKKKKACiiigAooooAKKKKACiiigAooooAKKKKACiiigAooooAKKKKACiiigAooooAKKKKACiiigAooooAKKKKACiiigAooooAKKKKACiiigAooooAKKKKACiiigAooooAKKKKACiiigAooooAKKKKACiiigAooooAKKKKACiiigAooooAKKKKACiiigAooooAKKKKACiiigAooooAKKKKACiiigAooooAKKKKACiiigAooooAKKKKACiiigAooooAKKKKACiiigAooooAKKKKACiiigAooooAKKKKACiiigAooooAKKKKACiiigAooooAKKKKACiiigAooooAKKKKACiiigAooooAKKKKACiiigAqvPf2ttcQQXFxHFLcErDG7ANIQMkAd6sVxni/8A5Hrwd/18zf8AougDr7i4itbaW4uG2RRIXdsZwoGSar6Tq1nremQ6hpsvm20wJRypXODg8HnqKmu3MVnNIvJSNmGfYVwq+Mb+H4daJqSLZ21xqM627zMhWC2BZhvK56AL69TQB6ATgZPAFNjlSaNZIXV0YZVlOQfxrk7lvEsfhbUpX1PTbrEPmW9zHAw3LglwQGx0xgg/UVF8NItVTwnp7XlzbSWLWq/Z444isif7zEkH8AKAOsuL61tZYY7m4jie4fZErsAZG9B6mp647xt/yMXhL/sJ/wDstF3rfiC78a6hoGjizijhgilFzOpYxAjn5QfmJOMdAMHrQB2NVtRvodM024vrrd5NtG0sm0ZO0DJrmtC8T3sNtr0XiUwtNobZlmtlIEkZXcDtPfFYep3ni3WPAWoaxO+n29jdWcjrYtGxcQlTht+fvY5xjH07AHaSeJ9LhtdLuJ52jXVWRbUFCS5cZAOM46961q4hdUm0zwr4LWCOFxdy2tu/mpu2qY+SvoeOtWr/AFrWtU8UXGh+Gjb2y2KK15e3EZfazDKoqgjJx1J//WAdbRXI6rr+saFpNjZ3bWE+t39w0EDDckIUc+YwPPAxkA9TTdO17U7HxRaaPrF9ZakmoRSPBPapsKOgyysMkYI5B9jQB2FFcL4f13xB4jla8tNR0uJI7lkk0x4iZI41fadzBshsDPTFd1QAUUUUAFFFFABRRRQAUUUUAFFFFABRRRQAUUUUAFFFFABRRRQAUUUUAFFFFABRRRQAUUUUAFFFFABRRRQAUUUUAFFFFABRRRQAUUUUAFFFFABRRRQAUUUUAFFFFABRRRQAUUUUAFFFFABRRRQAUUUUAFFFFABRRRQAUUUUAFFFFABRRRQAUUUUAFFFFABRRRQAUUUUAFFFFABRRRQAUUUUAFFFFABRRRQAUUUUAFFFFABXG+NbbUDr/h7UtO06a/SwmleaOEqGAKgD7xArsqKAOetdav8AVVubafw9f2AMDFZZ2jKk4wF+Vic81j6LFqGh/DnS7K98PS6jtVkvLVShdF3E5Ck4ftxmu5ooA898O6FdS3mttp2n3Gi6NfWhiis7rAJmOcyBATsGDjHf+Wp4BuL620W30TUdHvLOawh2PPKq+U5BwNrA85HPTFddRQBzHivTby+1zw3NaQNLHa3/AJk7Aj5F29TSafpt5F8S9X1CSBltJ7OFI5cjDMOorqKKAOLi8O3d7qPjOC4jMEOqLGlvMcEN+62k49jWWbvxFJ4Hm8MSeGrtr+OyNqZw6CBlCbQwfPJIx8uOvpXpFFAHEXmjahJoPgyBLVzJYXVq9yuR+6CxkMT9D6U65j1Pwt4x1HVrfTJ9U03VFjMq2gBmhkQbR8pI3A/59+1ooA4TxHpeoeKNP03V20EC5065Zl027kQ/aIWABB6qGOAcHpirXh6Owm1NZrHwTJpTQox+1T28UTK+MbVwSTkE89PzrsaKAPMvEFrea86Cx8KXml+I1lVl1FWQRR88sZVPzjHYjPtXpi5CjccnHJpaKACiiigAooooAKKKKACiiigAooooAKKKKACiiigAooooAKKKKACiiigAooooAKKKKACiiigAooooAKKKKACiiigAooooAKKKKACiiigAooooAKKKKACiiigAooooAKKKKACiiigAooooAKKKKACiiigAooooAKKKKACiiigAooooAKKKKACiiigAooooAKKKKACiiigAooooAKKKKACiiigAooooAKKKKACiiigAooooAKKKKACiiigAooooAKKKKACiiigAooooAKKKKACiiigAooooAKKKKACiiigAooooAKKKKACiiigAooooAKKKKACiiigAooooAKKKKACiiigAooooAKKKKACiiigAooooAKKKKACiiigAooooAKKKKACiiigAooooAKKKKACiiigAooooAKKKKACiiigAooooAKKKKACiiigAooooAKKKKACiiigAooooAKKKKACiiigAooooAKKKKACiiigAooooAKKKKACiiigAooooAKKKKACiiigAooooAKKKKACiiigAooooAKKKKACiiigAooooAKKKKACiiigAooooAKKKKACiiigAooooAKKKKACiiigAooooAKKKKACiiigAooooAKKKKACiiigAooooAKKKKACiiigAooooAKKKKACiiigAooooAKKKKACiiigAooooAKKKKACiiigAooooAKKKKACiiigAooooAKKKKACiiigAooooAKKKKACiiigAooooAKKKKACiiigAooooAKKKKACiiigAooooAKKKKACiiigAooooAKKKKACiiigAooooAKKKKACiiigAooooAKKKKACiiigAooooAKKKKACiiigAooooAKKKKACiiigAooooAKKKKACiiigAooooAKKKKACiiigAooooAKKKKACiiigAooooAKKKKACiiigAooooAKKKKACiiigAooooAKKKKACiiigAooooAKKKKACiiigAooooAKKKKACiiigAooooAKKKKACiiigAooooAKKKKACiiigAooooAKKKKACiiigAooooAKKKKACiiigAooooAKKKKACiiigAooooAKKKKACiiigAooooAKKKKACiiigAooooAKKKKACiiigAooooAKKKKACiiigAooooAKKKKACiiigAooooAKKKKACiiigAooooAKKKKACiiigAooooAKKKKACiiigAooooAKKKKACiiigAooooAKKKKACiiigAorI13xVofhnyP7e1KCx+0bvK81sb9uM4+m4fnWR/wtXwP/0Mlj/33TsxXR11Fcj/AMLV8D/9DJY/990f8LV8D/8AQyWP/fdFmF0ddRXI/wDC1fA//QyWP/fdH/C1fA//AEMlj/33RZhdHXUVyP8AwtXwP/0Mlj/33R/wtXwP/wBDJY/990WYXR11Fcj/AMLV8D/9DJY/990f8LV8D/8AQyWP/fdFmF0ddRXI/wDC1fA//QyWP/fdH/C1fA//AEMlj/33RZhdHXUVyP8AwtXwP/0Mlj/33R/wtXwP/wBDJY/990WYXR11Fcj/AMLV8D/9DJY/990f8LV8D/8AQyWP/fdFmF0ddRXI/wDC1fA//QyWP/fdH/C1fA//AEMlj/33RZhdHXUVyP8AwtXwP/0Mlj/33R/wtXwP/wBDJY/990WYXR11Fcj/AMLV8D/9DJY/990f8LV8D/8AQyWP/fdFmF0ddRXI/wDC1fA//QyWP/fdH/C1fA//AEMlj/33RZhdHXUVyP8AwtXwP/0Mlj/33R/wtXwP/wBDJY/990WYXR11Fcj/AMLV8D/9DJY/99mj/havgf8A6GSy/wC+z/hRZhdHXUVyP/C1fA//AEMll/32f8KP+Fq+B/8AoZbH/vs0WYXR11Fcj/wtXwP/ANDJZf8AfZ/wo/4Wr4H/AOhksf8Avs0WYXR11Fcj/wALV8D/APQyWP8A33R/wtXwP/0Mlj/33RZhdHXUVyP/AAtXwP8A9DJY/wDfdH/C1fA//Qy2P/fZoswujrqK5H/havgf/oZLH/vuj/havgf/AKGSx/77oswujrqK5H/havgf/oZLH/vs0f8AC1fA/wD0Mlj/AN9n/CizC6Ouorkf+Fq+B/8AoZLH/vs0f8LV8D/9DJZf99n/AAoswujrqK5H/havgf8A6GSx/wC+z/hR/wALV8D/APQyWP8A32f8KLMLo66iuR/4Wr4H/wChksv++z/hR/wtXwP/ANDJY/8AfZoswujrqK5H/havgf8A6GSy/wC+z/hR/wALV8D/APQyWP8A32f8KLMLo66iuR/4Wr4H/wChksv++z/hR/wtXwP/ANDJZf8AfZ/woswujrqK5H/havgf/oZLH/vs0f8AC1fA/wD0Mll/32f8KLMLo66iuR/4Wr4H/wChksf++z/hR/wtXwP/ANDJZf8AfZ/woswujrqK5H/havgf/oZLL/vs/wCFH/C1fA//AEMlj/32aLMLo66iuR/4Wr4H/wChksv++z/hR/wtXwP/ANDJY/8AfZoswujrqK5H/havgf8A6GSy/wC+z/hR/wALV8D/APQyWX/fZ/woswujrqK5H/havgf/AKGSx/77P+FH/C1fA/8A0Mll/wB9n/CizC6Ouorkf+Fq+B/+hksf++zR/wALV8D/APQyWX/fZ/woswujrqK5H/havgf/AKGSy/77P+FH/C1fA/8A0Mlj/wB9n/CizC6Ouorkf+Fq+B/+hksv++z/AIUf8LV8D/8AQyWP/fZoswujrqK5H/havgf/AKGSy/77P+FH/C1fA/8A0Mll/wB9n/CizC6Ouorkf+Fq+B/+hksf++z/AIUf8LV8D/8AQyWX/fZ/woswujrqK5H/AIWr4H/6GSx/77NH/C1fA/8A0Mll/wB9n/CizC6Ouorkf+Fq+B/+hksf++z/AIUf8LV8D/8AQyWP/fZ/woswujrqK5H/AIWr4H/6GSy/77P+FH/C1fA//QyWP/fZoswujrqK5H/havgf/oZLL/vs/wCFH/C1fA//AEMlj/32f8KLMLo66iuR/wCFq+B/+hksv++z/hR/wtXwP/0Mll/32f8ACizC6Ouorkf+Fq+B/wDoZLH/AL7NH/C1fA//AEMlj/32aLMLo66iuR/4Wr4H/wChksf++zR/wtXwP/0Mlj/32aLMLo66iuR/4Wr4H/6GSx/77NH/AAtXwP8A9DJY/wDfZoswujrqK5H/AIWr4H/6GSx/77NH/C1fA/8A0Mlj/wB9mizC6Ouorkf+Fq+B/wDoZLH/AL7NH/C1fA//AEMlj/32aLMLo66iuR/4Wr4H/wChksf++zR/wtXwP/0Mlj/32aLMLo66iuR/4Wr4H/6GSx/77NH/AAtXwP8A9DJY/wDfZoswujrqK5H/AIWr4H/6GSx/77NH/C1fA/8A0Mlj/wB9mizC6Ouorkf+Fq+B/wDoZLL/AL7P+FddRZodwooopAFFFFAHgv7TX/Msf9vf/tGvBq95/aa/5lj/ALe//aNeDV10/hRy1PiYUUUVoZhRRRQAUUUUAFFFFABRRRQAUUUUAFFFFABRRRQAUUUUAFFFFABRRRQAUUUUAFFFFABRRRQAUUUUAFFFFABRRRQAUUUUAFFFFABRRRQAUUUUAFFFFABRRRQAUUUUAFFFFABRRRQAUUUUAFFFFABRRRQAUUUUAFFFFABRRRQAUUUUAFFFFABRRRQAUUUUAFFFFABRRRQAUUUUAFFFFABSGlpD0oASlKsBkg4+laul6VPI0V0wQR5yFY8n9K6COMiARy/OAMEsc7vrxW0abkjKVRRdjiauaXpN/rd+llpNpLd3D8iOMZwO5PYD3PFbPiHwPqfh/RrPVrhoZbO8AKtETmMsNwDAgds9M9K6jwFBZapZaX4cimeKHVvtcusPbybZWEUbGKPPUKOGx0YnnPIrkhWp1Y81N3R0cjTtJWOI1Pw1qWko73QtnERCzfZruKcwk9A4RiV5454zxWTXo3gbw1d3XgrU2hgR7vxFJHpenLKcBgG8yaT/AHUCj5uxFY0vgJ5dSjg0jVrW+tSk7y3rI0UUKw48xzkElAWABA5ParUl1FynJUDJOBzXpng/wVd6F4otZddht5ba8sL5olzvWRUiPz9MFSGBB7iuW8J3MGk2Oq62Fim1KxiT7DHKoYI7vgzbT1KDp2DMp7U+ZdA5e5DL4J8SQaaL+fSZ4oCm8byFcr1zsJ3Yx7VjQ281yzLbxSSsql2EaliFAyScdgOSa9Ql8LGL49rCt3O9vprQanfXl5IXMaKiSuWY89eB9RWX8O7aXU/HOq3emWM72hs73b5cLFY98T7FOBgE5wB3pc2g+XU8/wCRRXea/oWo/wDCA+C7FdKuv7Sc3wNv9mbzmAlBHy43dCT9Oa57T/CGr6no02p20CCGOYwKskgR5ZAjSMqA9SqKSR+AyeKakhWMSlFbun+Ctf1O+W0trBvOe0S8QSOqB434Qgk4JYnAHr9DWCtPQVrDq+86+DK+86563Q2o9QooorA3CiiigDwX9pr/AJlj/t7/APaNeDV7z+01/wAyx/29/wDtGvBq66fwo5anxMKKKK0MwooooAKKKKACiiigAooooAKKKKACiiigAooooAKKKKACiiigAooooAKKKKACiiigAooooAKKKKACiiigAooooAKKKKACiiigAooooAKKKKACiiigAooooAKKKKACiiigAooooAKKKKACiiigAooooAKKKKACiiigAooooAKKKKACiiigAooooAKKKKACiiigAooooAKKKKACiiigApG6UtIelAHbeFBb6xeabpxnEbTOsTgEbgB1wPoK9RufCPg/TpUW/mELMNwSe8K7h9MivBdF1WbQ9btNTtlVpbWQOqv0b1H4ivSdU+NCXunxra6bc211HIsgK3WEJHZsDLKe44z614GbwzCtWgsO2oWs7Ox24RYeEJe0Sb80X/iv4k0SfwfDpel3trcytOhWO2kDCNFB9OnYVzvwcuNKtfFEs95b3Mt5DaXMkYWVViZBCxYMMZBxnkHv7V57JI0sryPyzsWP1NS2V9dadcGexnkglKNGWRsEqwKsPoQSK78DgY4PD+yi79dfMyrV3Vqc7R7Ld6yjeNtA1a3mjt9D1HRJbbSY0cJHZTGIo0WccESAAsR/EOw4g8MWtk2karoWrz22japfaV5cEDvhbK2WRWYOSeZHy0hHXA7ZwPOdL8VPaeHLjQdSsYtS02WTz4opXZGt5cY3oy8jI6jofasAkFicADPQdvzrs5DPmPfr7UrfU7jwzPpSMtr/AMI7qUdrGeu1EZF/HCDPvXhempp73gGsSXUVrj5jaxK7k+mGZQPrn8Kvr4r1WKx0i3tpzbNo4lFrPCSsgEjFmBOeeSfwOKyJZZJ5pJpnaSSRi7uxyWJOSSfWqjGwpSue3+OL9dc8ZeLPDVlF/Z0MGnm8u7mE5lvnhhQojk9EAONo7jOecU/+yrfw7qPhe3ttkMw8NX0dyyYBaZY2LgkdSHLfSvKdI1/UG8VjUrjW5LO8nUxvfyL5n8G0bxg5XgA8HjnBxWl8QNdtdTk0aw0+8+3ppdiIprwBgJ53JeVhuAOMnqRzzU8rvYrm6neaBqaWfwz8HXTzyNqt7qT2MLs2WWFrkGU8+oVU+jVDfTww2K3SzosGj32tSXQ3D5Z2ykAI9SXXH4+9eT2utX9pJYNHcOy6dN59rG53JG+QSQPcqM1DqV7Jqeq3d/OFWW6meZwgwAzMSce3NPk1FzaHvFjf28Xif4aadbHE91p1vPd/7SRwuIR9AxlP1x6V4E/+tf6mrNhrGoaXqdtqNjdyxXdpjyJc7jHjsM5GOTx05qoDkkmnGNhSlcWvvOvgyvvOsa3Q0pdQooorA3CiiigDgvib8Mv+Fjf2Z/xNv7N+web/AMu3m+Zv2f7a4xs9+tcF/wAMy/8AU2/+U3/7bXvVFWpySsiHCLd2eC/8My/9Tb/5Tf8A7bR/wzL/ANTb/wCU3/7bXvVFP2ku4ezj2PBf+GZf+pt/8pv/ANto/wCGZf8Aqbf/ACm//ba96oo9pLuHs49jwX/hmX/qbf8Aym//AG2j/hmX/qbf/Kb/APba96oo9pLuHs49jwX/AIZl/wCpt/8AKb/9to/4Zl/6m3/ym/8A22veqKPaS7h7OPY8F/4Zl/6m3/ym/wD22j/hmX/qbf8Aym//AG2veqKPaS7h7OPY8F/4Zl/6m3/ym/8A22j/AIZl/wCpt/8AKb/9tr3qij2ku4ezj2PBf+GZf+pt/wDKb/8AbaP+GZf+pt/8pv8A9tr3qij2ku4ezj2PBf8AhmX/AKm3/wApv/22j/hmX/qbf/Kb/wDba96oo9pLuHs49jwX/hmX/qbf/Kb/APbaP+GZf+pt/wDKb/8Aba96oo9pLuHs49jwX/hmX/qbf/Kb/wDbaP8AhmX/AKm3/wApv/22veqKPaS7h7OPY8F/4Zl/6m3/AMpv/wBto/4Zl/6m3/ym/wD22veqKPaS7h7OPY8F/wCGZf8Aqbf/ACm//baP+GZf+pt/8pv/ANtr3qij2ku4ezj2PBf+GZf+pt/8pv8A9to/4Zl/6m3/AMpv/wBtr3qij2ku4ezj2PBf+GZf+pt/8pv/ANto/wCGZf8Aqbf/ACm//ba96oo9pLuHs49jwX/hmX/qbf8Aym//AG2j/hmX/qbf/Kb/APba96oo9pLuHs49jwX/AIZl/wCpt/8AKb/9to/4Zl/6m3/ym/8A22veqKPaS7h7OPY8F/4Zl/6m3/ym/wD22j/hmX/qbf8Aym//AG2veqKPaS7h7OPY8F/4Zl/6m3/ym/8A22j/AIZl/wCpt/8AKb/9tr3qij2ku4ezj2PBf+GZf+pt/wDKb/8AbaP+GZf+pt/8pv8A9tr3qij2ku4ezj2PBf8AhmX/AKm3/wApv/22j/hmX/qbf/Kb/wDba96oo9pLuHs49jwX/hmX/qbf/Kb/APbaP+GZf+pt/wDKb/8Aba96oo9pLuHs49jwX/hmX/qbf/Kb/wDbaP8AhmX/AKm3/wApv/22veqKPaS7h7OPY8F/4Zl/6m3/AMpv/wBto/4Zl/6m3/ym/wD22veqKPaS7h7OPY8F/wCGZf8Aqbf/ACm//baP+GZf+pt/8pv/ANtr3qij2ku4ezj2PBf+GZf+pt/8pv8A9to/4Zl/6m3/AMpv/wBtr3qij2ku4ezj2PBf+GZf+pt/8pv/ANto/wCGZf8Aqbf/ACm//ba96oo9pLuHs49jwX/hmX/qbf8Aym//AG2j/hmX/qbf/Kb/APba96oo9pLuHs49jwX/AIZl/wCpt/8AKb/9to/4Zl/6m3/ym/8A22veqKPaS7h7OPY8F/4Zl/6m3/ym/wD22j/hmX/qbf8Aym//AG2veqKPaS7h7OPY8F/4Zl/6m3/ym/8A22j/AIZl/wCpt/8AKb/9tr3qij2ku4ezj2PBf+GZf+pt/wDKb/8AbaP+GZf+pt/8pv8A9tr3qij2ku4ezj2PBf8AhmX/AKm3/wApv/22j/hmX/qbf/Kb/wDba96oo9pLuHs49jwX/hmX/qbf/Kb/APbaP+GZf+pt/wDKb/8Aba96oo9pLuHs49jwX/hmX/qbf/Kb/wDbaP8AhmX/AKm3/wApv/22veqKPaS7h7OPY8F/4Zl/6m3/AMpv/wBto/4Zl/6m3/ym/wD22veqKPaS7h7OPY8F/wCGZf8Aqbf/ACm//baP+GZf+pt/8pv/ANtr3qij2ku4ezj2PBf+GZf+pt/8pv8A9to/4Zl/6m3/AMpv/wBtr3qij2ku4ezj2PBf+GZf+pt/8pv/ANto/wCGZf8Aqbf/ACm//ba96oo9pLuHs49jwX/hmX/qbf8Aym//AG2j/hmX/qbf/Kb/APba96oo9pLuHs49jwX/AIZl/wCpt/8AKb/9to/4Zl/6m3/ym/8A22veqKPaS7h7OPY8F/4Zl/6m3/ym/wD22j/hmTP/ADNv/lN/+2171RR7SXcPZx7Hgv8AwzH/ANTb/wCU3/7bR/wzH/1Nv/lN/wDtte9UUe0n3D2cTwX/AIZj/wCpt/8AKb/9to/4Zj/6m3/ym/8A22veqKPaS7h7OPY8F/4Zk/6m3/ym/wD22j/hmP8A6m3/AMpv/wBtr3qij2k+4ezj2PBf+GY/+pt/8pv/ANto/wCGY/8Aqbf/ACm//ba96oo9pPuHs49jwX/hmP8A6m3/AMpv/wBto/4Zj/6m3/ym/wD22veqKPaT7h7OPY8F/wCGY/8Aqbf/ACm//baP+GY/+pt/8pv/ANtr3qij2k+4ezj2PBf+GY/+pt/8pv8A9to/4Zkx/wAzb/5Tf/tte9UUe0l3D2cex4L/AMMy/wDU2/8AlN/+2171RRUyk5bjUVHYKKKKkoKKKKACiiigAooooAKKKKACiiigAooooAKKKKACiiigAooooAKKKKACiiigAooooAKKKKACiiigAooooAKKKKACiiigAooooAKKKKACiiigAooooAKKKKACiiigAooooAKKKKACiiigAooooAKKKKACiiigAooooAKKKKACiiigAooooAKKKKACiiigAooooAKKKKACiiigAooooAKKKKACiiigAooooAKKKKACiiigAooooAKKKKACiiigAooooAKKKKACiiigAooooAKKKKAP/9k=)"
      ],
      "metadata": {
        "id": "kLj0Cb4Od6NO"
      }
    },
    {
      "cell_type": "code",
      "source": [
        "# Coba jalankan code di bawah\n",
        "food = [\"spam\", \"egg\", \"bacon\", \"tomato\", \"ham\", \"lobster\"]\n",
        "print(f'element pada indeks ke-0 pada list food adalah: {food[0]}')\n",
        "print(f'element pada indeks ke-1 pada list food adalah: {food[1]}')\n",
        "print(f'element pada indeks ke-2 pada list food adalah: {food[2]}')"
      ],
      "metadata": {
        "colab": {
          "base_uri": "https://localhost:8080/"
        },
        "id": "WiSt_-fXdnp_",
        "outputId": "6123d636-6c5d-48ba-9c30-21bd1e4d4fb6"
      },
      "execution_count": 16,
      "outputs": [
        {
          "output_type": "stream",
          "name": "stdout",
          "text": [
            "element pada indeks ke-0 pada list food adalah : spam\n",
            "element pada indeks ke-1 pada list food adalah : egg\n",
            "element pada indeks ke-2 pada list food adalah : bacon\n"
          ]
        }
      ]
    },
    {
      "cell_type": "code",
      "source": [
        "# Coba ambil element pada indeks ke-3 dan 4 list food\n",
        "\n",
        "food = [\"spam\", \"egg\", \"bacon\", \"tomato\", \"ham\", \"lobster\"]\n",
        "print(f'element pada indeks ke-3 pada list food adalah: {food[3]}')\n",
        "print(f'element pada indeks ke-4 pada list food adalah: {food[4]}')"
      ],
      "metadata": {
        "colab": {
          "base_uri": "https://localhost:8080/"
        },
        "id": "EHdXyCpBejWr",
        "outputId": "bb6021d5-38ea-42e0-b1de-06aca6c5dfc8"
      },
      "execution_count": 17,
      "outputs": [
        {
          "output_type": "stream",
          "name": "stdout",
          "text": [
            "element pada indeks ke-3 pada list food adalah: tomato\n",
            "element pada indeks ke-4 pada list food adalah: ham\n"
          ]
        }
      ]
    },
    {
      "cell_type": "markdown",
      "source": [
        "Bagaimana jika kita ingin **mengambil beberapa element sekaligus** pada sebuah `list`?\n",
        "\n",
        "Misalkan kita akan mengambil data profit dari bulan April - Juni.\n",
        "\n",
        "Caranya mirip seperti pada materi string sebelumnya yaitu dengan **slicing**. Sintaksnya adalah `NAMA_LIST[start:stop]`. Sintaks ini akan mengambil element dari indeks `start` sampai ke indeks `stop-1` dari sebuah `list`."
      ],
      "metadata": {
        "id": "Ad1KrIUae2UZ"
      }
    },
    {
      "cell_type": "code",
      "source": [
        "# Coba jalankan code di bawah ini\n",
        "# Data di bawah adalah profit dari bulan januari - agustus\n",
        "# Kita akan mengambil element pada indeks ke-3 (april) sampai ke-5 (juni) pada list profit\n",
        "\n",
        "profit = [5_000_000, 7_500_000, 3_500_000, 10_000_000,\n",
        "          15_000_000,9_000_000, 11_000_000, 13_000_000]\n",
        "\n",
        "print(f'element pada indeks ke-3 sampai ke-5 pada variabel profit adalah: {profit[3:6]}')"
      ],
      "metadata": {
        "colab": {
          "base_uri": "https://localhost:8080/"
        },
        "id": "VoHl9Sk8fFbM",
        "outputId": "0b6b98d1-8c04-4089-95c3-b7cdd37c5ca3"
      },
      "execution_count": 18,
      "outputs": [
        {
          "output_type": "stream",
          "name": "stdout",
          "text": [
            "element pada indeks ke-3 sampai ke-5 pada variabel profit adalah : [10000000, 15000000, 9000000]\n"
          ]
        }
      ]
    },
    {
      "cell_type": "code",
      "source": [
        "# Coba ambil element pada indeks ke 1 (februari) sampai 4 (mei) pada list angka\n",
        "profit = [5_000_000, 7_500_000, 3_500_000, 10_000_000,\n",
        "          15_000_000,9_000_000, 11_000_000, 13_000_000]\n",
        "\n",
        "print(f'element pada indeks ke-1 sampai ke-3 pada variabel profit adalah: {profit[1:5]}')"
      ],
      "metadata": {
        "colab": {
          "base_uri": "https://localhost:8080/"
        },
        "id": "ggX2rKjJfK3K",
        "outputId": "69650c4a-e3f0-4d32-b057-1c2c0fef8808"
      },
      "execution_count": 20,
      "outputs": [
        {
          "output_type": "stream",
          "name": "stdout",
          "text": [
            "element pada indeks ke-1 sampai ke-3 pada variabel profit adalah: [7500000, 3500000, 10000000, 15000000]\n"
          ]
        }
      ]
    },
    {
      "cell_type": "markdown",
      "source": [
        "Kita juga bisa mengambil data mulai dari indeks yang kita tentukan sampai indeks terakhir list. Caranya menggunakan `[start:]`. `start` disini merupakan indeks awal. Jika kita tidak mendefinisikan stopnya dimana, maka otomatis akan mengambil element sampai indeks terakhir."
      ],
      "metadata": {
        "id": "fMp-vMahfahd"
      }
    },
    {
      "cell_type": "code",
      "source": [
        "# Coba kita jalankan code di bawah ini\n",
        "# Mengambil profit dari bulan maret sampai akhir\n",
        "profit = [5_000_000, 7_500_000, 3_500_000, 10_000_000,\n",
        "          15_000_000,9_000_000, 11_000_000, 13_000_000]\n",
        "\n",
        "print(f'element pada indeks ke-2 sampai terakhir pada variabel profit adalah: {profit[2:]}')"
      ],
      "metadata": {
        "colab": {
          "base_uri": "https://localhost:8080/"
        },
        "id": "ulIzCJ6FffaO",
        "outputId": "9e7e242a-7e55-4f8c-922c-93741d348f1e"
      },
      "execution_count": 21,
      "outputs": [
        {
          "output_type": "stream",
          "name": "stdout",
          "text": [
            "element pada indeks ke-2 sampai terakhir pada variabel profit adalah : [3500000, 10000000, 15000000, 9000000, 11000000, 13000000]\n"
          ]
        }
      ]
    },
    {
      "cell_type": "code",
      "source": [
        "# Coba ambil element indeks ke 3 (april) sampai terakhir pada list profit\n",
        "profit = [5_000_000, 7_500_000, 3_500_000, 10_000_000,\n",
        "          15_000_000,9_000_000, 11_000_000, 13_000_000]\n",
        "\n",
        "print(f'element pada indeks ke-3 sampai terakhir pada variabel profit adalah: {profit[3:]}')"
      ],
      "metadata": {
        "colab": {
          "base_uri": "https://localhost:8080/"
        },
        "id": "MqafNotSfr9L",
        "outputId": "765a8e86-a529-4d1f-bb83-ddb8451dfc4a"
      },
      "execution_count": 22,
      "outputs": [
        {
          "output_type": "stream",
          "name": "stdout",
          "text": [
            "element pada indeks ke-3 sampai terakhir pada variabel profit adalah: [10000000, 15000000, 9000000, 11000000, 13000000]\n"
          ]
        }
      ]
    },
    {
      "cell_type": "markdown",
      "source": [
        "Apakah bisa melakukan kebalikan dari cari di atas yaitu dengan mendefinisikan stopnya dimana? Jawabnya bisa.\n",
        "\n",
        "Caranya dengan menggunakan `[:stop]`. Ini adalah kebalikan dari cara di atas, Jika kita tidak definisikan startnya dimana, maka otomatis start dimulai dari element paling awal dan akan berhenti pada indeks `[stop-1]`, sesuai yang kita definisikan."
      ],
      "metadata": {
        "id": "gyqXeCWDf-h_"
      }
    },
    {
      "cell_type": "code",
      "source": [
        "# Coba kita jalankan code di bawah ini\n",
        "# Kita coba ambil elemen indeks list profit dari bulan januari (indeks 1) - april (indeks 3)\n",
        "\n",
        "profit = [5_000_000, 7_500_000, 3_500_000, 10_000_000,\n",
        "          15_000_000, 9_000_000, 11_000_000, 13_000_000]\n",
        "\n",
        "print(f'element indeks pertama sampai indeks ke-3 pada list profit adalah: {profit[:4]}')"
      ],
      "metadata": {
        "colab": {
          "base_uri": "https://localhost:8080/"
        },
        "id": "q-WeYP9rgC3O",
        "outputId": "b1a77590-91dc-46a0-e37a-c58efd959af6"
      },
      "execution_count": 24,
      "outputs": [
        {
          "output_type": "stream",
          "name": "stdout",
          "text": [
            "element indeks pertama sampai indeks ke-3 pada list profit adalah: [5000000, 7500000, 3500000, 10000000]\n"
          ]
        }
      ]
    },
    {
      "cell_type": "markdown",
      "source": [
        "Kita juga bisa mengambil indeks dengan **angka negatif** pada `list`. Fungsi dari cara ini adalah untuk mengambil data-data pada bagian akhir.\n",
        "\n",
        "Misalkan kita ingin melihat data profit penjualan pada bulan Juli saja."
      ],
      "metadata": {
        "id": "gv3rtUxWgIIR"
      }
    },
    {
      "cell_type": "code",
      "source": [
        "# Coba jalankan code di bawah\n",
        "profit = [5_000_000, 7_500_000, 3_500_000, 10_000_000,\n",
        "          15_000_000, 9_000_000, 11_000_000, 13_000_000]\n",
        "\n",
        "print(f'element pada indeks negatif dua pada list profit adalah: {profit[-2]}')"
      ],
      "metadata": {
        "colab": {
          "base_uri": "https://localhost:8080/"
        },
        "id": "cwkSjiOjgGFx",
        "outputId": "6ba1488e-bd19-41cf-b3bc-288eeff86eda"
      },
      "execution_count": 25,
      "outputs": [
        {
          "output_type": "stream",
          "name": "stdout",
          "text": [
            "element pada indeks negatif dua pada list profit adalah: 11000000\n"
          ]
        }
      ]
    },
    {
      "cell_type": "code",
      "source": [
        "# Coba ambil indeks negatif tiga pada list angka\n",
        "profit = [5_000_000, 7_500_000, 3_500_000, 10_000_000,\n",
        "          15_000_000, 9_000_000, 11_000_000, 13_000_000]\n",
        "\n",
        "print(f'element pada indeks ke negatif tiga pada list profit adalah : {profit[-3]}')"
      ],
      "metadata": {
        "colab": {
          "base_uri": "https://localhost:8080/"
        },
        "id": "QlraAo97gdPO",
        "outputId": "663edea8-fedc-46b8-b74a-d54c0c42bf70"
      },
      "execution_count": 26,
      "outputs": [
        {
          "output_type": "stream",
          "name": "stdout",
          "text": [
            "element pada indeks ke negatif tiga pada list profit adalah : 9000000\n"
          ]
        }
      ]
    },
    {
      "cell_type": "markdown",
      "source": [
        "Kita juga bisa slicing list dengan kombinasi indeks negatif dan positif."
      ],
      "metadata": {
        "id": "Oi3b0rysgm9y"
      }
    },
    {
      "cell_type": "markdown",
      "source": [
        "![sdlfjals.JPG](data:image/jpeg;base64,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)"
      ],
      "metadata": {
        "id": "ZsrCW_SigsZd"
      }
    },
    {
      "cell_type": "code",
      "source": [
        "# Coba jalankan kode di bawah ini\n",
        "profit = [5_000_000, 7_500_000, 3_500_000, 10_000_000,\n",
        "          15_000_000, 9_000_000, 11_000_000, 13_000_000]\n",
        "\n",
        "print(profit[4:-1])"
      ],
      "metadata": {
        "colab": {
          "base_uri": "https://localhost:8080/"
        },
        "id": "EP2ydsR5gt6W",
        "outputId": "bc7186f0-dad6-4a8a-def8-2d0ac2ff61b3"
      },
      "execution_count": 27,
      "outputs": [
        {
          "output_type": "stream",
          "name": "stdout",
          "text": [
            "[15000000, 9000000, 11000000]\n"
          ]
        }
      ]
    },
    {
      "cell_type": "code",
      "source": [
        "# Coba ambil angka 10_000_000 sampai angka 9_000_000 pada list profit\n",
        "# Dengan kombinasi indeks negatif dan positif\n",
        "profit = [5_000_000, 7_500_000, 3_500_000, 10_000_000,\n",
        "          15_000_000, 9_000_000, 11_000_000, 13_000_000]\n",
        "print(profit[3:-2])"
      ],
      "metadata": {
        "colab": {
          "base_uri": "https://localhost:8080/"
        },
        "id": "nkiYkIdhg3Sy",
        "outputId": "3bf9a6c7-f1f2-45da-aebf-942bcadd5d2c"
      },
      "execution_count": 28,
      "outputs": [
        {
          "output_type": "stream",
          "name": "stdout",
          "text": [
            "[10000000, 15000000, 9000000]\n"
          ]
        }
      ]
    },
    {
      "cell_type": "markdown",
      "source": [
        "**LIST ARE MUTABLE**"
      ],
      "metadata": {
        "id": "EhEArbaAhOCJ"
      }
    },
    {
      "cell_type": "markdown",
      "source": [
        "Sebuah `list` memiliki sifat **mutable**.\n",
        "\n",
        "Tipe data yang mutable (dapat diubah) berarti kita dapat mengubah atau memodifikasi nilai dari tipe data tersebut.\n",
        "\n",
        "Untuk mengubah atau memperbarui item tertentu dalam `list`, caranya ketik nama list dan gunakan kurung siku untuk mengakses indeks yang akan di ubah kemudian tetapkan nilai baru. `NAMA_LIST[INDEKS] = NILAI_BARU`."
      ],
      "metadata": {
        "id": "ge8H5UkRhQZZ"
      }
    },
    {
      "cell_type": "code",
      "source": [
        "# Coba jalankan code di bawah\n",
        "list_hewan = ['Kecapung', 'Bunglon', 'Komodo']\n",
        "print(list_hewan)\n",
        "\n",
        "# Kita akan mengubah nilai 'kecapung' menjadi 'kadal'\n",
        "list_hewan[0] = 'Kadal'\n",
        "print(list_hewan)"
      ],
      "metadata": {
        "colab": {
          "base_uri": "https://localhost:8080/"
        },
        "id": "EaW3Qshwhd45",
        "outputId": "bdb4c01d-7b9b-4009-b78e-8f2293121b4d"
      },
      "execution_count": 29,
      "outputs": [
        {
          "output_type": "stream",
          "name": "stdout",
          "text": [
            "['Kecapung', 'Bunglon', 'Komodo']\n",
            "['Kadal', 'Bunglon', 'Komodo']\n"
          ]
        }
      ]
    },
    {
      "cell_type": "code",
      "source": [
        "# Coba ubah bunga matahari menjadi kamboja\n",
        "list_bunga = ['Matahari', 'Anggrek', 'Lavender']\n",
        "\n",
        "list_bunga[0] = \"Kamboja\"\n",
        "print(list_bunga)"
      ],
      "metadata": {
        "colab": {
          "base_uri": "https://localhost:8080/"
        },
        "id": "_1M-AXD5hlfN",
        "outputId": "6dbe6203-4347-40a7-afa4-d16f6ed4ec93"
      },
      "execution_count": 30,
      "outputs": [
        {
          "output_type": "stream",
          "name": "stdout",
          "text": [
            "['Kamboja', 'Anggrek', 'Lavender']\n"
          ]
        }
      ]
    },
    {
      "cell_type": "markdown",
      "source": [
        "Kita juga bisa melakukan operasi matematika pada sebuah `list`."
      ],
      "metadata": {
        "id": "RjZWkjWlhucb"
      }
    },
    {
      "cell_type": "code",
      "source": [
        "# Coba jalankan code di bawah ini\n",
        "list_angka = [4, 5, 6, 7]\n",
        "\n",
        "# Kita akan melakukan operasi tambah pada element indeks ke-1\n",
        "list_angka[1] = list_angka[1] + 4\n",
        "print(list_angka)"
      ],
      "metadata": {
        "colab": {
          "base_uri": "https://localhost:8080/"
        },
        "id": "0uWDNAGEhv1d",
        "outputId": "047cf4ad-4bfb-4f1b-f0a3-ea7b21a8a2a3"
      },
      "execution_count": 31,
      "outputs": [
        {
          "output_type": "stream",
          "name": "stdout",
          "text": [
            "[4, 9, 6, 7]\n"
          ]
        }
      ]
    },
    {
      "cell_type": "code",
      "source": [
        "# Coba kalikan dengan angka 4 untuk element indeks ke-1\n",
        "list_angka = [24, 25, 26, 27]\n",
        "\n",
        "list_angka[1] = list_angka[1] * 4\n",
        "print(list_angka)"
      ],
      "metadata": {
        "colab": {
          "base_uri": "https://localhost:8080/"
        },
        "id": "v2I7CIpph5gr",
        "outputId": "c4b667d2-1123-4877-aa8c-bfceee828dde"
      },
      "execution_count": 32,
      "outputs": [
        {
          "output_type": "stream",
          "name": "stdout",
          "text": [
            "[24, 100, 26, 27]\n"
          ]
        }
      ]
    },
    {
      "cell_type": "markdown",
      "source": [
        "**LIST METHODS**"
      ],
      "metadata": {
        "id": "hH0ZUx6uiFBI"
      }
    },
    {
      "cell_type": "markdown",
      "source": [
        "Ada berbagai macam method pada list yang bisa digunakan. Pada pertemuan ini hanya akan dikenalkan pada method yang sering digunakan saja."
      ],
      "metadata": {
        "id": "CVfGuQ4BiIu1"
      }
    },
    {
      "cell_type": "markdown",
      "source": [
        "misalkan:\n",
        "\n",
        "list_1 = [3, 3, 4, 5]\n",
        "\n",
        "list_2 = ['string_1', 'string_3']"
      ],
      "metadata": {
        "id": "srM0XLbKiJ-B"
      }
    },
    {
      "cell_type": "markdown",
      "source": [
        "![dslafjlsd.JPG](data:image/jpeg;base64,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)"
      ],
      "metadata": {
        "id": "pfzoOUwviThV"
      }
    },
    {
      "cell_type": "markdown",
      "source": [
        "**len()**"
      ],
      "metadata": {
        "id": "Q_X3Z8teidbZ"
      }
    },
    {
      "cell_type": "markdown",
      "source": [
        "Metode `len()` akan mengembalikan panjang dari suatu list."
      ],
      "metadata": {
        "id": "paciZ44DigP9"
      }
    },
    {
      "cell_type": "code",
      "source": [
        "# Coba jalankan code di bawah ini\n",
        "\n",
        "siswa = ['Andi', 'Gilang', 'Bagus', 'Putra', 'Dwi']\n",
        "print(f'Panjang list siswa adalah: {len(siswa)}')"
      ],
      "metadata": {
        "colab": {
          "base_uri": "https://localhost:8080/"
        },
        "id": "AEYlqn6qil4l",
        "outputId": "5d3371e8-7500-474d-86fd-4c6b0a54314d"
      },
      "execution_count": 34,
      "outputs": [
        {
          "output_type": "stream",
          "name": "stdout",
          "text": [
            "Panjang list siswa adalah: 5\n"
          ]
        }
      ]
    },
    {
      "cell_type": "code",
      "source": [
        "# Coba cari tau berapa panjang list karyawan di bawah\n",
        "\n",
        "karyawan = ['Joko', 'Alex', 'Chandra', 'Hartono', 'Samsul']\n",
        "print(f\"Panjang list karyawan adalah: {len(karyawan)}\")"
      ],
      "metadata": {
        "colab": {
          "base_uri": "https://localhost:8080/"
        },
        "id": "yuRUFX2DisSS",
        "outputId": "96b8321a-0393-47fc-acd1-95c20dce6112"
      },
      "execution_count": 36,
      "outputs": [
        {
          "output_type": "stream",
          "name": "stdout",
          "text": [
            "Panjang list karyawan adalah: 5\n"
          ]
        }
      ]
    },
    {
      "cell_type": "markdown",
      "source": [
        "**append()**"
      ],
      "metadata": {
        "id": "d44KjuEijJyN"
      }
    },
    {
      "cell_type": "markdown",
      "source": [
        "Jika ingin menambahkan element baru ke dalam suatu list bisa menggunakan method `append()`."
      ],
      "metadata": {
        "id": "wj2spZEFjLEs"
      }
    },
    {
      "cell_type": "code",
      "source": [
        "# Coba jalankan code di bawah ini\n",
        "siswa = ['Andi', 'Gilang', 'Bagus', 'Putra', 'Dwi']\n",
        "\n",
        "# Ada siswa baru bernama Galang\n",
        "# Coba masukkan nama Galang ke dalam list dengan method append()\n",
        "siswa.append('Galang')\n",
        "print(siswa)"
      ],
      "metadata": {
        "colab": {
          "base_uri": "https://localhost:8080/"
        },
        "id": "n53zUO-CjP3I",
        "outputId": "0859cf79-5eb1-4a11-e74b-ad9871cf0de9"
      },
      "execution_count": 37,
      "outputs": [
        {
          "output_type": "stream",
          "name": "stdout",
          "text": [
            "['Andi', 'Gilang', 'Bagus', 'Putra', 'Dwi', 'Galang']\n"
          ]
        }
      ]
    },
    {
      "cell_type": "code",
      "source": [
        "# Coba masukkan nama Bagas ke dalam list karyawan dengan method append()\n",
        "karyawan = ['Joko', 'Alex', 'Chandra', 'Hartono', 'Samsul']\n",
        "\n",
        "karyawan.append(\"Bagas\")\n",
        "print(karyawan)"
      ],
      "metadata": {
        "colab": {
          "base_uri": "https://localhost:8080/"
        },
        "id": "Iyxru3j_jWDk",
        "outputId": "356c65c6-4f36-4b9e-fb99-189fe5276f40"
      },
      "execution_count": 38,
      "outputs": [
        {
          "output_type": "stream",
          "name": "stdout",
          "text": [
            "['Joko', 'Alex', 'Chandra', 'Hartono', 'Samsul', 'Bagas']\n"
          ]
        }
      ]
    },
    {
      "cell_type": "markdown",
      "source": [
        "**insert**"
      ],
      "metadata": {
        "id": "QDi7FCEajeAY"
      }
    },
    {
      "cell_type": "markdown",
      "source": [
        "Jika kita ingin menambahkan element baru namun kita ingin memasukkannya sesuai index yang kita inginkan, bisa menggunakan method `insert()`."
      ],
      "metadata": {
        "id": "GxSKsAlgjdvM"
      }
    },
    {
      "cell_type": "code",
      "source": [
        "# Coba jalankan code di bawah\n",
        "warna = ['Putih', 'Hitam', 'Merah']\n",
        "\n",
        "# Kita akan memasukkan warna Kuning ke indeks kedua\n",
        "warna.insert(0, 'Kuning')\n",
        "print(warna)"
      ],
      "metadata": {
        "colab": {
          "base_uri": "https://localhost:8080/"
        },
        "id": "YuG1n3PjjlcR",
        "outputId": "f57910ef-96dc-456c-fc64-6d1db08345a4"
      },
      "execution_count": 40,
      "outputs": [
        {
          "output_type": "stream",
          "name": "stdout",
          "text": [
            "['Kuning', 'Putih', 'Hitam', 'Merah']\n"
          ]
        }
      ]
    },
    {
      "cell_type": "code",
      "source": [
        "# Coba masukkan warna hijau pada indeks ke 1 list warna\n",
        "warna = ['Putih', 'Hitam', 'Merah']\n",
        "\n",
        "warna.insert(1, \"Hijau\")\n",
        "print(warna)"
      ],
      "metadata": {
        "colab": {
          "base_uri": "https://localhost:8080/"
        },
        "id": "Kk-yv3yZj7uC",
        "outputId": "9ca7f150-68d5-4cfb-e9ac-fca3483f3afd"
      },
      "execution_count": 41,
      "outputs": [
        {
          "output_type": "stream",
          "name": "stdout",
          "text": [
            "['Putih', 'Hijau', 'Hitam', 'Merah']\n"
          ]
        }
      ]
    },
    {
      "cell_type": "markdown",
      "source": [
        "**in**"
      ],
      "metadata": {
        "id": "KaVNeDeikEyQ"
      }
    },
    {
      "cell_type": "markdown",
      "source": [
        "Untuk melihat apakah suatu element ada di dalam list atau tidak, kita bisa menggunakan `in`."
      ],
      "metadata": {
        "id": "jyWwQ591kF9A"
      }
    },
    {
      "cell_type": "code",
      "source": [
        "# Coba jalankan code di bawah\n",
        "angka = [4, 5, 6]\n",
        "\n",
        "# Kita akan mengecek apakah angka 4 ada di variabel angka\n",
        "print(4 in angka)"
      ],
      "metadata": {
        "colab": {
          "base_uri": "https://localhost:8080/"
        },
        "id": "b-Hv91fukKAw",
        "outputId": "d5f2f8bf-1539-4360-d0fe-6650ce6f1d83"
      },
      "execution_count": 42,
      "outputs": [
        {
          "output_type": "stream",
          "name": "stdout",
          "text": [
            "True\n"
          ]
        }
      ]
    },
    {
      "cell_type": "markdown",
      "source": [
        "Jika suatu element atau nilai tidak ada pada suatu list, maka outputnya False."
      ],
      "metadata": {
        "id": "To4dLbAykPRZ"
      }
    },
    {
      "cell_type": "code",
      "source": [
        "# Coba jalankan code di bawah ini\n",
        "angka = [4, 5, 6]\n",
        "\n",
        "# Kita akan mengecek apakah 7 ada pada list angka\n",
        "print(7 in angka)"
      ],
      "metadata": {
        "colab": {
          "base_uri": "https://localhost:8080/"
        },
        "id": "ITNRyMdSkNQj",
        "outputId": "f805fb05-185b-4ecb-fbd6-674a4bfa7aa3"
      },
      "execution_count": 43,
      "outputs": [
        {
          "output_type": "stream",
          "name": "stdout",
          "text": [
            "False\n"
          ]
        }
      ]
    },
    {
      "cell_type": "code",
      "source": [
        "# Coba cek apakah warna biru ada pada list warna dibawah\n",
        "warna = ['Putih', 'Hitam', 'Merah']\n",
        "\n",
        "print(\"Biru\" in warna)"
      ],
      "metadata": {
        "colab": {
          "base_uri": "https://localhost:8080/"
        },
        "id": "RxCpCDpqkWwL",
        "outputId": "1a23767b-2162-44d2-8cb8-27b1fa997034"
      },
      "execution_count": 44,
      "outputs": [
        {
          "output_type": "stream",
          "name": "stdout",
          "text": [
            "False\n"
          ]
        }
      ]
    },
    {
      "cell_type": "markdown",
      "source": [
        "**index()**"
      ],
      "metadata": {
        "id": "aehxmT3vkgd8"
      }
    },
    {
      "cell_type": "markdown",
      "source": [
        "Method `index()` berfungsi untuk mengetahui element yang kita sebut ada di indeks ke berapa."
      ],
      "metadata": {
        "id": "MyKqRl1-ki54"
      }
    },
    {
      "cell_type": "code",
      "source": [
        "# Coba jalankan code di bawah ini\n",
        "# Kita akan cek Alex ada di indeks ke berapa\n",
        "\n",
        "karyawan = [\"Budi\", \"Joko\", \"Badrun\", \"Sam Pitak\", \"Truno Lele\"]\n",
        "print(f\"Sam Pitak ada di indeks ke-{karyawan.index('Sam Pitak')}\")"
      ],
      "metadata": {
        "colab": {
          "base_uri": "https://localhost:8080/"
        },
        "id": "PQ-chkQwkmiY",
        "outputId": "d0a16016-08d4-447b-a330-6878cc205bac"
      },
      "execution_count": 55,
      "outputs": [
        {
          "output_type": "stream",
          "name": "stdout",
          "text": [
            "Sam Pitak ada di indeks ke-3\n"
          ]
        }
      ]
    },
    {
      "cell_type": "code",
      "source": [
        "# Coba cek Badrun dan Truno Lele ada di indeks ke berapa\n",
        "\n",
        "karyawan = [\"Budi\", \"Joko\", \"Badrun\", \"Sam Pitak\", \"Truno Lele\"]\n",
        "print(f\"Badrun ada di indeks ke-{karyawan.index('Badrun')} dan Truno Lele ada di indeks ke-{karyawan.index('Truno Lele')}\")"
      ],
      "metadata": {
        "colab": {
          "base_uri": "https://localhost:8080/"
        },
        "id": "8bwFN8JBnOMk",
        "outputId": "03d7f86a-8ed9-45c4-b97f-434f199c1c3c"
      },
      "execution_count": 56,
      "outputs": [
        {
          "output_type": "stream",
          "name": "stdout",
          "text": [
            "Badrun ada di indeks ke-2 dan Truno Lele ada di indeks ke-4\n"
          ]
        }
      ]
    },
    {
      "cell_type": "markdown",
      "source": [
        "**count()**"
      ],
      "metadata": {
        "id": "CU5fYWMqnsC_"
      }
    },
    {
      "cell_type": "markdown",
      "source": [
        "Jika ingin mengetahui jumlah suatu element pada list, kita bisa menggunakan method `count()`."
      ],
      "metadata": {
        "id": "j5XgR9BUntMG"
      }
    },
    {
      "cell_type": "code",
      "source": [
        "# Coba jalankan code di bawah\n",
        "angka = [2, 3, 5, 6, 1, 2, 4, 1, 2, 1, 3, 4, 6, 12, 7, 14, 11]\n",
        "\n",
        "# Kita akan menghitung banyak kemunculan angka 4 pada list angka\n",
        "print(f'Kemunculan angka 4 pada list angka sebanyak {angka.count(4)} kali')"
      ],
      "metadata": {
        "colab": {
          "base_uri": "https://localhost:8080/"
        },
        "id": "zof8f6alny6_",
        "outputId": "1ba4ef9d-c8ae-4d46-9702-7ad87cad09ee"
      },
      "execution_count": 57,
      "outputs": [
        {
          "output_type": "stream",
          "name": "stdout",
          "text": [
            "Kemunculan angka 4 pada list angka sebanyak 2 kali\n"
          ]
        }
      ]
    },
    {
      "cell_type": "code",
      "source": [
        "# Coba hitung kemunculan angka 2 pada list angka\n",
        "\n",
        "print(f\"Kemunculan angka 2 pada list angka sebanyak {angka.count(2)} kali\")"
      ],
      "metadata": {
        "colab": {
          "base_uri": "https://localhost:8080/"
        },
        "id": "adnjp4rOn7xd",
        "outputId": "28b69de2-816e-4127-aed7-383038fd400c"
      },
      "execution_count": 58,
      "outputs": [
        {
          "output_type": "stream",
          "name": "stdout",
          "text": [
            "Kemunculan angka 2 pada list angka sebanyak 3 kali\n"
          ]
        }
      ]
    },
    {
      "cell_type": "markdown",
      "source": [
        "**remove()**"
      ],
      "metadata": {
        "id": "m4Hn8_LtoJNp"
      }
    },
    {
      "cell_type": "markdown",
      "source": [
        "Method `remove()` akan mengeluarkan atau menghapus suatu element di dalam list."
      ],
      "metadata": {
        "id": "22khWdOQoMPE"
      }
    },
    {
      "cell_type": "code",
      "source": [
        "# Coba jalanakan code dibawah ini\n",
        "karyawan = ['Joko', 'Roy', 'Eripras', 'Sam Pitak', 'Truno Lele', \"Budi Speed\"]\n",
        "\n",
        "# kita akan mencoba menghapus Joko dari list karyawan\n",
        "karyawan.remove('Joko')\n",
        "print(karyawan)"
      ],
      "metadata": {
        "colab": {
          "base_uri": "https://localhost:8080/"
        },
        "id": "93QwhMmeoKok",
        "outputId": "cb814d89-1dc9-45dd-f970-cb7741ec0488"
      },
      "execution_count": 59,
      "outputs": [
        {
          "output_type": "stream",
          "name": "stdout",
          "text": [
            "['Roy', 'Eripras', 'Sam Pitak', 'Truno Lele', 'Budi Speed']\n"
          ]
        }
      ]
    },
    {
      "cell_type": "markdown",
      "source": [
        "Perlu diingat bahwa method remove hanya menghapus **element pertama** yang ditemukan, jika ada dua element yang sama maka yang terakhir tidak ikut terhapus."
      ],
      "metadata": {
        "id": "8BCkaLCHody6"
      }
    },
    {
      "cell_type": "code",
      "source": [
        "# Coba jalankan kode di bawah ini\n",
        "karyawan = [\"Budi Speed\", \"Sam Pitak\", \"Truno Lele\", \"Truno Lele\"]\n",
        "\n",
        "# Kita akan menghapus Truno Lele dari list karyawan\n",
        "karyawan.remove(\"Truno Lele\")\n",
        "print(karyawan)"
      ],
      "metadata": {
        "colab": {
          "base_uri": "https://localhost:8080/"
        },
        "id": "kCkVpAhKohsP",
        "outputId": "c53028a6-b996-4fdb-cbf4-818286fa9ea8"
      },
      "execution_count": 60,
      "outputs": [
        {
          "output_type": "stream",
          "name": "stdout",
          "text": [
            "['Budi Speed', 'Sam Pitak', 'Truno Lele']\n"
          ]
        }
      ]
    },
    {
      "cell_type": "code",
      "source": [
        "# Coba hilangkan warna kuning dengan method remove\n",
        "\n",
        "warna = [\"Hitam\", \"Putih\", \"Kuning\", \"Biru\", \"Merah\"]\n",
        "warna.remove(\"Kuning\")\n",
        "print(warna)"
      ],
      "metadata": {
        "colab": {
          "base_uri": "https://localhost:8080/"
        },
        "id": "NZRwcfjmpEN-",
        "outputId": "55a1d663-0492-46a3-d2fb-ae0972ea6d7e"
      },
      "execution_count": 61,
      "outputs": [
        {
          "output_type": "stream",
          "name": "stdout",
          "text": [
            "['Hitam', 'Putih', 'Biru', 'Merah']\n"
          ]
        }
      ]
    },
    {
      "cell_type": "markdown",
      "source": [
        "**pop()**"
      ],
      "metadata": {
        "id": "SazeXDycpWxv"
      }
    },
    {
      "cell_type": "markdown",
      "source": [
        "Kita bisa menggunakan `NAMA_LIST.pop()` untuk menghapus item terakhir."
      ],
      "metadata": {
        "id": "iDrF1vmYpYay"
      }
    },
    {
      "cell_type": "code",
      "source": [
        "# Coba jalankan kode di bawah ini\n",
        "\n",
        "pemain = [\"Bruno\", \"Amad\", \"Mainoo\", \"Hojlund\", \"Onana\"]\n",
        "pemain.pop()\n",
        "print(pemain)"
      ],
      "metadata": {
        "colab": {
          "base_uri": "https://localhost:8080/"
        },
        "id": "W-x2dzZ2pbzu",
        "outputId": "844de815-89a4-4eb0-c05e-3db3a5452cd0"
      },
      "execution_count": 62,
      "outputs": [
        {
          "output_type": "stream",
          "name": "stdout",
          "text": [
            "['Bruno', 'Amad', 'Mainoo', 'Hojlund']\n"
          ]
        }
      ]
    },
    {
      "cell_type": "markdown",
      "source": [
        "Dan untuk menghapus item pada indeks yang diinginkan gunakan `NAMA_LIST.pop(index)`."
      ],
      "metadata": {
        "id": "4rU8X9RlpvsN"
      }
    },
    {
      "cell_type": "code",
      "source": [
        "# Kita akan mencoba menghapus indeks ke-2 pada list pemain\n",
        "# Gunakan pop(index) untuk menghapus element pada indeks tertentu\n",
        "\n",
        "pemain = [\"Bruno\", \"Amad\", \"Mainoo\", \"Hojlund\", \"Onana\"]\n",
        "pemain.pop(3)\n",
        "print(pemain)"
      ],
      "metadata": {
        "colab": {
          "base_uri": "https://localhost:8080/"
        },
        "id": "P4GhzEqupyJ1",
        "outputId": "a46f52c5-c1d4-47f6-ab7c-5bbb5286797b"
      },
      "execution_count": 63,
      "outputs": [
        {
          "output_type": "stream",
          "name": "stdout",
          "text": [
            "['Bruno', 'Amad', 'Mainoo', 'Onana']\n"
          ]
        }
      ]
    },
    {
      "cell_type": "code",
      "source": [
        "# Coba hilangkan Bruno dan Mainoo pada list pemain\n",
        "\n",
        "pemain = [\"Bruno\", \"Amad\", \"Mainoo\", \"Hojlund\", \"Onana\"]\n",
        "pemain.pop(0)\n",
        "pemain.pop(2)\n",
        "print(pemain)"
      ],
      "metadata": {
        "colab": {
          "base_uri": "https://localhost:8080/"
        },
        "id": "ukK-6p3jqDaC",
        "outputId": "84d354f0-a71a-442c-a89a-da29f5491c02"
      },
      "execution_count": 65,
      "outputs": [
        {
          "output_type": "stream",
          "name": "stdout",
          "text": [
            "['Amad', 'Mainoo', 'Onana']\n"
          ]
        }
      ]
    },
    {
      "cell_type": "markdown",
      "source": [
        "**MINI EXERCISE**"
      ],
      "metadata": {
        "id": "P2ePVTXcqWa1"
      }
    },
    {
      "cell_type": "markdown",
      "source": [
        "Perusahaan A akan membuat daftar karyawan sehingga mudah untuk melihat data karyawannya. Nama-nama karyawan Perusahaan A sebagai barikut:\n",
        "\n",
        "`Roy, Eripras, Gus Murdani, Sam Pitak, Truno Lele, Budi Speed`.\n",
        "\n",
        "Buatlah sebuah list untuk menampung karyawan perusahaan A."
      ],
      "metadata": {
        "id": "-vqzH-e5qZCO"
      }
    },
    {
      "cell_type": "code",
      "source": [
        "# Tuliskan jawaban anda di bawah ini\n",
        "\n",
        "karyawan = [\"Roy\", \"Eripras\", \"Gus Murdani\", \"Sam Pitak\", \"Truno Lele\", \"Budi Speed\"]\n",
        "print(karyawan)"
      ],
      "metadata": {
        "colab": {
          "base_uri": "https://localhost:8080/"
        },
        "id": "U1U60oWOqi76",
        "outputId": "caed0ed2-e75b-41ea-cef8-71796688bbc4"
      },
      "execution_count": 66,
      "outputs": [
        {
          "output_type": "stream",
          "name": "stdout",
          "text": [
            "['Roy', 'Eripras', 'Gus Murdani', 'Sam Pitak', 'Truno Lele', 'Budi Speed']\n"
          ]
        }
      ]
    },
    {
      "cell_type": "markdown",
      "source": [
        "Pada akhir bulan, Eripras dan Budi Speed mengundurkan diri karena lingkungan kerja yang tidak cocok. Coba hapuslah Eripras dan Budi Speed dari daftar karyawan Perusahaan A."
      ],
      "metadata": {
        "id": "M3OdSCpKrHlo"
      }
    },
    {
      "cell_type": "code",
      "source": [
        "# Tuliskan jawaban anda di bawah ini\n",
        "\n",
        "karyawan = [\"Roy\", \"Eripras\", \"Gus Murdani\", \"Sam Pitak\", \"Truno Lele\", \"Budi Speed\"]\n",
        "karyawan.remove(\"Eripras\")\n",
        "karyawan.remove(\"Budi Speed\")\n",
        "print(karyawan)"
      ],
      "metadata": {
        "colab": {
          "base_uri": "https://localhost:8080/"
        },
        "id": "M3AABy-irO6t",
        "outputId": "a13491ac-55ed-4fc7-ce39-e60e8cb138e4"
      },
      "execution_count": 68,
      "outputs": [
        {
          "output_type": "stream",
          "name": "stdout",
          "text": [
            "['Roy', 'Gus Murdani', 'Sam Pitak', 'Truno Lele']\n"
          ]
        }
      ]
    },
    {
      "cell_type": "markdown",
      "source": [
        "Kemudian pada bulan berikutnya masuk dua karyawan yang bernama The Jokels dan Javierstoy. Masukkan The Jokels dan Javierstoy ke dalam daftar karyawan perusahaan A."
      ],
      "metadata": {
        "id": "0_5cgTx7rnvK"
      }
    },
    {
      "cell_type": "code",
      "source": [
        "# Tuliskan jawaban anda di bawah ini\n",
        "\n",
        "karyawan = [\"Roy\", \"Gus Murdani\", \"Sam Pitak\", \"Truno Lele\"]\n",
        "karyawan.append(\"The Jokels\")\n",
        "karyawan.append(\"Javierstoy\")\n",
        "print(karyawan)"
      ],
      "metadata": {
        "colab": {
          "base_uri": "https://localhost:8080/"
        },
        "id": "FgLDxwzfrz0M",
        "outputId": "749c2178-3d57-4229-c4bf-807a1632caf3"
      },
      "execution_count": 69,
      "outputs": [
        {
          "output_type": "stream",
          "name": "stdout",
          "text": [
            "['Roy', 'Gus Murdani', 'Sam Pitak', 'Truno Lele', 'The Jokels', 'Javierstoy']\n"
          ]
        }
      ]
    }
  ]
}