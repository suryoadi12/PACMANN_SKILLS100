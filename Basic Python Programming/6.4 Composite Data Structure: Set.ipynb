{
  "nbformat": 4,
  "nbformat_minor": 0,
  "metadata": {
    "colab": {
      "provenance": [],
      "authorship_tag": "ABX9TyPM0Wb3SEYIeZPmCoLXwda0",
      "include_colab_link": true
    },
    "kernelspec": {
      "name": "python3",
      "display_name": "Python 3"
    },
    "language_info": {
      "name": "python"
    }
  },
  "cells": [
    {
      "cell_type": "markdown",
      "metadata": {
        "id": "view-in-github",
        "colab_type": "text"
      },
      "source": [
        "<a href=\"https://colab.research.google.com/github/suryoadi12/PACMANN_SKILLS100/blob/main/Basic%20Python%20Programming/6.4%20Composite%20Data%20Structure%3A%20Set.ipynb\" target=\"_parent\"><img src=\"https://colab.research.google.com/assets/colab-badge.svg\" alt=\"Open In Colab\"/></a>"
      ]
    },
    {
      "cell_type": "markdown",
      "source": [
        "# **Pertemuan #5 - Composite Data Structure**"
      ],
      "metadata": {
        "id": "EEvTvnO5L5dS"
      }
    },
    {
      "cell_type": "markdown",
      "source": [
        "**WHAT IS SET?**"
      ],
      "metadata": {
        "id": "t64CrbjDL_7o"
      }
    },
    {
      "cell_type": "markdown",
      "source": [
        "**Set** adalah sebuah struktur data yang memungkinkan kita untuk menyimpan sebuah data dengan tidak berurutan **(unordered)**. Setiap element di dalam set adalah **unique** (tidak ada duplikat).\n",
        "\n",
        "**Set** ini bisa berisi tipe data seperti `string`, `integer`, `float`, bahkan `tuple`. Namun di dalam set tidak diperbolehkan untuk menyimpan tipe data seperti `list`, `set`, atau `dictionary` sebagai sebuah elements\n",
        "\n",
        "Sebuah `set` dalam python di representasikan dengan **tanda kurung kurawal** `{}` dan dipisahkan oleh tanda koma `,`."
      ],
      "metadata": {
        "id": "v0BdknuCMEdt"
      }
    },
    {
      "cell_type": "markdown",
      "source": [
        "**HOW TO MAKE SET**"
      ],
      "metadata": {
        "id": "KR6ApR65MZ1y"
      }
    },
    {
      "cell_type": "markdown",
      "source": [
        "Mari kita coba membuat sebuah set"
      ],
      "metadata": {
        "id": "-Zn5XEZiMcLq"
      }
    },
    {
      "cell_type": "code",
      "execution_count": 1,
      "metadata": {
        "colab": {
          "base_uri": "https://localhost:8080/"
        },
        "id": "isFTeesBL0s_",
        "outputId": "6e0f689c-f561-4e2d-e6e2-fb4c471bd93e"
      },
      "outputs": [
        {
          "output_type": "stream",
          "name": "stdout",
          "text": [
            "{'Gitar', 'Drum', 'Seruling'}\n"
          ]
        }
      ],
      "source": [
        "# Coba jalankan code di bawah ini\n",
        "\n",
        "print({\"Gitar\", \"Seruling\", \"Drum\"})"
      ]
    },
    {
      "cell_type": "markdown",
      "source": [
        "`set` juga bisa dideklarasikan sebagai sebuah variabel"
      ],
      "metadata": {
        "id": "sG_nv9A-Mp3W"
      }
    },
    {
      "cell_type": "code",
      "source": [
        "# Lengkapi code di bawah ini sehingga bisa diprint\n",
        "alat_musik = ({\"Gitar\", \"Seruling\", \"Drum\"})\n",
        "\n",
        "# Coba print variabel alat_musik\n",
        "print(alat_musik)"
      ],
      "metadata": {
        "colab": {
          "base_uri": "https://localhost:8080/"
        },
        "id": "EZloGLerMtgq",
        "outputId": "e7c3ee5b-3723-4f8d-eb43-8f4a53fce6f8"
      },
      "execution_count": 2,
      "outputs": [
        {
          "output_type": "stream",
          "name": "stdout",
          "text": [
            "{'Gitar', 'Drum', 'Seruling'}\n"
          ]
        }
      ]
    },
    {
      "cell_type": "markdown",
      "source": [
        "Elemen pada sebuah set **tidak bisa memiliki duplikat**."
      ],
      "metadata": {
        "id": "Cns24DZpNBPy"
      }
    },
    {
      "cell_type": "code",
      "source": [
        "# Coba jalankan code di bawah ini\n",
        "\n",
        "num_set = ({1, 2, 3, 4, 5, 6, 1, 2, 3, 4})\n",
        "buah_set = ({\"Pepaya\", \"Nanas\", \"Semangka\", \"Apel\", \"Mangga\", \"Nanas\", \"Semangka\", \"Apel\", \"Rambutan\"})\n",
        "print(num_set)\n",
        "print(buah_set)"
      ],
      "metadata": {
        "colab": {
          "base_uri": "https://localhost:8080/"
        },
        "id": "nMygT_NgNDEL",
        "outputId": "2b7f6554-5314-4010-a64b-d613e20b7d44"
      },
      "execution_count": 3,
      "outputs": [
        {
          "output_type": "stream",
          "name": "stdout",
          "text": [
            "{1, 2, 3, 4, 5, 6}\n",
            "{'Pepaya', 'Apel', 'Nanas', 'Mangga', 'Rambutan', 'Semangka'}\n"
          ]
        }
      ]
    },
    {
      "cell_type": "markdown",
      "source": [
        "Untuk memastikan bahwa variabel tersebut adalah set maka bisa dicek dengan `type()`."
      ],
      "metadata": {
        "id": "AZZnHM_BNmGq"
      }
    },
    {
      "cell_type": "code",
      "source": [
        "# Lengkapi code di bawah ini sehingga bisa diprint\n",
        "alat_musik = ({\"Gitar\", \"Seruling\", \"Drum\"})\n",
        "\n",
        "# Cek tipe data pada variabel alat_musik\n",
        "print(f\"{type(alat_musik)}\")"
      ],
      "metadata": {
        "colab": {
          "base_uri": "https://localhost:8080/"
        },
        "id": "hHMW-76jNnor",
        "outputId": "2095663c-e23e-412e-87c3-d450f52f2f8f"
      },
      "execution_count": 4,
      "outputs": [
        {
          "output_type": "stream",
          "name": "stdout",
          "text": [
            "<class 'set'>\n"
          ]
        }
      ]
    },
    {
      "cell_type": "code",
      "source": [
        "# Coba buatlah sebuah set yang menampung lima nama hewan\n",
        "hewan = ({\"Kucing\", \"Beruang\", \"Anjing\", \"Macan\", \"Serigala\"})\n",
        "\n",
        "# Kemudian print set tersebut\n",
        "print(hewan)"
      ],
      "metadata": {
        "colab": {
          "base_uri": "https://localhost:8080/"
        },
        "id": "rpb65GNiN8Jb",
        "outputId": "8349ba35-3b2f-4294-ad48-b92ab6bc0ab8"
      },
      "execution_count": 5,
      "outputs": [
        {
          "output_type": "stream",
          "name": "stdout",
          "text": [
            "{'Anjing', 'Beruang', 'Macan', 'Serigala', 'Kucing'}\n"
          ]
        }
      ]
    },
    {
      "cell_type": "markdown",
      "source": [
        "Sebuah `set` yang tidak berisi elemen apapun disebut **empty set**. Untuk membuatnya bisa menggunakan sintaks `set()`."
      ],
      "metadata": {
        "id": "l8ESwLbnOOGm"
      }
    },
    {
      "cell_type": "code",
      "source": [
        "# Coba jalankan code di bawah ini\n",
        "\n",
        "empty_set_1 = set()\n",
        "print(empty_set_1)\n",
        "print(type(empty_set_1))"
      ],
      "metadata": {
        "colab": {
          "base_uri": "https://localhost:8080/"
        },
        "id": "7gTGCHhSORPf",
        "outputId": "88838813-155c-4842-d32a-78a0e8934b19"
      },
      "execution_count": 7,
      "outputs": [
        {
          "output_type": "stream",
          "name": "stdout",
          "text": [
            "set()\n",
            "<class 'set'>\n"
          ]
        }
      ]
    },
    {
      "cell_type": "markdown",
      "source": [
        "Tidak seperti list, tuple ataupun dictionary yang bisa langsung mendefinisikan empty set dengan notasi simbol, jika kita mendefinisikan empty set dengan symbol `{}` maka akan menjadi dictionary, bukan set."
      ],
      "metadata": {
        "id": "C8jHA14ROdr2"
      }
    },
    {
      "cell_type": "code",
      "source": [
        "# Coba jalankan code di bawah ini\n",
        "\n",
        "wrong_empty_set = {}\n",
        "print(type(wrong_empty_set))"
      ],
      "metadata": {
        "colab": {
          "base_uri": "https://localhost:8080/"
        },
        "id": "m-NgUjQZOje9",
        "outputId": "0bdb13e4-2a8c-4d02-ff9b-cc01a6fd3b15"
      },
      "execution_count": 8,
      "outputs": [
        {
          "output_type": "stream",
          "name": "stdout",
          "text": [
            "<class 'dict'>\n"
          ]
        }
      ]
    },
    {
      "cell_type": "markdown",
      "source": [
        "**Sebuah set tidak memiliki urutan**. Maksudnya jika kita print set tersebut maka element tidak akan ditampilkan sesuai urutan pada saat kita membuat set tersebut."
      ],
      "metadata": {
        "id": "0-oUzsT6Os0N"
      }
    },
    {
      "cell_type": "code",
      "source": [
        "# Coba jalankan code di bawah ini\n",
        "\n",
        "aa = {1, \"Madu\", \"b\", 75, \"z\", 29, \"!!\"}\n",
        "print(aa)"
      ],
      "metadata": {
        "colab": {
          "base_uri": "https://localhost:8080/"
        },
        "id": "eoAt85mtOuu1",
        "outputId": "3ec681ff-46dc-49ec-fcd4-7bfb3c452cef"
      },
      "execution_count": 9,
      "outputs": [
        {
          "output_type": "stream",
          "name": "stdout",
          "text": [
            "{1, '!!', 'z', 'b', 'Madu', 75, 29}\n"
          ]
        }
      ]
    },
    {
      "cell_type": "markdown",
      "source": [
        "ni juga berarti kita tidak bisa mengakses posisi element tersebut dengan notasi `[]`."
      ],
      "metadata": {
        "id": "XlP9wsCJPA6S"
      }
    },
    {
      "cell_type": "code",
      "source": [
        "# Coba jalankan code di bawah\n",
        "buah_set = {'Semangka', 'Alpukat', 'Apel', 'Semangka', 'Apel'}\n",
        "\n",
        "print(buah_set[1])"
      ],
      "metadata": {
        "colab": {
          "base_uri": "https://localhost:8080/",
          "height": 182
        },
        "id": "-bE8NcokPE6d",
        "outputId": "177d2c4f-68ed-4be1-aaa9-286f9546725b"
      },
      "execution_count": 10,
      "outputs": [
        {
          "output_type": "error",
          "ename": "TypeError",
          "evalue": "'set' object is not subscriptable",
          "traceback": [
            "\u001b[0;31m---------------------------------------------------------------------------\u001b[0m",
            "\u001b[0;31mTypeError\u001b[0m                                 Traceback (most recent call last)",
            "\u001b[0;32m<ipython-input-10-448ce681bdfe>\u001b[0m in \u001b[0;36m<cell line: 0>\u001b[0;34m()\u001b[0m\n\u001b[1;32m      2\u001b[0m \u001b[0mbuah_set\u001b[0m \u001b[0;34m=\u001b[0m \u001b[0;34m{\u001b[0m\u001b[0;34m'Semangka'\u001b[0m\u001b[0;34m,\u001b[0m \u001b[0;34m'Alpukat'\u001b[0m\u001b[0;34m,\u001b[0m \u001b[0;34m'Apel'\u001b[0m\u001b[0;34m,\u001b[0m \u001b[0;34m'Semangka'\u001b[0m\u001b[0;34m,\u001b[0m \u001b[0;34m'Apel'\u001b[0m\u001b[0;34m}\u001b[0m\u001b[0;34m\u001b[0m\u001b[0;34m\u001b[0m\u001b[0m\n\u001b[1;32m      3\u001b[0m \u001b[0;34m\u001b[0m\u001b[0m\n\u001b[0;32m----> 4\u001b[0;31m \u001b[0mprint\u001b[0m\u001b[0;34m(\u001b[0m\u001b[0mbuah_set\u001b[0m\u001b[0;34m[\u001b[0m\u001b[0;36m1\u001b[0m\u001b[0;34m]\u001b[0m\u001b[0;34m)\u001b[0m\u001b[0;34m\u001b[0m\u001b[0;34m\u001b[0m\u001b[0m\n\u001b[0m",
            "\u001b[0;31mTypeError\u001b[0m: 'set' object is not subscriptable"
          ]
        }
      ]
    },
    {
      "cell_type": "markdown",
      "source": [
        "**SET ARE MUTABLE**"
      ],
      "metadata": {
        "id": "4-9SvxXcPH1J"
      }
    },
    {
      "cell_type": "markdown",
      "source": [
        "Set sendiri merupakan tipe data yang bisa diubah (**mutable**), namun **element** pada set tidak bisa dimodifikasi atau di ubah (**immutable**)\n",
        "\n",
        "Jika kita ingin mengubah element didalam set dengan cara seperti list maka kita akan mendapatkan error sebagai berikut."
      ],
      "metadata": {
        "id": "H3UeiwdcPMCy"
      }
    },
    {
      "cell_type": "code",
      "source": [
        "# Coba jalankan code di bawah\n",
        "\n",
        "set_hewan = {'Kecapung', 'Bunglon', 'Komodo'}\n",
        "set_hewan[0] = 'Kadal'\n",
        "print(set_hewan)"
      ],
      "metadata": {
        "colab": {
          "base_uri": "https://localhost:8080/",
          "height": 200
        },
        "id": "WgmEnuduPJZ6",
        "outputId": "c4efb1bf-5946-480b-b27b-2259c1d40451"
      },
      "execution_count": 11,
      "outputs": [
        {
          "output_type": "error",
          "ename": "TypeError",
          "evalue": "'set' object does not support item assignment",
          "traceback": [
            "\u001b[0;31m---------------------------------------------------------------------------\u001b[0m",
            "\u001b[0;31mTypeError\u001b[0m                                 Traceback (most recent call last)",
            "\u001b[0;32m<ipython-input-11-749ca7eb213d>\u001b[0m in \u001b[0;36m<cell line: 0>\u001b[0;34m()\u001b[0m\n\u001b[1;32m      2\u001b[0m \u001b[0;34m\u001b[0m\u001b[0m\n\u001b[1;32m      3\u001b[0m \u001b[0mset_hewan\u001b[0m \u001b[0;34m=\u001b[0m \u001b[0;34m{\u001b[0m\u001b[0;34m'Kecapung'\u001b[0m\u001b[0;34m,\u001b[0m \u001b[0;34m'Bunglon'\u001b[0m\u001b[0;34m,\u001b[0m \u001b[0;34m'Komodo'\u001b[0m\u001b[0;34m}\u001b[0m\u001b[0;34m\u001b[0m\u001b[0;34m\u001b[0m\u001b[0m\n\u001b[0;32m----> 4\u001b[0;31m \u001b[0mset_hewan\u001b[0m\u001b[0;34m[\u001b[0m\u001b[0;36m0\u001b[0m\u001b[0;34m]\u001b[0m \u001b[0;34m=\u001b[0m \u001b[0;34m'Kadal'\u001b[0m\u001b[0;34m\u001b[0m\u001b[0;34m\u001b[0m\u001b[0m\n\u001b[0m\u001b[1;32m      5\u001b[0m \u001b[0mprint\u001b[0m\u001b[0;34m(\u001b[0m\u001b[0mset_hewan\u001b[0m\u001b[0;34m)\u001b[0m\u001b[0;34m\u001b[0m\u001b[0;34m\u001b[0m\u001b[0m\n",
            "\u001b[0;31mTypeError\u001b[0m: 'set' object does not support item assignment"
          ]
        }
      ]
    },
    {
      "cell_type": "markdown",
      "source": [
        "**SET METHODS**"
      ],
      "metadata": {
        "id": "hq-_vUrMPdDZ"
      }
    },
    {
      "cell_type": "markdown",
      "source": [
        "Ada beberapa method yang bisa digunakan pada sebuah set.\n",
        "\n",
        "Misalkan:\n",
        "\n",
        "set_1 = {3, 4, 5, 6}\n",
        "\n",
        "set_2 = {1, 2, 3, 6}"
      ],
      "metadata": {
        "id": "7aT45kNuPglo"
      }
    },
    {
      "cell_type": "markdown",
      "source": [
        "![asldfalsd.JPG](data:image/jpeg;base64,/9j/4AAQSkZJRgABAQEAkACQAAD/4QLgRXhpZgAATU0AKgAAAAgABAE7AAIAAAAHAAABSodpAAQAAAABAAABUpydAAEAAAAOAAACyuocAAcAAAEMAAAAPgAAAAAc6gAAAAEAAAAAAAAAAAAAAAAAAAAAAAAAAAAAAAAAAAAAAAAAAAAAAAAAAAAAAAAAAAAAAAAAAAAAAAAAAAAAAAAAAAAAAAAAAAAAAAAAAAAAAAAAAAAAAAAAAAAAAAAAAAAAAAAAAAAAAAAAAAAAAAAAAAAAAAAAAAAAAAAAAAAAAAAAAAAAAAAAAAAAAAAAAAAAAAAAAAAAAAAAAAAAAAAAAAAAAAAAAAAAAAAAAAAAAAAAAAAAAAAAAAAAAAAAAAAAAAAAAAAAAAAAAAAAAAAAAAAAAAAAAAAAAAAAAAAAAAAAAAAAAAAAAAAAAAAAAAAAAAAAAAAAAAAAAAAAAAAAAAAAAAAAAAAATEVOT1ZPAAAABZADAAIAAAAUAAACoJAEAAIAAAAUAAACtJKRAAIAAAADNjIAAJKSAAIAAAADNjIAAOocAAcAAAEMAAABlAAAAAAc6gAAAAEAAAAAAAAAAAAAAAAAAAAAAAAAAAAAAAAAAAAAAAAAAAAAAAAAAAAAAAAAAAAAAAAAAAAAAAAAAAAAAAAAAAAAAAAAAAAAAAAAAAAAAAAAAAAAAAAAAAAAAAAAAAAAAAAAAAAAAAAAAAAAAAAAAAAAAAAAAAAAAAAAAAAAAAAAAAAAAAAAAAAAAAAAAAAAAAAAAAAAAAAAAAAAAAAAAAAAAAAAAAAAAAAAAAAAAAAAAAAAAAAAAAAAAAAAAAAAAAAAAAAAAAAAAAAAAAAAAAAAAAAAAAAAAAAAAAAAAAAAAAAAAAAAAAAAAAAAAAAAAAAAAAAAAAAAAAAAAAAAAAAAAAAAAAAAMjAyNTowMjoyNCAxMTozNzoxMgAyMDI1OjAyOjI0IDExOjM3OjEyAAAATABFAE4ATwBWAE8AAAD/4QQZaHR0cDovL25zLmFkb2JlLmNvbS94YXAvMS4wLwA8P3hwYWNrZXQgYmVnaW49J++7vycgaWQ9J1c1TTBNcENlaGlIenJlU3pOVGN6a2M5ZCc/Pg0KPHg6eG1wbWV0YSB4bWxuczp4PSJhZG9iZTpuczptZXRhLyI+PHJkZjpSREYgeG1sbnM6cmRmPSJodHRwOi8vd3d3LnczLm9yZy8xOTk5LzAyLzIyLXJkZi1zeW50YXgtbnMjIj48cmRmOkRlc2NyaXB0aW9uIHJkZjphYm91dD0idXVpZDpmYWY1YmRkNS1iYTNkLTExZGEtYWQzMS1kMzNkNzUxODJmMWIiIHhtbG5zOmRjPSJodHRwOi8vcHVybC5vcmcvZGMvZWxlbWVudHMvMS4xLyIvPjxyZGY6RGVzY3JpcHRpb24gcmRmOmFib3V0PSJ1dWlkOmZhZjViZGQ1LWJhM2QtMTFkYS1hZDMxLWQzM2Q3NTE4MmYxYiIgeG1sbnM6eG1wPSJodHRwOi8vbnMuYWRvYmUuY29tL3hhcC8xLjAvIj48eG1wOkNyZWF0ZURhdGU+MjAyNS0wMi0yNFQxMTozNzoxMi42MTg8L3htcDpDcmVhdGVEYXRlPjwvcmRmOkRlc2NyaXB0aW9uPjxyZGY6RGVzY3JpcHRpb24gcmRmOmFib3V0PSJ1dWlkOmZhZjViZGQ1LWJhM2QtMTFkYS1hZDMxLWQzM2Q3NTE4MmYxYiIgeG1sbnM6ZGM9Imh0dHA6Ly9wdXJsLm9yZy9kYy9lbGVtZW50cy8xLjEvIj48ZGM6Y3JlYXRvcj48cmRmOlNlcSB4bWxuczpyZGY9Imh0dHA6Ly93d3cudzMub3JnLzE5OTkvMDIvMjItcmRmLXN5bnRheC1ucyMiPjxyZGY6bGk+TEVOT1ZPPC9yZGY6bGk+PC9yZGY6U2VxPg0KCQkJPC9kYzpjcmVhdG9yPjwvcmRmOkRlc2NyaXB0aW9uPjwvcmRmOlJERj48L3g6eG1wbWV0YT4NCiAgICAgICAgICAgICAgICAgICAgICAgICAgICAgICAgICAgICAgICAgICAgICAgICAgICAgICAgICAgICAgICAgICAgICAgICAgICAgICAgICAgICAgICAgICAgICAgICAgICAKICAgICAgICAgICAgICAgICAgICAgICAgICAgICAgICAgICAgICAgICAgICAgICAgICAgICAgICAgICAgICAgICAgICAgICAgICAgICAgICAgICAgICAgICAgICAgICAgICAgIAogICAgICAgICAgICAgICAgICAgICAgICAgICAgICAgICAgICAgICAgICAgICAgICAgICAgICA8P3hwYWNrZXQgZW5kPSd3Jz8+/9sAQwAHBQUGBQQHBgUGCAcHCAoRCwoJCQoVDxAMERgVGhkYFRgXGx4nIRsdJR0XGCIuIiUoKSssKxogLzMvKjInKisq/9sAQwEHCAgKCQoUCwsUKhwYHCoqKioqKioqKioqKioqKioqKioqKioqKioqKioqKioqKioqKioqKioqKioqKioqKioq/8AAEQgBqQNXAwEiAAIRAQMRAf/EAB8AAAEFAQEBAQEBAAAAAAAAAAABAgMEBQYHCAkKC//EALUQAAIBAwMCBAMFBQQEAAABfQECAwAEEQUSITFBBhNRYQcicRQygZGhCCNCscEVUtHwJDNicoIJChYXGBkaJSYnKCkqNDU2Nzg5OkNERUZHSElKU1RVVldYWVpjZGVmZ2hpanN0dXZ3eHl6g4SFhoeIiYqSk5SVlpeYmZqio6Slpqeoqaqys7S1tre4ubrCw8TFxsfIycrS09TV1tfY2drh4uPk5ebn6Onq8fLz9PX29/j5+v/EAB8BAAMBAQEBAQEBAQEAAAAAAAABAgMEBQYHCAkKC//EALURAAIBAgQEAwQHBQQEAAECdwABAgMRBAUhMQYSQVEHYXETIjKBCBRCkaGxwQkjM1LwFWJy0QoWJDThJfEXGBkaJicoKSo1Njc4OTpDREVGR0hJSlNUVVZXWFlaY2RlZmdoaWpzdHV2d3h5eoKDhIWGh4iJipKTlJWWl5iZmqKjpKWmp6ipqrKztLW2t7i5usLDxMXGx8jJytLT1NXW19jZ2uLj5OXm5+jp6vLz9PX29/j5+v/aAAwDAQACEQMRAD8A+kaKKKACiiigAooooAKKKKACiiigAooooAKKKKACiuF0P4q2XiHVUs9N8N+JHia4Nu199hU20bA4JaQOcAV3VG6uHWwUUUUAFFFYl9rl9a+L9M0iHRLm4s7yKR5tSQny7YqMhW46npyR14zzg62Dpc26KKKACiiigAooooAKKKKACiiigAooooAKKKKACiiigAooooAKKKKACiuS8Z/EfR/At7p9vrMF7J9v3FZLeNWWIKVBL5YED5h0Bp/jf4haP4CsbW61aO6uBdMRHHZorvgDJYhmX5RkDOepFHS4dbHVUUyCVZ7eOZAQsihgD1wRmqU+vabba/a6JNdBdRu4nmhg2MSyL945AwPxIz2o2dhXVrmhRXNeCvF//CYWuqTfYfsf9n6jLY487zPM2Y+f7oxnPTn610tAwoorm/Cni7/hJ9R1+1+xfZf7H1BrLd5u/wA7b/FjaNv05+tHkHS50lFFFABRRRQAUUUUAFFFFABRRRQAUUUUAFFFFABRRRQAUUVyXir4iWXhXXLTSJNI1jVL27hM0cWmWyzHaDg8bge3pSuB1tFYnhPxbpvjLRzqGk+cixytDNBcR7JYZB1RhzzyOhPWtumG4UUUUAFFFFABRRRQAUUUUAFFFFABRRRQAUUUUAFFFFABRRRQAUUUUAFFFFABRRVXUtSs9H0y41DU7hLa0tkMksr9FUfz+g5NF7bgtdEWqK4Cy+MegXN7aR3en61ptnfSCO01K+sTHa3BJ+Xa+TweoJAGOuK7+jpcAorP1DXtM0rUNPsb+6ENzqUhitI9rEysBkjgcYHc4FaFABRRWfrOvaZ4etYbjWLoW0U06W8ZKs26RjhVAUE80AaFFFFABRRRQAUUUUAFFFFABRRRQAUUUUAFFFFABRRRQAUUUUAFFFFABRRRQAUHpRRQB4z8HtI8QT6bc31r4k8nSF1O6Emk/YI2809M+cTuHJB/D3rhrbXLQfDPQfDTC4XVbDxMjXcLW7qIMySYDMRtBPpnPB44r6fooj7rXlb8Lf5Dvo13v+N/8z5+1rw5Ya3P8VrrURNI+nSC4tkWZkRJRExDlQQGPGPmzgE4xmorm9sdR8Q+Ez8S3vptGm8PwvYGPzj5t4SuSPK+Yv8A/Y+tfQ1cv4p8O+JdYu0k8PeL30GEw+XLCtglxvOT8wLMCpwcce3oKle7FJdLfgmv6+QaO7fn+LTPAV/s5/hdAmpaytmBrt3Iljqsdy0d7gJkTGAb1Zc5+pNdl4OuEufG3w7kh0g6PEdLvPLtfMdwFy2HUv8ANtb7wzngjk9a9a8JeFrDwb4cg0fSzI8UZLtLKcvK7HJYn1/+tW1Vq0Wv6+zykNcy/rvcKKKKRQUUUUAFFFFABRRRQAUUUUAFFFFABRRRQAUUUUAFFFFABRRRQB5R8T9Gg8Q/E7whpF0AYryz1GIkj7pMPDfUHB/CvNtRbUPEXw01nUddgKS+GrKDRYg5z+9E6+Y/12hAfxr6goo6W/rd/o2ir+9f+v60R8wfEdruTxzcp4insbS2FnCNJm1P7ZtjXy13PB9nBG4Nyd4IyBXQ6zoWi6d8SvBuoeNQJvt+np9pvUedkubtAqxsCMHP3D0A55Fe/UU07Nev+f46/eiGrq3l/l+Gmx8v6jolo3w18XeIybgalp3iWQWki3DqsBMkeWVAdu45+9jPyr6V0PiyXQJ/HWqv8WftZtHsYW0HBn8vJjHmbPL43bsZzx69q9/oqbaW/ra2nn1Lvrf+t7nzjeNdDTfA0XxeGoL4e+zzm4Mvm5M2X8oS7Pnzs2478n/art/gf5PneMPsguVg/tl/KF3u80Ljjdu+bOPXn15r1eirvq33v+LuRbRL+trBRRRUjCiiigAooooAKKKKACiiigAooooAKKKKACiiigAryXx1Y6pqPxx8PW+hax/Y14dLnK3f2VbjaATkbG4Oa9aopW1T7f5NA9mv63TPnT4j+EbjwXZaPZyXX23Sr25mu9XvNQWZbae6YDBkW3+dRxlQCec9eaZY2c114b8DW02qw3dlN4jdbSXTpJ1EMJABjUyqsi7TuAPUDGDnmvo6ihKys+6/Bp/pb0CWu3n+N/8AM+c9TtL7wzY/E3Q/B/2mGxtJLOQQxSM7RRuuZWBOT93gnP3R7Uaf/YcXxB0h/hdHemI6PetbiYTeW1x5b/6vze+4ANj5c496991uyvdQ0ee20vUW0y7cDyrtYhJ5TAg52kgN0xg8c1zHh/4fXdj4im8Q+JPEU2vaybc2tvcG2S3S3jP92NTjOc85HXp3o1/D9Gv6/Mbtv5/qmeHQDw2+jeFZdNGot4jbW7f+23l88oZd7H94W+TfnOMc43Z71ta3rdro+l/FDQL5bhNTvdQa5ggW3dt0RZT5hYDCrgg5JHUYzXplp8NtWu9c02/8a+L5/EMWlyedaWosY7ZBKOjvtJ34xxnnPfqD6DRJXT87/p/kEZWt5W/C/wDmeF23h6w8T/FCLTdXWWS0bwfbs8UczR7yGTGSpBIBwcdMgVzMGoWt78NfBeleIraGeze6ukW+vkuplgCuVWNUt2Vncg4AJwAMcdvpqiqk7v8Aru3+pMVaCj/W1j5hi1O3k+HOjaRr9rFcaaNduIUu9QS7MdkiKNqCOJxIWIZtqluMEHuQ61aWfwBZ6c1xOtvaeN0trYbXjaCPHAVXJZMEk4Ykg9cnNfTlFCdlr5fhb/L8R/8AB/G/+f4HlfgbSbbwz8avFGjaOZotPexguTBJM0n7wkZbLEkk5PJPevVKKKS+FLsK2rff/L+mFFFFAwooooAKKKKACiiigAooooAKKKKACuI+MGhah4h+GOo2WkRNPcqY5hAgy0oRgxUDucDIHciu3opNXGnZnh3jPxppXxF8C2/hHwnbXVzrly8KvZ/ZXQ2OxhuLsQFAGNuQe9V9a1a18MeOPiBY6t9oFxqmixpYhLd3+0lbchiNoOAOck8DByeK95ooavfzvf5qwRfLbytb5O581avonh9PDPw01vxJat/ZslubbUrgGUjywN0akIcjkuflGT+FGtSeDxrXj2PxQb0xmZDpaRCby2m8ltn3fl39MeZxjPvX0rXOeHfCX9geJPEOq/bftH9tXCT+V5W3ydqkYzk7uvXAoesnfZ3/ABa/4NhbKNulv1/4Y8o0nVrjwr488J6j42W8hkuPDQtA7W8kskk3mErHhQWL4K5HXJGetcw+jWF98CtF1i+tHcWWuOs8uX/dW7yfvMhT3IQZxn0619Q0VT3v/W9/+ANOy5f62t/wTL8M/wBk/wDCL6d/wjn/ACCvs6fZPv8A+rx8v3/m6evNalFFD1ZK0QUUUUhhRRRQAUUUUAFFFFABTZDIIyYVVn7Bm2g/jg/yp1FAFbzL7/n2t/8AwIb/AOIo8y+/59rf/wACG/8AiKs0UAVvMvv+fa3/APAhv/iKPMvv+fa3/wDAhv8A4irNFAFbzL7/AJ9rf/wIb/4ijzL7/n2t/wDwIb/4irNFAFbzL7/n2t//AAIb/wCIo8y+/wCfa3/8CG/+IqzRQBW8y+/59rf/AMCG/wDiKPMvv+fa3/8AAhv/AIirNFAFbzL7/n2t/wDwIb/4ijzL7/n2t/8AwIb/AOIqzRQBW8y+/wCfa3/8CG/+Io8y+/59rf8A8CG/+IqzRQBW8y+/59rf/wACG/8AiKPMvv8An2t//Ahv/iKs0UAVvMvv+fa3/wDAhv8A4ijzL7/n2t//AAIb/wCIqzRQBW8y+/59rf8A8CG/+Io8y+/59rf/AMCG/wDiKs0UAVvMvv8An2t//Ahv/iKPMvv+fa3/APAhv/iKs0UAVvMvv+fa3/8AAhv/AIijzL7/AJ9rf/wIb/4irNFAFbzL7/n2t/8AwIb/AOIo8y+/59rf/wACG/8AiKs0UAVvMvv+fa3/APAhv/iKPMvv+fa3/wDAhv8A4irNFAFbzL7/AJ9rf/wIb/4ijzL7/n2t/wDwIb/4irNFAFbzL7/n2t//AAIb/wCIo8y+/wCfa3/8CG/+IqzUX2mL+9+hoAj8y+/59rf/AMCG/wDiKPMvv+fa3/8AAhv/AIipPtMX979DR9pi/vfoaAI/Mvv+fa3/APAhv/iKPMvv+fa3/wDAhv8A4ipPtMX979DR9pi/vfoaAI/Mvv8An2t//Ahv/iKPMvv+fa3/APAhv/iKk+0xf3v0NKLiJmADcnpwaAIvMvv+fa3/APAhv/iKPMvv+fa3/wDAhv8A4irNFAFbzL7/AJ9rf/wIb/4ijzL7/n2t/wDwIb/4irNFAFbzL7/n2t//AAIb/wCIo8y+/wCfa3/8CG/+IqzRQBW8y+/59rf/AMCG/wDiKPMvv+fa3/8AAhv/AIirNFAFbzL7/n2t/wDwIb/4ijzL7/n2t/8AwIb/AOIqzRQBW8y+/wCfa3/8CG/+Io8y+/59rf8A8CG/+IqzRQBW8y+/59rf/wACG/8AiKPMvv8An2t//Ahv/iKs0UAVvMvv+fa3/wDAhv8A4ijzL7/n2t//AAIb/wCIqzRQBW8y+/59rf8A8CG/+Io8y+/59rf/AMCG/wDiKsMwRSzHAFR/aYv736GgCPzL7/n2t/8AwIb/AOIo8y+/59rf/wACG/8AiKk+0xf3v0NH2mL+9+hoAj8y+/59rf8A8CG/+Io8y+/59rf/AMCG/wDiKk+0xf3v0NH2mL+9+hoAj8y+/wCfa3/8CG/+Io8y+/59rf8A8CG/+IqT7TF/e/Q0faYv736GgCPzL7/n2t//AAIb/wCIo8y+/wCfa3/8CG/+IqT7TF/e/Q0faYv736GgCPzL7/n2t/8AwIb/AOIo8y+/59rf/wACG/8AiKk+0xf3v0NH2mL+9+hoAj8y+/59rf8A8CG/+Io8y+/59rf/AMCG/wDiKk+0xf3v0NS0AVvMvv8An2t//Ahv/iKPMvv+fa3/APAhv/iKs0UAVvMvv+fa3/8AAhv/AIijzL7/AJ9rf/wIb/4irNFAFbzL7/n2t/8AwIb/AOIo8y+/59rf/wACG/8AiKs0UAVvMvv+fa3/APAhv/iKPMvv+fa3/wDAhv8A4irNFAFbzL7/AJ9rf/wIb/4ijzL7/n2t/wDwIb/4irNFAFbzL7/n2t//AAIb/wCIo8y+/wCfa3/8CG/+IqzRQBW8y+/59rf/AMCG/wDiKPMvv+fa3/8AAhv/AIirNFAFbzL7/n2t/wDwIb/4ijzL7/n2t/8AwIb/AOIqzRQBW8y+/wCfa3/8CG/+Io8y+/59rf8A8CG/+IqzUX2mL+9+hoAj8y+/59rf/wACG/8AiKPMvv8An2t//Ahv/iKk+0xf3v0NOSVJGwhyfpQBD5l9/wA+1v8A+BDf/EUeZff8+1v/AOBDf/EVZooAreZff8+1v/4EN/8AEUeZff8APtb/APgQ3/xFWaKAK3mX3/Ptb/8AgQ3/AMRR5l9/z7W//gQ3/wARVmigCt5l9/z7W/8A4EN/8RR5l9/z7W//AIEN/wDEVZooAreZff8APtb/APgQ3/xFHmX3/Ptb/wDgQ3/xFWaKAK3mX3/Ptb/+BDf/ABFHmX3/AD7W/wD4EN/8RVmigCt5l9/z7W//AIEN/wDEU6N7syATQwqncrMWI/DaP51PRQAUUUUAFFFFABRRRQBXv7630zTri+vpPKtraNpZX2k7VUZJwOTwO1Yo8d+HzK0K3Vw020PHCtjOZLhDn54k2bpV4yWQMAOScVb8WWNxqfg3WLGxj825ubKWKJNwG5mQgDJ4HPrVU6XdnxvpWoeT/o1vpdxbySbh8sjPCVGM55CNyOOKcVd6/wBaMb0jdf1t/wAEtP4o0hNKtdRW4kmgvBm3W3t5JZZPXESKXyO42/LjnFRyeMNDis7S5a9JS9Z0t1SCRpJHQEsmwLu3jBGwjdkEYzxXIr4S1K3jsLu606/ufs9xqKyWunakbWcJPcmSN1ZZUVhhRlSw+8OMjFbVj4ea31DQLiz0y4tIYJ7qe5S6u/tEsbSIQCzs7FmJ64ZgPWk+tiXobCeKtIk0dtTFzILdZTAVa3kWXzQceX5RXzN+f4duT2FMs/F+iXwvfKvGjawjWW7S5gkgaBW3bd6yKCCdpOCM4wehGefk0LWLXWr3VoLEXIi137bHbeYge4hNokJKEsFVgdxAYjO08jINZt9Yan4n1vxRGLB7Oc2mmvDby3Ox28uaWTY8kRIRjjGVY4BU57CrK33fp94+tv63t+R09/460y10DU9Rt47uWXToDM9pLZTwysMHadjR7ghII37Sowcng1ZHi3ThpNrfyxagq3IJWJdMuXlGOpMYj3hRkfMQAcjnkVhw+GRf6RrSw6Rq2m3l3p8llHLq+qG7Zg6nhf30oVQcHqD7UXcOuX66Yt1pGsx2ItvLls7PUIraSOcEAPJJHMCU25wEY98qTjEf1+f/AAB6WXz/AE/4Jc1Dxfb2viLRGivTLpeoWNxMi28Jma4ZTFs2Kil2IVnOFHTJI442rLxDpmoRWclpc7xeu6QgxsrFkzvVgQCpG05DYIIx1rmvDHh3U9PuPDDXtp5f2DTbmC4PnCTy5HkiKjOctkK3Ptz1pRpOr6dcR6jDpr3jQazdXBtopYxJJDKrKGUswXIyDhiOM9+DWmi9fz/4P3ITvZNf1obeo6xbySrBaar9jlt9Rhtp/wDRjJvZgG8nkcblYfMOmavarrGn6Japc6rdJawvKsKyPnG9jhR7Zrj4dF1y7vLu8utN+zG48QW18kRnRmWBIo1JYg43DacgZ5zgsME6vjtpUsdJa3gW4lXV7YrEz7d53dM4OKnZLza/Hl/zf9XFLRu3Rf5mlY+JtK1CO6aCaaNrNQ88VzaywSopBIby5FVsHBwcYJBA5FRR+MNFexv7t7ie3j06LzrpLqzmgkjjwTv8t0DlTg4IBBwR2rEu7bxJqV1qesWNhNpFwtklpaQyyQPPJ+83yNwzxg4+VNzHnJYAVjXPhXVrq08Tmz0rUYF1HRBa28epamLmZ5g0uQS0rhB8ykANt57HIDWrSf8AW/8AXzKsv6+X+f4HZJ4q0rUFu7eyvpIJ47Z51kltJFBjHHmx71AlUEg5Qkcj1FIfEthpWkWMmo3dzeGS1SVrqDT5nDLtH71xGhEQPJ+bA6+hqh4p065a+tr9Ih9ktNJv45pNwAQuse0YznnY3T0rHn0zWrzS7K3NpqV3Yto8CWqWOoi0jin2EOZmV1kYfcxjeMZ+XPWb728v/bv8v66L+W/W/wCn9f1r1t74r0ewuI7eW5klnlgFzHFa28lw8kRON6rGrFhnuOmRmibxZo0On2V4tzJcRX677ZbW3knklXGSRHGpfAyMnHGQDjNZfhvRL6w1LTpry3EawaFBZu29TtlVssvB+nPSqGlaXrXh6azvv7Ik1ABLqCW3t5YhNFvuGlR1LuqFSMZG4EfLwecU9Hbzf4Xt9+n3kptrbt+S/LX7jrdJ1rT9ctpLjSrgXEUUrQuwVl2uuMqQQDkZ59+O1QQ+JdMuNXOmwSTyTiRot62kph3qCWTztvl7hg5G7III6iszwNJPNb63LcxLE8msXB2o+8DG0Yz3Ixg47gjtVSz07VY/FDf2bYahpOnSzTNfrcXMMltPkNh4VDs6OXKsRhFxuyC2Mi1Sflf52uNbO/e34s2Y/F2jS3v2WO4mLneI3+yTeXOVBLLFJt2yNgH5UJPB44NN8K+J4PFOmNdwWtzbFJHRknt5Yxw7KCGdFDfdyQM7ScHmub8L+FjYPpllqWi6t5um4xeya08tmWRSqvHEZyRkdFMYAyfQZ6HwhbXunaZPp1/ZSQG3upmjmLoyTq8rurLtYsOGGQwHPTPWnp/X9fgDvc36KKKQwooooAKKKKACiiigArLYFkIDFSRgMMZHvzWpWTIXETmFVaQKdqs20E9gTg4Hvg0AYPhi4vftmuWeoajNfrY3ixRTXCRq4Uwxvg+Wqjqx7VasPFOkaleLbWlxIzyBjC720kcc4HUxyMoWTjn5SeOelZek6Trv23Wxq9rp0Ftqzl2e1vnleI+SkeNrQqD93Ocjr0NU/D3g+806808alaxzrp4Iiuv7dvJfmCFA4tpAUUkE8bjtycE0a/gvvtr/AF1B26G1p/jPQtUmtY7G8eUXZIgl+zSrFIwBJQSFQu8AH5c7hg8U1Lm51TxlNbxzPFY6SqGRY2wZ55FJ2t/sqhBx3LA9hVHTvCt9Z+H/AAvYyy25l0i5WWcqzbWAjkX5eOTlx1x3q1bg6N43vFmTbba3skhlA489E2tGfQlEDD12tR1/rt/XzKlZbf1qPvrq60nxdYMZnl0/VibZ4nOfInVC6MvoGVWBHqFI6tnoov8AXJ/vCua1Mf2x4t02yiRmi0qX7bcy4+VXKMscee7HeWwOgUZxkZ6WL/XJ/vCjoJ7/ANf1tY0aKKKBBRRRQAUUUUAFFFFABRRRQAUUUUAFFFFABRRRQBFc/wDHu34fzrKvLeS6tHhgu5rN2xieAIXTnsHVl9uQa1bn/j3b8P51k3z3kdozabBBcXAI2x3E5hQ885YIxHH+yaAMfw5rDf8ACFQ6lrl6GMYk865lCrkLIygkKAM4A6Cpk8W6M1leXUlxNbx2Ufm3C3VrLBIidn2OoYrweQMcH0rDg8Lazd+BpdB1NbK1ljkWa3mtbyV97CbzcN8iMgyAMqSepGMVBP4Lvr3QtZt3s4LW+vbJrWGeXXLq+GCc4PmoNgyAflzQr31BbI6nTfEematePa2U0jSonmASW8kQkTON6F1AkXP8S5HI55FVPDtzc6veX2rTTSLa+dJa2duDhQkblWkI7szKeeyhcYyc2jpcx8VW+p7o/JisXtmXJ3FmdGB6YxhT3qh4W3aXLe6BcqVkt55bi2bbhZoJHLgj/dLFCOowD/EMv/g/n/l+otba+X5f5mhYeItP1O8NvZfapCN2JvsUywtg4O2UoEb8GOe1Rw+KtIuNRWziuZC7yNCkpt5BDJIM5RZivlswweAxPB9DWVo2garZa8lwsFvpViPMMtta6pNcxylugETxqkWD82U+mOcjP0TwPd6XNZWt1bpe2dlMHiuG128HCnKN9lIMeRxwGxxkY6UlurjezNS08awT+Kb7TJLa/EUIhETLpV1ncxYNuOzAXgYY4HU5PbqawJLDVrPxXcajp0Nlc217FDHMs9w8Lw7C3K4jYPkP0O3kdeeHyeNvCsUjRy+JtHR0JVla/iBUjqCN1AEGr63qlh4i0u1jtLdLC7vBbNNK5aSTMTuSqjhQCoGSST83ygAEyeKbm60mG31q1lcxWcgW7ty3ySwMwDtj+8vDA+gI71S1231nW77R73QYdJurGzuFvIp5NRdfPBjdcALCwA+fIYE5x0qfxWZNS0uDQFiVrvVCqTIp3LFCCpmckgcAHaOOWZeOuBfr/l/wRyt+H9fodLWnWWBgYHStSgQUUUUAFFFFABRRRQAUUUUAFFFFABRRRQAUUUUAFFFFABWZWnWHqFn/AGhptzZmea3FxE0ZmgYLImRjKkg4PocUMa31Oe07xTd6l42FhDDCNIktp3hmKt5krwyRozA5xsy5A4525zgiuxtP9cf92uIs/Bd7p/ibTLyDX7ySxsbOS2ELx26kAtGVjASEDZhOeQwwuCOa7e0/1x/3ap25V/XVk9WXKKKKkYUUUUAFFFFABRRRQAUUUUAFFFFABRRRQAUUUUAFFFFABRRTXbahIoAdRUHnt6Cjz29BQBPRUHnt6Cjz29BQBFqelWur2ywXvnBUcSI0FxJA6sARkPGysOCRwehpulaNY6LbvDp0TIJZDJLJLK8skrnjc7uSzHAAySeAB0FT+e3oKPPb0FGwE9FQee3oKPPb0FAE9FQee3oKPPb0FAE9V7ywtr8Qi7j8wQTLPH8xG115U8dfp0pfPb0FHnt6CgCeioPPb0FHnt6CgCDVdGstat0g1JJZYVbcYlneNJP9l1UgOp7q2VPcVeHHSoPPb0FHnt6CgCes3VdBstYkhkvDdpJCGVHtL6a2bDYyCYnUkfKODnpVvz29BR57egoASwsLXS7CKy0+FYLeFdqIvb8epJPJJ5JOTVioPPb0FHnt6CgCeioPPb0FHnt6CgCeioPPb0FHnt6CgCeioPPb0FHnt6CgCeioPPb0FHnt6CgCeioPPb0FHnt6CgCeoPskfq350ee3oKPPb0FAB9kj9W/Oj7JH6t+dHnt6Cjz29BQAfZI/Vvzo+yR+rfnR57ego89vQUAH2SP1b86VbVFYEFsg560nnt6Cjz29BQBPRUHnt6Cjz29BQBPRUHnt6Cjz29BQBPRUHnt6Cjz29BQBPRUHnt6Cjz29BQBPRUHnt6Cjz29BQBPRUHnt6Cjz29BQBPRUHnt6Cjz29BQBPRUHnt6Cjz29BQBK6CRCp6H0qL7JH6t+dHnt6Cjz29BQAfZI/Vvzo+yR+rfnR57ego89vQUAH2SP1b86Pskfq350ee3oKPPb0FAB9kj9W/Oj7JH6t+dHnt6Cjz29BQAfZI/Vvzo+yR+rfnR57ego89vQUAH2SP1b86Pskfq350ee3oKPPb0FAB9kj9W/Op6g89vQUee3oKAJ6Kg89vQUee3oKAJ6Kg89vQUee3oKAJ6Kg89vQUee3oKAJ6Kg89vQUee3oKAJ6Kg89vQUee3oKAJ6Kg89vQUee3oKAJ6Kg89vQUee3oKAJ6Kg89vQUee3oKAJ6g+yR+rfnR57ego89vQUAH2SP1b86fHAsTZUknGOaZ57ego89vQUAT0VB57ego89vQUAT0VB57ego89vQUAT0VB57ego89vQUAT0VB57ego89vQUAT0VB57ego89vQUAT0VB57ego89vQUAT0VB57egpySszgECgCWiiigAooooAKZL/AKs0+mS/6s0AV6KzPEmozaP4X1PUrVUea0tZJo1kBKllUkA4IOOKwf7W8Vf8JBbaSZNIDX9m93HOLeUi1CMoZGTzB5ufMUBgY8YJx2oWoPRX/rp/mdjUb3EMU0UMk0aSzZ8tGYBnwMnA74HNcQ3jm9k0/ToUiEN/cG5WeaLTri9jQwS+UxWKL58M3IywAHUk4Bfaapd6trPhm41C1e2nWe8jO+3kgEoWMgSBJAGUMOcHp0yepHoJux18GpWNy0Qtry3lMys8QjlVvMVSAxXB5AJAJHTNWa85srm/v9X8Ly6RDp9jNNpt6T+4YwwjzYskRqwLZIxjcvUnPGDrHxReroJNzd2NpqUd7LaMVs5bkTmMnJit0bzGJGCQGO0ZOSBmi+if9b2KsdhRXnM3iDXtcsPDtzYXsGnytrEtnOHs5gJWRZQGMZkRlU7MmNskEjn5ee31a+/s3RprmW7tbZkUDz7kHy1YnAO0HJ5PCg5JwM85o6X/AK/rUGrO39btfoX6K4JPG2qLo+tsIYbq90425iaWwnsVlErbdpilJdcYPzZIOR6EVsf2xqula2ltr02mva3VtNPFPEjQC3MeCVkLMwZdrZ3jbjafl54NhLXY6N5EijaSVlRFBZmY4AA6kmkilSaJJYXWSN1DI6HIYHoQe4rg4fFd5fzajpV3NDeRzaVPdQ3MOmT2aDZhSAZWYSqd6kMhxx7irXhDxDPqHh6G7tntLfRtPslhee6JVpZkQbznOI41IwSwJPJGAAWF1+T/ADX5oT3SX9bf5nYzzw2tvJPcypDDEpeSSRgqoo6kk8AU8EMoKnIPII715pqvii81DQPEWmXcsd2jaJcXMVzFpk9kpAG0gCUsJAdwIdTj8xXS6bqOtWusadZaubGSDULZ3iW2jdXt2QKdrMzESDDH5gqcjpzw+l/66/5D0t/Xl/mdE9zBFcRQSzRpNNnyo2cBnwMnA6nA9KlrC1m4lXxFpVrbRWnnzxXJiuJ4DI0LKq4K4YHBzyARkdxXNaX4j1jSvA+lSX90t/eajMYYJo9PnmMQAdizoju8uAh6beozgZNTcD0KiuIj8Wa22nKBaRm4Opw2aXNzYXFpHOknVxFJ86leR1YHHXnAJdc8WRDW4i2js+iqJWm8iULdqY9+wJvzEQBjdukznp2ould/10f6hu7L+t/8jt6Kp/2hH/Y39os8cEZg87dO4REG3PzN2A7muPtfHV5BPexXXl6kI7I3VvJFp09isjBwgQGUsHUl1+dTgDseKb0dmK6tc7h7iGKaKGSaNJZs+WjMAz4GTgd8DmpK4uZdbi8Z+HP7cuNPnUm5YNaQPD5Z8nlSGd9w/wBrK9OnPC6b4vubjxTZ2Ruba/s79pViltdPniSMqpYbbhiY5xgEfLt55x1FC3sF9zs6qyalYxeZ5t7bp5UqwybpVGyRsbUPPDHcuB1OR61n6zqOoJqllpOjfZ47q6jkma4uo2kSKOPaD8ispYkuoA3DHJ7YPJw3d3Ytrranb2F3cN4isYXBiLRHcLdRIqk5VgDuAydpxy2Mmormdv63SKasrno1FFFSIKKKKACiiigAoopvmL60AOopvmL60eYvrQA6imhgehp1ABRRRQAUUUUAFFFFABRRRQAUUUUAFFFFABRRRQAUUUUAFFFFABRSE4GTSeYvrQA6im+YvrR5i+tADqKb5i+tHmL60AOopvmL60eYvrQA6im+YvrR5i+tADqKb5i+tHmL60AOopvmL606gAooooAKKKKACiiigAooooAKKKKACiiigAooooAKKKKACiim+YvrQA6im+YvrR5i+tADqKb5i+tHmL60AOopu9T3p1ABRRRQAUUUUAFFFFABRRRQAU+L/WCmU+L/AFgoAsUUUUAFFFFABTJf9WafTJf9WaAMzVdOh1jR7vTblnWG7heGRoyAwVhg4yCM8+lRf2Pb/wBtWup75POtbWS1RcjaUdkYk8ZzmMd/WtCs691X7HrOmWHk7/t7SjzN2NmxN3THOenai9tQb01M8eDrWK3gFjfX1lc281xLFdwtGZF86QvIhDIUKknoVONo5yM1dTQ4/P06e4vLq5n08yFZZWXMhdSCWAUDvwFAA9K0nbZGzYztBOKo6Dqn9t+HrDVPJ8j7ZAk3lbt2zcM4zgZ/Kje4NXK2n+GLLTZ9PlglnZtPt5beLewIZZGVmLYHXKDGMd6gm8I25lE9nqF7Y3a3E063MHlM6+bjemHRl2nC9s8DmugooHc54eDbSPSVsre+voXjvnv4rsOjzRyszEkF1KkfOw5B4P41o6tpEWr6aLSeeaNkdJY54iokjkRgyuMgrnI6EEHoRitCijbRCeruzi9f8KmHw/qzxXOo6le6h9mSZ3Yb2CSDlRGq7eCfugDjPByTpt4OtLn7V/a99faqbi1e0BumQeTE/wB5V8tF64GWOW+Uc1sz39tbXdrbTybZrtmSFdpO8qpYjI6cAnmrFHW4LQ52HwfEL03l9q+pahcGzlsg9w0QCxSFScKkarkFOuMnPOcDDZPA+mtE8KTXUMM1mLO6ijdQt0oTarv8v31A4Zdp6A5AAG3f6hbaZafab6Tyod6R7tpPzOwRRgDPLMBVmj+vz/zYW6/10/yRzUvgqC7F02patqV9Lc2Mlg8szxKVicgnCpGqgjHXHPfOBjXk0mCXULG8Z5PMsUdIwCMEOADnj2HpV6ijoH9f19xTuNMhudVs7+RpBLZrIsagjad4AOePaspfB1smmrZJqN8qwXP2mykDRh7JueIzs5XDMMPv4ODV9dVa8sbO80a3+3wXMyqz7/K8uPJDSYYZOMdOppde1X+xNDudR8nz/IUHy923dkgdcH1pabhexB/wj6y2tvFf6le30lvdpdrNMYwxZeikIiqF9gB9c1LJoNrI2rFpJv8AiaoEnwR8oCbPl4449c81p1n2WqfbNY1Kx8nZ9haNd+7O/em7pjjHTvQ0mrMFo7i3Wj2t54ffR7je1rJb/Z2w2G27cZyOh96y/wDhDLS4mll1fUL/AFV5rR7N/tToo8tmDcCNEAII+8AD6k4GOjopvV3YraWOeg8IxC/tLzUNW1LU5bNZEi+1PGAEddrAhEUHjufm96TT/B0FhdadK2qaldLpYK2cM7x7IkKFNvyoC2B0LEtx15OeiooCyMvV9Ci1Wa2uUurmxvbQt5N3alN6hhhlw6srKcDgqeQCMEA1Qh8FWMdvcRvd3s73N/DqE0ssilnmiKEfw4AJjGQAAMkLtGAOjopp2d0PfQKKKKQBRRRQAUUUUAFVmYIhY5wBk4BJ/IVZqpIXETmFVaQKdqs20E9gTg4Hvg0AYfh/Vlvf7XuX1Sa6giuTiGfT3tXs12K3lkMoZuDu3EfxVLpvi7RdXuYINPupJTcoXgkNtKkUwAyQkjKFYgHkAkjByODjO0nTPEEd7rbajaaZDFqjmUNBfSStG3kpGFwYVyPlznIxnoak03w3eWdh4TglkgLaLCEuCrHDnyDH8nHPJ744ppK33f8ABCXl5nVRfe/Cpaii+9+FS0gCiiigAooooAKKKKACiiigAooooAKKKKACiiigAooooAKKKKAGyfcNZ2qSTQ6ZPLb3lrZNGu83F3GXijUcksA6cYz/ABDFaMn3DVG+e8jtGbTYILi4BG2O4nMKHnnLBGI4/wBk0mNGR4U1ufWob0zT2d9Fbz+XFf2KFYbkbQSVBZvuklSQzDI9cgbk0qwQSTOHKxqWIRC7EAZ4VQST7AZNY+iaVd2+qajq2prbQ3WoCJWt7V2dEEYIBLkKXY55O0cADnGa1rhp1tpGtI45ZwpMaSyFFZuwLAEge+D9KbEtzE0DVkl0nUb+61WW9ghuZmLTWDWz2yAZ8ooQGO0dyMmrGneKtH1a8jtrC5eR5ozLCzW8iRzoMZMbsoV8bhnaTjNZOn6P4g/s/XbPUbXTYV1MzyxyQXskpR3UKFIMK8cZ3Z/Cr9toVzDceHnZ4iNMtXhmwT8zFFX5eORlT1xSV+vZf8H7ha3+b/PT7zfrKtvEenXmpGytDdTOHaMypZTGDcudw87Z5fBBH3uox14rVrkbPw9qlv4mS8tYLfSrT7Q8s6W2pzTJcqwPH2do1jjYsQxZTnIPXcTTW4+hrzeKdIg1E2UtxIHWQRPKLeQwpIcYRpgvlq3IGCwOSB3FZh8bQx+MbrSZLa+MENtG4aPSrp2Mhd1bkIRswow2MHnk9s0+B7qO/uont11DT7m8e4JfXby22h33lTboDG2CT3G7jIBya3b7T9Vt/FX9r6RDZ3SzWi2s0V1cvCU2OzBlKxvn77Ag46Dmkul/60/zG9pL7vv/AMjfrnPE+uaro81kbK0t/sst5bQSzzsSW82UIVRBjBAOdxPoNpySLM/jLwxa3EkFz4j0iGaJikkcl9ErIw4IILZBrN8SQ6n4msbFvDQ0q8sVuYLxbp9QZRIYpQ21QkTgg7cbt34cVUbcyb2uhd16nWVYqlbNO1rG15HHFOVHmJFIXVT3AYqpI98D6VdpAFFFFABRRRQAUUUUAFFFFABRRRQAUUUUAFFFFABRRRQAVUmErQSC3dElKkI7oWVWxwSARke2R9RVuq9AHLaJeeJLzxBqNpfX+lNb6dOkTiHTpEeYNEr8EzsF+9jo3Srlr400G+uoYLS+MrTSmBXWCTyxKM/u2k27Vfj7rEE8ccjM+l6XNZa1rV5K0Zjv7iOWIKTlQsKIc8dcqemeKh8OaB/Zfh230/UI7ed4Z5JhtXcoYys6sMgcjI59aF0uOVuhZXxFpbWAvVus27XX2MP5bf67zfK24xn7/GenfOOaiuPFWkWuoNZzXMgeORYpJFt5GhidsYV5QuxGOV4ZgfmHqK54+FNeW2XS4W04afHrA1H7Q0shlkX7SJjHs2gIRkjdubOAMDOVjl8D3a6hfI1umoafeXb3DB9dvLXaHbcyGBA0bYJPPGeMjqS1bT+u3/B+4T62/rf/AIH3nfL94fWp6gXhh9anpAFFFFABRRRQAUUUUAFFFFABT4v9YKZT4v8AWCgCxRRRQAUUUUAFMl/1Zp9Ml/1ZoAwPFbXSeFNROnicz+ScfZs+bj+LZjndtzjHOcYri45vClv4o0K48FQWk+yK6eRNLxtciHIV9vHmHtu+br716XRUtPWwPWx5V4ans5PF2nXWlTaIq31pctcw6RA25DtRgs828iVwT1ZVbO445NMjnsLrwr4Y0rVI9EhQ6TFLDca1B9oSRyApihh3Luk6HIbIyAAd3HrFFNq6t/XX/MaZ5f4esrbxBP4OTXYV1FG8Ozu6XSl1kIkt8FlbO71+bPIB6jNLpekWVj4c0TVIIs6hHrIt0vJGLzLD9paLyt558sJ8oXOO+M816fRV823l/nf/AIBLV7+f+Vjl/HkdjLo9sup6lp9jELkME1QA2tywVsRSAkDHcc8FQcHGK4+7ls7y00Q3cOiaFobQ3HlQanam5sDMJeGU74l+ZctGSOVZtoFesUVP9fhYq55lcaPolrb+E7nXZ9M1SyS6nQahPbKsIjZJGiRS5bCA4CZYg4XB5FdX41vYbPw+q3UFnJbXM6QSyX7YtoFOfnlH8SggDaSAxIBIzkdFRQ9RLR3PHRYWF14R8Rwyppd9p9jqtpPC1tZiK1ijIhaR40ZnCqVLkkHBBY9CaueMLnQ7uK4tbIeHbWOz00SadJNB9olnUqzA2ao67NpX76bjkDgbRn1aipabVr/1axSlY4ix12z0rxFI+tXaW8l/pVm1u0zAG6dfM3Knd3yy/KOfmHHNaHgWGG8+GOjQ3MKSwzWCK8UqAqyleQQeo9jXT0VcvebfcmPuqyPMdAg0m18N+H7fS4rOG5h1lI76O3VFdJQJBiQLzuwO/OKoau3h1/CupNqCwnxYJ2+0Bv8Aj9U+cAOnz+Tt24/g247V67RUpW/ryX+QpK6t/XX/ADPKPHd9a3F9q8n/ABJ7LU9NKC3NxA02oTABWEkJDKYkBY8gOvDE45FW9ZJ/4TLVm1gbvDKzW51EJz83lLsMo7wA/ex7bvk3V6ZRRbRD6tkcDRPbxvbMjQsoMbRkFSuOMY4xipKKKYBRRRQAUUUUAFFFFABRRRQAUUUUAFN8tfSnUUAN8tfSjy19KdRQA0KF6CnUUUAFFFFABRRRQAUUUUAFFFFABRRRQAUUUUAFFFFABRRRQAUUUUAIRkYNJ5a+lOooAb5a+lHlr6U6igBvlr6UeWvpTqKAG+WvpR5a+lOooAb5a+lHlr6U6igBvlr6UeWvpTqKAG+WvpTqKKACiiigAooooAKKKKACiiigAooooAKKKKACiiigAooooAKb5a+lOooAb5a+lHlr6U6igBvlr6UeWvpTqKAG7FHanUUUAFFFFABRRRQAUUUUAFFFFABT4v8AWCmU+L/WCgCxRRRQAUUUUAFI67lI6UtFAEPkf7X6UeR/tfpU1FAEPkf7X6UeR/tfpU1FAEPkf7X6UeR/tfpU1FAEPkf7X6UeR/tfpU1FAEPkf7X6UeR/tfpU1FAEPkf7X6UeR/tfpU1FAEPkf7X6UeR/tfpU1FAEPkf7X6UeR/tfpU1FAEPkf7X6UeR/tfpU1FAEPkf7X6UeR/tfpU1FAEPkf7X6UeR/tfpU1FAEPkf7X6UeR/tfpU1FAEPkf7X6UeR/tfpU1FAEPkf7X6UeR/tfpU1FAEPkf7X6UeR/tfpU1FAEPkf7X6UeR/tfpU1FAEPkf7X6UeR/tfpU1FAEPkf7X6UeR/tfpU1FAEPkf7X6UeR/tfpU1FAEPkf7X6UeR/tfpU1FAEPkf7X6UeR/tfpU1FAEPkf7X6UeR/tfpU1FAEPkf7X6UeR/tfpU1FAEPkf7X6UeR/tfpU1FAEPkf7X6UeR/tfpU1FAEPkf7X6UeR/tfpU1FAEPkf7X6UeR/tfpU1FAEPkf7X6UeR/tfpU1FAEPkf7X6UeR/tfpU1FAEPkf7X6UeR/tfpU1FAEPkf7X6UeR/tfpU1FAEPkf7X6UeR/tfpU1FAEPkf7X6UeR/tfpU1FAEPkf7X6UeR/tfpU1FAEPkf7X6UeR/tfpU1FAEPkf7X6UeR/tfpU1FAEPkf7X6UeR/tfpU1FAEPkf7X6UeR/tfpU1FAEPkf7X6UeR/tfpU1FAEPkf7X6UeR/tfpU1FAEPkf7X6UeR/tfpU1FAEPkf7X6UeR/tfpU1FAEPkf7X6UeR/tfpU1RfaYv736GgBPI/2v0o8j/a/Sl+0xf3v0NH2mL+9+hoATyP9r9KPI/2v0pftMX979DR9pi/vfoaAE8j/AGv0o8j/AGv0pftMX979DR9pi/vfoaAE8j/a/SjyP9r9KX7TF/e/Q0faYv736GgBPI/2v0o8j/a/Sl+0xf3v0NH2mL+9+hoATyP9r9KPI/2v0pftMX979DR9pi/vfoaAE8j/AGv0o8j/AGv0pftMX979DTlnjdgqtkn2oAZ5H+1+lOSLawO7P4VJRQAUUUUAFFFFABRRRQAUUUUAFFFFABRRRQAUUVRg1aCfXrvSUSQT2kEU8jEDaVkLhQDnOf3Zzx6UAXqKKoyatBF4gt9IZJPtFxbSXKMANgVGRSCc5zmQY49aFq7AXqKKKACiqWk6rBrFpJcWySKkdxLbkSAA7o3KMeCeMqce1XaA8gooooAKKKiNzAt0lq00YuHQyJCXG9lBALAdSAWAJ9x60AS0UUUAFFFFABRRRQAUUUUAFFFFABRRRQAUUVnebJ/fb86ANGis7zZP77fnVO71dbPULG0lMxkvnZIyvQFULnPPoD60AbtFYOoaymnTWMU5mZr65FtHs5AbYzZOT0wh9e1Rz64ya9b6TbK887IZrg+ZgW8XIDH1LMMAf7x7UBsdFRWd5sn99vzo82T++350AaNFczf+In07WLGxnsr1o76QQx3iNGYhJtZtpG/f0Q87cdOa1fNk/vt+dAGjRWd5sn99vzrO1vWpNF0/7dJHJLbRODcsr4MMXeTH8QXgkdcZIyRggHRUVmrOzoGSUsrDIIbgitCM5iUnrtFADqKKKACiiigAooooAKKKKACiiigAoqO4JWBiDg8cj61S82T++350AaNFZ3myf32/OjzX/vt+dAGjRWNp+qRapp8F9Y3DS21wgeN/mXcp6HBwRVjzZP77fnQBo0VzuneJNP1a+urTTb8XM1oFM3l7io3FgMN91uVYHBOCCDg1o+bJ/fb86ANGis7zZP77fnVTVtXXR9JudQuTM0Vuhd1j5Yj2yRQBuUVialqg0vSbvUbgytDawPO6ocsVVSxAyRzgVV1TxD/Z2lw3EayT3F2yx2lsH2tNIwyFz2GAST2AJoDpc6Wiub1DxHBpcyRXaai7sm7/AEXT7i5Uf8CjRgDx0PNVp/GFsmg22uWzSz6VJJia4IaMwJkr5hRgDgMAD0wMntQB1tFZ3muekjf99VfjOYlJ67RQA6iiigAooooAKKKKACiiigAooooAKKKKACiiigArMrTrLZVdCrqGVhggjIIoAw9KuLy/8R6vJJeyC0spxaxWiInlt+6Ry5bbuLZcjhgMDpnmqVtr98vjCLSW1PStVDmQTwWMDRzWIVdytITK4weFwQpJYEdxUnhy4tdP1zV9CEkds0VwstlY5C7bcwx8xp/c37x8vAOafNpusavrGnzapb6fZW+nXJuI2t7h55JTsZAvzRp5Y+bJwWzjHvT6r0G+p0dFc7Dr91c+P5NIsxa3OnQWZe5miLF7effgRufu8ryF+9wSeMZ6Kl0uLrY5XxR4pu9L1C1s9JghlZZoDeyTKxWKKWURqowR87EkjsAhyORnqq4zWfAt3dxXP9m+Ib+Jrq/ivJY5FtymVkRjhvJL5VVAUEkcKDxV3XtbvdGudE03TZIdQvbm6jjuIp/9c9vyHmAQALg8lsBe2OQKa2S63/yGzpq5TxV4km0fW9Osl1bSdIguoZpHutUjLLuQoAo/exjJ3k9T0rq6ztUl1iPYNHsbG6DA+Ybu8eHb6YCxPu7+lLqCLVk8klhA808Ny7IGM0CbY5Mj7yjc2AfqfrU9cdeO/wAP/h19nsrm1l1CJWFpHMhVbmdmLeVHGp3ckkKik4GPSustXlls4ZLiMRTNGrSRg52MRyM+xp9XYnormd4i1tdD05JsRGWaUQxedJ5cYJBJZ27KqqzE+i0eHb9tS09p21jTNXHmFRPpke2McD5T+8kyfxHUcUzxJoz6va2j26wPc2F3HeQJc58t3XIwxAJHDHDYODg4OMVW0+2n0u71bX/EM9lYG5SJXjjnLQQJGGAZpGVMsdxySBgBR2zSTsm3/W3/AASn0sdFUtt/x8L+P8q57wfquo614Xtr/WbaO3upS/yxKyq6BiFcBvmAZQCM+tdDbf8AHwv4/wAqbVhF6iiikAUUUUAFFFFABRRRQBieNJ5rXwLrk9rLJDNFYTPHLGxVkYIcEEdCK506O/8Awmen6YdY1g2d/pkt1dxnUZQZZY3iCsrA7ov9axKxlFOAMYGK7meCG6t5Le6iSaGVSkkcihldTwQQeCPak+yW/wBpS48iLz40MaS7BuVCQSoPUAlRx7D0pqyev9aP9dfkN6xt/XT/ACPM7fUdb1K10XSI5ftKM+oRM02qTWUlx9nn8uMGeJGcsEBYjgtjJJwQdFLTWTceHtK1bVZkWW5vElFjfyOWhVDsjabajsy9N2A3HXOTXY3OhaReaebG80qyuLMyGU28tujRlySxbaRjJJJz6k1LBplhax20dtY20KWgIt1jhVRCCMEIAPl444pPW/8AX9diWuxwsd9JDHqPh3fqF639tNZ2AbUpInK/Z0nIkucmQKMvyNzYAGCM1WsLzUrnSorCbUJ4fJ8S/Yi1rqDzsItm5ovPYB3GSRlhuHTOQDXf3eh6Tf288F9pdlcw3Eglmjmt0dZXAADMCME4AGTzgCnw6Tp1vGkcGn2sSJIJUVIVAVwNoYADggADPpxR118vwtf77P7wfl5/jf8AzX3Hnt5Y3NvZeMjHresbdCUyaap1CUmFvs6zHc2d0oLH7shcAcADJq7DZwa18RtSW/1C5t92jWUxgtLx7Yud02X3IQ+FzjGdvzcgnGO4bT7N1uVe0gZbwYuQYwRP8u35+Pm+UAc9uKq3/hvQ9U/5CejafecKP9ItUk4XO3qD03Nj03H1oWis/IuTTWn9bf8AB+84W21O81/Q7GzBury5it5bn7W2ryadE9uJXSOZpIQWdmVA2Nu3BJOOMs0UTeKNR8Hzape3PmXHh64kuJLadoXmPmW/8abWHOD8pGcehIPoN5oek6jJbPqGl2d09oc27T26OYTxyhI+XoOnoKlg02xtWha2sreE28RhhMcSr5aEglFwOFJUcDjgelOLs7vz/Jr9fwJ6W/roY/gqeeXQ54bmeW4Nnf3VrHLM5eQxxzMq7mPLEAAZPJxzk81y2lDxLq1wmsQz20TjUmjmlk1yfYqLMUaH7J5XlBto2jndnDbiTXo0FtBaqy20McKu7SMI0ChmY5ZjjuSck96pnw/ox1j+1jpNidS/5/fsyed02/fxu6cdelJbpv8ArYcrO9jz+O41A6dZaZYFAl/repLIG1CSy80rNIyxiaNGdSeWwuCdmM4yDca11uBdH0zVdReFJ9beIJY6lLNItv8AZnbynnZVdjuBOT8wBXByAa7e40XS7vT5LG602zns5XMklvJArRuxbcWKkYJ3c59eaW20fTLK2trez060t4LVy9vFFAqrCxzkqAMKTubkep9aa03/AK2/yBu7b9fxv/mec3kF3ZaD4wvI9Z1Zn8O3LnTVe/lIjAhjm2vzmYFnIxLuwvAxV3VDr+u+I9bgsXijOnCIWzHW57LyA0QcStFHEyygtu++SPkIwOc94+m2MkN1FJZW7x3hJuUaJSJyVCneMfNwAOewAqDUPD+jatPDPqukWN7LBxFJc2ySNHzn5SwOOfShtNJf1stRbXf9bnJpp93rOs65DqurX6m2s7UqlheyQRpKYmLOpQgkE9j8vTIqlo8P9veKvB+sajNdfarrw81zIYruWJGkDW5+4rBcHccrjDcZBwK9EFrbrNLKsEYkmAErhBmQAYAY98ZPWq0miaVNFZxy6ZZvHYsrWiNbqRblfulBj5SMDGMYpxdnf+uq/X8Cbe7b+un+ReoooqSgooooAKKKKACiiigAooooAKKKKACsPUrr7DpV3dlJZBBC8myFQzttUnCg8E8cVuVT+ySeq/nSeqGtHqeTaBrt5P4jifSLiK5juNOuZWig1ubUkaZdhRW3oFib5j8qHv0wBU2l3Om3eu+GLmw1S71PUX81rzzbuWVI5DbsSrR5McL7s/IApABwMA16n9kk9V/Oj7JJ6r+dP+vz/wA/wJep5LY3llqN74VuZNRurvXGvw+o25upXS1fyZdyNDny4SG+VQVUkA9fmrsNFOzxt4kjmK+e7W8sYxgmHyto+o3rJXVfZJPVfzqlceH47jVLXUN5iubYMoeNseYjDlG45XOGx2IHvk/r+vuKbv8A153OLu7jUINWu/Cq3VyZdQu1uLW485jJFaN802GzkbWRlGDx5kdYnjzxI8N3rC2Fw1tf6ag8hX1qWCViED7o7REKzJzyz9cMCQq8eufZJPVfzo+ySeq/nTjpYL6nCeMfEGj2WreHYb7VrG3nh1JJpY5rlEaNDBKNzAngZIGenNS3viG20vxyZdR1NYdNutJRrQNLlJ5RI2fLUffcqycKCTkYzXbfZJPVfzo+ySeq/nU2/X8VYL6W8rfjc8hk1nUBofhgapeCKzn04ySz32rzacJLjI4adFLFtuSEJXPJ528dnodyw8CNcazf2d7EsUzNc29x9ojMILYzJgbyFwC2Bkg11f2ST1X86pap4fj1e3jt7x2MCyrI8SthZtvIV+OVzgkd8YORkEavFx7hf3uYy/B0Nxb+CNFhvAVnSxhV1bqDsHB966uL/Up/uiqv2N/Vfzq2g2xqD1AxVyfNJslKysLRRRUjCiiigAooooAKKKKACiiigCK5/wCPdvw/nXM+K3ZPC94Y9Ug0ltoxdXEvlIvzD5S+QU3fd3DkbsjkCuolQyRFR1PrVb7JJ6r+dJjTs7nmMWt3A8Eay+gK7zW00Qa6h1eXUYWRiu9o53DMCqbsgJ8p5was+FlGsXF/aprFpcac0CloNP8AEs99NHJu4bzSFkjBAxgNg46DnPov2ST1X86Psknqv509xa2sef8Aw0TSINDtbW21KSTVYLYR3llJqUkrQMpwwMLORHgjHCj9a7hgpUh8Fcc56YpbzTLi6tHhgvJLN2xieAIXTnsHVl9uQazbbwxqcFzHLL4q1S5RGBaGWO1CuPQ7YAcfQg0bg97nK+Htf0CX4lavBp2q6a6zWVnDbRwXMZDlPOyqAHnaCMgdOK62DW9PudcutHhuN1/aRpLNDsYbFb7pzjBz7Gtb7JJ6r+dH2ST1X86bdwPJNf8AEkkmvTNp1wYLy11KK3MTazKJtglRWJslQxmMgnDMehDZzgU/xZeWV3Z+I49X1K7XVIZGjtNPiu5Yx5IClX8lCBIhySzsCByCQF49Y+ySeq/nR9kk9V/Opjpb+u3+X4hLW9jyvxhe2lzD4otdc1C6hu4bZk0ywgu5YjPGYAd4ijIMwLlwxIZQEOcANXQ3J8vxJ4SknKiA288SZH/LYxoV59dqyV2f2ST1X86p6roEer2DWt0xUEhkljba8TjlXU44YHkGjb8P6/H7x3ukvX9P8jF8W3syabFpdhKY7/VZPssDL96NTzJJ/wABTcfrgd6m1S30/R/BN5bvGkenWtg8ZQjIEaxkYx34rfFnIFALKfc9/wBKp6l4fj1ZYI7xi0MMyzGEN8kpXlQ4xyAcNj1AoaunHv8A1/mCdmpdip4fhuLfwzpkN9/x8x2kSy/7wQA/rXRRf6lP90VV+ySeq/nVtBtjUHqBiqk+ZtkxXKkhaKKKQwooooAKKKKACiiigAooooAKKKKACiiigAqj5kX/ADx/8fNXq848YaQks1tbadd6tDqeq3IjSSHVblEgQfNJIEEmwYUHAxjcy8c0dbAdz5kX/PH/AMfNKrRM4XycZOPvGuS8SWlrY6to+uLAq3FvceVPPGuZ5YTFIPLAHzSfMVOwZORkDIrqIGDPGwzgkEZGD+VAF37NF/d/U0fZov7v6mpaKAIvs0X939TR9mi/u/qalooAi+zRf3f1NH2aL+7+pqWigCL7NF/d/U0fZov7v6mpaKAIvs0X939TR9mi/u/qalooAi+zRf3f1NOWCNGDKuCPen0UAFFFFABRRRQAUUUUAFFFFABRRRQAUUUUAFFFFABRRRQAUUUUAFFFFABRRRQAUUUUAFFFFABRRRQAUUUUAFFFFABRRRQAUUUUAFFFFABRRRQAUUUUAFFFFABRRRQAUUUUAFFFFABRRRQAUUUUAFFFFABRRRQAUUUUAFFFFABRRRQAUUUUAFFFFABRRRQAUUUUAFFFFABRRRQAUUUUAFFFFABRRRQAUUUUAFFFFABRRRQAUUUUAFFFFABXOjSID4gOryPJJcC3+zxqxGyJS25toxnLELkkn7o6V0VN8qP+4v5UAcjq0F7f+IdIjhsnFrZXBu5bx5ECH91IgjVQdxbLg8gDHfPFb8X+uT/eFX/Kj/uL+VAjQHIRc/SjoD1HUUUUAFFFFABRRRQAUUUUAFFFFABRRRQAUUUUAFFFFABRRRQAU2Q4jOOKdTJf9WaAIN7f3j+dG9v7x/OkooAXe394/nRvb+8fzpKKAF3t/eP50b2/vH86SigBd7f3j+dG9v7x/OkqJbmB7qS2SaNp41V3iDgsitnaSOoB2nB74PpQBNvb+8fzo3t/eP50lRG5gW6S2aaMXDoZFiLjcyggFgOpALDJ9x60ATb2/vH86N7f3j+dJRQAu9v7x/Oje394/nSUUALvb+8fzo3t/eP51E9xDFNFDJNGks2fLRmAZ8DJwO+BzSW9zBdwia0mjniJIDxOGUkHB5HoQRQBNvb+8fzo3t/eP50lFAC72/vH86N7f3j+dJRQAu9v7x/Oje394/nSUUALvb+8fzo3t/eP50lFAC72/vH86N7f3j+dQz3EFrGJLmaOFCyoGkYKCzEADJ7kkADuTUtAC72/vH86N7f3j+dQz3EFrGJLmaOFCyoGkYKCzEADJ7kkADuTUtAC72/vH86N7f3j+dJRQAu9v7x/Oje394/nSUUALvb+8fzo3t/eP50lFAC72/vH86N7f3j+dJRQAu9v7x/Oje394/nSUUALvb+8fzo3t/eP50lFAC72/vH86N7f3j+dJRQAu9v7x/Oje394/nSUUALvb+8fzo3t/eP50lFAC72/vH86N7f3j+dJRQAu9v7x/Oje394/nSUUALvb+8fzo3t/eP50lFAC72/vH86N7f3j+dJRQAu9v7x/Oje394/nSUUALvb+8fzo3t/eP50lFAC72/vH86N7f3j+dJRQAu9v7x/Oje394/nSUUALvb+8fzo3t/eP50lFAC72/vH86N7f3j+dJRQAu9v7x/Oje394/nSUUALvb+8fzo3t/eP50lFAC72/vH86N7f3j+dJRQAu9v7x/Oje394/nSUUALvb+8fzo3t/eP50lFAC72/vH86N7f3j+dJRQAu9v7x/Oje394/nSUUALvb+8fzo3t/eP50lFAC72/vH86N7f3j+dJRQAu9v7x/Oje394/nSVD5jetAE+9v7x/Oje394/nWVHrdrLrEumRSSPdQqGl2wOUjyMgNJt2BsEHaTnBBxip01C3kvJLSO6ha5iUPJArguinoSvUA4ODQBe3t/eP50b2/vH86g8xvWjzG9aAJ97f3j+dG9v7x/OsqfX9MtdTi0651SzhvpgDHayTosr56YQnJzg9u1XvMb1oAn3t/eP50b2/vH86g8xvWqGpeINL0Xy/7Y1Wy0/wA3Pl/arhIt+OuNxGcZFAGtvb+8fzo3t/eP51WSfzI1eNw6MAVZSCCPUU7zG9aAJ97f3j+dG9v7x/OoPMb1qC01G2v43ksbuG5RHMbtDIrhXHVSR0I7igC9vb+8fzo3t/eP51B5jetKjsWAJoAm3t/eP50+NmMgySfxqOnxf6wUAWKKKKACiiigApkv+rNPpkv+rNAGJ4k1GbR/C+p6laqjzWlrJNGsgJUsqkgHBBxxWD/a3ir/AISC20kyaQGv7N7uOcW8pFqEZQyMnmDzc+YoDAx4wTjtXTarp0OsaPd6bcs6w3cLwyNGQGCsMHGQRnn0qL+x7f8Atq11PfJ51rayWqLkbSjsjEnjOcxjv601a+v9aP8AWw38On9bf8E5RvHN7Jp+nQpEIb+4Nys80WnXF7Ghgl8pisUXz4ZuRlgAOpJwDPB4n169TR7eG0gtbq+nuIJJby1mjXEakrMsTFXAbAOwnvjdxk6Y8HWsVvALG+vrK5t5riWK7haMyL50heRCGQoVJPQqcbRzkZq6mhx/aNOuLi8urmfTzIVllZcyFwQSwCgd+AoAHpSfX+v60Jd+hiL4nvY9K1CK/vNPttRsr/7F54tZJEnJRZF8u3V97sVcDYGJyCeQMVXtfGGq3mkwm3itjeHVxpzyT2s1urKV3eZ5TnehwR8pJzjrg5GvceELWW5nure+vbS7lvftq3EJjLROYRCQodGUqUXowPJz6Yda+ErO2UZuryZ/7QGotJNIrM0u3bz8v3e+BjHbAwKN3936X/UHfp5/rb9DCn8ReKre315mOkN/wj/zzSCCUC9XyhLtVd/7khTjJMmSegxy+N9Wu/iHqraHJZ2wk0qykaa8habHzT4UIrJ1yfm3cY6HOR0M/huzuIdbjeScLra7bjDD5P3Qi+Tjj5QDznn8qq3HhFH1OTULHWNT065ktorV2tmiIaOPdj5XjYZy55xkY4Iyciemv9f1oXK1tP62/wCCZUvjG6uNFs5ba5tLK/czJNbCwn1By0TmNikcRVwm5T854GQOpqlBqupeIPEXhjUtLW2s7i+0K4lY3CNKkOZLcn5QVLc8dV657YPRL4OtLZrU6XfX2neRALZ/s7oxuIwxbDtIrNnLMdylW+Y81NpXhWx0eTTHtpbhzptk9jD5jg7kZkJLcct+7HPHfinF2ld+f5Nf5EvbTy/NEnhnVbjVtJeS+SJbq3uZrWYwghHaORkLKCSQDjOCTjOMnrWDB4xu4pdTuNUuLKEWEM88mjm2kjvFjjztcOz4kU4+8qBcnG7g11Gl6XBpME8Vs0jLPcy3LeYQSGkcuwGAOMnis5PCkMk7PquoXurJ5UkMcV4Y9saSDDgFEUtkcZYsfx5qdfnb8Svd5vK/4XMjSvEuu6hqC2hi/wCPqB2SZtDvLdLJwMqHaUgTA9Mgocjpzxf+Hsup3HgfTbjWL1LyWaBHSQRsr4x/GzO29v8Aa4+lX9I0KTSmUNrOpX0EcflxQXTRFYx25VFZjgYy5Y/jzUGmeHJdIms4bXUrp9OtTKyW8jKNmQAkY2KNyKC33iTnbyccPS+hKvazGa1/yOXhr/fuf/RJrCTxPd2ug6VLAum6LaXDXBnvpbJ3tYGWXaqsquuwvknezBcgjqwrsbrTIbvU7G+kaQS2JcxhSNp3rtOePT6Vmf8ACKCLT4LKx1rUrK3iWRXSLyW84OxY7t8bepAK4ODU2dxLe7M7T59em+IsiTapZvZf2XbzPBFbyFTuaQEo3m4BLDO7acrtGOMnU8TaxLpkdvHaX1tbXExJVJLGW9kkA67IYmVzjOS3QdxzkSxeG7a01OzvLC4uLQWtstoYYyrJNEv3Ffcpb5SSQQQeTkmnanoK6jqFvfQahd6fdQRtF5tr5ZLxsVJQiRGGMqDkAEdjyarpb1/PQd9b+n5K5yq63ruuyeFLywvLewF1NPHPDJaysHZEkBJXzEO07chWGVOMk4xVvVPGVzp/iGGKC6tbyza+is5IINPncxM7CP5roMYlcMQShUHHHUg1qJ4PtINM0+0s76+t2064ee3uVkV5QX37gS6sGBDsOQT0Oc81FJ4HtZJFU6nqK2aXq38dirxiJJhL5pOQm8gtklWYj5jgAhSKVuZdr/1/X5Cs7Pv/AMP/AMAW88R3dv4T1nVEjhM9hNPHEpU7SEfaM856dcEUvj+e+tvh9rFxpd0LS4itJJBLtYsAFJO0qylW9G5x6Gk1DwRa6iL+F9T1KGy1B/NnsoZEWPzOPnB2FxkqCV3bSc5Bya29S0631bSbnTrxS1vdQtDIAcEqwwealaJX8il8d+hm2d/qMOtWOl6jLbXDy2UtxLNDA0QLK6BQFLtgYfnJOSM8dKxn8V6zM1jDYw2PnXetXWnFpVfakcQlIfAOSw8sEjgNyMrnI15/C5nWxl/tvUo7+yV40v0EHmyRuQWRgYvLI+Vf4QflHPXOJqXhIWc/h6y0ubUViXVri7kukffJAzwzNuLEEY3sB8wIOQDnPNKzevn+f+RK0i+//A/z1Ide1O/ktLrSNYNtLd2d9pswntY2jSWOS5XHyMzFSCjD7xzweM4qTU/G2pw3982mWk08NjMYRaJo13O92V+9tuEHloc5ABDdOSM4G2vhC0NnPFdXt7dz3FzDczXczp5kjRMrIuFUKFG0DCqOp7kmpG8MhNUnu7HVtRsYrmUTXFpA0ZilfABPzIzrkAA7GXpng5NJdL/1t/kxvYp/EC4jtvCa3M7bIor6zdzgnAFxGTwKrTeLNRj8PjWfJiEGpSxx6ZClvJPIiMCfNkEZYvkAsEQAgYBbkkdJqulwaxZLbXLSKizRTgxkA7o3Vx1B4yoz7Vlv4NsTBdwQ3N5bW88y3MUMLqq2kwO7zIvlypLclTlSc/Lycrpbz/y/y/ro+n9f1/X3t8La5qGqz3tvqMEhFuEaO8Omz2KTBs5URzZbK7eSCQdw6dK6OqOmafNYROLnU7zUpHbPm3QjBUegEaIuOvbPPXpi9TZKCmeaPen1m6nfxaVpN3qFwrtFaQvM6oAWKqpJxnHPFS3ZXKSbdkX/ADR70eaPesWXxDaRTWUbRzFr21kuo8KOEQKSDz1+cY/GqGleNbTVXsGXTtQtbXUk3Wl3dRokcx27tuNxcHAYgsoB2kgkYJqwuifc6nzR70eaPeuGv/E02o6p4e/s6z1CGwuNSAF8XjSG6TypeAofeVJAI3IAcA+mdm98TLp9/FDd6XqEdpLcJbLflY/K8xjtUbd/mYLELnZjkHOOaS1/L8v8xtW/r1/yOg80e9Hmj3ri7bxPqz+OdS09tD1KS1hgtyiK1qPLLPKDIT5oJVgowOSNp+UZ50NQ8W29hPdhdPvrq1sMfbby3RDFbcbjkM4ZtqkMditgH14pi62Ok80e9Hmj3rldaf8AtjxHpmiB/wDQpIXvroK3+uRGUJGf9ks2T6hMHgmtYavB/bsulSRyxyx2wuRI4AjkTcVO056qQM5AxuHrS6f10/ph/X9fganmj3o80e9YEXiP7XotnqOm6TqF8l4vmRRRCJW8vs5LuqgEEEDdkg9ODjK8SXsGu/Da91iylv7R4bSaaLyriS3kikRWBDeWwzhgRgkrkd+tA0rtLudp5o96PNHvWPPrEOnvpNvcLK8mpSeREygEBhGzktk9MIemecVWn8V2UP21RDcyTWt6tisEaKXuJmjVwqc4+6/ViAMMTgDNOzuStVc6HzR70eaPesK1v7XxFbX2nX1jcW0iKI7qzutu4K44OUZlIIzyrHoehFQ+Eru5m0+6sb+f7Tc6ZdvZvMT80irhkZv9ooy598ml/X9fgM6VW3DIpaZF938afQAUUUUAFFFFABRRRQAhOBk03zR70sn3DWXrGrW2h6VNqF7u8qLaMJjLMzBVUZIAySBkkAZ5IHNAGn5o96PNHvWGdf8As+kz3+q6beaasTBRFOYneUkgKFETuCSSABkHNQxeJnlNxA2ialFfwxiVbGQweZLGTt3KwlMZAPUFwR6cjKbsB0Xmj3o80e9cn4G17Udc8O2M2qadeRSSWyyNeSmARzt/sqjlh68qK6Y52naATjgE4pvQOtibzR70eaPeuS0C+1h/GGsafrF3FOsFtazJHDEEjiZzKGCn7xGEXljyckBQcDqKbVgJfNHvR5o9658+K7EaVdX/AJVx5VtffYXG1dxk80RZHP3dzA+uO3aqlz44tLe41BF0zUp4dLl8q+uY4kEUHyq24lnBYYbJCBiAOQMjKWv9f13G01+R1fmj3o80e9cZ4v8AEzw6Frdvo9nfXc1tZSGW6tHjRbVjGWUlmdTkAhvkDEDHqK07jWp9O022ePSdQ1M/Z1kla18v5BjqTI67icHhcn1AyMq+/wDXf/ILbef/AAP8zoPNHvR5o964jV/F92L/AMNyaJp19eWGpSb/ADIfIAuUMEjqgEjqykYVjkKMDGT0Ozd+ITai0iGk389/dI0gsIjCZY0XG5mYyCMAEgff5J4zzimmtxG95o96PNHvXKar4n3+DJdR0jMN1LKtnGtwoDQXDSiHDjoSrHnBIOOCQQauSS2Xg7w7Cm2aZFdYkUMDJcTSNjlmIG5nbJLEDJ60gN/zR70eaPesOTX/ALLpBvdR0y9s3MgiitJPKeWZ2IChfLdl5JxywxyTgc1Um8UStp9+IdH1CPUbSMO1k5g8xVYHbID5nllcqejE8Hik3ZNjSu7HT+aPejzR71znhLWL7WNCs5tR027tpGtYnNxOYds7FQSVEbsR68hetbjhzGwjZVfB2lhkA9sjIz+dVJOLsTF8yuT+aPejzR71yFhc6lYeNYdHn1eXVklsXuLkSxRIbZgyhCvlquFbLjDbj8nB4OZtNLaT40u9JRwbO9tzf28RPMLh9soH+ySyt7Et60t7ef6f8Mx7f1/Xc6pXDHAp1RRfe/CpaACiiigAooooAKKKKACqzbgh2AFscAnAJ+tWag2n0P5UAc94XLtc649yBHdtfg3MSHckbeREAEfgsNu05IU5J4GKoaNp9rpnxI1G2sIVhiGlW7YHJZjNMSxJ5ZieSTkk8mtuz0e5sdevryC6U2d8wlltngJdZQipuWQMMLtQfKVPPOR0psHhDw9bXq3lt4e0yG6R96zx2UaureoYLnPvT6p+X6WG3o13/wA7l8Xtqb42QuYftYj80weYPMCZxu29cZ4zU9YsXhsnxi/iG9mSWdLY2tqkcGzy4y247myS7ZHXgAZ45Jrb2n0P5Uugupx/icQ6tNN4Z0e3ja+vHinv50UBbWMMpEjsOshCAIOvAPAXNdRcXtrZtAl3cwwNcSCKESyBTI+M7Vz1PB4FULzwj4e1G7kutQ8PaZdXEhBeaeyjd24xyxXJ4FQ614YGt3WmLcSRx6fp86XKW6W/ztKn3PnzhVHcBcn1xkULpcGblUtUi1Caz26Vd2tpLn5pLq2adduD/CHTnpzk/Sr20+h/Ks/UvD+k6y0baxpNnfmLIjN1bJLsz1xuBx0H5Umr6DWhkeD7+ys/h9Y3FxJHZ2dtGYzNNOpjKq5QPvwo2tjI4HBHArpQQygqcg8gjvWV4k0KbX9Dk0mOeO1trkeXck2/mMYj1VOQFb0YhgPStK2tVtLWK3gQrFCgjQegAwKpu7bJ7GF4x1C4tNKitrRL5WvpPJe6s7SSdrWPGWfaisc4GF4+8wPQGs34e3VgIdYs9Ot7i2ggv5DGktlLAqptUAZdQM8cjqO45rtNp9D+VVZbOSO1uF0tYLW4mJfzHg3qXP8AEygqW6eo+tTqm35f5f5Detl2f+Y+0vLa/tUubG4iubeT7ksLh1bnHBHBqxH98VkeGvD0HhnQYdMtC0ixlndygXe7MWY7RwBknAHQYFa6AhxkGqYE1Pi/1gplPi/1gpAWKKKKACiiigApkv8AqzT6ZL/qzQBXrOvdV+x6zplh5O/7e0o8zdjZsTd0xznp2qHxW10nhTUTp4nM/knH2bPm4/i2Y53bc4xznGK4uObwpb+KNCuPBUFpPsiunkTS8bXIhyFfbx5h7bvm6+9S3a/kJ3srHpLtsjZsZ2gnFUdB1T+2/D1hqnk+R9sgSbyt27ZuGcZwM/lXnXhqezk8XaddaVNoirfWly1zDpEDbkO1GCzzbyJXBPVlVs7jjk0yOewuvCvhjStUj0SFDpMUsNxrUH2hJHICmKGHcu6TochsjIAB3cNuyd/63/yLSTR6xRXl/h6ytvEE/g5NdhXUUbw7O7pdKXWQiS3wWVs7vX5s8gHqM0ul6RZWPhzRNUgizqEesi3S8kYvMsP2lovK3nnywnyhc474zzV8u3n/AJ2Ibtfy/wArnp9Fcv48jsZdHtl1PUtPsYhchgmqAG1uWCtiKQEgY7jngqDg4xXH3ctneWmiG7h0TQtDaG48qDU7U3NgZhLwynfEvzLloyRyrNtAqf6/C5R6hPf21td2ttPJtmu2ZIV2k7yqliMjpwCeasV5lcaPolrb+E7nXZ9M1SyS6nQahPbKsIjZJGiRS5bCA4CZYg4XB5Fem/Sm1YlPUKKKKQwooooAKKKKACiiigAooooAKKKKACiiigAooooAKKKKACiiigArO1Kxi1TS7qwuCwiuoXhcqcHaykHH51o03y19KTSasxptO6OLj8L6nE8N5qOrpevY2E1pBBb2XlKwZV+Y5diX+Qd8dMKOSa/hLw3qM3h3w63iK4jKafaxPBZpZtA8T+TsxKWdixAYjgJz1HYd55a+lHlr6VXe/X/g/wCYuiXY42y8HXtv/Y8E+tLLY6LMHtIEtAjMoRkUSOWO4hW4KhB1yDkYoSfDYTasLya7sXZNRW/S5OmA3hxKJBG05ckqB8owqkAL2BB9B8tfSjy19KE2nzdf6/yG3fR/1v8A5nO3OiXy+JH1bSdQt7c3EMcFzFc2jTB1jZipUiRNp+dhzuHTjjnI1L4fQXeuXmoQRaHN9scSSDVdGF26sFCna4kQhSAODnBzg84rufLX0o8tfSkI5nWbS4stY03WrCB51tUe1ubeFcsYJCvzKvcqyKcf3d2MnAL/ABL4aHiBbcx3Rs5ot8byqm5nhkXbJH1GMjBB7FQcHpXR+WvpR5a+lAbbHI+I/B41u7sZYn0/ybSF4RaajYfa4OSuHCb1w4C4B54Yion8HXkHgb/hGdM1S2gheOaKWaax3kpIWOFVJECkbsdxx0HSuz8tfSjy19KOlgWjTXQ5e88PalfWOmtNqdoNT0248+C4SyYQn5GTDRGXJ+VjyHHOD7VnT/D/AO26Zdw6nqEV9dXGorqIknskaESCNY9jRZwyYUjGQQCPm3Dce58tfSjy19Kd/wCvu/yBabf1/VzmNG0dfC2mXsv2PTd2PMKaLpX2YyBRwNgd97enI61Z8Nafc2OmSSaiFW+vbiS6uFQ5CM54TPfaoVc99ue9b3lr6UeWvpS8w8hIvu/jT6QAL0paACiiigAooooAKKKKAGyfcNZ2p2015ps9tbNbK8q7D9rtzPEVPUMgZdwIyOorSIyMGk8tfSgFocRD8P4D4e1LS7qa1VL6RJRDZWYhtYWTBUrAzOOSoLDOG9BWh4b8LroM88pttCjaVAobS9J+xtjPIY+Y+4dOOK6fy19KPLX0oDpY5fSbG78J6UYbu9W70u0TZbxW+nStcKu75QSjNvwDjhB6+tWLfxTYXVwkENvqyvI21TLo13GoPuzRgAe5IFdB5a+lHlr6UeoHJ6b4f1uz8U3OsXesafOt5HFFPDFprx/LHv27WM7YOXOSQenQVrwWmoR65dXU2p+bYSRosNj9nVfJYfebzOrZ9D0rV8tfSjy19KAOLuPBd5L9qtYdZSDTLjUBqBgW0zL5nmLIVMhfBQsCcBQRx82AQaVn4e1bUr/xTaXFwlnpN/qDCSN7JvOnjMESsY5S4UA4K52N0POenoPlr6UeWvpQtPut+X+Q22/vucdqPg+6uF1a207VlsbDV0xcxfZBJIreUI8o5bABVVyCrHrgjIIi1rwGNY1COeW4sZohaJamO/04XRi25y8O5wI2OeSVYfKuQcYrtvLX0o8tfSgLv+v68jlD4Umh0HQbOw1BIrvQwnkXEtuZEcrEYjujDKcFWPRhg45NRa74NOvSWF3evpdxf2sbRP8AbNLFxbSBsEkRNJuU5UYIf1BznjsPLX0o8tfSm25O7EcrP4XZvBT6Pbf2fa3CkSwtZWf2eBJVcSIfL3NgbgueTnn1q1ILvxB4YCG2gs5512XFvqdmbiMYOHUoHXcMg4OcEYPINdB5a+lHlr6UnruGxxA+H8L+F7jSZ57X95dLdxxxWQFpC64wq27Mw2HGWXdyWYgqTxoaB4Xj0e3vInt9Gi+1KEY6Vpf2PIwfvfO+7rx0xzXT+WvpR5a+lHfzDrc5jTIbzwtoyxarfC/s7WNIbcWemSmcKOBuCM+84xkqijqamh8S2moSfZbKPU4biUFY5LjRrpI0bHBZnjVcfUjPSuh8tfSjy19KHruC02OR8M+G9Y0GRvtWr2F8s8hlu5v7OdLi5cjAYyGZgMcAALgAYAFWtNt7m98T3usXULwQxxfYrOOQYZlDEySEdgzbQPZAf4q6Ty19KPLX0p9bh0sMi+9+FS00KF6CnUgCiiigAooooAKKKKACsB/FWnJq0unKb6W4hkWKXyNPuJUjZgCA0ioVHDA8njPNb9ec69dQ6Pq2oS+G/EpfXLieORtCDQSiaTai7SgTzVBRQSwYBR8x4FC3sHRs7/cfU/nRuPqfzrPvtasNNvLG0v7gQz6hIYrZSpIkcDO3IGAceuM1foApanrVnpCRm9lk3SkiOKGJ5pZCOu2NAWbA5OBwOTVfUvEKabpkOovZ301o+0yyJGENuhx88iOVcAZ5ABYc8VzviOQWXjhLrUdf/sCxk04Rw3Z8pcyCQl0DyqyDIKHGMtt4ICnM8t9cX/wpvLrWoZWdrSbdgCF5kBYI+CCELKFbGDjPTtQtVf8Arf8A4APR2Ox3H1P51Mv3R9KoWKXSWaLfzRTTjO54YjGp544LHtjvz1wOlX1+6PpQCFooooAKKKKACiiigAooooAKfF/rBTKfF/rBQBYooooAKKKKACmS/wCrNPprruQgUAVqKk8hvUUeQ3qKAI6Kk8hvUUeQ3qKAI6Kk8hvUUeQ3qKAI6Kk8hvUUeQ3qKAI6Kk8hvUUeQ3qKAI6Kk8hvUUeQ3qKAI6Kk8hvUUeQ3qKAI6Kk8hvUUeQ3qKAI6Kk8hvUUeQ3qKAI6Kk8hvUUeQ3qKAI6Kk8hvUUeQ3qKAI6Kk8hvUUeQ3qKAI6Kk8hvUUeQ3qKAI6Kk8hvUUeQ3qKAI6Kk8hvUUeQ3qKAI6Kk8hvUUeQ3qKAI6Kk8hvUUeQ3qKAI6Kk8hvUUeQ3qKAI6Kk8hvUUeQ3qKAI6Kk8hvUUeQ3qKAI6Kk8hvUUeQ3qKAI6Kk8hvUUeQ3qKAI6Kk8hvUUeQ3qKAI6Kk8hvUUeQ3qKAI6Kk8hvUUeQ3qKAI6Kk8hvUUeQ3qKAI6Kk8hvUUeQ3qKAI6Kk8hvUUeQ3qKAI6Kk8hvUUeQ3qKAI6Kk8hvUUeQ3qKAI6Kk8hvUUeQ3qKAI6Kk8hvUUeQ3qKAI6Kk8hvUUeQ3qKAI6Kk8hvUUeQ3qKAI6Kk8hvUUeQ3qKAI6Kk8hvUUeQ3qKAI6Kk8hvUUeQ3qKAI6Kk8hvUUeQ3qKAI6Kk8hvUUeQ3qKAI6Kk8hvUUeQ3qKAI6Kk8hvUUeQ3qKAI6Kk8hvUUeQ3qKAI6i8o+1WfIb1FHkN6igDCu/DsV/rVpqN5cTyiyO+3tSyiJJMEeZwu4tgkcsQM8DPNanlH2qz5Deoo8hvUUAVvKPtWfrGhjWrVbW4u54bYtmaGEqBcL/cYlSQv+6VPvWz5Deoo8hvUUAVvKPtUgGFAqXyG9RR5DeooAjoqTyG9RR5DeooAjoqTyG9RR5DeooAjoqTyG9RR5DeooAjoqTyG9RR5DeooAjp8X+sFL5DeopyRMrgkigCWiiigAooooAKKKKACiq9/fW+madcX19J5VtbRtLK+0naqjJOByeB2rFHjvw+ZWhW6uGm2h44VsZzJcIc/PEmzdKvGSyBgByTigOlzoqKyH8UaQmlWuorcSTQXgzbrb28kssnriJFL5Hcbflxzio5PGGhxWdpctekpes6W6pBI0kjoCWTYF3bxgjYRuyCMZ4oA26KyE8VaRJo7amLmQW6ymAq1vIsvmg48vyivmb8/wAO3J7CsbW/G9k/hnWJtEvXhvdNhjlmWe2eJ7cOxA3pKoxkKxwR0wehBJ0b7C6HYUVk2PibStRubiC3nlSS3j85xcW0kOY8kb1LqA6cfeXI6c8im2vivSbtborLcQtaQmeVLqzmt3EYzlwsiKWXjqoNG24zYorFsPF+ialewWtnduz3KF7aRreRIrgAbj5cjKEkIHOFJPB9Di3/AG5px061vvtH+jXciRwvsb52c7VGMZGT60dbB0uX6KyrfxLpl3qx063kuJJg7R+YLSXyS6gllE23yyRg5AbOQR1BqfVNYstHjje9eXMrbY4oIHnkkOMnbHGrMcDk4HHegC9RXOf8JCt9ruhf2VdCSxvEufNGzBLRheGDDcrKcgqcEHII4q3YeKtI1K+W0tLiRpJAxhd7aWOOcDr5UjKEk45+QnjnpR5B0ubFFc2vxA8NN5Z/tFgk24QyNbShJmBwY0crh5Mgjy1JbPGKuweKdIuNJn1FLl1gt5PKlWWCSOVJOMIYmUPuO5cLtydwwDkUbjszXorDPjLQk06W9uLx7WGGaOGUXVvLC8TSEBNyOoZQSRgkAd84FVr7xzpltoGrajbJdzyaXD5stpJZzwy8glcoybgpwfn2lRgnPBoeiuCV3ZHS0VT0nU4tY0uG9gjniSVc7J4HhYH/AHXVTj3xz1Fcz4h8cWkcdrBo15Ks8up2tsJjaP5MytcIkiJKyeW52luFJIwx7HDSbko9WTfS52VFZMvibS4NXTTZpLiOZ5BEsjWkogLkZCedt8vd2xuznjrxVDVvFWmyaXrEVjq0llPYxTCa9WxkmSzdByW+XaWGQQhOWHTIpLXYrrY6WioZbiKzsWubydI4YY98s0hCqqgZLE9AO9c1H4uh1LxZpFlps1xHFPFO80NzZyQNIFVSrASorFck8rxR1F0udXRWPaeJ9M1C6ks7SWdbkRtJGs9pLCJVXgtGXUCQDI5Ukcg9xWdo3iuOLwVomoa291Pc3lmkshtbGSdidoLMVhQ7Rz1wBR0v/XX/ACHZnU0Vi3Xi/RLT7Huu2nN9Abi1W1t5Lhp4wVyyiNWLY3qeO2T0BIjsvG3h/Ubi1isb/wA8Xh2wzJBIYWfBby/N27A+AfkJDD0p2ZN0b1FFFIYUUUUAFFFFABRRRQAUUUUAFFFFABRRRQAUUUUAFFFFABRRRQAUUUUAFFFFABRRRQAUUUUAFFFFABRRRQAUUUUAFFFFABRRRQAUUUUAFFFFABRRRQAUUUUAFFFFABRRRQAUUUUAFFFFABRRRQAUUUUAFFFFABRRRQAUUUUAFFFFABRRRQAUUUUAFFFFABRRRQAUUUUAFFFFABRRRQBkeLLG41PwbrFjYx+bc3NlLFEm4DczIQBk8Dn1qqdLuz430rUPJ/0a30u4t5JNw+WRnhKjGc8hG5HHFdDRTTs7/wBbNfqD1Vv66f5Hmy+EtSt47C7utOv7n7Pcaislrp2pG1nCT3JkjdWWVFYYUZUsPvDjIxW1Y+Hmt9Q0C4s9MuLSGCe6nuUurv7RLG0iEAs7OxZieuGYD1rr6KT1/r5iaucLJoWsWutXurQWIuRFrv22O28xA9xCbRISUJYKrA7iAxGdp5GQaz7y21PxDq3i+JdMe3nn06wjitpZUL8STEhyCUDck4DHgqc84HfanpVrq9ssF75wVHEiNBcSQOrAEZDxsrDgkcHoabpWjWOi27w6dEyCWQySySyvLJK543O7ksxwAMkngAdBTu2rPtb8kElf5/53MLxJpetzeIU1DQVVJYtGu4IZnZcJO7wlBg567G5wQMc+lYD6NfQyapqcunapa250K5hd9U1IXMrSkg8KJHVAQCfkIHXgYGfSqiuraK8tJra5TfDMjRyLkjcpGCMjnoaiSbjZdmvvv/mUrXu/L8Lf5HHadDqutQ+G4JtGfT7bTTHcyXTzxukm2IqqxBW3c7+SypwCO9V00/xAdI0jRDojqum6jC8t41xF5csMcuQ8YDFs42kqyrjnBOBnu4IY7e3jghXbHGoRFznAAwBT6ttc/Mu9/wCvuIS9zlfa39fecfpFhqdt4pLWGn6hpWmtLM95Bc3EMttMxLESQhWZ0ZmIYj5FxnI3dX+LdDnvNa03VIrO/voraGaCW307UGtJxvKEMrCSMMMpgqWHUEZxXW0UuxXc4qHwvJ5mmfYrC5sIDHem4FzeefLE8ygAs5dizHGeGYD1qDwv4bNtc6bHqWhatFc6avF1ca09xaBwhTdFGZ2PIJwGjXAJ6EAHvKKFo20HT+upxVp4f1KPQvCVtLa/vdO1DzrpS6ny18uYZ688uvTJ5qDWfDGp3dzrdxHaySK+qW15BFDeGB7mNIERwsiMCjZDYyVBIGSAc13lFKy/X8v8iuZ/hb8/8zgJPC73OntNYaHqVpdSajYNMNU1L7TLJFDOrk5M0gCqC5ADZPPHTOnrfh++1PWNfMSKkN/oIsYpWYY83dNkEZzwHU5x3rrKKcveVn5/irBGTi7ry/B3M3SWubrw/Cl5ZT6dP5PltDM0bMhAxnKMykdxz+Vce+neIX8MaL4fGgsjaZeWXnXYuIhDLFDMhLxjcXyQobayr3wSQAfQqKrmalzeaf3EW0seb6poXiHU9Qi+12OpXNzBrMNwLr+0Vjsxapcq6hIFk+ZlTGd6ZyGIYkKDp3/h/UZfAfizT4bUG71GW8a3j3qPM3/cOc4Gfciu1opJ2/r0/wAim7u/9df8zI8Sabc6p4XubKy8r7Syq0azE7HZWDbWx2O3B69e9Ys48Q6zr+m30WiyaUlrbXSFr2aF2WV0UIcRuwKZB5znjoO/Y0VLVxLS1jz7RtD1h/EWl6je6dqsUkNtOl7PqOprNvldV5jiSRkRSc/dCY4G0Cm22ia9baNoOnXtlqU1pBpkcMltpuoLamG5HBaWRZEcpg8BCw4YlSdteh0U3r/Xr/mNOyOG8J+HdU0y48MNfWvlCw0Oa0uf3qt5crPCQvB54RuRxxUsHh7UYvCenWX2ULPDrIupEDrxH9qaQtnOD8pzjr+NdpRVcz08v87ktXv5/wCVgoooqRhWZWnXN+IEv5PDeopo7Fb9rWQWxBAPmbTtwTxnNJ7DSu7Bc6t9n8RWGl+Tu+2QzS+bvxs8vZxjHOd/rxipLS6vptSvobrT/s9rCUFtc+er/aQVyx2jlMHjnr1rjNF0/Tl8Y6Ve6H4cuNPgjsbhLu6k05oGkkPlkK5YB3bhjuIIJJwSc4s+E5dMs/FmrRaVpF5p9re+SYMaNPbRMyo28kmNVU+5xn3p+Qnsjt6K8+0Szjs/GqvZact+ZZ5jLfXehzW11bg5O43TgLKM/IFAB2kckKc2dKs9Oh8Q3LeI9FuLnWmv3a3v5dNe4URFsxbJlVljULgYJXBBJHOSLWwPS53FFeWeJba+1HXbuWHR1S+t72IW8q6NPJcGJWQ+Yl7vCKMbjsAOORgkmtxPCNnrfijxS2t2UskM8kK2zyA7UPkKDJFn5Q4PG8cjGM0lqrj6tHXalef2fpV3ebPM+zwvLszjdtUnGe3Ss3U/EDWmiWdxa26y32olI7O2Z+Gkdc8n+6oyzEDop4rlPEOlwzXeuQa1ol1rl09sqaQ72RuFVfJwcORsjfzAzEkqW+Xr8orYv91hL4QvLtWSCBxbzbhjy3kh2IWz0+bC/Vqa1b+X6ilpb5/p/XmdZHvEa+aVL4G4qMAnvgU6uY8TRXGl6raeI9Ns5bueKJ7S4ggjLvLG3KcD+7IF56AOxrG1fTZtL8P6Rpdzp8F6kzSTX9xLpcuoRCc/OSbeMgnc7Nhjwu33FF9L/wBf1b/IdtbHZ6vc3tnpslxpttBdSxgsY57hoVKgZPzBH59sfjTtJvv7U0ayv/L8r7VAk3l7t23coOM8Z61yHh2SfRPh9cQ6pZ3iO1xdRwQW+nzMVRncoFiTeUTGMDJAGBmovMkuPA3hySOx1DOk3VmbuF7CZZVCKAxWMoGcDP8ACD39KF/8j+O/3aEyutvP522+87+mtuKHYQGxwSMgH6V55qseqarY+I7nT7C9giubm0bbcWr7ri3UKJMRbldgQDlMqxGRjnB0vAunraX2oS2zpDbyJGDZ2+g3GmQq4LfvAspIZiMAleyrntQtU/6/r/Me2pvaBq76pazJeRLBqFnKbe7hQ5VZAAcr32sCGGecH1res/4/wrlPD5F14k8Q30LZt2nit0I6M8SYcj8W2/VD6V1dn/H+FG6uBaooooAKKKKACiiigCK5/wCPdvw/nVGr1z/x7t+H865nxXbRXnhe8t55rmFJFAL21s9w33hwY0BLqejLjlSRx1pMa1ZsUh4rzmK01F/BGs2uh6TbWP76IpJZaVJYfa0yplH2dyHyFDL94bugINWfCugWNzcX0c1vatYTQKsunL4bn0+3dw2RIUmJV24xkDPTPQUO4ulzsdI1SHWtHtdStVkSG6jEiLIAGAPrgkZ/GrhIVSWIAAySe1cX8O9N0vStLgs49DOn6vbweVeTnTGh8wqcH99sCyAkAjDHPWu0JwM035D6mPo/iey1zUryzsorkG1jil82WLYsqSbtrID82Mo3JAzwRkEGtmuK0XVI5viNq04s9UjgvbW1iglm0u5jRmQylgWaMBcbhycA54rpoNV8/XLrTfsF7H9njST7VJDiCXd/Cj55I7jHFN26C6sbrurf2LpRvfJ8/E0MWzft/wBZKqZzg9N2fwqS5ur6LVrO3t9P8+zmDm4u/PVfs5AG0bDy245HHTFeeanpi3Udyl54eub3xCNXSQXxsC3l24uVZGSYjaFEWBsRiRzlfvEbGtTaZZ/EDTdQi0e8NzCZVvLy20aeQspiwgMiRneOg4Jx7YqUOWiO4orz/wAY2cTeIftsVgur3QhRY7G+0Ka6iJBJAiuANkBbOGLbgMKSBirmv2trL4qjn8UaRcalpRslW2iWye9ihn3Nv3RIrHcVK4crjAYZGcF9AO0org/FqJdXGm2SaNbyad9lLwtdaFPforZAWMQoVEJC/wATY444wap6d4fub/8A4QuDW7G6eK3srpLuOVX2g/uwscvJBU4+6xIOO+KP6/MXWx6RWRD4hg+zaxc3ii2t9KneOSQvnKqiuW6DH3unPSsHWNBs9It9MszZXN54eW7mkubKOBrhY9wLIvlIpLRqx4XaQCVPQcUYtJkXwH4pt9O0eXTo5LqSa1sxAsReMJGcKo4AbaePfBwcgLv6f5f8EH0t3/zOsstS1GTw+uo3WlyPcS/vI7G3ZBIqE/KrF2Vd4XluQAcgZxythrL6vbX0VtbS2GoWp8toL5VPluV3IT5bEMpyD8reo4NPn1SwufDi34a5msbqFWVrKOV5CrjgqIgXHXqOR14rJ8IWjW97qstpDeRaVcPG9ub9HE8kgUiRiZP3pHCAeZzwcfLtqmtWhJ6JmvoOr/2zpvnSRfZ7mGRoLqAnPlSqcMue47g9wQe9b1p/qT/vVyHhMefea/qERzbXmpMYSOjCONImYfVkb8AK6+0/1J/3qXRPyX5D2dieiiigAooooAKKKKACiiigAooooAKzK06y2BZCAxUkYDDGR780AZdnq1xfa9fWkNpGLOxYRS3DTkO0pRXwse3G3a4+YsDnPHemN4msh4qTQESaS6aMyNIqjyoyBnYzZ+9gg4APBBOMjNPw6s0J8QW8TLPdwXu37ROcG4f7PEQ0m0YHUD5VAwOBWDYaX4m07X9E87SdPkYNcSXd3HfyuJHkC73b9wNp4+VfQAZAFHb0X4/1+Q2ehVhw+JJLnVriytND1GeO2uBbzXatbiJWwpJw0ocgBh0X6Zqw2v2yeKo9AeG4W5ktDdxy+X+6ZQ20gNn7wyOMdxXNaxaRDWJT4Xj1qHW5LyOSRx9qSzPKiRn3/uGGwH7uWOBjnmhbr+uv/Diei/rt/wAMdzWVqOupZXq2VrY3epXpTzWt7QJmNMkBmaRlUAkEAFsnBwDg4XUdfttM1rS9NuYbgyao8iQypHmNWRd2GOcgkZxx2Nc1rdjHb+KdRudSXXGgvLeH7KdJNwPnQOCrGDkH5gRvOzn1BpNjOi1jWLrSls7j7AslnLNHFcMZ9ssBkdUUhApDjcwz8wwOma165PUTfxfDuzTXVSXUWNnHOSfuytNGu/5SOQTu44yPSuntongtY4pbiS5dFAaaUKGc+p2gDP0AFV39RdEzYooopAFFFFABRRRQAUUUUAFFFFABRRRQAUUUUAUdbvLnT9DvLuwtWvLmGIvHAoJLkew5P0HJ6DmuTbxpc2+iJMuo2Gq3F1eC0hksNNnJtm2F3EtsrvJuUKfkyp5AO3k12V9ateWUkEd1PaO4G2e3K70IOcjcCO3Qgj2rFbwbay2sgudQv5r57hLkakWjWdJEG1GAVBHwpK42YIJBBzS6/wBf1+XqPQ5jV/EPiO/8J3ZgmNjPa6haIt8+l3NotyjyoMLHI6uuCcN8zBhkcbvl9EtVuEtY1vJY5bgKBJJFGY0Zu5ClmIHtk/Wsqbw4LvQbjTNS1S+vTOwf7VN5QljZSCpUIioNpUEfL165rVtYXt7WOKW4kuXRQGmlCh5D6naAufoAKYuhLRRRQAUUUUAFFFFABRRRQAUUUUAFFFFABRRRQAUUUUAFFFFABRRRQAUUUUAFFFFABRRRQAVT+ySeq/nVyigCn9kk9V/Oj7JJ6r+dXKKAKf2ST1X86Psknqv51cooAp/ZJPVfzo+ySeq/nVyigCn9kk9V/OobzSI9QsprS9jint50KSRvyGU9RWlRQBRjsGjjVFI2qABliT+Z5NO+ySeq/nVyigCn9kk9V/Oj7JJ6r+dXKKAKf2ST1X86RrF3QqWGGGDhiD+Yq7RQBmWWjxadYw2djHHDbwIEjjXOFAq7bwtFu3EHOOlTUUAFFFFABRRRQAUUUUAMlQyRFR1PrVb7JJ6r+dXKKAKf2ST1X86Psknqv51cooAzLzSBf2j208kixyYyYJ3hcc54dCGH4Gs228F2drcxzxXOqM8bBlEus3cik+6tIQR7EEV0tFAeRT+ySeq/nR9kk9V/OrlFAFP7JJ6r+dH2ST1X86uUUAU/sknqv50fZJPVfzq5RQBT+ySeq/nR9kk9V/OrlFAFP7JJ6r+dH2ST1X86uUUAZdlosOnQvFZRxwxvI0pRScBmOWIHbJJOB3JqS40z7Vay28xzHKhRwrspwRg4IwR9RzWhRQGzuZ9vpa2lrFbWqRQwQoEjjQYVFAwAB2AFXIIzFGQ2Cc54qSijcAooooAKKKKACiiigAooooAKKKKACqf2ST1X86uUUAYyeHLaLWJNUiUx3UyBJSkzhJMcAsgO1mA43EZxxnFXfsknqv51cooAxbfw3a22qXGpRxg3lwoR5pJXkYKDnau4nYuedq4GecVe+ySeq/nVyigDFbw3avrKarJGJLyNDHG8krsIgeuxSdqE9yoBPer32ST1X86uUUAY194cttSurWe9Uytav5kSGZxHu6higO1iCAQWBweRirv2ST1X86uUUAFFFFABRRRQAUUUUAFFFFABRRRQAUUUUAFBOOvFFMl/1ZoAdvX+8Pzo3r/eH51VooAtb1/vD86N6/3h+dVaKALW9f7w/Ojev94fnVWigC1vX+8Pzo3r/eH51VooAtb1/vD86N6/3h+dVaKALW9f7w/Ojev94fnVWigC1vX+8Pzo3r/eH51VooAtb1/vD86N6/3h+dVaKALW9f7w/Ojev94fnVWigC1vX+8Pzo3r/eH51VooAtb1/vD86N6/3h+dVaKALW9f7w/Ojev94fnVWigC1vX+8Pzo3r/eH51VooAtb1/vD86N6/3h+dVaKALW9f7w/Ojev94fnVWigC1vX+8Pzo3r/eH51VooAtb1/vD86N6/3h+dVaKALW9f7w/Ojev94fnVWigC1vX+8Pzo3r/eH51VooAtb1/vD86N6/3h+dVaKALW9f7w/Ojev94fnVWigC1vX+8Pzo3r/eH51VooAtb1/vD86N6/3h+dVaKALW9f7w/Ojev94fnVWigC1vX+8Pzo3r/eH51VooAtb1/vD86N6/3h+dVaKALW9f7w/Ojev94fnVWigC1vX+8Pzo3r/eH51VooAtb1/vD86N6/3h+dVaKALW9f7w/Ojev94fnVWigC1vX+8Pzo3r/eH51VooAtb1/vD86N6/3h+dVaKALW9f7w/Ojev94fnVWigC1vX+8Pzo3r/eH51VooAtb1/vD86N6/3h+dVaKALW9f7w/Ojev94fnVWigC1vX+8Pzo3r/eH51VooAtb1/vD86N6/3h+dVaKALW9f7w/Ojev94fnVWigC1vX+8Pzo3r/eH51VooAtb1/vD86N6/3h+dVaKALW9f7w/Ojev94fnVWigC1vX+8Pzo3r/eH51VooAtb1/vD86N6/3h+dVaKALW9f7w/Ojev94fnVWigC1vX+8Pzo3r/eH51VooAtb1/vD86N6/3h+dVaKALW9f7w/Ojev94fnVWigC1vX+8Pzo3r/eH51VooAtb1/vD86N6/3h+dVaKALW9f7w/OgMp6EH8aq0+L/WCgCxRRRQAUUUUAFMl/1Zp9Ml/wBWaAK9FFFABRRUcNxDceZ5E0cvluY32MDsYdVOOh56UASUUUUAFFFFABRRRQAUUUUAFFFRLdW73T2qTxtcRorvCHBdVOQCR1AODg+xoAlooooAKKKKACiiigAooooAKKKKACiiigAooooAKKKKACiiovNPtQBLRUXmn2o80+1AEtFU01G3kvJLSO4ha5iUPJArguinoSucgHBwan80+1AEtFReafaq15qlvp8cb3kixiWVIYxgku7HAUAcn+gyegNAF6iovNPtR5p9qAJaKzdQ17TdJaFdV1GzsmnJWIXM6xmQ8cLuIz1HT1q75p9qAJaKi80+1V77UoNNspby+kWG3iG6SQgkIPU46Adz0A5NAF2ioRMWUFcEHkEd6kRiy5NADqKKKACiiigAooooAKKKKACimscKSKZ5p9qAJaKi80+1Hmn2oAloqLzT7UeafagCWiovNPtR5p9qAJaKi80+1Hmn2oAloqnNqNvbTQQ3FxDFLcMUhSRwrSsBkhQTycc4FT+afagCWiovNPtTJblYYXlmZI40Us7scBQOpJ9KNgLFFVLS/jvrOG7tjuhnQSRsUKkqRkHBwR+NTeafajYCWiovNPtR5p9qAJaKi80+1Hmn2oAloqlY6pb6lai5sZVliLMu4AjDKSGBB5BBBBB5BFWkcs2DQA+iiigAooooAKKKKACiiigAqvViqzAshAYqSMBhjI9+aAMuz1a4vdevrSG0jFnYsIpbl5yHaUor4WPbjbtcfMWBznjvUel+KLHWNWnsLJLgmGBJxO8e2OVGZlBTPJGUPOMEYIJBzUHhZTDc65byOZpYb8LJcvjfOTBEdzAYUHBA+UKMAcCsuw1WOX4mXk4s9UWC4sYLaOaTS7lEMiySFgWMYAGGHzHA560dUu6/S43s3/W52lFZba/bJ4qj0B4bhbmS0N3HL5f7plDbSA2fvDI4x3FalHmIw9T8TppVzILnS9QNnCyLPfrGghiLEf3mDsBkZZVYD14ONyuH8T6q2pa4dDu7PVINIgKSXc8Ol3E/2w5DCJGjjYBOBvbqfujuR0WseIbXRI9Okuobl47+6jtUaOLPls/3S4OCBnjpnJHFC1QPRmtWfqeo3NgIzbaPe6luzu+yPCNmPXzJE6+2elaFYfiabTvs0VtqiauySEsv9mRXZPAxhmtxkDnoxwfwpO/QaNLTdQt9W0y3v7MsYLhA6blKkD0IPQ1arl9OvZvCnw6F5rVrMRp8Ls1vbxx+YkIY7BtUhNwTbnGBwa6O2uEurWK4hyY5kDrkYOCMjjtVO13YnoOlljgheWZ1jjjUs7scBQOSTWb4f8QW3iSwlu7OG4hSOZoStygRiQAc4ycAggjOD6gVW8Wadqeq2FvaadDZ3Fu0wa9gurhoRNGOQgZUfgtjIxyoI71U8GprMUus/wBr6bBaJJfySx+VcO5ckL0DRpleOGzzzwMVKerv2/y/zCWiVu/+Z1NOj++KyfD2vW3iXRo9SsoriGN3eMxXMeyRGRirAjJ7g961o/vimMmp8X+sFMp8X+sFAFiiiigAooooAKZL/qzT6ZL/AKs0AYHinULjS/CuoXlm6xzxxHy5HXcIyeNxHcDOce1YOraP4b8O/Y7q68LvqL+fEH1bZDJPHIZFVHeWRxKTuI5XOAMcDiuxuLeK7tpbe5jWWGZCkkbjIZSMEEehFYD+Dlkjitptc1WXTopI3WwkeJ0+RgyqZDH5pAKjq+eOtC3AzdU8ZXFh4hijgurW8s2vorOSCDT53MRdhH810GMSuGIJQqDjjqQar2Nxr1qviW80o6etvaanPK0VxG7vc4RCVDBgIuhAJD9c4GOdeTwRaySBf7T1FbNL1b+OxR4xEkwl80nOzeQWySrMR8xwAQpBc+Cbe4a+QatqkVrqUzS3lpHKnlz7gAVyULIpAwdjKTk80rdt7P8A9tt+TB2cl2v/AJ/5ot6Vrr6neXgREFvHa29xCcHcfMVm559hWLpniTX9cOkQ2X9nWz32kLfzTywvIsbllG1UDqSDk/xDHXJ6Vs33heG71Bru31C+0/zYFt7iK0dFW4jXOAdykqQGYbkKtg9eBh+keGLLRWsjaSTt9isFsIxIwOYwQQTgD5uOvT2qtG79P+A/1sTqoW6/8Ff8EyLDxNq2s22n2litnbajMLn7TcSxNJCn2eXymKxh1Y7mxgFhgdSccth8T6kmn6wmqXWmWd5Y6itlDKtvLKsv7qOT5YQ293bc2EU5HTLYyTU9F03Q4bIxS61bzxzXMkV9p1obmSPzpPMkjZVicbSW4yhA2DnPWDQPCjXljdXk8+o2E8+qNqFpPJs+0x5iWLcyurKC4DHYV+UOBhSMBqzv/XVfoVt/Xk/1G2vjTVbnRyYYLeW9i1mPTXea2mtVkVwrb/Kc70IVxwc5Iz0Ird0TU9SfXNS0fWXtZ7i0jhnS4tIGhR0k3gAozuQwMbc7sEEdKZa+DrO2R915e3EkmopqUks0ilnmVVXsoAU7AcADGcDAwBpw6VBBrl3qqNIZ7uCKB1JG0LGXKkDGc/vDnn0oVrP+ui/W4ne/9d3+ljnNZiW+u/E11MNx07TWtbcHnYXiLyMPQsCg/wCAe9Sa/wD8kyh/65Wn/ocdaS6fcQ+KbxzAJ9O1K3UTHK/upUG3kE5IdSBxnGznrUFt4PgtxbwS6pqF1p1q6vb6fO0ZiiKHKDcEEjBSBgM7dBnOKzit79bfg3/mN/l/wP8AIz73XvETXHiJ9O/syK20RxtE8UjvcjyUkK5DgIeSN2G6/d4+ZJ/FBttW1Ke2022kmNlp5gJGySV7iWRFSSTn5FOD04y3XNb/APYFrs1hfMmxq7Fp/mHy5iWP5eOOFHXPP5VWfwhpsv2sTmeRbq0gtHBkxtWEsUZSACHBfOc9QMYq1a2vl/wSna/9eX/BIItR1zTdUistaewvFureWSKe0geDy3jAJRkZ33AgkhgRjbjHNZmleItcu9P8OXutR6a9lr6pE9rDA4eJnhaQNvZyGU7Tldoxu6tjndsvDa29ybm/1K+1S5WFoIprvygYUbG4KI0RcnAySCeBzSJ4btLbSNGs4muZE0Mo9sAy75CkTRgMSADkMfTnHSlpZ38vu1v+Fv61JX+f39PxI/CHmQ6bd6fIxZdOvZraEntEDujX/gKMq/hW/WP4Z0+5sNLkbUAFvLy4lu50BB8suxITI67V2rnvitijor+X39Rd/V/noFFFFAwooooAKKKKACiiigAooooAKKKKACsfX7+XSvDepahbqjS2lpLMiuCVLKhIzjHHFbFVJYo54XimRZI5FKujDIYHgg0pXa0Ki0mmzn7jxDdxXWkxrHCVvdOnupMqeHRYyAOenznP4VQ0LxHrl3/wj11qY0/7NrkG8QW8Th4G8rzAfMLEMDg8bRjI5OMnWsfB2h6fOs9vayNMsLW6yz3UszrEQAYwzsSF44UcDnGMmrkGh6dbQ6dFBb7U0tdloN7Hyhs2evPynHOarTX+u/8AwCOiRl6TJcp441a2vk06SQWsEy3NtZmGVkZ5AEdi7btuzg8dTxVA+Jdb/sn/AISECx/sr7T5f2IwOZzH5vl7vND7d2fm27P9nP8AFWxbeEtLtNXOpwnUPtZwGeTU7lwwBJClWkKlRuOARgZpV8I6Kmofa1tpA3nfaPJ+0y+QJc53+Tu8vdn5s7c7vm680l0G93b+tDDm8Ta8IdSv4105bPTtSNo0LRSNJOm9Fzv3AIQG/utnHatN1+1/EpFnDFLDTRLbgn5d8sjKzfUKgH0Y+taR0HTTZ3Vqbb9zdz/aJl8xvnkyDuznI5UcDjiotT0mWbVrHVdPdI7y2JicSEhZoGI3qcdxgMp9RjoTSV1y/wBdLfnqHR/11v8AloZ2o+J59HvtZgvoo28i2S508IpBnDHZ5ZyeW8zaOMcSLTNa17UNOjtLRby2j1I24lnWLSbm+yehIjhbMals4ZmOcEc4JrcvtGsNSvLO6vbcSzWTl4G3MNpOOoBwRkKcHIyAeoFQaj4b0zVb5Ly7jmE6x+UXhupYd6ZzscIwDrnPDZHJ9TRrb+v69R6f1/X9XMDVtWfXfhCdUliEL3dpFK0akkKSy5AzzW5f6vPa+LNI0uNIzBfQ3DyMwO4GMJtxzj+I54NR3fg/RrzSrfTZYbmOxto/Ljt7e9nhTbxwQjjdjAxnOO1Sz+F9MubO2t5/tjC0Zmhm/tCcToWzn98H8wg56FsdPQU3vcS0ZgXfjS9i09NkSLcz6rc2MciWc1ysaRM/zGKPLudqYwCBk5yAMVseGdVvNZs7xNVtXBhmMSzPYy2qXKFQdwil+ZcZKkEkZXOecCUeEtEXSU02GxEFrHMZ4lgkeJopCSSyOpDIeT90jgkdDUo0uXTdHuLbQppPtEmTHJqF1NchGOBnLszEAc7QQCfTJNHSz/rb/glPV6FDwLmPw49mCxhsby5tICxz+6jlZUH4KAv4V1EX3fxrO0nTYtH0mCxgZ3WFcGR8bpGJyzHHckkn3NaMX3fxpsnd3H0UUUgCiiigAooooAKKKKAGyfcNZGvXl9YaHc3OlWpu7qNQUiC7u4ydoILYGTtBBbGAcmteT7hqje2cV/aPbTtMiPjJgneFxg54dCGH4GkxrfU5X/hMJbPwxf3011DqN3bzRwiGPTZ7R4mkKqm+F2eQ/ezwOR0BqTSNb13VJruxUoJFhWWHUJtDurWIHdhozFK4LHHIKv35HHOxD4Z0qLT7qza3e4hu+JzdTyTvJjpl3Ytx2547YqbTdFtdJaRrWW+kMgAP2q/nuAMegkdsfhihq4tbGB8N4tUTwZpT3t5ZzWhs08qKK0aORP8AecyMG49FFdcRlSASCR1HasaHQotEjuJvD1uzTvnZa3GozLbjLZOFO9Y+5+VPbjNFvc+JnuEW80jSYoC2JHi1WV2UdyFNuuT7ZH1pvUb3uZHhvT4tN+IfiGGF5ZCbKyZ5ZpC8kjEzZZmPU/oAAAAABXY1h2XhDSdP1Y6lbHUPtbAB5JdUuZN4GcBlaQhgNxwCCBmrsGiafba5daxDb7b+7jSKabex3qv3RjOBj2FNu4urMA+K74eHNQv/ACrfzbbWDYoNrbTH9pWLJ5+9tYn0z27VWvPFGvIuv3lsNOSz0S78oxyRSPJcqEjcjcHAQ4c84bPoMc7dx4N0K6vnurizeR3mFwUa4l8oSjGJBHu2B+B8wAPXnk1afw/pj22oW7W2YtSkMt2vmN+8Yqq568cKo4x0pR037fjp/wAH7xys9u/4a6GZrktzD4o0BpI9OntJ7oxIs1mWngfyZGLpLvwPu4xt6E80+71DWr7XrzTtClsbQWMUbSS3lu83mu4JCgLIm0ALyTnOenHNnU/Cml6vfR3d8b4zRENH5OpXEKxnBXKqkgAOCRkDPJpb/wALaVqU6z3MdykwiELS297NA8iDortG4LgZP3s4yfU0dAMOx8Uazr19ZW2lpY2X2jTvtcklzG83luJChUKGTcDjg5X156U2+1GXxB4X8OC+iVE1S+ijvEiJ2EKHcrzztZowMehxXU2+j6fa3kdza2qQyxWwtY/LyqpEDkIFHAAPtVS98N2dx4eXSrXdaJCyyW0iEs0EituVhk84PbuMiltb1/W/5CXW/wDWn+eoeJtQ1HTdLjm0q3812mVJZBbvceRGc5fyUIeTnAwpzznsRWLdeMJbXw5Zzw3MN/eXd4bPzoNNnAhYBmbdbBml3KFIK5Bz12jmuhm01tV0q3h1hpYp1CtL/Z95NAN+OcMjKxXk8H2qI+GdJbSf7Oa3doPN87eZ5DL5mc+Z5u7fv/2t2fen3Q+xyuqatrWseAvEcbbIGtbWXN1PpNxbrdRGJiQkUrKyMDxuy46HHOB1Xh6LVI9Mi/tW8tLnMSeV9mtGh2jHQ7pH3dumKnstGtLGzmtUNzPDNnzFvLuW5yCMEZlZiBjt0qnFpMvh+x8vwzbfaWYqpi1HVZ9iIAcbSwl29hgAD8qNr/IN0l2ua1xAl1aywTbvLlQo2xyjYIwcMpBB9wc1yPhWz0//AISq+uvC1lDZaJHbi2ZraMRw3dwrnLKBw2wfKX7kkZO2tdY9Z1SOWx17StPhsLiJo5WtdUleQgjGAPJTGfUMCKk0jwvpuhtH/ZpvkSKPy44ZdSuJYkXGABG7lRjHHHFC0dxPVWKWmr9j+Ies21uCIbq0t7yRR90TEvGT9Ssaf9811EX3vwrH0bS57Oa8vdRlSa+vpA0hjHyRovCRrnkgDuepLHjOBsRfe/Cjov6/rsN6u/8AX9dSWiiigQUUUUAFFFFABRRRQAVDs/2l/Opq5aLW9Xvdev7PT9LsntbC4SCWee/eNzlEclUELDgP3YZx2oDzNVNFsotYk1SJWjupkCSlJnCSY4BZAdrMBxuIzjjOKvbP9pfzptFAFO30SxttUuNSjjzeXChHmklaRgoOdq7idi552rgZ5xV7Z/tL+dY+p6vcW99Fp2lWaXt/JGZiks3kxRxg43O4ViMngAKckdgCah17UNW0zw9/acIso5LVBNd27h5Q6j7yxyZXBxnDFT24FC20A3tn+0v51SutCs73Uba+u4vOmtTmAPIxRG/vBM7d3Jw2MjPBq0DkVYX7o+lAEflH2o8o+1S0UAZmqaHZ61bpb6lG00CuHMXmuqSY7OqkB1/2WyD3FXRCVUBcADgAdqmooAi8o+1Q3Vit5ayW8zSKkg2sYpXiYfRlIYfUEVboo3ApWGl22l2EVlp8EdvbQrtjjQYCj/PfvVlYyrAnFSUUbgFPi/1gplPi/wBYKALFFFFABRRRQAUyX/Vmn0yX/VmgCvRRRQAUUUUAFFFFABRRRQAUUUUAFFFFABRRRQAUUUUAFFFFABRRRQAUUUUAFFFFABRRRQAUUUUAFFFFABRRRQAUUUUAFFFFABRRRQAUUUUAFFFFABRRRQAUUUUAFFFFABRRRQAUUUUAFFFFABRRRQAUUUUAFFFFABRRRQAUUUUAFFFFABRRRQAUUUUAFFFFABRRRQAUUUUAFFFFABRRRQAUUUUAFFFFABXBeJ9AXWL6aPT/AAuLfU3dDH4hIgQxFcHeHVzMSAMAbcE8HC813tM8oe9HW4dLGBrWvvo+raLZC0NyNUuWty6yhWiwhbdtx8w4OemP0rapg0uxGonUBaQ/bTH5RufLXzCmc7d2M4zzjpVjyh70AcX4i0COfxMmq3Xh/wD4SG1ksxbPaZiby3VyyvslZUbh2Gc7h2GGNNntrvQvhTdwag8JuI7WUKjASpGGJ2RfMCHChlQZGDjpXbeUPeq1zpVjeywSXlpDcPbP5kDSxqxib+8pI4PuKForDbbd+pHY2kdjZpbwtKyLnBmlaRuTn7zEnv07dBxV9fuj6U3yh704DAxQIWiiigAooooAKKKKACiiigAp8X+sFMp8X+sFAFiiiigAooooAKRl3Lg0tFAEfkL6mjyF9TUlFAEfkL6mjyF9TUlFAEfkL6mjyF9TUlFAEfkL6mjyF9TUlFAEfkL6mjyF9TUlFAEfkL6mjyF9TUlFAEfkL6mjyF9TUlFAEfkL6mjyF9TUlFAEfkL6mjyF9TUlFAEfkL6mjyF9TUlFAEfkL6mjyF9TUlFAEfkL6mjyF9TUlFAEfkL6mjyF9TUlFAEfkL6mjyF9TUlFAEfkL6mjyF9TUlFAEfkL6mjyF9TUlQfa4/RvyoAf5C+po8hfU0z7XH6N+VH2uP0b8qAH+QvqaPIX1NM+1x+jflR9rj9G/KgB/kL6mjyF9TTPtcfo35Ufa4/RvyoAf5C+po8hfU0z7XH6N+VH2uP0b8qAH+QvqaPIX1NM+1x+jflR9rj9G/KgB/kL6mjyF9TTPtcfo35Ufa4/RvyoAf5C+po8hfU0z7XH6N+VH2uP0b8qAH+QvqaPIX1NM+1x+jflR9rj9G/KgB/kL6mjyF9TTPtcfo35Ufa4/RvyoAf5C+po8hfU0z7XH6N+VH2uP0b8qAH+QvqaPIX1NNW6RmAAbJOOlTUAR+QvqaPIX1NOdxGhY9B6VF9rj9G/KgB/kL6mjyF9TTPtcfo35Ufa4/RvyoAf5C+po8hfU0z7XH6N+VH2uP0b8qAH+QvqaPIX1NM+1x+jflR9rj9G/KgB/kL6mjyF9TTPtcfo35Ufa4/RvyoAf5C+po8hfU0z7XH6N+VH2uP0b8qAH+QvqaPIX1NM+1x+jflR9rj9G/KgB/kL6mjyF9TTPtcfo35Ufa4/RvyoAf5C+po8hfU0z7XH6N+VH2uP0b8qAH+QvqaPIX1NM+1x+jflR9rj9G/KgB/kL6mjyF9TTPtcfo35Ufa4/RvyoAf5C+po8hfU0z7XH6N+VH2uP0b8qAH+QvqaPIX1NM+1x+jflR9rj9G/KgB/kL6mjyF9TTPtcfo35Ufa4/RvyoAf5C+po8hfU0z7XH6N+VTKdygjoRmgBnkL6mjyF9TUlQfa4/RvyoAf5C+po8hfU0z7XH6N+VH2uP0b8qAH+QvqaPIX1NM+1x+jflR9rj9G/KgB/kL6mjyF9TTPtcfo35Ufa4/RvyoAf5C+po8hfU0z7XH6N+VT0AR+QvqaPIX1NSUUAR+QvqaPIX1NSUUAR+QvqaPIX1NSUUAR+QvqaVYlVsgmn0UAFFFFABRRRQAUUUUAY/i+eW28E63PbSvDNFp87xyRsVZGEbEEEcgg96pWviC/l1yHRrPTkn8uyt7qe7nuigCOWUgAIxZ/kyBwDzkrgZ19b03+2NA1DTPN8n7ZbSQeZt3bN6lc4yM4z0zVew0L7Frs2o/aN/mWMFp5ezGPLLndnPff0xxjqaI7u/l+v/AKduTz1/8Abf8AgnOad4mjsdL0aw0HSrWGTUWuWhhvdQaKIFJTuUSbHLOxbcE29N3Py83PFHjSXwtZw3V/baZCht/OliutVWGZiBl0hXYRKw9yuSR60s3g++PhuLQ4dQ0+Wx2yLcxX2mGdZd0hcEDzV2kZ77ucHAxVe78BXJt9RtdM1iO3t9SsEs7iS4s/PuMJEY1Kyb1AGOSpU8liCC2ROqj5ija6v/W3/BLtx4n1KbXbnTNC0aG8e3s4Lzzbm9MCMshkAXiNzu+TjjByckYGdfSNYg1jw7aavCjxw3Nus4R/vKCM4PuOlV9O0H7Brl1qP2nzPtFlb2vl+Xjb5RkO7Oec+Z07Y75qTQtFGi+F7PRmn+0C2txAZdmzfgYzjJx+dXO2vKKPn/Xc5vTbm9aXwrdzXlyzaxcTXU0bTMVCvAzJHtzgKo2jA4yM9STU0Pji/ktBqUmhxx6UuotYSzG9zKCLgwCRY9mGXdtzlgR82AcAmXw9pFzNYaEl95lvc+HZHt5FaEhbjERjV1Y8bSrK2RnuvBBxY/4RD/ilH0X7d97UDe+d5PTN19o27d3/AAHOffHaqla+n9L/AIYUb/a/ruZlh4t1Wyk8VXniOG0XTdKuykbQ3WXT91EyxgGNAQd+dzMMFsdBuqOD4nW72+p7l0u7ubLTpdQRNK1UXaOkeNyu4RSjZK44IIJweCK15/CTzz63H/aHl2OrsJ2RIcTQThEUSLIW24HlqdpTr3xxT7jQta1TQNS0zW9ZtJheWj2ySWuntDsLKQXYNK+49OAVHX2xP+S++3+Zatza7X/C5WuvFep2r6dbyaVYw3mpu5tY7rUjHGUAUhWcRH96d3Eahh8rHdxVfWviDHo96thMNIt72O2Se6h1HWEtQpbOEjJRvMPB5wo5Xnk419d0W/1TT0sbW709bVojFcQX+nG6SXpg4EiYIweuRz7VTg8K6ho7Qnw5rKQhbSK1mXUbU3Il8obUk+WSMh8EgnkHjgYpPy/rf+v8iVsrixeLbjWBajwtpqXrT2cd673lybaOKOTOxSyo5LnDcAYwDk9M1LLWvENx401Sw1Cxs006HT7eZ4heEvEXE2cYiG4koFI3AAKCCckVqXmhakNUXUtF1aK2u3t1t7n7XaefHOFJKttV0KsCzcg4w3TgYP8AhH7pPEEmpRahHturKO1vElttzS7N+10YMAhzIcjawPbHWm7WdvP+v6/zGv8AL9DJ0HX5H0HRdP8ACeiQknS4LswXN80cVpC64RPM2OzsSpA+XopJI4Bsy+NLj7Ppi22ju99fX0unvbSzhBBLGkjElsHKZj6gZ2nOCflosvCF/o1rpv8AYWrwwXVpp8Wnzvc2ZliuUjHytsEilWBLYIYjDEEHgizD4SEUukym+eSWxvpb6eR0ybiSSORG7/IAZOBzgKB71cuVzfbX89PwJ2Wn9af5mXqHiC/l0y6vJIfsGo6BfxLdW8Ny0sMsTbC3O1dwMcmRlQVZfz7auO17QrjOpW9mZJ38Q31uZMRELbRIsayFnHHKRnGcZLAe9djWa2/rshvcKKKKACiiigAooooAKKKKACiiigAooooAKy2JVCQpYgZCjGT7c1qVkyBzE4hZVkKnazLuAPYkZGR7ZFAHO+HdQjdtduJF1aKWG6LT2uoyxyeQfKVtsWxmUJtIOM9SaXTfGlvqjWJi0vUooNRhMtlPMkarOQm/aBv3KcZ5YBTjgkYJbpfh3WLS81SS/wBWsbiPU2LypDp7xFX8tYwVJmbjCg4IPPcVPY+GPsVn4cg+17/7DiEe7ysef+5Meevy9c9/T3ppK33f8H9Afl/X9alPw34j1XUtT1G3vdE1FIo75ollka222yiNDtbbKWJyScgN94c+lpvGFqtxn7Bff2f9pFr/AGntTyPM3bMY3+Zjf8u7Ztz3xzU1po2oafrl3c2moW/2C8n+0TW0toWkD7Ap2yCQAD5QeUPfn0xbb4eW9lrBuYINBmhN0bndd6Kst0uW3ECcSLyCTtJUkcdcULpf+tg7l+68c2VtPqCDT9Rmi0ubyr64jiUR242q28lmG4YbJC7mGDkDIzdm8RAa1Lptjpd7qEkAjNxJbtCqw7+Ru8yRWPHPyg/nxUukaN/ZV3qs/n+b/aN4brbs2+X+7RNvU5+5nPHWsvxB4TuNf1JJpJ9MijjK+VN/Zpa8gAIJ8u480bDnODt4zyD3O3yv92oPqXNQ8TxWV5cW9vp19qH2NA93JaKhW3BG4Z3OpY7edqBjjHHIy678T20MlpDp9rdarcXkP2iKGzCZ8rj94WkZVUcgDJyc8A4OMnWPAMGoa9c6pDHo00l2qecuraSLzDKu0FG3oVBAGQSRxkY5zpXegXaXtrfaHfW1hcw2wtXjks/NgeMHIAQOpUg9MNjBIIPBErz/AK3/AOAN+X9bf8Eo+I/Emq6fdaEtno2oEXd0qzIrWxLAxyEw/NLwwKg5Hy8fe7GfxRqcieC7m4utP1q0R4WM/wBhmgS5tEAJL7vM25wP4Sx56Vc1bRrvVNPscXsMOo2U6XEdwLYtEZApU5j352kMwxvyMjniodb0bWdZ8NSaWdUsYZbmF4bqf+z3ZWVgR8i+cNpAPctR0a8xprmX9dS1f6zDpNpZqIbm9uLoiO3t4tplmIXJ5YqowASSSB+JANF/GlnBa77qx1CC4W7SzezaJWlSRxlPusVIIxypI55xg4dcaDqlza6fK2q2qapp8jNFcJZN5LKy7SrRGQk8HqHByAemQYR4QlmkS7vtQSW/OoQ3s8sdtsRxECqxqm4lRjuWY5JPoA3q/n+Gn/BI1UfO36FhfFUR0nV7ueyubKbSY2e4trrZuGI94OUZlII9CahsZf8AhGfBsusams15cvGL3UHgUFmYgbiASPlVQAB/dXjJ63m8PxSza0biXfFqyLG8ezGxRHsPPfPXpTfD4upND/s/WoD9otB9lmZk/d3ACjDr6qykZ9DkdqSvr8v+D+hWmn9f11LTaxbjVorBEllkktmui8ahlRAQBnnOSTwADnBqpZ+I1uNZTTLvTL/T5po3lt2uRGVnVCAxBR2xjcpw208/Wqmk+EP7M0vULU6jK813CLWK5jXY9vAqlYkU5OSu4nd3JJ4ql4f8AromsW2pCTTI5re3kt8afpYtRKG2/M53sWYFfXHPQdafX+vP8tBdP6/ruXfDsH2LxPrtlHcXctvELdo0ubuWfYWVi2DIzEZx0q5beJ7K60vTr+OKcRahcfZ4gyruVssMtz0+Q9M9qq6VomuWXiC61G+1fT7iO8CCeGHTniPyKQu1jO2OvOQc+1VbPwde2v2C3bWUbTtOvDc29ulntdgWY7ZHLndjdwVC+4NLW6/rS/8AkLWz+ZcbxharcZ+wX39n/aRa/wBp7U8jzN2zGN/mY3/Lu2bc98c0zVC2j+MNLvYH2warKbK7iJ4ZxGzxSAdmGwqfUMM/dFZ1t8PLey1g3MEGgzQm6Nzuu9FWW6XLbiBOJF5BJ2kqSOOuK17y3uNV8V2StbuljpRNwZnGBNMyFVVR3CqzEnpkqBnnDXT+v66laa/16fodBF/rk/3hWjWdF/rk/wB4Vo0CIrn/AI92/D+dYesatbaHpU2oXu7yotowmMszMFVRkgDJIGSQBnkgc1uXP/Hu34fzrG1O2mvNNntrZrZXlXYftduZ4ip6hkDLuBGR1FJjVr6lM6/9n0me/wBV02801YmCiKcxO8pJAUKIncEkkADIOahi8TPKbiBtE1KK/hjEq2Mhg8yWMnbuVhKYyAeoLgj05GcuH4fwHw9qWl3U1qqX0iSiGysxDawsmCpWBmcclQWGcN6CtDw34XXQZ55TbaFG0qBQ2l6T9jbGeQx8x9w6ccUP+v69RdCHwNr2o654dsZtU068ikktlka8lMAjnb/ZVHLD15UV0xztO0AnHAJxXPaTY3fhPSjDd3q3el2ibLeK306VrhV3fKCUZt+AccIPX1qxb+KbC6uEght9WV5G2qZdGu41B92aMAD3JApvXYb3v0KOgX2sP4w1jT9Yu4p1gtrWZI4YgkcTOZQwU/eIwi8seTkgKDgdRXM6b4f1uz8U3OsXesafOt5HFFPDFprx/LHv27WM7YOXOSQenQVrwWmoR65dXU2p+bYSRosNj9nVfJYfebzOrZ9D0psXVmY12H+IEFvNHq1s62cvkgzR/Y7hQybn2KxbeCwALAd6ZdeN7S2nv1XTdRmh02fyb25jjQRwcKd3zOCww+cIGIxyBkZdd6Hrk/im31aLV9PjjtkkhjgbTXY+W7IWBbzxlvkGDgDk8GiXwl5um+IbT7bj+2rgz7/K/wBTmNExjPzfcznjrRG1te343/yCXl/WhWvvEuq23jdNPg0PUrm1+xySbImtR5rB0AkBaUEAAkYODz071p6h4i+x3hs7TSr/AFK5jhE08VoIswKc7dxd1BJw2ApJ46dMpqmjX0+r22p6RqEFpdQwPbsLm1M8boxVugdCCCo5z3PFZmu+BotX1r+1AukTXEkCwyrqmlC8T5SSGT51KH5jnkg8emTPRL+uv/ADq3/XQty+NLDzrCHT7a91GXUrU3dolrEP3iArnJcqEPzA/OVHbOcAr/wmNrJY2E1nZXl3cX7yJFZx+WsqtHkSAl3VMqQQcMfbI5qW08Ni11rTtQWSCIWWnPZfZ7a28qM7mRtyjcdgGzheevXjmTxFo8+t2kdtH/ZTwht0kWp6cbtGPYhfMQAjnnnr2qna2n9av9AW/wDXb/Mdea8LGztHl068a8vG2w6enlmYtjJGd+wYAJJL498kCq58XWUelzXU9vdRTw3AtXsSgafzjgrGApKkkMCCG24OSQAcZ974DivPD2lWEtxb3M2mOXja+tBcwPkEFTEzZ2gHCgNlcLycHM0Pg7ydCW0t303T7uK6F3DNpmmi3iEijALRF23cZB+YEjoQRml1f9dv+CHQXX/EOp2ngzU9Qt9D1G1uoYJfLWRrZmixGSJTiUqVB7ZLf7Jq/pmr3t3o7XNxomoQyxxKyxSPb7rgkfwbZSo/4EV60/8Asy9v9DvNP1+7t7n7XG8JeztmgARl2kYaR+eTzn8KZYWOu2mkvbT6pYT3CIqW8w090VcDGXXzjuJ9itHf5D6L5/oUfD+q2Vl4PuNRubjUhb281wZm1SRZZoysjBkyhIIBBCgE8YFTJ4tjjaRdS0nUdNdbZ7mJblYj56IMsFMcjAMARwxU8+xxVsfCN8ugajpGrarBcW968sqva2ZgkieSQyE5aRwQCeBjtzmnyeGNR1Jnk1/Vre6lS0lt7Y21iYVjMi7WkYGRyxwAAAVHJ4ORhSvZ8vYNObyv+pZ0zxXBqd9aQDTr+1S+hM9pPcxoqTqApOAGLKcMPvque2ai0AnV9a1LWbh94guJLCzQHiKNCBIf95nU5PoqirUGgeRNosn2nd/ZVu0GPLx5uUVc9ePu5xz1qHR7a50jXtQsXhd7K8le9tp0X5UZiPMjY9juO4eoY+hp6c+nn/X3XJV+TXfT+vvsS2XiMajqcttYaZez28M728t8rQiJJE4YEGQScHj7nuMjmoZ/F9rDPKfsN7JYQzeRNqSKnkRvu2kEb95AY4LBSAc88HFeXwlNc+KYtYuZ9NjeKfzRLZ6c0N06gECN5/NO5cYBG3Bx24xT/wCFeW0WszXcEGhTRTXRuW+36Ms9wpZtzBZhIvGc4ypIz3AAoXS45dbf1/WhKfE2rL46u9OXQtSmtY7OJ0jRrUcmSQGXJlB2kKMDr8p+Ud+vrEv9Fv28QLq2kX9vayvbi2nS5tGnV0ViyldsiFSNzc8g56cUtx4q0+2uJIJbfVmeNirGLRruRSR6MsRBHuCRQtkv63HLWTa20/Ir+LDe2em3mqx+IJNKtrO2aRUjgiYO4yfnLqxIPygKu08nk5GK/iJrx/BsPiAJ9k1XTbcX2wEgcKGlhb1VlBXnODg9QKbqejah4l1LT9WsdThhsrZd8NhqOlSkCYHiVlMkbbh/CGGB1HOCLfiCDUr3QY9F2i4udRUwXN1DEYoooj/rHwSxB2khVySSR2BINUvMFbmTe3U3YJluLeOaPlJEDqfYjNasX+pT/dFZiIscaogwqgAD0ArTi/1Kf7opu19CVe2o6stmVELOwVVGSScACtSsykM53QD/AGprOp6v9qnnt/OWGxZLh/s7w+UhLKgOxsuX+fBPGAcCqKajd2fjW0sF1fULuKeSVJ4tRtEgiXCFl8mQRJ5jZAGAz/LuJ6Zq/oxey8Ta3aT21wn2q5W7glEDGF08mND84G0NuVvlJB74I5qT+xNTvdStbjW9Tt54LOYzwQWlm0GX2lRvZpH3ABicDbzg+1PqvT+v679gfU3aK52G71e58fyR25mGiQWZScTWvlr9o38GNyAX+XOSMqMDnJ46Kl0uHWxxF94oEuvahFcaxeaVZabOISbKx87cdiuzzSGORYk+bAzs6MSxHTX8Sg2r2GsQXNzELa5jE/lzP5JgY4dnTO3AB3byMrjOQAai1Hwve3EmpRadqsdnY6sc3kTWpklBKhHMT7wEJVR1VsHnvina9Erto+j2lpcS7LuCUkQsYo4om3ZaQjaD8owM7iccd6F9n1X/AAfl+nYJbP0f/A+f69zoIpY7iFJoJFlikUMjo2VYHkEEdRWtWZWnQAUUUUAFFFFABRRRQAUUUUAFFFFABRRRQAUUUUAFFFFABRRRQAUUUUAFFFFABRRRQAUUUUAFFFFABRRRQAUUUUAFFFFABRRRQAUUUUAFFFFABRRRQAUUUUAFN8qP+4v5U6igBvlR/wBxfyo8qP8AuL+VOooAb5Uf9xfyo8qP+4v5U6igBvlR/wBxfyo8qP8AuL+VOooAb5Uf9xfyo8qP+4v5U6igBvlR/wBxfyo8qP8AuL+VOooAb5Uf9xfyo8qP+4v5U6igBvlR/wBxfyo8qP8AuL+VOooAb5Uf9xfyo8qP+4v5U6igBvlR/wBxfyo8qP8AuL+VOooAb5Uf9xfyo8qP+4v5U6igBojQHIRc/SnUUUABAYYIyPQ03yo/7i/lTqKAG+VH/cX8qPKj/uL+VOooAb5Uf9xfyo8qP+4v5U6igBvlR/3F/Kjyo/7i/lTqKAG+VH/cX8qPKj/uL+VOooAb5Uf9xfyo8qP+4v5U6igBvlR/3F/Kjyo/7i/lTqKAG+VH/cX8qPKj/uL+VOooAb5Uf9xfyo8qP+4v5U6igBvlR/3F/Kjyo/7i/lTqKAG+VH/cX8qPKj/uL+VOooAb5Uf9xfyo8qP+4v5U6igBvlR/3F/Kjyo/7i/lTqKAG+VH/cX8qPKj/uL+VOooAb5Uf9xfypwGBgdKKKACm+VH/cX8qdRQA3yo/wC4v5UeVH/cX8qdRQA3yo/7i/lR5Uf9xfyp1FADfKj/ALi/lR5Uf9xfyp1FADfKj/uL+VOoooAKKKKACiiigAooooAKKKKACiiigAooooAKKKKACiiigAooooAKKKKACiiigAooooAKKKKACiiigAooooAKKKKACiiigAooooAKKKKACiiigAooooAKKKKACiiigAooooAKKKKACiiigAooooAKKKKACiiigAooooAKKKKACiiigAooooAKKKKACiiigAooooAKKKKACiiigAooooAKKKKACiiigAooooAKKKKACiiigAooooAKKKKACiiigAooooAKKKKACiiigAooooAKKKKACiiigAooooAKKKKACiiigAooooAKKKKACiiigAooooA//9k=)"
      ],
      "metadata": {
        "id": "wjDqdvM0PkZt"
      }
    },
    {
      "cell_type": "markdown",
      "source": [
        "**len()**"
      ],
      "metadata": {
        "id": "nsac9ojYQAJJ"
      }
    },
    {
      "cell_type": "markdown",
      "source": [
        "Method `len()` akan mengembalikan panjang dari suatu set."
      ],
      "metadata": {
        "id": "g2_D-RZBQCrJ"
      }
    },
    {
      "cell_type": "code",
      "source": [
        "# Coba jalankan code di bawah ini\n",
        "\n",
        "siswa = ({\"Sam Pitak\", \"Eripras\", \"Truno Lele\"})\n",
        "print(f\"{len(siswa)}\")"
      ],
      "metadata": {
        "colab": {
          "base_uri": "https://localhost:8080/"
        },
        "id": "CEA_rDCFPaax",
        "outputId": "be42e117-77c8-4728-9448-73c700766d0c"
      },
      "execution_count": 12,
      "outputs": [
        {
          "output_type": "stream",
          "name": "stdout",
          "text": [
            "3\n"
          ]
        }
      ]
    },
    {
      "cell_type": "code",
      "source": [
        "# Coba cari tau berapa panjang set karyawan di bawah\n",
        "karyawan = {'Joko', 'Alex', 'Chandra', 'Hartono', 'Samsul'}\n",
        "print(f\"{len(karyawan)}\")"
      ],
      "metadata": {
        "colab": {
          "base_uri": "https://localhost:8080/"
        },
        "id": "IxHAegJOQcXB",
        "outputId": "0a7c8d55-3190-4716-a8a1-b3fdcb6181c5"
      },
      "execution_count": 14,
      "outputs": [
        {
          "output_type": "stream",
          "name": "stdout",
          "text": [
            "5\n"
          ]
        }
      ]
    },
    {
      "cell_type": "markdown",
      "source": [
        "**in**"
      ],
      "metadata": {
        "id": "fHGoqidPQYPW"
      }
    },
    {
      "cell_type": "markdown",
      "source": [
        "Untuk memeriksa apakah suatu value atau element ada di dalam set atau tidak, kita bisa menggunakan `in`."
      ],
      "metadata": {
        "id": "8DB-XTUxQjxC"
      }
    },
    {
      "cell_type": "code",
      "source": [
        "# Coba jalankan code di bawah\n",
        "siswa = {'Andi', 'Gilang', 'Bagus', 'Putra', 'Dwi'}\n",
        "\n",
        "# Kita akan mengecek apakah nama Gilang ada di variabel siswa atau tidak\n",
        "print(\"Gilang\" in siswa)"
      ],
      "metadata": {
        "colab": {
          "base_uri": "https://localhost:8080/"
        },
        "id": "tx5QT71hQpev",
        "outputId": "4d69f320-70fa-4ca4-c0c8-4c0b83bde704"
      },
      "execution_count": 15,
      "outputs": [
        {
          "output_type": "stream",
          "name": "stdout",
          "text": [
            "True\n"
          ]
        }
      ]
    },
    {
      "cell_type": "markdown",
      "source": [
        "Jika element atau nilai yang kita cari tidak ada pada suatu set, maka outputnya `False`."
      ],
      "metadata": {
        "id": "buDK7rWGQvWB"
      }
    },
    {
      "cell_type": "code",
      "source": [
        "# Coba jalankan code di bawah ini\n",
        "siswa = {'Andi', 'Gilang', 'Bagus', 'Putra', 'Dwi'}\n",
        "\n",
        "# Kita akan mengecek apakah nama Mahesa ada pada set siswa atau tidak\n",
        "print(\"Gondrong Labanan\" in siswa)"
      ],
      "metadata": {
        "colab": {
          "base_uri": "https://localhost:8080/"
        },
        "id": "yeSVfh5KQsop",
        "outputId": "bee31ec2-b0ab-4578-d19f-c0d732e5d68e"
      },
      "execution_count": 16,
      "outputs": [
        {
          "output_type": "stream",
          "name": "stdout",
          "text": [
            "False\n"
          ]
        }
      ]
    },
    {
      "cell_type": "code",
      "source": [
        "# Coba buatlah set yang menyimpan bunga Melati, Matahari, Mawar\n",
        "bunga = ({\"Melati\", \"Matahari\", \"Mawar\"})\n",
        "\n",
        "# Kemudian periksa dengan method in apakah ada bunga sepatu atau tidak\n",
        "print(\"Sepatu\" in bunga)"
      ],
      "metadata": {
        "colab": {
          "base_uri": "https://localhost:8080/"
        },
        "id": "o_2W9P8UQ4jN",
        "outputId": "2155b896-64c5-4c50-fb5e-59747864567a"
      },
      "execution_count": 17,
      "outputs": [
        {
          "output_type": "stream",
          "name": "stdout",
          "text": [
            "False\n"
          ]
        }
      ]
    },
    {
      "cell_type": "markdown",
      "source": [
        "**add()**"
      ],
      "metadata": {
        "id": "TdvlHANDRGvK"
      }
    },
    {
      "cell_type": "markdown",
      "source": [
        "Method `add()` berfungsi untuk mengetahui menambahkan element baru ke dalam set."
      ],
      "metadata": {
        "id": "XLZRTKp1RJre"
      }
    },
    {
      "cell_type": "code",
      "source": [
        "# Coba jalankan code di bawah ini\n",
        "\n",
        "football_club = {'AC Milan', 'Liverpool', 'Real Madrid', 'Bayern Munchen', 'Manchester United'}\n",
        "football_club.add('PSG')\n",
        "print(football_club)"
      ],
      "metadata": {
        "colab": {
          "base_uri": "https://localhost:8080/"
        },
        "id": "uH8UUgosRH8y",
        "outputId": "480e5d5c-00a1-40b7-d4f4-dcf92177af3c"
      },
      "execution_count": 18,
      "outputs": [
        {
          "output_type": "stream",
          "name": "stdout",
          "text": [
            "{'Bayern Munchen', 'Liverpool', 'Real Madrid', 'Manchester United', 'AC Milan', 'PSG'}\n"
          ]
        }
      ]
    },
    {
      "cell_type": "code",
      "source": [
        "# Coba tambahkan bunga Asoka ke dalam set\n",
        "bunga = {'Melati', 'Matahari', 'Mawar'}\n",
        "bunga.add('Asoka')\n",
        "\n",
        "# Kemudian print set bunga tersebut\n",
        "print(bunga)"
      ],
      "metadata": {
        "colab": {
          "base_uri": "https://localhost:8080/"
        },
        "id": "pq83euJyRhHt",
        "outputId": "8fb2750a-fc08-4e47-8f25-3142b30b9070"
      },
      "execution_count": 19,
      "outputs": [
        {
          "output_type": "stream",
          "name": "stdout",
          "text": [
            "{'Mawar', 'Asoka', 'Matahari', 'Melati'}\n"
          ]
        }
      ]
    },
    {
      "cell_type": "markdown",
      "source": [
        "**update()**"
      ],
      "metadata": {
        "id": "yA3VZEXKRo_M"
      }
    },
    {
      "cell_type": "markdown",
      "source": [
        "Jika method `add()` akan menambahkan element satu per satu, maka method `update()` akan menambahkan beberapa element sekaligus."
      ],
      "metadata": {
        "id": "MhI3SWk7RsPG"
      }
    },
    {
      "cell_type": "code",
      "source": [
        "# Coba jalankan code dibawah\n",
        "siswa = {'Andi', 'Gilang', 'Putra', 'Dwi'}\n",
        "siswa_baru = {'Pamungkas', 'Bagas', 'Budispeed'}\n",
        "\n",
        "# Kita akan menambahkan set siswa baru ke set siswa\n",
        "siswa.update(siswa_baru)\n",
        "\n",
        "print(siswa)"
      ],
      "metadata": {
        "colab": {
          "base_uri": "https://localhost:8080/"
        },
        "id": "qxSOG-5aRqFi",
        "outputId": "736f30d1-1ab9-4d32-ce18-1216e1bf89a3"
      },
      "execution_count": 20,
      "outputs": [
        {
          "output_type": "stream",
          "name": "stdout",
          "text": [
            "{'Pamungkas', 'Dwi', 'Andi', 'Putra', 'Gilang', 'Bagas', 'Budispeed'}\n"
          ]
        }
      ]
    },
    {
      "cell_type": "code",
      "source": [
        "bunga = {'Melati', 'Matahari', 'Mawar'}\n",
        "bunga_baru = {'Lavender', 'Asoka', 'Rafflesia', 'Daffodil'}\n",
        "\n",
        "# Coba tambahkan set bunga baru ke set bunga\n",
        "bunga.update(bunga_baru)\n",
        "\n",
        "# kemudians print set bunga\n",
        "print(bunga)"
      ],
      "metadata": {
        "colab": {
          "base_uri": "https://localhost:8080/"
        },
        "id": "a2KfKaWYR8MI",
        "outputId": "dcdf7e42-42e5-4bc2-9d2a-e93bd5982608"
      },
      "execution_count": 22,
      "outputs": [
        {
          "output_type": "stream",
          "name": "stdout",
          "text": [
            "{'Lavender', 'Matahari', 'Melati', 'Asoka', 'Mawar', 'Rafflesia', 'Daffodil'}\n"
          ]
        }
      ]
    },
    {
      "cell_type": "markdown",
      "source": [
        "**discard()**"
      ],
      "metadata": {
        "id": "GJ5jIzVhS4rJ"
      }
    },
    {
      "cell_type": "markdown",
      "source": [
        "Method `discard()` akan menghapus element yang kita inginkan pada sebuah set."
      ],
      "metadata": {
        "id": "HQZilkDAS8c8"
      }
    },
    {
      "cell_type": "code",
      "source": [
        "# Coba jalankan code dibawah\n",
        "\n",
        "football_club = {'AC Milan', 'Liverpool', 'Real Madrid', 'Bayern Munchen', 'Manchester United', 'PSG', 'Ajax', 'Barcelona', 'FC Porto', 'Club Brugge'}\n",
        "football_club.discard('Liverpool')\n",
        "print(football_club)"
      ],
      "metadata": {
        "colab": {
          "base_uri": "https://localhost:8080/"
        },
        "id": "MuD8Dm5sS6xZ",
        "outputId": "1480c893-c1f0-4b30-8b6c-15534d47ecd7"
      },
      "execution_count": 23,
      "outputs": [
        {
          "output_type": "stream",
          "name": "stdout",
          "text": [
            "{'Bayern Munchen', 'Manchester United', 'PSG', 'Ajax', 'FC Porto', 'AC Milan', 'Real Madrid', 'Club Brugge', 'Barcelona'}\n"
          ]
        }
      ]
    },
    {
      "cell_type": "code",
      "source": [
        "# Coba hilangkan element Bagas pada set dibawah\n",
        "\n",
        "siswa = {'Pamungkas', 'Bagas', 'Putra'}\n",
        "siswa.discard('Bagas')\n",
        "print(siswa)"
      ],
      "metadata": {
        "colab": {
          "base_uri": "https://localhost:8080/"
        },
        "id": "k0jPzhLYTSXM",
        "outputId": "e1fc1f78-95d0-49c0-fa22-4608b3f1c6f1"
      },
      "execution_count": 24,
      "outputs": [
        {
          "output_type": "stream",
          "name": "stdout",
          "text": [
            "{'Pamungkas', 'Putra'}\n"
          ]
        }
      ]
    },
    {
      "cell_type": "markdown",
      "source": [
        "**union()**"
      ],
      "metadata": {
        "id": "_ayp1vGzTjim"
      }
    },
    {
      "cell_type": "markdown",
      "source": [
        "Jika kita ingin menggabungkan dua set kita bisa menggunakan method `union()`."
      ],
      "metadata": {
        "id": "NNk4P0MBTpMR"
      }
    },
    {
      "cell_type": "code",
      "source": [
        "set_A = {1, 2, 3, 4, 5}\n",
        "set_B = {4, 5, 6, 7, 8, 9}\n",
        "\n",
        "set_C = set_A.union(set_B)\n",
        "\n",
        "print(f'Gabungan dari set_A dan set_B = {set_C}')"
      ],
      "metadata": {
        "colab": {
          "base_uri": "https://localhost:8080/"
        },
        "id": "TelCAmfmTkvq",
        "outputId": "6bfa0b53-9014-45ab-d4f5-8287caa5f09d"
      },
      "execution_count": 25,
      "outputs": [
        {
          "output_type": "stream",
          "name": "stdout",
          "text": [
            "Gabungan dari set_A dan set_B = {1, 2, 3, 4, 5, 6, 7, 8, 9}\n"
          ]
        }
      ]
    },
    {
      "cell_type": "markdown",
      "source": [
        "Jika terdapat element yang sama, maka akan diambil satu saja karena set tidak mengizinkan ada element yang sama."
      ],
      "metadata": {
        "id": "7g3NuNQWT2sp"
      }
    },
    {
      "cell_type": "code",
      "source": [
        "bunga = {'Melati', 'Matahari', 'Mawar'}\n",
        "bunga_baru = {'Asoka', 'Anggrek'}\n",
        "\n",
        "# Coba gabungkan kedua set di atas dengan method union\n",
        "bunga = bunga.union(bunga_baru)\n",
        "\n",
        "# Kemudian print hasil union tersebut\n",
        "print(f\"{bunga}\")"
      ],
      "metadata": {
        "colab": {
          "base_uri": "https://localhost:8080/"
        },
        "id": "tfBZJh4zT3qZ",
        "outputId": "5b579004-ef56-4f5a-b10b-4bd47caf9e85"
      },
      "execution_count": 27,
      "outputs": [
        {
          "output_type": "stream",
          "name": "stdout",
          "text": [
            "{'Matahari', 'Melati', 'Anggrek', 'Mawar', 'Asoka'}\n"
          ]
        }
      ]
    },
    {
      "cell_type": "markdown",
      "source": [
        "**intersection()**"
      ],
      "metadata": {
        "id": "dExk_toHUXTm"
      }
    },
    {
      "cell_type": "markdown",
      "source": [
        "Jika kita ingin mengambil irisan dari dua set yang kita miliki kita bisa menggunakan method `intersection()`."
      ],
      "metadata": {
        "id": "cM1QX-zHUbWk"
      }
    },
    {
      "cell_type": "code",
      "source": [
        "set_A = {1, 2, 3, 4, 5, 6}\n",
        "set_B = {3, 4, 5, 6, 7, 8, 9}\n",
        "\n",
        "print(f\"Nilai irisan dari Set A dan Set B adalah {set_A.intersection(set_B)}\")"
      ],
      "metadata": {
        "colab": {
          "base_uri": "https://localhost:8080/"
        },
        "id": "hmOnVPp3UZWN",
        "outputId": "ad2a3856-7df7-4e1d-8dd8-efd6bdff6ce7"
      },
      "execution_count": 28,
      "outputs": [
        {
          "output_type": "stream",
          "name": "stdout",
          "text": [
            "Nilai irisan dari Set A dan Set B adalah {3, 4, 5, 6}\n"
          ]
        }
      ]
    },
    {
      "cell_type": "markdown",
      "source": [
        "Kita juga bisa melakukan `intersection` pada data yang berbentuk text."
      ],
      "metadata": {
        "id": "zrVZv0EOUtnB"
      }
    },
    {
      "cell_type": "code",
      "source": [
        "siswa_kelas_a = {\"Budi\", \"Santoso\", \"Ahmad\", \"James\", \"Sam Pitak\"}\n",
        "siswa_kelas_b = {\"Santoso\", \"Dani\", \"Adam\", \"Sam Pitak\"}\n",
        "\n",
        "print(f\"Dari Siswa Kelas A dan B yang memiliki nama sama adalah {siswa_kelas_a.intersection(siswa_kelas_b)}\")"
      ],
      "metadata": {
        "colab": {
          "base_uri": "https://localhost:8080/"
        },
        "id": "F0Y9UUhyUwDB",
        "outputId": "3c02a603-7a68-4420-cbf1-f5248242bd16"
      },
      "execution_count": 29,
      "outputs": [
        {
          "output_type": "stream",
          "name": "stdout",
          "text": [
            "Dari Siswa Kelas A dan B yang memiliki nama sama adalah {'Sam Pitak', 'Santoso'}\n"
          ]
        }
      ]
    },
    {
      "cell_type": "markdown",
      "source": [
        "Andi sedang mengerjakan Exam UTS dan UAS di Pacmann. Di Pacmann untuk mengerjakan Exam UTS dan UAS bisa dikerjakan berkali - kali. Andi ingin mengetahui dalam pengerjaan Exam tersebut ada nilai yang sama di pengerjaan UTS dan UAS?"
      ],
      "metadata": {
        "id": "0SCjQz6pU6cI"
      }
    },
    {
      "cell_type": "code",
      "source": [
        "# Tulis jawaban anda di bawah ini\n",
        "\n",
        "percobaan_uts = {70, 80, 90, 40, 55, 60, 87, 93}\n",
        "percobaan_uas = {50, 44, 70, 60, 100, 99, 80, 55}\n",
        "intersec_uts_uas = percobaan_uts.intersection(percobaan_uas)\n",
        "print(f\"{intersec_uts_uas}\")"
      ],
      "metadata": {
        "colab": {
          "base_uri": "https://localhost:8080/"
        },
        "id": "TpwoaBr9U7cT",
        "outputId": "a3927b07-3a07-457d-db88-f391ada7c839"
      },
      "execution_count": 30,
      "outputs": [
        {
          "output_type": "stream",
          "name": "stdout",
          "text": [
            "{80, 60, 70, 55}\n"
          ]
        }
      ]
    }
  ]
}