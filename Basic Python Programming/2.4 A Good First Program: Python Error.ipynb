{
  "nbformat": 4,
  "nbformat_minor": 0,
  "metadata": {
    "colab": {
      "provenance": [],
      "authorship_tag": "ABX9TyMR1S2cFuekGw6nBtDgIpTR",
      "include_colab_link": true
    },
    "kernelspec": {
      "name": "python3",
      "display_name": "Python 3"
    },
    "language_info": {
      "name": "python"
    }
  },
  "cells": [
    {
      "cell_type": "markdown",
      "metadata": {
        "id": "view-in-github",
        "colab_type": "text"
      },
      "source": [
        "<a href=\"https://colab.research.google.com/github/suryoadi12/PACMANN_SKILLS100/blob/main/Basic%20Python%20Programming/2.4%20A%20Good%20First%20Program%3A%20Python%20Error.ipynb\" target=\"_parent\"><img src=\"https://colab.research.google.com/assets/colab-badge.svg\" alt=\"Open In Colab\"/></a>"
      ]
    },
    {
      "cell_type": "markdown",
      "source": [
        "# **Pertemuan #1-5 - Error**"
      ],
      "metadata": {
        "id": "ts8IbP5Kis_2"
      }
    },
    {
      "cell_type": "markdown",
      "source": [
        "**ERROR AND HOW TO SOLVE**"
      ],
      "metadata": {
        "id": "g3u8WnJWiyAZ"
      }
    },
    {
      "cell_type": "markdown",
      "source": [
        "\n",
        "\n",
        "*   Pada sesi ini, kita akan belajar mengenai error dan bagaimana cara mengatasinya.\n",
        "\n",
        "*   Error merupakan hal yang wajar ditemui saat sedang membuat sebuah pemrograman.\n",
        "*   Melalui error jugalah kita semakin banyak belajar dan semakin memahami code yang telah kita buat.\n"
      ],
      "metadata": {
        "id": "m66GgYs7i06w"
      }
    },
    {
      "cell_type": "markdown",
      "source": [
        "Ketika mendapati suatu error, ada beberapa langkah yang dapat kita lakukan untuk dapat mengatasinya, yaitu:\n",
        "\n",
        "\n",
        "\n",
        "\n",
        "*   Perhatikan error outputnya.\n",
        "\n",
        "*   Cobalah untuk googling mengenai error tersebut.\n",
        "*   Kemudian cobalah code yang telah digoogling sebelumnya.\n",
        "\n",
        "\n",
        "*   Apabila masih belum solve, cobalah untuk googling kembali.\n",
        "\n"
      ],
      "metadata": {
        "id": "8jERLmApi73Y"
      }
    },
    {
      "cell_type": "markdown",
      "source": [
        "Ada beberapa jenis error yang sering dialami, yakni:\n",
        "\n",
        "\n",
        "\n",
        "\n",
        "*   Syntax Error.\n",
        "\n",
        "*   Indentation Error.\n",
        "*   Name Error.\n",
        "\n"
      ],
      "metadata": {
        "id": "eW4y-Z6_jInZ"
      }
    },
    {
      "cell_type": "markdown",
      "source": [
        "**SYNTAX ERROR**"
      ],
      "metadata": {
        "id": "ivxbRZU-jYYV"
      }
    },
    {
      "cell_type": "markdown",
      "source": [
        "Syntax Error merupakan error yang terjadi karena adanya kesalahan syntax dalam code yang telah dibuat."
      ],
      "metadata": {
        "id": "e7SzKTzijb8I"
      }
    },
    {
      "cell_type": "code",
      "source": [
        "PRINT(\"Hello World!\"):"
      ],
      "metadata": {
        "id": "tD3BzsQsjd3d"
      },
      "execution_count": null,
      "outputs": []
    },
    {
      "cell_type": "markdown",
      "source": [
        "\n",
        "\n",
        "*   Apabila kita menjalankan code diatas, maka kita akan mendapatkan error.\n",
        "\n",
        "*   Perhatikan output error yang ditampilkan.\n",
        "\n",
        "*   Dalam hal ini, error outputnya ialah `invalid syntax`.\n",
        "*   Error ini terjadi karena code yang kita tulis tidak sesuai dengan syntax yang seharusnya.\n",
        "\n",
        "\n",
        "*   Syntax untuk menampilkan suatu text atau melakukan printing adalah sebagai berikut: `print(\"<TEXT YANG INGIN DITAMPILKAN>\")`.\n",
        "\n"
      ],
      "metadata": {
        "id": "C4My5xM0jeVV"
      }
    },
    {
      "cell_type": "markdown",
      "source": [
        "Untuk melihat jawaban yang benar, Anda dapat melihat di bawah ini."
      ],
      "metadata": {
        "id": "0_C8-nxMjuRe"
      }
    },
    {
      "cell_type": "code",
      "source": [
        "print(\"Hello World!\")"
      ],
      "metadata": {
        "id": "r4723vo1jx8p"
      },
      "execution_count": null,
      "outputs": []
    },
    {
      "cell_type": "markdown",
      "source": [
        "**EXERCISE**"
      ],
      "metadata": {
        "id": "ImX6Of6Nj2dG"
      }
    },
    {
      "cell_type": "markdown",
      "source": [
        "1. Apakah perintah di bawah ini dapat dijalankan tanpa error?\n",
        "    `Print(\"Hello World!\")`"
      ],
      "metadata": {
        "id": "Tr4G7ohfj6_J"
      }
    },
    {
      "cell_type": "markdown",
      "source": [
        "2. Apakah perintah di bawah ini dapat dijalankan tanpa error?\n",
        "    `print('Hello World!')`"
      ],
      "metadata": {
        "id": "WYKmYhX3kDmA"
      }
    },
    {
      "cell_type": "code",
      "source": [
        "# Untuk pertanyaan nomor 1, Coba code disini\n",
        "\n",
        "Print(\"Hello World!\")"
      ],
      "metadata": {
        "colab": {
          "base_uri": "https://localhost:8080/",
          "height": 183
        },
        "id": "2fksG9wLj4gd",
        "outputId": "84b9df54-6be8-4457-f879-697769337552"
      },
      "execution_count": 1,
      "outputs": [
        {
          "output_type": "error",
          "ename": "NameError",
          "evalue": "name 'Print' is not defined",
          "traceback": [
            "\u001b[0;31m---------------------------------------------------------------------------\u001b[0m",
            "\u001b[0;31mNameError\u001b[0m                                 Traceback (most recent call last)",
            "\u001b[0;32m<ipython-input-1-7d91272834a3>\u001b[0m in \u001b[0;36m<cell line: 0>\u001b[0;34m()\u001b[0m\n\u001b[1;32m      1\u001b[0m \u001b[0;31m# Untuk pertanyaan nomor 1, Coba code disini\u001b[0m\u001b[0;34m\u001b[0m\u001b[0;34m\u001b[0m\u001b[0m\n\u001b[1;32m      2\u001b[0m \u001b[0;34m\u001b[0m\u001b[0m\n\u001b[0;32m----> 3\u001b[0;31m \u001b[0mPrint\u001b[0m\u001b[0;34m(\u001b[0m\u001b[0;34m\"Hello World!\"\u001b[0m\u001b[0;34m)\u001b[0m\u001b[0;34m\u001b[0m\u001b[0;34m\u001b[0m\u001b[0m\n\u001b[0m",
            "\u001b[0;31mNameError\u001b[0m: name 'Print' is not defined"
          ]
        }
      ]
    },
    {
      "cell_type": "code",
      "source": [
        "# Untuk pertanyaan nomor 2, Coba code disini\n",
        "\n",
        "print(\"Hello World!\")"
      ],
      "metadata": {
        "colab": {
          "base_uri": "https://localhost:8080/"
        },
        "id": "F9Nj5uC6kL2J",
        "outputId": "fa8afca5-6af1-4a87-9b13-8ba8dfbff53a"
      },
      "execution_count": 2,
      "outputs": [
        {
          "output_type": "stream",
          "name": "stdout",
          "text": [
            "Hello World!\n"
          ]
        }
      ]
    },
    {
      "cell_type": "markdown",
      "source": [
        "**INDENTATION ERROR**"
      ],
      "metadata": {
        "id": "HDj6yfkxkWgt"
      }
    },
    {
      "cell_type": "markdown",
      "source": [
        "Indentation Error merupakan error yang terjadi karena adanya kesalahan pada indentasi."
      ],
      "metadata": {
        "id": "jXPgeqYTkaTV"
      }
    },
    {
      "cell_type": "code",
      "source": [
        "print(\"ini adalah code baris 1\")\n",
        "    print(\"ini adalah code baris 2\")\n",
        "print(\"ini adalah code baris 3\")"
      ],
      "metadata": {
        "colab": {
          "base_uri": "https://localhost:8080/",
          "height": 110
        },
        "id": "BCzhQjXKkcN9",
        "outputId": "03a6f00f-2a42-4fa5-8127-ebe634ac38f1"
      },
      "execution_count": 3,
      "outputs": [
        {
          "output_type": "error",
          "ename": "IndentationError",
          "evalue": "unexpected indent (<ipython-input-3-ed7c5ebc0470>, line 2)",
          "traceback": [
            "\u001b[0;36m  File \u001b[0;32m\"<ipython-input-3-ed7c5ebc0470>\"\u001b[0;36m, line \u001b[0;32m2\u001b[0m\n\u001b[0;31m    print(\"ini adalah code baris 2\")\u001b[0m\n\u001b[0m    ^\u001b[0m\n\u001b[0;31mIndentationError\u001b[0m\u001b[0;31m:\u001b[0m unexpected indent\n"
          ]
        }
      ]
    },
    {
      "cell_type": "markdown",
      "source": [
        "\n",
        "\n",
        "*   Apabila kita menjalankan code diatas, maka kita akan mendapatkan error.\n",
        "\n",
        "*   Perhatikan output error yang ditampilkan.\n",
        "*   Dalam hal ini, error outputnya ialah `unexpected indent`.\n",
        "\n",
        "\n",
        "*   Hal ini dikarenakan adanya kesalahan yang kita lakukan pada indentasi.\n",
        "\n",
        "*   Lalu bagaimana cara untuk menyelesaikannya?\n",
        "*   Dalam hal ini, kita dapat memberikan level indentasi yang sama untuk setiap perintahnya.\n",
        "\n",
        "\n",
        "\n"
      ],
      "metadata": {
        "id": "XmnKbkXQkeru"
      }
    },
    {
      "cell_type": "code",
      "source": [
        "# Cobalah code yang benar di bawah ini\n",
        "\n",
        "print(\"ini adalah code baris 1\")\n",
        "print(\"ini adalah code baris 2\")\n",
        "print(\"ini adalah code baris 3\")"
      ],
      "metadata": {
        "colab": {
          "base_uri": "https://localhost:8080/"
        },
        "id": "s2G3WMjYkxKc",
        "outputId": "6e979a14-63bf-4818-9dfd-55950259ebdc"
      },
      "execution_count": 4,
      "outputs": [
        {
          "output_type": "stream",
          "name": "stdout",
          "text": [
            "ini adalah code baris 1\n",
            "ini adalah code baris 2\n",
            "ini adalah code baris 3\n"
          ]
        }
      ]
    },
    {
      "cell_type": "markdown",
      "source": [
        "**NAME ERROR**"
      ],
      "metadata": {
        "id": "bZyy0Zfvk4CN"
      }
    },
    {
      "cell_type": "markdown",
      "source": [
        "Name Error merupakan error yang biasanya terjadi karena adanya kesalahan pada nama variabel yang kita gunakan."
      ],
      "metadata": {
        "id": "P796Av4nk6hf"
      }
    },
    {
      "cell_type": "markdown",
      "source": [
        "**CASE STUDY**"
      ],
      "metadata": {
        "id": "80A1NeTwk7qN"
      }
    },
    {
      "cell_type": "markdown",
      "source": [
        "Rima merupakan seorang anak yang sangat hemat. Namun, suatu ketika dirinya merasa boros dan akhirnya Rima pun me-list pengeluarannya minggu ini dan didapat hasil sebagai berikut:\n",
        "\n",
        "\n",
        "\n",
        "*   Baju: 200.000\n",
        "\n",
        "*   Tumblr: 75.000\n",
        "*   Tas: 150.000\n",
        "\n",
        "Berapakah total biaya yang telah dikeluarkan oleh Rima dalam minggu ini?"
      ],
      "metadata": {
        "id": "GJWbDFixk-J6"
      }
    },
    {
      "cell_type": "code",
      "source": [
        "baju = 200000\n",
        "tumblr = 75000\n",
        "tas = 150000\n",
        "totalPengeluaran = 425000\n",
        "\n",
        "print(total_pengeluaran)"
      ],
      "metadata": {
        "colab": {
          "base_uri": "https://localhost:8080/",
          "height": 183
        },
        "id": "CSwctOcvlJjx",
        "outputId": "d5a7a4a8-6c22-4629-d54b-1f84fef07dfb"
      },
      "execution_count": 5,
      "outputs": [
        {
          "output_type": "error",
          "ename": "NameError",
          "evalue": "name 'total_pengeluaran' is not defined",
          "traceback": [
            "\u001b[0;31m---------------------------------------------------------------------------\u001b[0m",
            "\u001b[0;31mNameError\u001b[0m                                 Traceback (most recent call last)",
            "\u001b[0;32m<ipython-input-5-2ed33ebaff2c>\u001b[0m in \u001b[0;36m<cell line: 0>\u001b[0;34m()\u001b[0m\n\u001b[1;32m      4\u001b[0m \u001b[0mtotalPengeluaran\u001b[0m \u001b[0;34m=\u001b[0m \u001b[0;36m425000\u001b[0m\u001b[0;34m\u001b[0m\u001b[0;34m\u001b[0m\u001b[0m\n\u001b[1;32m      5\u001b[0m \u001b[0;34m\u001b[0m\u001b[0m\n\u001b[0;32m----> 6\u001b[0;31m \u001b[0mprint\u001b[0m\u001b[0;34m(\u001b[0m\u001b[0mtotal_pengeluaran\u001b[0m\u001b[0;34m)\u001b[0m\u001b[0;34m\u001b[0m\u001b[0;34m\u001b[0m\u001b[0m\n\u001b[0m",
            "\u001b[0;31mNameError\u001b[0m: name 'total_pengeluaran' is not defined"
          ]
        }
      ]
    },
    {
      "cell_type": "markdown",
      "source": [
        "\n",
        "\n",
        "*   Apabila kita menjalankan code diatas, maka kita akan mendapatkan error.\n",
        "\n",
        "*   Perhatikan output error yang ditampilkan.\n",
        "\n",
        "*   Dalam hal ini, error outputnya ialah `name 'total_pengeluaran' is not defined`.\n",
        "*   Hal ini dikarenakan kita salah memanggil nama variabel.\n",
        "\n",
        "\n",
        "*   Dalam code diatas kita memanggil variabel `total_pengeluaran` yang mana variabel ini belum diinisiasikan sebelumnya. Atau dengan kata lain kita belum pernah membuat variabel ini sebelumnya. -Seharusnya kita memanggil variabel `totalPengeluaran` agar program dapat berjalan dengan baik dan kita tidak mendapatkan error.\n",
        "\n"
      ],
      "metadata": {
        "id": "u45I407plME2"
      }
    },
    {
      "cell_type": "code",
      "source": [
        "# Cobalah code yang benar di bawah ini\n",
        "\n",
        "baju = 200000\n",
        "tumblr = 75000\n",
        "tas = 150000\n",
        "total_pengeluaran = 425000\n",
        "\n",
        "print(total_pengeluaran)"
      ],
      "metadata": {
        "colab": {
          "base_uri": "https://localhost:8080/"
        },
        "id": "_cfODdDVli3e",
        "outputId": "5c41dee6-4496-4f99-fcc9-07599a2ea677"
      },
      "execution_count": 6,
      "outputs": [
        {
          "output_type": "stream",
          "name": "stdout",
          "text": [
            "425000\n"
          ]
        }
      ]
    },
    {
      "cell_type": "markdown",
      "source": [
        "**EXERCISE**"
      ],
      "metadata": {
        "id": "j5YxKVtBlupX"
      }
    },
    {
      "cell_type": "markdown",
      "source": [
        "Lakukanlah latihan di bawah ini!\n",
        "\n",
        "\n",
        "\n",
        "*   bilangan1 = 20\n",
        "\n",
        "*   bilangan2 = 30\n",
        "*   jumlahBilangan = 50\n",
        "\n",
        "\n",
        "*   print(jumlah_bilangan)\n",
        "\n",
        "\n",
        "Apakah syntax ini akan error atau tidak? Jika mengalami error, coba benarkan code tersebut!\n",
        "\n"
      ],
      "metadata": {
        "id": "Z-ixjNZelxnu"
      }
    },
    {
      "cell_type": "code",
      "source": [
        "# Cobalah code yang benar dibawah ini\n",
        "\n",
        "bilangan1 = 20\n",
        "bilangan2 = 30\n",
        "jumlahBilangan = 50\n",
        "print(jumlahBilangan)"
      ],
      "metadata": {
        "colab": {
          "base_uri": "https://localhost:8080/"
        },
        "id": "TVbw5oNNl9oO",
        "outputId": "f8fe52c9-ecf1-446c-cfc3-ba01c054fb07"
      },
      "execution_count": 7,
      "outputs": [
        {
          "output_type": "stream",
          "name": "stdout",
          "text": [
            "50\n"
          ]
        }
      ]
    }
  ]
}